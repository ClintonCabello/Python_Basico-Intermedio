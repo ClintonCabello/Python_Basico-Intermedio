{
 "cells": [
  {
   "cell_type": "markdown",
   "metadata": {},
   "source": [
    "## Análisis de datos con Pandas"
   ]
  },
  {
   "cell_type": "markdown",
   "metadata": {},
   "source": [
    "Pandas es uno de los paquetes de Python más populares entre los usuarios porque brinda herramientas robustas para hacer ánalisis de datos de manera rápida y sencilla. \n",
    "\n",
    "Pandas trabaja con tablas indexadas a las que denomina DataFrames y con columnas indexadas a las que denomina Series. Cuenta con gran cantidad de funciones muy flexibles que permiten manipular los datos, realizar consultas similares a las de SQL y hacer análisis estadísticos complejos.\n",
    "\n",
    "Entre las ventajas que posee pandas, resaltan las siguientes:\n",
    "\n",
    " 1. Manipulación robusta de los datos\n",
    " 2. Gestiona múltiples estructuras y formatos de datos.\n",
    " 3. Manejo integrado de datos faltantes\n",
    " 4. Búsquedas y agrupaciones optimizadas\n",
    " 5. Manejo de datos georeferenciados y series de tiempo.\n",
    "\n"
   ]
  },
  {
   "cell_type": "markdown",
   "metadata": {},
   "source": [
    "Para importar las funciones de pandas se utilizar la siguiente línea de código:"
   ]
  },
  {
   "cell_type": "code",
   "execution_count": null,
   "metadata": {},
   "outputs": [],
   "source": [
    "import pandas as pd"
   ]
  },
  {
   "cell_type": "markdown",
   "metadata": {},
   "source": [
    "### Importación de datos"
   ]
  },
  {
   "cell_type": "markdown",
   "metadata": {},
   "source": [
    "Pandas tiene herramientas robustas para importar datos desde: csv (valores separados por comas), xls (excel), gbq (Google BigQuery) y otros gestores de bases de datos como Oracle."
   ]
  },
  {
   "cell_type": "markdown",
   "metadata": {},
   "source": [
    "#### Leer un .csv "
   ]
  },
  {
   "cell_type": "markdown",
   "metadata": {},
   "source": [
    "La lectura de un csv se realiza a través del método \"read_csv()\" y pasando como argumento la dirección del archivo. Observe el ejemplo."
   ]
  },
  {
   "cell_type": "code",
   "execution_count": null,
   "metadata": {},
   "outputs": [],
   "source": [
    "# Leer un CSV\n",
    "# raw = crudo \n",
    "#direccion = r\"C:\\Users\\juanf\\OneDrive\\Escritorio\\Python\\Building_Energy_Benchmarking_2018.csv\"\n",
    "#energy_df = pd.read_csv(direccion, sep=\",\") #encoding = \"latin-1\"\n",
    "# No olvidar escribir correctamente la dirección del archivo\n",
    "# La dirección del archivo se compone de la ubiciación más el nombre\n",
    "# La ubicación la encuentra en propiedades del archivo\n",
    "# La opción propiedades aparece al dar click derecho sobre el documento\n",
    "# Dirección: \"Ubicacion\\Nombre.Extension\"\n",
    "\n",
    "#Para visualizar el documento:\n",
    "# energy_df\n",
    "# o tambien \n",
    "#print(energy_df)"
   ]
  },
  {
   "cell_type": "markdown",
   "metadata": {},
   "source": [
    "Si y solo si el documento se encuentra en la misma carpeta que su notebook puede omitir la ubicacion."
   ]
  },
  {
   "cell_type": "code",
   "execution_count": null,
   "metadata": {},
   "outputs": [],
   "source": [
    "energy_df = pd.read_csv(\"Building_Energy_Benchmarking_2018.csv\", sep=\",\")\n",
    "energy_df"
   ]
  },
  {
   "cell_type": "markdown",
   "metadata": {},
   "source": [
    "#### Leer un .xls "
   ]
  },
  {
   "cell_type": "markdown",
   "metadata": {},
   "source": [
    "Similar a la lectura de \".csv\", se utiliza el método \"read_excel()\"."
   ]
  },
  {
   "cell_type": "code",
   "execution_count": null,
   "metadata": {},
   "outputs": [],
   "source": [
    "# Leer un XLS\n",
    "#direccion = r\"C:\\Users\\juanf\\OneDrive\\Escritorio\\Python\\Concrete_Data.xls\" #xlsx\n",
    "concrete_df = pd.read_excel('Concrete_Data.xls')\n",
    "\n",
    "# La primera vez probablemente tenga que instalar xlrd con \"pip install xlrd\"\n",
    "\n",
    "# No olvidar escribir correctamente la dirección del archivo\n",
    "# La dirección del archivo se compone de la ubiciación más el nombre\n",
    "# La ubicación la encuentra en propiedades del archivo\n",
    "# La opción propiedades aparece al dar click derecho sobre el documento\n",
    "# Dirección: \"Ubicacion\\Nombre.Extension\"\n",
    " \n",
    "#Para visualizar el documento:\n",
    "concrete_df"
   ]
  },
  {
   "cell_type": "markdown",
   "metadata": {},
   "source": [
    "Las tablas que se han importado en las celdas anteriores son de la clase \"DataFrame\" y están compuestas por columnas de la clase \"Series\", tanto los DataFrames como las Series tienen un índice que Pandas le añade automáticamente y por ello se dice que están indexadas."
   ]
  },
  {
   "cell_type": "markdown",
   "metadata": {},
   "source": [
    "### Manipular datos con Pandas"
   ]
  },
  {
   "cell_type": "markdown",
   "metadata": {},
   "source": [
    "Antes de manipular los datos es necesario conocerlos, si no se conoce la representación física de los datos si bien se podrían realizar análisis, estos no brindarían ninguna conclusión lógica.  "
   ]
  },
  {
   "cell_type": "markdown",
   "metadata": {},
   "source": [
    "Los datos contenidos en la variable energy_df corresponden a datos referentes a la energía utilizada por edificaciones: \n",
    "https://data.seattle.gov/dataset/2018-Building-Energy-Benchmarking/7rac-kyay\n",
    "\n",
    "Los datos contenidos en la variable concrete_df corresponden a datos referentes a los componentes de muestras de concreto y su resistencia a la compresión: https://archive.ics.uci.edu/ml/datasets/concrete+compressive+strength"
   ]
  },
  {
   "cell_type": "markdown",
   "metadata": {},
   "source": [
    "Para manipular los datos se hace uso de métodos y atributos:"
   ]
  },
  {
   "cell_type": "code",
   "execution_count": null,
   "metadata": {
    "scrolled": false
   },
   "outputs": [],
   "source": [
    "# Visualizar las primeras filas\n",
    "energy_df.head()"
   ]
  },
  {
   "cell_type": "code",
   "execution_count": null,
   "metadata": {},
   "outputs": [],
   "source": [
    "# Visualizar las últimas filas\n",
    "energy_df.tail()"
   ]
  },
  {
   "cell_type": "code",
   "execution_count": null,
   "metadata": {},
   "outputs": [],
   "source": [
    "# Obtener los nombres de las columnas\n",
    "\n",
    "columnas_energy = energy_df.columns\n",
    "print(columnas_energy)"
   ]
  },
  {
   "cell_type": "code",
   "execution_count": null,
   "metadata": {},
   "outputs": [],
   "source": [
    "# Obtener el índice\n",
    "energy_df.index"
   ]
  },
  {
   "cell_type": "code",
   "execution_count": null,
   "metadata": {},
   "outputs": [],
   "source": [
    "# Obtener el tamaño\n",
    "energy_df.shape"
   ]
  },
  {
   "cell_type": "code",
   "execution_count": null,
   "metadata": {},
   "outputs": [],
   "source": [
    "# Obtener la cantidad de datos\n",
    "energy_df.size"
   ]
  },
  {
   "cell_type": "markdown",
   "metadata": {},
   "source": [
    "Para separar la tabla en columnas, se hace uso de la notación de los corchetes:\n",
    "\n",
    "dataframe[\"NombreDeLaSerie\"]\n",
    "\n",
    "Podrá observar similitudes entre los dataframes y los diccionarios. "
   ]
  },
  {
   "cell_type": "code",
   "execution_count": null,
   "metadata": {},
   "outputs": [],
   "source": [
    "# Solicitar solo cierta columna\n",
    "energy_df[[r'NaturalGas(therms)']]\n",
    "# Puede utilizar comillas dobles o simples"
   ]
  },
  {
   "cell_type": "code",
   "execution_count": null,
   "metadata": {},
   "outputs": [],
   "source": [
    "# Solicitar solo ciertas columnas\n",
    "\n",
    "energy_df[['OSEBuildingID','BuildingName',\n",
    "           'BuildingType','YearBuilt','NumberofFloors']]"
   ]
  },
  {
   "cell_type": "code",
   "execution_count": null,
   "metadata": {},
   "outputs": [],
   "source": [
    "# Obtener un nuevo dataframe con solo unas columnas del anterior\n",
    "\n",
    "myEnergy_df = energy_df[['OSEBuildingID', 'YearBuilt', 'NumberofFloors',\n",
    "                         'ENERGYSTARScore','Electricity(kBtu)', \n",
    "                         'GHGEmissionsIntensity']]\n",
    "myEnergy_df.head()"
   ]
  },
  {
   "cell_type": "code",
   "execution_count": null,
   "metadata": {},
   "outputs": [],
   "source": [
    "# el nuevo dataframe solo tiene 6 columnas\n",
    "myEnergy_df.shape"
   ]
  },
  {
   "cell_type": "code",
   "execution_count": null,
   "metadata": {
    "scrolled": true
   },
   "outputs": [],
   "source": [
    "# Renombrar las columnas\n",
    "myEnergy_df = myEnergy_df.rename(columns={'OSEBuildingID': \"id\",\n",
    "                                      'YearBuilt': \"yearBuilt\",\n",
    "                                      'NumberofFloors': \"numberOfFloors\",\n",
    "                                      'ENERGYSTARScore': \"energyStarScore\",\n",
    "                                      'Electricity(kBtu)': \"electricity\",\n",
    "                                      'GHGEmissionsIntensity': \"emissionsIntensity\"\n",
    "                                       })\n",
    "# Observe que dentro del diccionario se escribe:\n",
    "#  \"nombreAnterior\": \"nombreNuevo\"\n",
    "\n",
    "myEnergy_df.head(4) "
   ]
  },
  {
   "cell_type": "code",
   "execution_count": null,
   "metadata": {
    "scrolled": true
   },
   "outputs": [],
   "source": [
    "#Cambiar la columna del índice\n",
    "myEnergy_df.set_index('id', inplace=True) \n",
    "#inplace=True elimina el índice anterior\n",
    "myEnergy_df.head()"
   ]
  },
  {
   "cell_type": "code",
   "execution_count": null,
   "metadata": {},
   "outputs": [],
   "source": [
    "# Solicitar los datos de una fila (row) según el índice\n",
    "\n",
    "myEnergy_df.loc[8]"
   ]
  },
  {
   "cell_type": "code",
   "execution_count": null,
   "metadata": {},
   "outputs": [],
   "source": [
    "# La fila obtenida en la celda anterior es muy similar a un diccionario.\n",
    "# Al igual que un diccionario, se accede a sus valores a traves de claves.\n",
    "myEnergy_df.loc[8][\"yearBuilt\"]"
   ]
  },
  {
   "cell_type": "code",
   "execution_count": null,
   "metadata": {},
   "outputs": [],
   "source": [
    "# Conocer el tipo de dato de una columna\n",
    "myEnergy_df[\"numberOfFloors\"].dtype"
   ]
  },
  {
   "cell_type": "code",
   "execution_count": null,
   "metadata": {},
   "outputs": [],
   "source": [
    "# Se puede modificar el tipo de dato de una columna\n",
    "myEnergy_df[\"numberOfFloors\"] = myEnergy_df[\"numberOfFloors\"].astype(str) "
   ]
  },
  {
   "cell_type": "code",
   "execution_count": null,
   "metadata": {},
   "outputs": [],
   "source": [
    "myEnergy_df[\"numberOfFloors\"].dtype"
   ]
  },
  {
   "cell_type": "code",
   "execution_count": null,
   "metadata": {},
   "outputs": [],
   "source": [
    "print(myEnergy_df.loc[8][\"numberOfFloors\"])\n",
    "print(type(myEnergy_df.loc[8][\"numberOfFloors\"]))\n",
    "print(myEnergy_df[\"numberOfFloors\"].dtype)"
   ]
  },
  {
   "cell_type": "markdown",
   "metadata": {},
   "source": [
    "Los tipos de datos que tienen soporte en pandas son: int, float, str, bool y datetime."
   ]
  },
  {
   "cell_type": "code",
   "execution_count": null,
   "metadata": {},
   "outputs": [],
   "source": [
    "# Se puede pedir los elementos no repetidos de una columna\n",
    "pd.unique(myEnergy_df[\"yearBuilt\"])"
   ]
  },
  {
   "cell_type": "markdown",
   "metadata": {},
   "source": [
    "Pandas cuenta con herramientas que permiten ordenar los datos según el criterio de alguna columna."
   ]
  },
  {
   "cell_type": "code",
   "execution_count": null,
   "metadata": {},
   "outputs": [],
   "source": [
    "# Se puede ordenar datos según una columna\n",
    "myEnergy_df = myEnergy_df.sort_values(by='energyStarScore')\n",
    "myEnergy_df.head(50)"
   ]
  },
  {
   "cell_type": "code",
   "execution_count": null,
   "metadata": {},
   "outputs": [],
   "source": [
    "# Ordenar por más de un campo\n",
    "myEnergy_df.sort_values(by=['yearBuilt','numberOfFloors','energyStarScore'], \n",
    "                        ascending= True) #ascending = True or False"
   ]
  },
  {
   "cell_type": "code",
   "execution_count": null,
   "metadata": {
    "scrolled": true
   },
   "outputs": [],
   "source": [
    "# Se puede pedir los estadísticos de los datos, todos a la vez\n",
    "myEnergy_df[\"energyStarScore\"].describe()"
   ]
  },
  {
   "cell_type": "code",
   "execution_count": null,
   "metadata": {},
   "outputs": [],
   "source": [
    "# o solicitar directamente alguno de ellos \n",
    "myEnergy_df[\"yearBuilt\"].mean() #min, max, mean, std, sum, count"
   ]
  },
  {
   "cell_type": "markdown",
   "metadata": {},
   "source": [
    "### Exportar datos"
   ]
  },
  {
   "cell_type": "code",
   "execution_count": null,
   "metadata": {},
   "outputs": [],
   "source": [
    "# Genere su nuevo dataframe el cual se exportara\n",
    "print(myEnergy_df)\n",
    "datosProcesados_df = myEnergy_df.copy()"
   ]
  },
  {
   "cell_type": "code",
   "execution_count": null,
   "metadata": {},
   "outputs": [],
   "source": [
    "# Guardar los datos en un archivo csv\n",
    "datosProcesados_df.to_csv(\"datosprocesados.csv\")"
   ]
  },
  {
   "cell_type": "markdown",
   "metadata": {},
   "source": [
    "### Manejo de datos faltantes"
   ]
  },
  {
   "cell_type": "markdown",
   "metadata": {},
   "source": [
    "Pandas posee algoritmos para solucionar el problema de datos faltantes en la tablas. El método más sencillo y eficaz es utilizar la función dropna.\n",
    "\n",
    "Observe que las columnas \"electricity\" y \"energyStarScore\" no poseen la misma cantidad de datos, inclusive no coincide con la cantidad de filas."
   ]
  },
  {
   "cell_type": "code",
   "execution_count": null,
   "metadata": {},
   "outputs": [],
   "source": [
    "myEnergy_df[\"electricity\"].count()"
   ]
  },
  {
   "cell_type": "code",
   "execution_count": null,
   "metadata": {},
   "outputs": [],
   "source": [
    "myEnergy_df[\"energyStarScore\"].count()"
   ]
  },
  {
   "cell_type": "code",
   "execution_count": null,
   "metadata": {},
   "outputs": [],
   "source": [
    "myEnergy_df.shape"
   ]
  },
  {
   "cell_type": "markdown",
   "metadata": {},
   "source": [
    "Para solucionar el problema, se filtran los valores vacios, de tal manera que se eliminan las filas que contengan algún valor faltante:"
   ]
  },
  {
   "cell_type": "code",
   "execution_count": null,
   "metadata": {},
   "outputs": [],
   "source": [
    "#Se filtran los varores vacios\n",
    "myEnergy_df = myEnergy_df.dropna() #fillna\n",
    "# nueva variable = modificacion de la antigua variable\n",
    "\n",
    "myEnergy_df = myEnergy_df.reset_index()\n",
    "#print(myEnergy_df.shape)\n",
    "myEnergy_df.head(10)"
   ]
  },
  {
   "cell_type": "code",
   "execution_count": null,
   "metadata": {},
   "outputs": [],
   "source": [
    "myEnergy_df.shape"
   ]
  },
  {
   "cell_type": "code",
   "execution_count": null,
   "metadata": {},
   "outputs": [],
   "source": [
    "del myEnergy_df[\"index\"]"
   ]
  },
  {
   "cell_type": "code",
   "execution_count": null,
   "metadata": {},
   "outputs": [],
   "source": [
    "myEnergy_df.head()"
   ]
  },
  {
   "cell_type": "markdown",
   "metadata": {},
   "source": [
    "Se puede solicitar los nuevos estadísticos de todas las columnas de la tabla para verificar que se filtró correctamente.\n"
   ]
  },
  {
   "cell_type": "code",
   "execution_count": null,
   "metadata": {},
   "outputs": [],
   "source": [
    "myEnergy_df.describe()"
   ]
  },
  {
   "cell_type": "markdown",
   "metadata": {},
   "source": [
    "Tome en cuenta que la función \"describe\" obtiene los estadísticos solo de datos de tipo numéricos."
   ]
  },
  {
   "cell_type": "markdown",
   "metadata": {},
   "source": [
    "### Para practicar:\n",
    "\n",
    "1. Obtenga los estadísticos de la tabla \"Concrete Data\".\n",
    "\n",
    "2. Filtre los datos faltantes de la tabla \"Concrete Data\". ¿Tenía la tabla datos faltantes? \n",
    "\n",
    "3. Genere un nuevo dataframe y expórtelo como csv"
   ]
  },
  {
   "cell_type": "markdown",
   "metadata": {},
   "source": [
    "### Bibliografía\n",
    "\n",
    "Bibliografia de Pandas\n",
    "\n",
    "https://pandas.pydata.org/docs/\n",
    "\n",
    "\n",
    "Visualización de datos con pandas\n",
    "\n",
    "https://pandas.pydata.org/pandas-docs/stable/user_guide/visualization.html\n",
    "\n",
    "Repositorio del paquete\n",
    "\n",
    "https://github.com/pandas-dev/pandas"
   ]
  },
  {
   "cell_type": "markdown",
   "metadata": {},
   "source": [
    "Bases de datos:\n",
    "\n",
    "https://figshare.com\n",
    "\n",
    "https://www.kaggle.com\n",
    "\n",
    "https://www.kaggle.com/loveall/appliances-energy-prediction\n",
    "\n",
    "https://www.data.gov\n",
    "\n",
    "https://data.europa.eu/euodp/en/home\n",
    "\n",
    "https://archive.ics.uci.edu/ml/datasets.php\n",
    "\n",
    "\n",
    "Bases de datos en Google:\n",
    "\n",
    "https://datasetsearch.research.google.com\n",
    "\n",
    "Otros:\n",
    "\n",
    "https://lionbridge.ai/datasets/the-50-best-free-datasets-for-machine-learning/\n",
    "https://guides.library.cmu.edu/machine-learning/datasets"
   ]
  },
  {
   "cell_type": "markdown",
   "metadata": {},
   "source": [
    "Extra: Turoriales para la gestión de bases de datos con python\n",
    "\n",
    "https://realpython.com/tutorials/databases/"
   ]
  }
 ],
 "metadata": {
  "kernelspec": {
   "display_name": "Python 3",
   "language": "python",
   "name": "python3"
  },
  "language_info": {
   "codemirror_mode": {
    "name": "ipython",
    "version": 3
   },
   "file_extension": ".py",
   "mimetype": "text/x-python",
   "name": "python",
   "nbconvert_exporter": "python",
   "pygments_lexer": "ipython3",
   "version": "3.8.5"
  }
 },
 "nbformat": 4,
 "nbformat_minor": 2
}
