{
 "cells": [
  {
   "cell_type": "markdown",
   "metadata": {},
   "source": [
    "## Sesión 12: Caso Resuelto 01"
   ]
  },
  {
   "cell_type": "code",
   "execution_count": null,
   "metadata": {},
   "outputs": [],
   "source": [
    "!pip install seaborn"
   ]
  },
  {
   "cell_type": "code",
   "execution_count": null,
   "metadata": {
    "colab": {},
    "colab_type": "code",
    "id": "WrSfyvFhzy2j"
   },
   "outputs": [],
   "source": [
    "import pandas as pd\n",
    "import numpy as np\n",
    "\n",
    "import matplotlib.pyplot as plt\n",
    "import seaborn as sns\n",
    "\n",
    "from sklearn.linear_model import LinearRegression\n",
    "from sklearn.metrics import mean_squared_error, r2_score\n",
    "\n",
    "from sklearn.model_selection import train_test_split"
   ]
  },
  {
   "cell_type": "code",
   "execution_count": null,
   "metadata": {
    "colab": {
     "base_uri": "https://localhost:8080/",
     "height": 141
    },
    "colab_type": "code",
    "id": "qSADx1oA0UWp",
    "outputId": "73a19702-d614-467f-f79c-9b676e1e9f94"
   },
   "outputs": [],
   "source": [
    "df = pd.read_csv('data/Base ciudades.csv')\n",
    "df.head(10)"
   ]
  },
  {
   "cell_type": "code",
   "execution_count": null,
   "metadata": {
    "colab": {
     "base_uri": "https://localhost:8080/",
     "height": 79
    },
    "colab_type": "code",
    "id": "qYEeBl-c0tgy",
    "outputId": "8a157cfd-4fcd-47e4-e933-a292766a768b"
   },
   "outputs": [],
   "source": [
    "df[df['Country'] == 'Peru']"
   ]
  },
  {
   "cell_type": "code",
   "execution_count": null,
   "metadata": {
    "colab": {
     "base_uri": "https://localhost:8080/",
     "height": 34
    },
    "colab_type": "code",
    "id": "PMqCuE_x1Bi1",
    "outputId": "388d1819-f052-4f84-d56b-0157d8231bdc"
   },
   "outputs": [],
   "source": [
    "df.shape"
   ]
  },
  {
   "cell_type": "code",
   "execution_count": null,
   "metadata": {
    "colab": {
     "base_uri": "https://localhost:8080/",
     "height": 141
    },
    "colab_type": "code",
    "id": "OC671uDg1RwC",
    "outputId": "712335b8-7cb2-44ca-add8-449622aa8159"
   },
   "outputs": [],
   "source": [
    "df.corr()"
   ]
  },
  {
   "cell_type": "code",
   "execution_count": null,
   "metadata": {
    "colab": {
     "base_uri": "https://localhost:8080/",
     "height": 141
    },
    "colab_type": "code",
    "id": "NPcrZo-A1bdz",
    "outputId": "3d15a902-21df-4cd9-f90b-e75d7bd37714"
   },
   "outputs": [],
   "source": [
    "df.corr()[['HIV']]"
   ]
  },
  {
   "cell_type": "code",
   "execution_count": null,
   "metadata": {
    "colab": {
     "base_uri": "https://localhost:8080/",
     "height": 270
    },
    "colab_type": "code",
    "id": "l3l9shQF1pcX",
    "outputId": "2611fb93-649f-4a94-de21-d703d79be842"
   },
   "outputs": [],
   "source": [
    "sns.heatmap(abs(df.corr()), annot=True, cmap='Blues', fmt='.1f')\n",
    "plt.show()"
   ]
  },
  {
   "cell_type": "markdown",
   "metadata": {
    "colab_type": "text",
    "id": "KANkoojP89SH"
   },
   "source": [
    "# Train Test Split"
   ]
  },
  {
   "cell_type": "markdown",
   "metadata": {
    "colab_type": "text",
    "id": "P0WzzjniBjn1"
   },
   "source": [
    "### Regresión Simple"
   ]
  },
  {
   "cell_type": "code",
   "execution_count": null,
   "metadata": {
    "colab": {},
    "colab_type": "code",
    "id": "s6lKjMpg2C9f"
   },
   "outputs": [],
   "source": [
    "X = df['Life_expentacy']\n",
    "Y = df['HIV']"
   ]
  },
  {
   "cell_type": "markdown",
   "metadata": {
    "colab_type": "text",
    "id": "87nFLFGPBlc8"
   },
   "source": [
    "### Regresión Múltiple"
   ]
  },
  {
   "cell_type": "code",
   "execution_count": null,
   "metadata": {
    "colab": {},
    "colab_type": "code",
    "id": "AipOjyZfBnyO"
   },
   "outputs": [],
   "source": [
    "X = df[['Life_expentacy', 'GDP']]\n",
    "Y = df['HIV']"
   ]
  },
  {
   "cell_type": "code",
   "execution_count": null,
   "metadata": {
    "colab": {},
    "colab_type": "code",
    "id": "aewbBVE189wn"
   },
   "outputs": [],
   "source": [
    "X_train, X_test, Y_train, Y_test = train_test_split(X, Y, test_size=0.2, random_state=0)"
   ]
  },
  {
   "cell_type": "code",
   "execution_count": null,
   "metadata": {
    "colab": {
     "base_uri": "https://localhost:8080/",
     "height": 34
    },
    "colab_type": "code",
    "id": "1PUVPfWh_WMq",
    "outputId": "908178e3-9208-46de-b5d2-2f2d1b6a48cd"
   },
   "outputs": [],
   "source": [
    "X_train.shape"
   ]
  },
  {
   "cell_type": "code",
   "execution_count": null,
   "metadata": {
    "colab": {
     "base_uri": "https://localhost:8080/",
     "height": 110
    },
    "colab_type": "code",
    "id": "RXNO1hu5_WTF",
    "outputId": "c3881f82-db13-4f02-da6f-644c5b7c6bf5"
   },
   "outputs": [],
   "source": [
    "X_train[:2]"
   ]
  },
  {
   "cell_type": "code",
   "execution_count": null,
   "metadata": {},
   "outputs": [],
   "source": [
    "X_train"
   ]
  },
  {
   "cell_type": "markdown",
   "metadata": {
    "colab_type": "text",
    "id": "L9UFgjQL2iwm"
   },
   "source": [
    "# Regresión Lineal"
   ]
  },
  {
   "cell_type": "code",
   "execution_count": null,
   "metadata": {
    "colab": {
     "base_uri": "https://localhost:8080/",
     "height": 280
    },
    "colab_type": "code",
    "id": "y7aVAE9f2p1i",
    "outputId": "b64cdcbb-0eb6-4a1a-8afd-14cab18890a8"
   },
   "outputs": [],
   "source": [
    "#Solo para regresión lineal simple\n",
    "\n",
    "sns.scatterplot(X,Y)\n",
    "plt.show()"
   ]
  },
  {
   "cell_type": "code",
   "execution_count": null,
   "metadata": {
    "colab": {},
    "colab_type": "code",
    "id": "5EbsNfZi20Tf"
   },
   "outputs": [],
   "source": [
    "#Genero el objeto de la regresión\n",
    "\n",
    "reg_lineal = LinearRegression()"
   ]
  },
  {
   "cell_type": "code",
   "execution_count": null,
   "metadata": {
    "colab": {},
    "colab_type": "code",
    "id": "2hAhdpvO3Hs7"
   },
   "outputs": [],
   "source": [
    "reg_lineal_model = reg_lineal.fit(X_train.values.reshape(-1, 1), Y_train)\n",
    "\n",
    "#reg_lineal_model = reg_lineal.fit(X_train, Y_train)"
   ]
  },
  {
   "cell_type": "code",
   "execution_count": null,
   "metadata": {
    "colab": {
     "base_uri": "https://localhost:8080/",
     "height": 34
    },
    "colab_type": "code",
    "id": "2s9PHtLq3Sj6",
    "outputId": "a28aea5b-37f5-4063-b6af-e166fb2d75bd"
   },
   "outputs": [],
   "source": [
    "reg_lineal_model.intercept_"
   ]
  },
  {
   "cell_type": "code",
   "execution_count": null,
   "metadata": {
    "colab": {
     "base_uri": "https://localhost:8080/",
     "height": 34
    },
    "colab_type": "code",
    "id": "J4WOUuUr3zuL",
    "outputId": "b0ebc855-341d-4887-dd78-cfb94eca36ef"
   },
   "outputs": [],
   "source": [
    "reg_lineal_model.coef_"
   ]
  },
  {
   "cell_type": "markdown",
   "metadata": {
    "colab_type": "text",
    "id": "XFGueL_44B-J"
   },
   "source": [
    "# Predicciones"
   ]
  },
  {
   "cell_type": "code",
   "execution_count": null,
   "metadata": {},
   "outputs": [],
   "source": [
    "mn = X.min()\n",
    "\n",
    "mx = X.max()\n",
    "mn"
   ]
  },
  {
   "cell_type": "code",
   "execution_count": null,
   "metadata": {
    "colab": {
     "base_uri": "https://localhost:8080/",
     "height": 279
    },
    "colab_type": "code",
    "id": "CEvBTWbq547H",
    "outputId": "9bc92d07-cccf-4d3d-fe0a-7401e2514e0b"
   },
   "outputs": [],
   "source": [
    "#Solo para regresión lineal simple\n",
    "\n",
    "X_recta = np.linspace(mn, mx, 500)\n",
    "Y_recta = reg_lineal_model.intercept_ + reg_lineal_model.coef_[0]*X_recta\n",
    "\n",
    "sns.scatterplot(X, Y)\n",
    "sns.lineplot(X_recta, Y_recta, color='r')\n",
    "plt.show()"
   ]
  },
  {
   "cell_type": "code",
   "execution_count": null,
   "metadata": {
    "colab": {},
    "colab_type": "code",
    "id": "1Es5X6qx31wO"
   },
   "outputs": [],
   "source": [
    "Y_pred_train = reg_lineal_model.predict(X_train.values.reshape(-1,1))\n",
    "#Y_pred_train = reg_lineal_model.predict(X_train)\n",
    "\n",
    "Y_pred_test  = reg_lineal_model.predict(X_test.values.reshape(-1,1))\n",
    "#Y_pred_test  = reg_lineal_model.predict(X_test)"
   ]
  },
  {
   "cell_type": "markdown",
   "metadata": {
    "colab_type": "text",
    "id": "O5MJNinn4pu-"
   },
   "source": [
    "# Evaluacion"
   ]
  },
  {
   "cell_type": "code",
   "execution_count": null,
   "metadata": {
    "colab": {
     "base_uri": "https://localhost:8080/",
     "height": 34
    },
    "colab_type": "code",
    "id": "mK9J8zAq4hwj",
    "outputId": "a97219b4-5337-4b07-cc52-532edf360329"
   },
   "outputs": [],
   "source": [
    "#MSE\n",
    "mean_squared_error(Y_train, Y_pred_train), mean_squared_error(Y_test, Y_pred_test)"
   ]
  },
  {
   "cell_type": "code",
   "execution_count": null,
   "metadata": {
    "colab": {
     "base_uri": "https://localhost:8080/",
     "height": 34
    },
    "colab_type": "code",
    "id": "Afw9tQZg4web",
    "outputId": "711e2dfa-647f-48df-bf20-4020f3903f08"
   },
   "outputs": [],
   "source": [
    "#RMSE\n",
    "np.sqrt(mean_squared_error(Y_train, Y_pred_train)), np.sqrt(mean_squared_error(Y_test, Y_pred_test))"
   ]
  },
  {
   "cell_type": "code",
   "execution_count": null,
   "metadata": {
    "colab": {
     "base_uri": "https://localhost:8080/",
     "height": 34
    },
    "colab_type": "code",
    "id": "Rcu3eklS42zx",
    "outputId": "14cdc215-6b7f-4cde-a406-29066ba8dd13"
   },
   "outputs": [],
   "source": [
    "#R2\n",
    "r2_score(Y_train, Y_pred_train), r2_score(Y_test, Y_pred_test)"
   ]
  },
  {
   "cell_type": "code",
   "execution_count": null,
   "metadata": {},
   "outputs": [],
   "source": []
  }
 ],
 "metadata": {
  "colab": {
   "collapsed_sections": [],
   "name": "Sesión04_OG2.ipynb",
   "provenance": []
  },
  "kernelspec": {
   "display_name": "Python 3",
   "language": "python",
   "name": "python3"
  },
  "language_info": {
   "codemirror_mode": {
    "name": "ipython",
    "version": 3
   },
   "file_extension": ".py",
   "mimetype": "text/x-python",
   "name": "python",
   "nbconvert_exporter": "python",
   "pygments_lexer": "ipython3",
   "version": "3.8.5"
  }
 },
 "nbformat": 4,
 "nbformat_minor": 1
}
