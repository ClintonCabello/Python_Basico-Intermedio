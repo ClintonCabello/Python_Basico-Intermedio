{
 "cells": [
  {
   "cell_type": "markdown",
   "metadata": {
    "colab_type": "text",
    "id": "cne4GktR9Fh8"
   },
   "source": [
    "# Sesión 14: Árboles de decisión (II)"
   ]
  },
  {
   "cell_type": "markdown",
   "metadata": {
    "colab_type": "text",
    "id": "ZE8foXS_ZgFE"
   },
   "source": [
    "### Carga de módulos necesarios"
   ]
  },
  {
   "cell_type": "code",
   "execution_count": null,
   "metadata": {
    "colab": {},
    "colab_type": "code",
    "id": "oCVcqeYcS5K8"
   },
   "outputs": [],
   "source": [
    "#Importando nuestras librerías\n",
    "\n",
    "import pandas as pd\n",
    "import numpy as np\n",
    "\n",
    "import matplotlib.pyplot as plt\n",
    "import seaborn as sns\n",
    "\n",
    "from sklearn.tree import DecisionTreeClassifier\n",
    "from sklearn.model_selection import train_test_split\n",
    "from sklearn.metrics import classification_report, confusion_matrix, accuracy_score, roc_curve, auc"
   ]
  },
  {
   "cell_type": "code",
   "execution_count": null,
   "metadata": {
    "colab": {},
    "colab_type": "code",
    "id": "l12jZ-vQTDd0"
   },
   "outputs": [],
   "source": [
    "#Cargando el dataset\n",
    "\n",
    "df = pd.read_csv('data/data_creditos.csv')"
   ]
  },
  {
   "cell_type": "markdown",
   "metadata": {
    "colab_type": "text",
    "id": "2z0o3jrRZbHD"
   },
   "source": [
    "### Análisis exploratorio de datos"
   ]
  },
  {
   "cell_type": "code",
   "execution_count": null,
   "metadata": {
    "colab": {},
    "colab_type": "code",
    "id": "H3LwMZCqiRpR"
   },
   "outputs": [],
   "source": [
    "# Analizando la variable target\n",
    "\n",
    "print('Dimensión de la bd:', df.shape, '\\n')\n",
    "\n",
    "print(df.dtypes)"
   ]
  },
  {
   "cell_type": "code",
   "execution_count": null,
   "metadata": {
    "colab": {},
    "colab_type": "code",
    "id": "MOU7d0XaDcOt"
   },
   "outputs": [],
   "source": [
    "df.tail()"
   ]
  },
  {
   "cell_type": "code",
   "execution_count": null,
   "metadata": {
    "colab": {},
    "colab_type": "code",
    "id": "EWkfd9UanbdN"
   },
   "outputs": [],
   "source": [
    "#Creación columna Target\n",
    "\n",
    "df['Target'] = df['Credito'].map({\"Malo\":1,\"Bueno\":0})\n"
   ]
  },
  {
   "cell_type": "code",
   "execution_count": null,
   "metadata": {},
   "outputs": [],
   "source": [
    "df.head()"
   ]
  },
  {
   "cell_type": "code",
   "execution_count": null,
   "metadata": {
    "colab": {},
    "colab_type": "code",
    "id": "EHBI49WGntfG"
   },
   "outputs": [],
   "source": [
    "pd.crosstab(df.Target, df.Credito)"
   ]
  },
  {
   "cell_type": "code",
   "execution_count": null,
   "metadata": {
    "colab": {},
    "colab_type": "code",
    "id": "RqO3bsloEHPx"
   },
   "outputs": [],
   "source": [
    "df.head()"
   ]
  },
  {
   "cell_type": "code",
   "execution_count": null,
   "metadata": {
    "colab": {},
    "colab_type": "code",
    "id": "D8XEz6PTEjjp"
   },
   "outputs": [],
   "source": [
    "sns.catplot('Target', data = df, kind = 'count')\n",
    "plt.show()"
   ]
  },
  {
   "cell_type": "code",
   "execution_count": null,
   "metadata": {
    "colab": {},
    "colab_type": "code",
    "id": "bygB12yRiSG8"
   },
   "outputs": [],
   "source": [
    "# Analizamos las variables numéricas\n",
    "\n",
    "df.describe()"
   ]
  },
  {
   "cell_type": "code",
   "execution_count": null,
   "metadata": {
    "colab": {},
    "colab_type": "code",
    "id": "OyHyjKyTFYfl"
   },
   "outputs": [],
   "source": [
    "df.Edad.hist()\n",
    "plt.show()"
   ]
  },
  {
   "cell_type": "code",
   "execution_count": null,
   "metadata": {
    "colab": {},
    "colab_type": "code",
    "id": "FPR6UxdGFYc6"
   },
   "outputs": [],
   "source": [
    "sns.boxplot(y = df.Edad, x = df.Target)\n",
    "plt.show()"
   ]
  },
  {
   "cell_type": "code",
   "execution_count": null,
   "metadata": {
    "colab": {},
    "colab_type": "code",
    "id": "SQ7-UccTFtFX"
   },
   "outputs": [],
   "source": [
    "df.dtypes"
   ]
  },
  {
   "cell_type": "code",
   "execution_count": null,
   "metadata": {
    "colab": {},
    "colab_type": "code",
    "id": "CszI17aqFtID"
   },
   "outputs": [],
   "source": [
    "# Eliminar variables no necesarias\n",
    "\n",
    "df.drop('Unnamed: 0', axis = 1, inplace= True)\n",
    "df.drop('Credito', axis = 1, inplace= True)"
   ]
  },
  {
   "cell_type": "code",
   "execution_count": null,
   "metadata": {
    "colab": {},
    "colab_type": "code",
    "id": "Ykh4wfPHFYas"
   },
   "outputs": [],
   "source": [
    "df.head()"
   ]
  },
  {
   "cell_type": "code",
   "execution_count": null,
   "metadata": {
    "colab": {},
    "colab_type": "code",
    "id": "yH771PHDiZJb"
   },
   "outputs": [],
   "source": [
    "# Analisamos variables categóricas\n",
    "\n",
    "df.describe(include= 'O')"
   ]
  },
  {
   "cell_type": "code",
   "execution_count": null,
   "metadata": {
    "colab": {},
    "colab_type": "code",
    "id": "1BiICSoMGz0J"
   },
   "outputs": [],
   "source": [
    "df['Ingresos'].value_counts()"
   ]
  },
  {
   "cell_type": "code",
   "execution_count": null,
   "metadata": {
    "colab": {},
    "colab_type": "code",
    "id": "bTWkhEBeGzxA"
   },
   "outputs": [],
   "source": [
    "# Analisis gráfico\n",
    "\n",
    "for x in ['Ingresos','Tarjetas','Educacion','Auto_creditos']:\n",
    "    sns.catplot(x, data=df, hue='Target', kind='count')"
   ]
  },
  {
   "cell_type": "code",
   "execution_count": null,
   "metadata": {
    "colab": {},
    "colab_type": "code",
    "id": "5PLzdHfOGzum"
   },
   "outputs": [],
   "source": [
    "#Revisión de nulos\n",
    "\n",
    "df.isnull().sum()"
   ]
  },
  {
   "cell_type": "code",
   "execution_count": null,
   "metadata": {
    "colab": {},
    "colab_type": "code",
    "id": "E_34t6RvIKFu"
   },
   "outputs": [],
   "source": [
    "# Creación de variables dummies\n",
    "\n",
    "df = pd.get_dummies(df, drop_first= True)"
   ]
  },
  {
   "cell_type": "code",
   "execution_count": null,
   "metadata": {
    "colab": {},
    "colab_type": "code",
    "id": "v_0MTD97IKJP"
   },
   "outputs": [],
   "source": [
    "df.head()"
   ]
  },
  {
   "cell_type": "markdown",
   "metadata": {
    "colab_type": "text",
    "id": "5diK7buyc0b8"
   },
   "source": [
    "### Obtenemos las variables para el modelo"
   ]
  },
  {
   "cell_type": "code",
   "execution_count": null,
   "metadata": {
    "colab": {},
    "colab_type": "code",
    "id": "h866TroiMzVW"
   },
   "outputs": [],
   "source": [
    "df['Edad_round'] = round(df.Edad)"
   ]
  },
  {
   "cell_type": "code",
   "execution_count": null,
   "metadata": {
    "colab": {},
    "colab_type": "code",
    "id": "xedFUdNKM_ps"
   },
   "outputs": [],
   "source": [
    "df.head()"
   ]
  },
  {
   "cell_type": "code",
   "execution_count": null,
   "metadata": {
    "colab": {},
    "colab_type": "code",
    "id": "M-4ZK_i2c3JJ"
   },
   "outputs": [],
   "source": [
    "# Separación de predictores\n",
    "\n",
    "X = df.drop(['Target','Edad'], axis = 1)\n",
    "Y = df['Target']"
   ]
  },
  {
   "cell_type": "code",
   "execution_count": null,
   "metadata": {
    "colab": {},
    "colab_type": "code",
    "id": "09twDO8UIrZT"
   },
   "outputs": [],
   "source": [
    "X.head()"
   ]
  },
  {
   "cell_type": "code",
   "execution_count": null,
   "metadata": {},
   "outputs": [],
   "source": [
    "Y.head()"
   ]
  },
  {
   "cell_type": "code",
   "execution_count": null,
   "metadata": {
    "colab": {},
    "colab_type": "code",
    "id": "avuwX9OxpgjT"
   },
   "outputs": [],
   "source": [
    "#Separación en Train - Test\n",
    "\n",
    "X_train, X_test, Y_train, Y_test = train_test_split(X, Y, test_size=0.2, random_state=42)"
   ]
  },
  {
   "cell_type": "code",
   "execution_count": null,
   "metadata": {
    "colab": {},
    "colab_type": "code",
    "id": "Px0XjbQnz-v1"
   },
   "outputs": [],
   "source": [
    "#Objeto del arbol de decisión para clasificar\n",
    "\n",
    "tree = DecisionTreeClassifier()\n",
    "tree"
   ]
  },
  {
   "cell_type": "code",
   "execution_count": null,
   "metadata": {
    "colab": {},
    "colab_type": "code",
    "id": "BGUF3Lioz_VI"
   },
   "outputs": [],
   "source": [
    "#Entrenamiento del arbol (data de train)\n",
    "\n",
    "tree_model = tree.fit(X_train, Y_train)"
   ]
  },
  {
   "cell_type": "code",
   "execution_count": null,
   "metadata": {},
   "outputs": [],
   "source": [
    "#Importancia de variables\n",
    "\n",
    "pd.Series(data=tree_model.feature_importances_, index=X.columns)"
   ]
  },
  {
   "cell_type": "markdown",
   "metadata": {
    "colab_type": "text",
    "id": "unMsukNNdKOq"
   },
   "source": [
    "### Obtenemos las predicciones"
   ]
  },
  {
   "cell_type": "code",
   "execution_count": null,
   "metadata": {
    "colab": {},
    "colab_type": "code",
    "id": "psYXookk0hdX"
   },
   "outputs": [],
   "source": [
    "#Predicción del modelo (data de test)\n",
    "\n",
    "Y_pred = tree_model.predict(X_test)"
   ]
  },
  {
   "cell_type": "code",
   "execution_count": null,
   "metadata": {
    "colab": {},
    "colab_type": "code",
    "id": "TeFNjaiTsIae"
   },
   "outputs": [],
   "source": [
    "Y_pred[:5]"
   ]
  },
  {
   "cell_type": "code",
   "execution_count": null,
   "metadata": {
    "colab": {},
    "colab_type": "code",
    "id": "RN6GFCjs0k4c"
   },
   "outputs": [],
   "source": [
    "np.array(Y_test[:5])"
   ]
  },
  {
   "cell_type": "markdown",
   "metadata": {
    "colab_type": "text",
    "id": "dzy4axnSdViY"
   },
   "source": [
    "### Obtenemos las métricas"
   ]
  },
  {
   "cell_type": "code",
   "execution_count": null,
   "metadata": {
    "colab": {},
    "colab_type": "code",
    "id": "D69RvYEh1FcT"
   },
   "outputs": [],
   "source": [
    "#Cálculo del accuracy (data de test)\n",
    "\n",
    "accuracy_score(Y_test, Y_pred)"
   ]
  },
  {
   "cell_type": "code",
   "execution_count": null,
   "metadata": {
    "colab": {},
    "colab_type": "code",
    "id": "ETkuwSEuwBGL"
   },
   "outputs": [],
   "source": [
    "#Matriz de confusión (data de test)\n",
    "\n",
    "confusion_matrix(Y_test, Y_pred)"
   ]
  },
  {
   "cell_type": "code",
   "execution_count": null,
   "metadata": {},
   "outputs": [],
   "source": [
    "#AUC (data de test)\n",
    "\n",
    "fpr, tpr, threshold = roc_curve(Y_test, Y_pred)\n",
    "auc(fpr, tpr)"
   ]
  },
  {
   "cell_type": "markdown",
   "metadata": {
    "colab_type": "text",
    "id": "wpi8gTm6wC_X"
   },
   "source": [
    "### Graficamos el arbol obtenido"
   ]
  },
  {
   "cell_type": "code",
   "execution_count": null,
   "metadata": {
    "colab": {},
    "colab_type": "code",
    "id": "lA0agB63wF1H"
   },
   "outputs": [],
   "source": [
    "#Gráfico del árbol de decisión\n",
    "from graphviz import Source\n",
    "from sklearn.tree import export_graphviz\n",
    "from IPython.display import Image\n",
    "from pydotplus import graph_from_dot_data"
   ]
  },
  {
   "cell_type": "code",
   "execution_count": null,
   "metadata": {
    "colab": {},
    "colab_type": "code",
    "id": "a4UWhGU1wF6q"
   },
   "outputs": [],
   "source": [
    "dot_data = export_graphviz(tree_model, filled = True,\n",
    "                           feature_names=X.columns,\n",
    "                          special_characters = True)\n",
    "\n",
    "graph = graph_from_dot_data(dot_data)\n",
    "graph.write_png('tree.png')\n",
    "Image(graph.create_png())"
   ]
  },
  {
   "cell_type": "markdown",
   "metadata": {},
   "source": [
    "## Realizamos un nuevo modelo más acotado:"
   ]
  },
  {
   "cell_type": "code",
   "execution_count": null,
   "metadata": {},
   "outputs": [],
   "source": [
    "tree2 = DecisionTreeClassifier(max_depth = 3)\n",
    "tree_model2 = tree2.fit(X_train, Y_train)"
   ]
  },
  {
   "cell_type": "code",
   "execution_count": null,
   "metadata": {},
   "outputs": [],
   "source": [
    "Y_pred = tree_model2.predict(X_test)\n",
    "accuracy_score(Y_test, Y_pred)"
   ]
  },
  {
   "cell_type": "code",
   "execution_count": null,
   "metadata": {},
   "outputs": [],
   "source": [
    "confusion_matrix(Y_test, Y_pred)"
   ]
  },
  {
   "cell_type": "code",
   "execution_count": null,
   "metadata": {},
   "outputs": [],
   "source": [
    "fpr, tpr, threshold = roc_curve(Y_test, Y_pred)\n",
    "auc(fpr, tpr)"
   ]
  },
  {
   "cell_type": "markdown",
   "metadata": {},
   "source": [
    "### Graficamos el nuevo arbol obtenido"
   ]
  },
  {
   "cell_type": "code",
   "execution_count": null,
   "metadata": {},
   "outputs": [],
   "source": [
    "dot_data = export_graphviz(tree_model2, filled = True,\n",
    "                           feature_names=X.columns,\n",
    "                          special_characters = True)\n",
    "\n",
    "graph = graph_from_dot_data(dot_data)\n",
    "graph.write_png('tree2.png')\n",
    "Image(graph.create_png())"
   ]
  },
  {
   "cell_type": "markdown",
   "metadata": {},
   "source": [
    "### Evaluación de varios niveles"
   ]
  },
  {
   "cell_type": "code",
   "execution_count": null,
   "metadata": {},
   "outputs": [],
   "source": [
    "from sklearn import metrics\n",
    "\n",
    "for crit in ['entropy','gini']:\n",
    "    for mDepth in [3,6,9,12,15]:\n",
    "        drugTree_loop = DecisionTreeClassifier(criterion=crit, max_depth = mDepth)\n",
    "        drugTree_loop.fit(X_train,Y_train)\n",
    "        drugTree_loop = drugTree_loop.predict(X_train)\n",
    "        fpr, tpr, threshold = roc_curve(Y_train, drugTree_loop)\n",
    "        print(\"Accuracy: \"+str(mDepth)+\" \"+str(metrics.accuracy_score(Y_train, drugTree_loop)) +\n",
    "              \"\\nAUC: \"+str(mDepth)+\" \"+str(metrics.auc(fpr, tpr)) +\n",
    "              \"\\nAccuracy Score: \"+str(mDepth)+\" \"+str(metrics.accuracy_score(Y_train, drugTree_loop)) +\n",
    "              \"\\nPrecision Score: \"+str(mDepth)+\" \"+str(metrics.precision_score(Y_train, drugTree_loop)) +\n",
    "              \"\\nRecall Score: \"+str(mDepth)+\" \"+str(metrics.recall_score(Y_train, drugTree_loop)) +\n",
    "              \"\\nF1 Score: \"+str(mDepth)+\" \"+str(metrics.f1_score(Y_train, drugTree_loop)) + \"\\n\")"
   ]
  },
  {
   "cell_type": "code",
   "execution_count": null,
   "metadata": {},
   "outputs": [],
   "source": [
    "conda install graphviz"
   ]
  },
  {
   "cell_type": "code",
   "execution_count": null,
   "metadata": {},
   "outputs": [],
   "source": [
    "!pip install graphviz"
   ]
  },
  {
   "cell_type": "code",
   "execution_count": null,
   "metadata": {},
   "outputs": [],
   "source": []
  }
 ],
 "metadata": {
  "colab": {
   "collapsed_sections": [
    "cne4GktR9Fh8",
    "ZE8foXS_ZgFE",
    "2z0o3jrRZbHD",
    "5diK7buyc0b8",
    "unMsukNNdKOq",
    "dzy4axnSdViY",
    "wpi8gTm6wC_X"
   ],
   "name": "Sesión5_OG2.ipynb",
   "provenance": []
  },
  "kernelspec": {
   "display_name": "Python 3",
   "language": "python",
   "name": "python3"
  },
  "language_info": {
   "codemirror_mode": {
    "name": "ipython",
    "version": 3
   },
   "file_extension": ".py",
   "mimetype": "text/x-python",
   "name": "python",
   "nbconvert_exporter": "python",
   "pygments_lexer": "ipython3",
   "version": "3.8.5"
  }
 },
 "nbformat": 4,
 "nbformat_minor": 1
}
