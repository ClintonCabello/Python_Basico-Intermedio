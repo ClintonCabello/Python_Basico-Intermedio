{
 "cells": [
  {
   "cell_type": "markdown",
   "metadata": {},
   "source": [
    "## Clases y objetos en Python"
   ]
  },
  {
   "cell_type": "markdown",
   "metadata": {},
   "source": [
    "En programación existe un paradigma denominado Programación Orientada a Objetos, que basa su funcionamiento en \"objetos\" que poseen atributos y métodos que los transforman.\n",
    "\n",
    "Cada objeto es creado bajo cierta estructura o molde y a dicho molde se le denomina clase. Una clase es una combinación específica de atributos y métodos que puede considerarse un tipo de dato. Los atributos son propiedades o características de los objetos mientras que los métodos son funciones que los transforman.\n",
    "\n",
    "Hasta ahora, todas las variables que se han creado han sido objetos que pertenecian a determinada clase. En las primeras sesiones se crearon objetos pertenecientes a las clases \"int\", \"str\" y \"list\", además al importar bibliotecas se añadieron nuevas clases como \"datetime\" o \"ndarray\". Cada objeto creado tenía determinadas propiedades (atributos) y funciones (métodos) que los modificaban.   \n",
    "\n",
    "A continuación observaremos a detalle la clase \"datetime\":"
   ]
  },
  {
   "cell_type": "code",
   "execution_count": null,
   "metadata": {},
   "outputs": [],
   "source": [
    "# Observe la documentación de la biblioteca datetime\n",
    "import datetime\n",
    "help(datetime)"
   ]
  },
  {
   "cell_type": "markdown",
   "metadata": {},
   "source": [
    "Se observa que datetime incluye las siguientes clases: date, datetime, time, timedelta, tzinfo y timezon. Cada una de ellas tiene una serie de funciones (métodos) que permiten crear un nuevo objeto (el método constructor) y modificarlo. Por ejemplo para crear un nuevo objeto de la clase date, basta con escribir el siguiente código:"
   ]
  },
  {
   "cell_type": "code",
   "execution_count": null,
   "metadata": {},
   "outputs": [],
   "source": [
    "fecha = datetime.date(month=1, day=21, year=2021)\n",
    "print(fecha)\n",
    "print(type(fecha))"
   ]
  },
  {
   "cell_type": "markdown",
   "metadata": {},
   "source": [
    "La función anterior no es la única que permite crear nuevos objetos, observe que la función \"today\" también permite crear un objeto de la clase \"datetime.date\":"
   ]
  },
  {
   "cell_type": "code",
   "execution_count": null,
   "metadata": {},
   "outputs": [],
   "source": [
    "hoy = datetime.date.today()\n",
    "print(hoy)\n",
    "print(type(hoy))"
   ]
  },
  {
   "cell_type": "markdown",
   "metadata": {},
   "source": [
    "Observe que estas funciones siguen la sintaxis:\n",
    "\n",
    "    biblioteca.funcion(argumentos)\n",
    "    \n",
    "Recuerde que a menudo el nombre de la biblioteca se reemplaza por un alias.\n",
    "Por ejemplo en lugar de escribir:"
   ]
  },
  {
   "cell_type": "code",
   "execution_count": null,
   "metadata": {},
   "outputs": [],
   "source": [
    "import datetime \n",
    "hoy = datetime.date.today()\n",
    "print(hoy)\n",
    "print(type(hoy))"
   ]
  },
  {
   "cell_type": "markdown",
   "metadata": {},
   "source": [
    "Se escribe:"
   ]
  },
  {
   "cell_type": "code",
   "execution_count": null,
   "metadata": {},
   "outputs": [],
   "source": [
    "import datetime as dt # se coloca el alias\n",
    "hoy = dt.date.today() ### dt en lugar de datetime\n",
    "print(hoy)\n",
    "print(type(hoy))"
   ]
  },
  {
   "cell_type": "markdown",
   "metadata": {},
   "source": [
    "Por otro lado, también se puede importar tan solo una clase del paquete, utilizando la sintaxis:\n",
    "from [paquete] import [clase]"
   ]
  },
  {
   "cell_type": "code",
   "execution_count": null,
   "metadata": {},
   "outputs": [],
   "source": [
    "from datetime import date  \n",
    "hoy = date.today()\n",
    "print(hoy)\n",
    "print(type(hoy))"
   ]
  },
  {
   "cell_type": "markdown",
   "metadata": {},
   "source": [
    "### Atributos y Métodos"
   ]
  },
  {
   "cell_type": "markdown",
   "metadata": {},
   "source": [
    "Los objetos tienen atributos, los cuales se pueden solicitar:"
   ]
  },
  {
   "cell_type": "code",
   "execution_count": null,
   "metadata": {},
   "outputs": [],
   "source": [
    "print(hoy.month) #objeto.atributo\n",
    "print(type(hoy.month))"
   ]
  },
  {
   "cell_type": "code",
   "execution_count": null,
   "metadata": {},
   "outputs": [],
   "source": [
    "print(hoy.year)"
   ]
  },
  {
   "cell_type": "code",
   "execution_count": null,
   "metadata": {},
   "outputs": [],
   "source": [
    "print(hoy.day)"
   ]
  },
  {
   "cell_type": "code",
   "execution_count": null,
   "metadata": {},
   "outputs": [],
   "source": [
    "print(hoy)"
   ]
  },
  {
   "cell_type": "markdown",
   "metadata": {},
   "source": [
    "Además, estos objetos pueden ser modificados. En el caso de la clase \"date\" se modifican con el método replace:"
   ]
  },
  {
   "cell_type": "code",
   "execution_count": null,
   "metadata": {},
   "outputs": [],
   "source": [
    "fecha = fecha.replace(year=2023, month=5, day=1) #objeto.metodo(argumentos)\n",
    "print(fecha)"
   ]
  },
  {
   "cell_type": "markdown",
   "metadata": {},
   "source": [
    "Observe la diferencia entre atributos y métodos, mientras un atributo se obtiene de la sintaxis:\n",
    "    \n",
    "    objeto.atributo\n",
    "\n",
    "Un método se ejecuta con la sintaxis:\n",
    "\n",
    "    objeto.método(argumentos)\n",
    "\n",
    "Podrá inferir que __los métodos son funciones definidas exclusivamente para determinadas clases de objetos.__"
   ]
  },
  {
   "cell_type": "markdown",
   "metadata": {},
   "source": [
    "### Sintaxis\n",
    "\n",
    "Para crear nuevas clases en Python se sigue la siguiente sintaxis:\n",
    "\n",
    "class [nombreDeLaClase]:\n",
    "    \n",
    "    cuerpo\n",
    "    \n",
    "\n",
    "Observe que la creación de clases se realiza con la palabra clave \"class\" y dentro de la estructura se pueden definir atributos y métodos para dicha clase. Todo el cuerpo, al igual que en las otras estructuras, requiere sangrado, el mismo que delimita dónde se termina de definir la clase.\n",
    "\n",
    "A continuación se creará la clase \"Cuadrado\", la primera función que se define es el inicializador \"__init__\""
   ]
  },
  {
   "cell_type": "code",
   "execution_count": null,
   "metadata": {},
   "outputs": [],
   "source": [
    "class cuadrado:\n",
    "        \n",
    "    # la función __init__ permite la construcción de objetos.\n",
    "    def __init__(self, dato_lado): \n",
    "        # el argumento self hace referencia al objeto en sí (a sí mismo)\n",
    "        self._lado = dato_lado        \n",
    "        # objeto.atributo\n",
    "        # se define el atributo lado\n",
    "    "
   ]
  },
  {
   "cell_type": "code",
   "execution_count": null,
   "metadata": {},
   "outputs": [],
   "source": [
    "cuadrado1 = cuadrado(dato_lado=5)"
   ]
  },
  {
   "cell_type": "code",
   "execution_count": null,
   "metadata": {},
   "outputs": [],
   "source": [
    "print(cuadrado1)"
   ]
  },
  {
   "cell_type": "code",
   "execution_count": null,
   "metadata": {},
   "outputs": [],
   "source": [
    "print(type(cuadrado1))"
   ]
  },
  {
   "cell_type": "code",
   "execution_count": null,
   "metadata": {},
   "outputs": [],
   "source": [
    "print(cuadrado1._lado) #objeto.lado"
   ]
  },
  {
   "cell_type": "code",
   "execution_count": null,
   "metadata": {},
   "outputs": [],
   "source": [
    "cuadrado2 = cuadrado(7)"
   ]
  },
  {
   "cell_type": "code",
   "execution_count": null,
   "metadata": {},
   "outputs": [],
   "source": [
    "print(cuadrado2._lado)"
   ]
  },
  {
   "cell_type": "markdown",
   "metadata": {},
   "source": [
    "Existen atributos comunes para todos los objetos, pero a la vez atributos únicos que identifican al objeto. Estos atributos se pueden modificar utilizando funciones que se hayan definido con anticipación."
   ]
  },
  {
   "cell_type": "code",
   "execution_count": null,
   "metadata": {},
   "outputs": [],
   "source": [
    "class cuadrado:\n",
    "    #atributos comunes\n",
    "    _dimension = '2D'         \n",
    "    _vertices = 4 \n",
    "\n",
    "    def __init__(self, lado, color):\n",
    "        #atributos independientes\n",
    "        self._lado = lado\n",
    "        self._color = color"
   ]
  },
  {
   "cell_type": "code",
   "execution_count": null,
   "metadata": {},
   "outputs": [],
   "source": [
    "cuadrado3 = cuadrado(3, \"azul\")"
   ]
  },
  {
   "cell_type": "code",
   "execution_count": null,
   "metadata": {},
   "outputs": [],
   "source": [
    "print(cuadrado3._dimension)"
   ]
  },
  {
   "cell_type": "code",
   "execution_count": null,
   "metadata": {},
   "outputs": [],
   "source": [
    "print(cuadrado3._color)"
   ]
  },
  {
   "cell_type": "code",
   "execution_count": null,
   "metadata": {},
   "outputs": [],
   "source": [
    "print(cuadrado3._vertices)"
   ]
  },
  {
   "cell_type": "code",
   "execution_count": null,
   "metadata": {},
   "outputs": [],
   "source": [
    "print(cuadrado3._lado)"
   ]
  },
  {
   "cell_type": "code",
   "execution_count": null,
   "metadata": {},
   "outputs": [],
   "source": [
    "cuadrado4 = cuadrado(4, \"celeste\")"
   ]
  },
  {
   "cell_type": "code",
   "execution_count": null,
   "metadata": {},
   "outputs": [],
   "source": [
    "cuadrado4._vertices"
   ]
  },
  {
   "cell_type": "markdown",
   "metadata": {},
   "source": [
    "Hasta ahora solo se han definido atributos, a continuación se definirán métodos. Podrá observar que para definir métodos se utilizan las mismas reglas utilizadas para definir funciones"
   ]
  },
  {
   "cell_type": "code",
   "execution_count": null,
   "metadata": {},
   "outputs": [],
   "source": [
    "# Se pueden crear metodos (funciones) para la clase\n",
    "\n",
    "class cuadrado:\n",
    "    #atributos comunes\n",
    "    _dimension = '2D'         \n",
    "    _vertices = 4 \n",
    "    \n",
    "    #def __new__(cls, lado, color):\n",
    "        #self  = object.__new__(cls)\n",
    "        #self._lado = lado\n",
    "        #self._color = color\n",
    "        #self._area = lado**2\n",
    "        #return self\n",
    "    \n",
    "    def __init__(self, lado, color):\n",
    "        #atributos independientes\n",
    "        self._lado = lado\n",
    "        self._color = color\n",
    "        self._area = lado**2\n",
    "\n",
    "        \n",
    "    # se pueden crear nuevos metodos para la clase\n",
    "    # metodos para modificar un objeto\n",
    "    def lado(self, nuevo_lado):\n",
    "        self._lado = nuevo_lado\n",
    "        self._area = nuevo_lado**2\n",
    "        print(\"se modifico la medida del lado a {}\".format(self._lado))\n",
    "    \n",
    "    # metodos que permiten la interaccion entre objetos de la misma clase\n",
    "    def suma_areas(cuadrado1, cuadrado2): \n",
    "        suma = cuadrado1._area + cuadrado2._area \n",
    "        print(\"La suma de las areas de los cuadrados es {} \".format(\n",
    "            suma))\n",
    "    \n",
    "    def suma_areas2(self, cuadrado0):\n",
    "        suma = cuadrado0._area + self._area \n",
    "        print(\"La suma de las areas de los cuadrados es {} \".format(\n",
    "            suma))"
   ]
  },
  {
   "cell_type": "code",
   "execution_count": null,
   "metadata": {},
   "outputs": [],
   "source": [
    "cuadrado5 = cuadrado(10, \"rojo\")"
   ]
  },
  {
   "cell_type": "code",
   "execution_count": null,
   "metadata": {},
   "outputs": [],
   "source": [
    "print(cuadrado5._lado)"
   ]
  },
  {
   "cell_type": "code",
   "execution_count": null,
   "metadata": {},
   "outputs": [],
   "source": [
    "cuadrado5.lado(15)"
   ]
  },
  {
   "cell_type": "code",
   "execution_count": null,
   "metadata": {},
   "outputs": [],
   "source": [
    "print(cuadrado5._lado)"
   ]
  },
  {
   "cell_type": "code",
   "execution_count": null,
   "metadata": {},
   "outputs": [],
   "source": [
    "cuadrado6 = cuadrado(12, \"amarillo\")"
   ]
  },
  {
   "cell_type": "code",
   "execution_count": null,
   "metadata": {},
   "outputs": [],
   "source": [
    "print(cuadrado6._lado)"
   ]
  },
  {
   "cell_type": "code",
   "execution_count": null,
   "metadata": {},
   "outputs": [],
   "source": [
    "cuadrado.suma_areas(cuadrado5, cuadrado6)"
   ]
  },
  {
   "cell_type": "code",
   "execution_count": null,
   "metadata": {},
   "outputs": [],
   "source": [
    "cuadrado5.suma_areas2(cuadrado6)"
   ]
  },
  {
   "cell_type": "markdown",
   "metadata": {},
   "source": [
    "Una función bastante útil es \"__str__\" ya que permite documentar o nombrar a cada objeto."
   ]
  },
  {
   "cell_type": "code",
   "execution_count": null,
   "metadata": {},
   "outputs": [],
   "source": [
    "class cuadrado:\n",
    "    #atributos comunes\n",
    "    _dimension = '2D'         \n",
    "    _vertices = 4 \n",
    "\n",
    "    def __init__(self, lado, color):\n",
    "        #atributos independientes\n",
    "        self._lado = lado\n",
    "        self._color = color\n",
    "        self._area = lado**2\n",
    "\n",
    "        \n",
    "    # se pueden crear nuevos metodos para la clase\n",
    "    # metodos para modificar un objeto\n",
    "    def lado(self, nuevo_lado):\n",
    "        self._lado = nuevo_lado\n",
    "        self._area = nuevo_lado**2\n",
    "        print(\"se modifico la medida del lado a {}\".format(self._lado))\n",
    "    \n",
    "    # metodos que permiten la interaccion entre objetos de la misma clase\n",
    "    def suma_areas(cuadrado1, cuadrado2): \n",
    "        suma = cuadrado1._area + cuadrado2._area \n",
    "        print(\"La suma de las areas de los cuadrados es {} \".format(\n",
    "            suma))\n",
    "\n",
    "    def __str__(self):\n",
    "        return \"dimension: {}, vertices: {}, color: {}, lado: {}, area: {}\".format(\n",
    "                self._dimension,self._vertices, self._color, self._lado, \n",
    "                self._area)"
   ]
  },
  {
   "cell_type": "code",
   "execution_count": null,
   "metadata": {},
   "outputs": [],
   "source": [
    "cuadrado7 = cuadrado(17, \"verde\")"
   ]
  },
  {
   "cell_type": "markdown",
   "metadata": {},
   "source": [
    "Observe que al imprimir en pantalla el objeto \"cuadrado7\" se obtiene lo especificado en la función \"__str__\""
   ]
  },
  {
   "cell_type": "code",
   "execution_count": null,
   "metadata": {},
   "outputs": [],
   "source": [
    "print(cuadrado7)"
   ]
  },
  {
   "cell_type": "markdown",
   "metadata": {},
   "source": [
    "Lo cual no sucede con los objetos creados cuando aún no se había definido dicha función."
   ]
  },
  {
   "cell_type": "code",
   "execution_count": null,
   "metadata": {},
   "outputs": [],
   "source": [
    "print(cuadrado6)"
   ]
  },
  {
   "cell_type": "markdown",
   "metadata": {},
   "source": [
    "Observe otro ejemplo. En este caso se define una clase denominada auto:"
   ]
  },
  {
   "cell_type": "code",
   "execution_count": null,
   "metadata": {},
   "outputs": [],
   "source": [
    "# Se creará una clase auto\n",
    "\n",
    "class auto:\n",
    "\n",
    "    ruedas = 4\n",
    "    puertas = 4\n",
    "    estado = None\n",
    "\n",
    "    def __init__(self, color_auto, marca_auto, ejes_auto, cilindros_auto):\n",
    "        self.color = color_auto\n",
    "        self.marca = marca_auto\n",
    "        self.ejes = ejes_auto\n",
    "        self.cilindros = cilindros_auto\n",
    "    \n",
    "    def iniciar_recorrido(self):\n",
    "        print(\"El auto se ha encendido\")\n",
    "        self.estado = \"Encendido\" "
   ]
  },
  {
   "cell_type": "code",
   "execution_count": null,
   "metadata": {},
   "outputs": [],
   "source": [
    "miAuto = auto(\"azul\", \"Toyota\", 1, 3)"
   ]
  },
  {
   "cell_type": "code",
   "execution_count": null,
   "metadata": {},
   "outputs": [],
   "source": [
    "print(miAuto.cilindros)"
   ]
  },
  {
   "cell_type": "code",
   "execution_count": null,
   "metadata": {},
   "outputs": [],
   "source": [
    "print(miAuto.color)"
   ]
  },
  {
   "cell_type": "code",
   "execution_count": null,
   "metadata": {},
   "outputs": [],
   "source": [
    "miAuto.iniciar_recorrido()"
   ]
  },
  {
   "cell_type": "code",
   "execution_count": null,
   "metadata": {},
   "outputs": [],
   "source": [
    "print(miAuto.estado)"
   ]
  },
  {
   "cell_type": "code",
   "execution_count": null,
   "metadata": {},
   "outputs": [],
   "source": [
    "auto2 = auto(\"verde\", \"Toyota\", 1, 3)"
   ]
  },
  {
   "cell_type": "code",
   "execution_count": null,
   "metadata": {},
   "outputs": [],
   "source": [
    "auto2.iniciar_recorrido()"
   ]
  },
  {
   "cell_type": "code",
   "execution_count": null,
   "metadata": {},
   "outputs": [],
   "source": [
    "print(auto2.estado)"
   ]
  },
  {
   "cell_type": "code",
   "execution_count": null,
   "metadata": {},
   "outputs": [],
   "source": [
    "auto3 = auto(\"verde\", \"Toyota\", 1, 3)"
   ]
  },
  {
   "cell_type": "code",
   "execution_count": null,
   "metadata": {},
   "outputs": [],
   "source": [
    "print(auto3.estado)"
   ]
  },
  {
   "cell_type": "markdown",
   "metadata": {},
   "source": [
    "Tome en cuenta que al crear nuevos métodos tome en cuenta que los nombres de los métodos no pueden ser los mismos que los nombres de las variables."
   ]
  },
  {
   "cell_type": "code",
   "execution_count": null,
   "metadata": {},
   "outputs": [],
   "source": []
  },
  {
   "cell_type": "markdown",
   "metadata": {},
   "source": [
    "### Herencia"
   ]
  },
  {
   "cell_type": "markdown",
   "metadata": {},
   "source": [
    "El concepto de herencia en programación permite que nuevas clases __reutilicen__ (hereden) los atributos y métodos de clases que han sido definidas con anticipación."
   ]
  },
  {
   "cell_type": "code",
   "execution_count": null,
   "metadata": {},
   "outputs": [],
   "source": [
    "# La clase persona será una clase que más adelante compartirá sus funciones\n",
    "class Persona(object):\n",
    "    \"\"\"Clase que representa una Persona\"\"\"\n",
    "\n",
    "    def __init__(self, cedula, nombre, apellido):\n",
    "        \"\"\"Constructor de clase Persona\"\"\"\n",
    "        self.cedula = cedula\n",
    "        self.nombre = nombre\n",
    "        self.apellido = apellido\n",
    "\n",
    "    def presentacion(self):\n",
    "        \"\"\"Devuelve una cadena representativa de Persona\"\"\"\n",
    "        return \"{}, {} {}.\".format(self.cedula, self.nombre, self.apellido)"
   ]
  },
  {
   "cell_type": "code",
   "execution_count": null,
   "metadata": {},
   "outputs": [],
   "source": [
    "persona1 = Persona(\"V-13458796\", \"Leonardo\", \"Caballero\")"
   ]
  },
  {
   "cell_type": "code",
   "execution_count": null,
   "metadata": {},
   "outputs": [],
   "source": [
    "print(persona1.apellido)"
   ]
  },
  {
   "cell_type": "code",
   "execution_count": null,
   "metadata": {},
   "outputs": [],
   "source": [
    "print(persona1.presentacion())"
   ]
  },
  {
   "cell_type": "markdown",
   "metadata": {},
   "source": [
    "Una nueva clase hereda de otra mediante dos pasos en el código:\n",
    "1. Pasar como argumento de la nueva clase a la clase base\n",
    "2. Utilizar el inicializador o constructor de la primera clase dentro del constructor de la segunda clase "
   ]
  },
  {
   "cell_type": "code",
   "execution_count": null,
   "metadata": {},
   "outputs": [],
   "source": [
    "# La clase supervisor heredará los atributos y funciones de la clase persona\n",
    "class Supervisor(Persona): #PASO 1\n",
    "    \"\"\"Clase que representa a un Supervisor\"\"\"\n",
    "\n",
    "    def __init__(self, cedula, nombre, apellido, rol):\n",
    "        \"\"\"Constructor de clase Supervisor\"\"\"\n",
    "\n",
    "        # Invoca al constructor de clase Persona\n",
    "        Persona.__init__(self, cedula, nombre, apellido) # PASO 02\n",
    "        # Recuerde pedir los argumentos suficientes en el constructor\n",
    "        \n",
    "        # Nuevos atributos\n",
    "        self.rol = rol\n",
    "        self.tareas = ['Supervisar','Informar']\n",
    "\n",
    "    def presentacion_sup(self):\n",
    "        \"\"\"Devuelve una cadena representativa al Supervisor\"\"\"\n",
    "        return \"{} {}, rol: {}, sus tareas: {}.\".format(\n",
    "            self.nombre, self.apellido, \n",
    "            self.rol, self.consulta_tareas())\n",
    "\n",
    "    def consulta_tareas(self):\n",
    "        \"\"\"Mostrar las tareas del Supervisor\"\"\"\n",
    "        return ','.join(self.tareas)"
   ]
  },
  {
   "cell_type": "code",
   "execution_count": null,
   "metadata": {},
   "outputs": [],
   "source": [
    "supervisor1 = Supervisor(\"V-16987456\", \"Jean\", \"Paz\", \"S3\")"
   ]
  },
  {
   "cell_type": "code",
   "execution_count": null,
   "metadata": {},
   "outputs": [],
   "source": [
    "print(supervisor1.presentacion())"
   ]
  },
  {
   "cell_type": "code",
   "execution_count": null,
   "metadata": {},
   "outputs": [],
   "source": [
    "print(supervisor1.presentacion_sup())"
   ]
  },
  {
   "cell_type": "code",
   "execution_count": null,
   "metadata": {},
   "outputs": [],
   "source": [
    "print(supervisor1.tareas)"
   ]
  },
  {
   "cell_type": "code",
   "execution_count": null,
   "metadata": {},
   "outputs": [],
   "source": [
    "persona2 = Persona(\"G-29855791\", \"Ana\", \"Reto\")"
   ]
  },
  {
   "cell_type": "code",
   "execution_count": null,
   "metadata": {},
   "outputs": [],
   "source": [
    "print(persona2.presentacion())"
   ]
  },
  {
   "cell_type": "markdown",
   "metadata": {},
   "source": [
    "Veamos otro ejemplo. En este caso se heredan los atributos y métodos definidos en la clase \"Cuadrilatero\" a las clases \"Cuadrado\" y \"Rectangulo\". Cada una de estas dos clases se ha adapatado para definir un método que calcula el área en cada caso particular de los cuadrados o rectángulos."
   ]
  },
  {
   "cell_type": "markdown",
   "metadata": {},
   "source": [
    "Observe también que se ha utilizado la función especial __new__ en lugar de __init__. La función __new__ se denomina constructor, permite construir un objeto (instancia) mientras que __init__ realiza las tareas de inicialización después de creado el objeto. Como habrá observado, la función __new__ se puede omitir y pasar directamente a __init__ como en los ejemplos anteriores. La función __new__ se emplea para establecer condiciones antes de crear un objeto, en este caso se ha empleado para establecer la condición \"los lados deben ser numeros enteros\". Tome en cuenta que esta función requiere que se retorne el objeto self."
   ]
  },
  {
   "cell_type": "code",
   "execution_count": null,
   "metadata": {},
   "outputs": [],
   "source": [
    "class Cuadrilatero:    \n",
    "    \n",
    "    _n_lados = 4\n",
    "    _dimension = \"2D\"\n",
    "    \n",
    "    \n",
    "    def __new__(cls, lado1, lado2, lado3, lado4):\n",
    "\n",
    "        for x in [lado1, lado2, lado3, lado4]:\n",
    "                    # la funcion isinstance permite verificar si \n",
    "                    # un objeto es de una clase en especifico\n",
    "            if  isinstance(x,int) == False:\n",
    "                raise TypeError (\"se admiten solo numeros enteros\")\n",
    "            \n",
    "        self = object.__new__(cls)\n",
    "\n",
    "        self._lado1 = lado1\n",
    "        self._lado2 = lado2\n",
    "        self._lado3 = lado3\n",
    "        self._lado4 = lado4\n",
    "\n",
    "        return self        \n",
    "    \n",
    "    \n",
    "    def perimetro(self):\n",
    "        self._perimetro = self._lado1 + self._lado2 + \\\n",
    "                            self._lado3 + self._lado4\n",
    "        return \"el perimetro es {} unidades\".format(self._perimetro)\n",
    "        # la barra \"\\\"  permite continuar la operación en la siguiente\n",
    "        # linea "
   ]
  },
  {
   "cell_type": "code",
   "execution_count": null,
   "metadata": {},
   "outputs": [],
   "source": [
    "c = Cuadrilatero(1,2,1,2)"
   ]
  },
  {
   "cell_type": "code",
   "execution_count": null,
   "metadata": {},
   "outputs": [],
   "source": [
    "c.perimetro()"
   ]
  },
  {
   "cell_type": "code",
   "execution_count": null,
   "metadata": {},
   "outputs": [],
   "source": [
    "# si define algún lado como flotante, obtendra un TypeError\n",
    "c = Cuadrilatero(1,2,1,2.4)"
   ]
  },
  {
   "cell_type": "code",
   "execution_count": null,
   "metadata": {},
   "outputs": [],
   "source": [
    "class Rectangulo(Cuadrilatero): #Paso1\n",
    "    \n",
    "    def __new__(cls, base, altura):\n",
    "        self = Cuadrilatero.__new__(cls, base, altura, base, altura) #Paso2\n",
    "        return self\n",
    "    \n",
    "    def area(self): \n",
    "        base = self._lado1\n",
    "        altura = self._lado2\n",
    "        self._area = base*altura\n",
    "        return \"el area es {} unidades\".format(self._area)"
   ]
  },
  {
   "cell_type": "code",
   "execution_count": null,
   "metadata": {},
   "outputs": [],
   "source": [
    "class Cuadrado(Cuadrilatero):\n",
    "    \n",
    "    def __new__(cls, lado):\n",
    "        self = Cuadrilatero.__new__(cls, lado, lado, lado, lado)\n",
    "        return self\n",
    "    \n",
    "    def area(self):\n",
    "        lado = self._lado1\n",
    "        self._area = lado**2\n",
    "        #area = lado **2\n",
    "        return \"el area es {} unidades\".format(self._area)\n",
    "        #return \"el area es {} unidades\".format(area)"
   ]
  },
  {
   "cell_type": "code",
   "execution_count": null,
   "metadata": {},
   "outputs": [],
   "source": [
    "rectangulo1 = Rectangulo(15,20)"
   ]
  },
  {
   "cell_type": "code",
   "execution_count": null,
   "metadata": {},
   "outputs": [],
   "source": [
    "print(rectangulo1.perimetro())"
   ]
  },
  {
   "cell_type": "code",
   "execution_count": null,
   "metadata": {},
   "outputs": [],
   "source": [
    "print(rectangulo1.area())"
   ]
  },
  {
   "cell_type": "code",
   "execution_count": null,
   "metadata": {},
   "outputs": [],
   "source": [
    "cuadrado1 = Cuadrado(8)"
   ]
  },
  {
   "cell_type": "code",
   "execution_count": null,
   "metadata": {},
   "outputs": [],
   "source": [
    "print(cuadrado1.perimetro())"
   ]
  },
  {
   "cell_type": "code",
   "execution_count": null,
   "metadata": {},
   "outputs": [],
   "source": [
    "print(cuadrado1.area())"
   ]
  },
  {
   "cell_type": "code",
   "execution_count": null,
   "metadata": {},
   "outputs": [],
   "source": [
    "cuadrado1._area"
   ]
  },
  {
   "cell_type": "markdown",
   "metadata": {},
   "source": [
    "#### Blogs para repasar los conceptos\n",
    "\n",
    "#https://docs.python.org/es/3/tutorial/classes.html\n",
    "\n",
    "#https://pythones.net/clases-y-metodos-python-oop/\n",
    "\n",
    "#https://entrenamiento-python-basico.readthedocs.io/es/latest/leccion9/poo.html\n",
    "\n",
    "#https://entrenamiento-python-basico.readthedocs.io/es/latest/leccion9/herencia.html"
   ]
  }
 ],
 "metadata": {
  "kernelspec": {
   "display_name": "Python 3",
   "language": "python",
   "name": "python3"
  },
  "language_info": {
   "codemirror_mode": {
    "name": "ipython",
    "version": 3
   },
   "file_extension": ".py",
   "mimetype": "text/x-python",
   "name": "python",
   "nbconvert_exporter": "python",
   "pygments_lexer": "ipython3",
   "version": "3.8.5"
  }
 },
 "nbformat": 4,
 "nbformat_minor": 2
}
