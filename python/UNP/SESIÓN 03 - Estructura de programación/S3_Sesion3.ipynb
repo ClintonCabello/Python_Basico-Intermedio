{
 "cells": [
  {
   "cell_type": "markdown",
   "metadata": {
    "colab_type": "text",
    "id": "J8sOjq4auugN"
   },
   "source": [
    "# ESTRUCTURAS DE CONTROL\n",
    "\n",
    "# if - elif - else"
   ]
  },
  {
   "cell_type": "code",
   "execution_count": null,
   "metadata": {
    "colab": {},
    "colab_type": "code",
    "id": "8j_db5L-sayQ"
   },
   "outputs": [],
   "source": [
    "# if\n",
    "\n",
    "edad = 60\n",
    "\n",
    "print('1.Fuera del if')\n",
    "\n",
    "if edad >= 60:\n",
    "    print('Adulto mayor')  \n",
    "    print('Dentro del if')\n",
    "print('2.Fuera del if')"
   ]
  },
  {
   "cell_type": "code",
   "execution_count": null,
   "metadata": {
    "colab": {},
    "colab_type": "code",
    "id": "aEZiz5y4tvi6"
   },
   "outputs": [],
   "source": [
    "# if - else\n",
    "\n",
    "edad = 15\n",
    "\n",
    "if edad >= 60:\n",
    "  print(\"Adulto mayor\")\n",
    "else:\n",
    "  print(\"Adulto\")"
   ]
  },
  {
   "cell_type": "code",
   "execution_count": null,
   "metadata": {
    "colab": {},
    "colab_type": "code",
    "id": "89bdSQNvtx74"
   },
   "outputs": [],
   "source": [
    "edad = 35\n",
    " \n",
    "if edad >= 60:\n",
    "  print(\"Adulto mayor\")\n",
    "else:\n",
    "  if edad <= 25:\n",
    "    print(\"Joven\")\n",
    "  else:\n",
    "    print(\"Adulto\")"
   ]
  },
  {
   "cell_type": "code",
   "execution_count": null,
   "metadata": {
    "colab": {},
    "colab_type": "code",
    "id": "baHX5UWMt0Xv"
   },
   "outputs": [],
   "source": [
    "# if - elif - else\n",
    "\n",
    "edad = 45\n",
    "\n",
    "if edad >= 60:\n",
    "  print(\"Adulto mayor\")\n",
    "elif edad <= 25:\n",
    "  print(\"Joven\")\n",
    "elif edad <= 40:\n",
    "  print(\"Adulto joven\")\n",
    "else:\n",
    "  print(\"Adulto\")"
   ]
  },
  {
   "cell_type": "markdown",
   "metadata": {
    "colab_type": "text",
    "id": "XtWMgZwwu0e7"
   },
   "source": [
    "# for - while"
   ]
  },
  {
   "cell_type": "code",
   "execution_count": 1,
   "metadata": {
    "colab": {},
    "colab_type": "code",
    "id": "brfc5bhQuAjn"
   },
   "outputs": [
    {
     "name": "stdout",
     "output_type": "stream",
     "text": [
      "2015\n",
      "2016\n",
      "2017\n",
      "2018\n",
      "2019\n",
      "2020\n",
      "2021\n",
      "2022\n"
     ]
    }
   ],
   "source": [
    "#while\n",
    "\n",
    "año = 2015\n",
    "\n",
    "while año <= 2022:\n",
    "  print(año)\n",
    "  año += 1"
   ]
  },
  {
   "cell_type": "code",
   "execution_count": null,
   "metadata": {
    "colab": {},
    "colab_type": "code",
    "id": "yriAOnJ62vL0"
   },
   "outputs": [],
   "source": [
    "genero = input('Ingrese el genero:') # G\n",
    "        # G != M   and      G != F\n",
    "while genero != 'M' and genero != 'F':\n",
    "  genero = input('Ingrese el genero: ')"
   ]
  },
  {
   "cell_type": "code",
   "execution_count": null,
   "metadata": {},
   "outputs": [],
   "source": []
  },
  {
   "cell_type": "code",
   "execution_count": null,
   "metadata": {
    "colab": {},
    "colab_type": "code",
    "id": "h6W43M-C2vUD"
   },
   "outputs": [],
   "source": [
    "while 1:\n",
    "  genero = input('Ingrese el genero: ')\n",
    "  if genero == 'M' or genero == 'F':\n",
    "    break"
   ]
  },
  {
   "cell_type": "code",
   "execution_count": null,
   "metadata": {
    "colab": {},
    "colab_type": "code",
    "id": "6110jz1nt27t"
   },
   "outputs": [],
   "source": [
    "# while True\n",
    "\n",
    "while True:\n",
    "\n",
    "  ingreso = int(input('Ingrese el ingreso mensual en soles:'))\n",
    "  \n",
    "  if ingreso > 0:\n",
    "    print('Ingreso válido')\n",
    "    break\n",
    "  elif ingreso == 0:\n",
    "    print('Dato perdido')\n",
    "    break\n",
    "  else:\n",
    "    print('Ingreso inválido')\n",
    "    print('Ingrese nuevamente')"
   ]
  },
  {
   "cell_type": "code",
   "execution_count": null,
   "metadata": {
    "colab": {},
    "colab_type": "code",
    "id": "WXjFDSXYt6_6"
   },
   "outputs": [],
   "source": [
    "#for\n",
    "\n",
    "for i in range(10):\n",
    "  print(i)"
   ]
  },
  {
   "cell_type": "code",
   "execution_count": null,
   "metadata": {
    "colab": {},
    "colab_type": "code",
    "id": "JTg-QJLFuLvz"
   },
   "outputs": [],
   "source": [
    "for c in 'Hola mundo!':\n",
    "  print(c)"
   ]
  },
  {
   "cell_type": "code",
   "execution_count": null,
   "metadata": {},
   "outputs": [],
   "source": [
    "num = int(input('Ingresa la tabla de multiplicar: '))\n",
    "\n",
    "for i in range(1,12)"
   ]
  },
  {
   "cell_type": "markdown",
   "metadata": {
    "colab_type": "text",
    "id": "wGmZzE7KuXpI"
   },
   "source": [
    "Imprimir la tabla de multiplicación de un número n desde el 1 al 10."
   ]
  },
  {
   "cell_type": "code",
   "execution_count": null,
   "metadata": {
    "colab": {},
    "colab_type": "code",
    "id": "QzfSNV_WudeJ"
   },
   "outputs": [],
   "source": [
    "print(12, '*', 1, '=', 12*1)\n",
    "print(12, '*', 2, '=', 12*2)\n",
    "print(12, '*', 3, '=', 12*3)\n",
    "print(12, '*', 4, '=', 12*4)\n",
    "print(12, '*', 5, '=', 12*5)"
   ]
  },
  {
   "cell_type": "code",
   "execution_count": null,
   "metadata": {
    "colab": {},
    "colab_type": "code",
    "id": "zt35ToNK02OI"
   },
   "outputs": [],
   "source": [
    "n = 13\n",
    "\n",
    "for i in range(1, 11):\n",
    "  print(n, '*', i, '=', n*i)"
   ]
  },
  {
   "cell_type": "markdown",
   "metadata": {
    "colab_type": "text",
    "id": "jPtCmO6nSHGQ"
   },
   "source": [
    "# Ejercicios a resolver - Estructura Control\n",
    "\n"
   ]
  },
  {
   "cell_type": "markdown",
   "metadata": {
    "colab_type": "text",
    "id": "m6BZ_n08gTgN"
   },
   "source": [
    "1. Escribir un programa que calcule el monto final (préstamo + interés) a pagar considerando:\n",
    "- Solicitar el monto del préstamo **M**.\n",
    "- Si se trata de un **colaborador** del banco, la tasa es del 10.5%\n",
    "- Si el cliente es del **segmento** *VIP* la tasa será del 13% si tiene **cuenta** de ahorro,\n",
    "  de lo contrario la tasa es del 16%\n",
    "- En otros casos, la tasa es del 18.5%"
   ]
  },
  {
   "cell_type": "code",
   "execution_count": null,
   "metadata": {
    "colab": {},
    "colab_type": "code",
    "id": "m3oRE44qRel_"
   },
   "outputs": [],
   "source": [
    "#Ingrese su solución aquí"
   ]
  },
  {
   "cell_type": "markdown",
   "metadata": {
    "colab_type": "text",
    "id": "EY5qvyVcTFIk"
   },
   "source": [
    "2. Solicitar a, b, c (lados de un triangulo) y devolver si se trata de un escaleno, un isósceles o un equilátero."
   ]
  },
  {
   "cell_type": "code",
   "execution_count": null,
   "metadata": {
    "colab": {},
    "colab_type": "code",
    "id": "wlP42oApTCBu"
   },
   "outputs": [],
   "source": [
    "#Ingrese su solución aquí"
   ]
  },
  {
   "cell_type": "markdown",
   "metadata": {
    "colab_type": "text",
    "id": "fUtMBa6zS-qW"
   },
   "source": [
    "3. Ingresar el n y mostrar todos los números primos del 2 al n."
   ]
  },
  {
   "cell_type": "code",
   "execution_count": null,
   "metadata": {
    "colab": {},
    "colab_type": "code",
    "id": "UQIyY5B4TIAk"
   },
   "outputs": [],
   "source": [
    "#Ingrese su solución aquí"
   ]
  }
 ],
 "metadata": {
  "colab": {
   "collapsed_sections": [
    "J8sOjq4auugN",
    "XtWMgZwwu0e7",
    "jPtCmO6nSHGQ"
   ],
   "name": "Sesión02_FDP_OG5_Estructuras_Control.ipynb",
   "provenance": []
  },
  "kernelspec": {
   "display_name": "Python 3 (ipykernel)",
   "language": "python",
   "name": "python3"
  },
  "language_info": {
   "codemirror_mode": {
    "name": "ipython",
    "version": 3
   },
   "file_extension": ".py",
   "mimetype": "text/x-python",
   "name": "python",
   "nbconvert_exporter": "python",
   "pygments_lexer": "ipython3",
   "version": "3.11.2"
  }
 },
 "nbformat": 4,
 "nbformat_minor": 1
}
