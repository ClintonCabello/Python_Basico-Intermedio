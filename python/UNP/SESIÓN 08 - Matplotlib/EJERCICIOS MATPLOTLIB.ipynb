{
 "cells": [
  {
   "cell_type": "markdown",
   "metadata": {},
   "source": [
    "# Ejercicios de Matplotlib"
   ]
  },
  {
   "cell_type": "markdown",
   "metadata": {},
   "source": [
    "### Ejercicio 1\n",
    "Escribir un programa que pregunte al usuario por las ventas de un rango de años y muestre por pantalla un diagrama de líneas con la evolución de las ventas."
   ]
  },
  {
   "cell_type": "code",
   "execution_count": null,
   "metadata": {},
   "outputs": [],
   "source": [
    "import matplotlib.pyplot as plt\n",
    "# Preguntamos por el año inicial\n",
    "inicio = int(input('Introduce el año inicial: '))\n",
    "# Preguntamos por el año final\n",
    "fin = int(input('Introduce el año final: '))\n",
    "# Definimos un diccionario vacío para guardar las ventas de cada año\n",
    "ventas = {}\n",
    "# Bucle iterativo para preguntar las ventas de cada año y guardarlas en el diccionario\n",
    "# i toma como valores los años desde el año de inicio hasta el año final\n",
    "for i in range(inicio, fin+1):\n",
    "    # Preguntamos por las ventas del año i y las guardamos en el diccionario con la clave el año y el valor las ventas\n",
    "    ventas[i] = float(input('Introduce las ventas del año ' + str(i) +': '))\n",
    "# Definimos la figura y los ejes del gráfico con Matplotlib\n",
    "fig, ax = plt.subplots()\n",
    "# Dibujamos la línea con las ventas a partir del diccionario\n",
    "ax.plot(ventas.keys(), ventas.values())\n",
    "# Mostarmos el gráfico por pantalla\n",
    "plt.show()"
   ]
  },
  {
   "cell_type": "markdown",
   "metadata": {},
   "source": [
    "### Ejercicio 2\n",
    "Escribir una función que reciba una diccionario con las notas de las asignaturas de un curso y una cadena con el nombre de un color y devuelva un diagrama de barras de las notas en el color dado."
   ]
  },
  {
   "cell_type": "code",
   "execution_count": null,
   "metadata": {},
   "outputs": [],
   "source": [
    "import matplotlib.pyplot as plt \n",
    "\n",
    "def diagrama_barras_notas(notas, color):\n",
    "    '''Función que construye un diagrama de barras con las notas de las asignaturas de un curso.\n",
    "    \n",
    "    Parámetros:\n",
    "        - notas: Es un diccionario formado por pares con clave el nombre de la asignaturay valor la nota.\n",
    "        - color: Es una cadena con el color de las barras.\n",
    "    \n",
    "    Salida:\n",
    "        - Un diagrama de barras con las notas del diccionario dado en el color dado.\n",
    "    '''\n",
    "    # Definimos la figura y los ejes del gráfico con Matplotlib\n",
    "    fig, ax = plt.subplots()\n",
    "    # Dibujamos las barras con las notas a partir del diccionario\n",
    "    ax.bar(notas.keys(), notas.values(), color = color)\n",
    "    # Devolvemos un objeto con los ejes y las barras que contienen\n",
    "    return ax\n",
    "\n",
    "notas = {'Programación':9, 'Mates':6.5, 'Economía':4, 'Historia': 8}\n",
    "diagrama_barras_notas(notas, 'orange')\n",
    "plt.show()"
   ]
  },
  {
   "cell_type": "markdown",
   "metadata": {},
   "source": [
    "### Ejercicio 3\n",
    "Escribir una función que reciba una serie de Pandas con las notas de los alumnos de un curso y devuelva un diagrama de cajas con las notas. El diagrama debe tener el título “Distribución de notas”."
   ]
  },
  {
   "cell_type": "code",
   "execution_count": null,
   "metadata": {},
   "outputs": [],
   "source": [
    "import pandas as pd \n",
    "import matplotlib.pyplot as plt \n",
    "\n",
    "def diagrama_caja_notas(notas):\n",
    "    '''Función que construye un diagrama de cajas con las notas de los alumnos de un curso.\n",
    "    \n",
    "    Parámetros:\n",
    "        - notas: Es una serie de Pandas con las notas de los alumnos.\n",
    "    '''\n",
    "    # Definimos la figura y los ejes del gráfico con Matplotlib\n",
    "    fig, ax = plt.subplots()\n",
    "    # Dibujamos los sectores con las verntas a partir de la serie\n",
    "    notas.plot(kind = 'box', ax = ax)\n",
    "    # Eliminamos las marcas del eje x \n",
    "    plt.xticks([])\n",
    "    # \n",
    "    # Añadimos el título\n",
    "    plt.title('Distribución de notas')\n",
    "    # Devolvemos el objeto con los ejes y el gráfico que contienten\n",
    "    return ax\n",
    "\n",
    "notas = [4, 8, 7.5, 6, 5.5, 5.2, 3.5, 7.7, 3.2, 9, 6.8]\n",
    "s_notas = pd.Series(notas)\n",
    "diagrama_caja_notas(s_notas)\n",
    "plt.show()"
   ]
  },
  {
   "cell_type": "markdown",
   "metadata": {},
   "source": [
    "### Ejercicio 4\n",
    "Escribir una función que reciba una serie de Pandas con el número de ventas de un producto durante los meses de un trimestre y un título y cree un diagrama de sectores con las ventas en formato png con el titulo dado. El diagrama debe guardarse en un fichero con formato png y el título dado."
   ]
  },
  {
   "cell_type": "code",
   "execution_count": null,
   "metadata": {},
   "outputs": [],
   "source": [
    "import pandas as pd \n",
    "import matplotlib.pyplot as plt \n",
    "\n",
    "def diagrama_sectores_ventas(ventas, titulo):\n",
    "    '''Función que construye un diagrama de sectores con las ventas de un trimestre y lo guarda con un nombre dado. \n",
    "    \n",
    "    Parámetros:\n",
    "        - ventas: Es una serie de Pandas con las ventas del trimestre, siendo el índice los meses.\n",
    "        - titulo: Es una cadena con el título.\n",
    "    '''\n",
    "    # Definimos la figura y los ejes del gráfico con Matplotlib\n",
    "    fig, ax = plt.subplots()\n",
    "    # Dibujamos los sectores con las verntas a partir de la serie\n",
    "    ventas.plot(kind = 'pie', ax = ax)\n",
    "    # Eliminamos el título del eje y\n",
    "    plt.ylabel('')\n",
    "    # Añadimos el título\n",
    "    plt.title(titulo)\n",
    "    # Guardamos el gráfico con el nombre dado en formato png\n",
    "    plt.savefig(titulo + '.png')\n",
    "    return \n",
    "\n",
    "ventas = {'Enero':200, 'Febrero':240, 'Marzo':310}\n",
    "s_ventas = pd.Series(ventas)\n",
    "diagrama_sectores_ventas(s_ventas, 'Ventas primer trimestre')"
   ]
  },
  {
   "cell_type": "markdown",
   "metadata": {},
   "source": [
    "### Ejercicio 5\n",
    "Escribir una función que reciba una serie de Pandas con el número de ventas de un producto por años y una cadena con el tipo de gráfico a generar (lineas, barras, sectores, areas) y devuelva un diagrama del tipo indicado con la evolución de las ventas por años y con el título “Evolución del número de ventas”."
   ]
  },
  {
   "cell_type": "code",
   "execution_count": null,
   "metadata": {},
   "outputs": [],
   "source": [
    "import pandas as pd \n",
    "import matplotlib.pyplot as plt \n",
    "\n",
    "def diagrama_evolucion_ventas(ventas, tipo):\n",
    "    '''Función que construye un diagrama del tipo indicado con la evolución de las ventas por años.\n",
    "    \n",
    "    Parámetros:\n",
    "        - ventas: Es un dataframe de Pandas con las ventas, siendo el índice los años.\n",
    "        - tipo: Es una cadena con el tipo de gráfico a dibujar: lineas, barras, sectores o areas.\n",
    "\n",
    "    Salida:\n",
    "        Un gráfico del tipo indicado con la evolución de las ventas.\n",
    "    '''\n",
    "    # Definimos un diccionario con los tipos de gráficos\n",
    "    graficos = {'lineas':'line', 'barras':'bar', 'sectores':'pie', 'area':'area'}\n",
    "    # Definimos la figura y los ejes del gráfico con Matplotlib\n",
    "    fig, ax = plt.subplots()\n",
    "    # Dibujamos las series de líneas con los ingresos y los gastos\n",
    "    ventas.plot(kind = graficos[tipo], ax = ax)\n",
    "    # Añadimos el título\n",
    "    plt.title('Evolución del número de ventas')\n",
    "    # Devolvemos el objeto con los ejes y el gráfico que contienten\n",
    "    return ax\n",
    "\n",
    "df_ventas = pd.Series([1200, 840, 1325, 1280, 1500], index = [2000, 2001, 2002, 2003, 2004])\n",
    "diagrama_evolucion_ventas(df_ventas, 'lineas')\n",
    "plt.show()\n",
    "diagrama_evolucion_ventas(df_ventas, 'area')\n",
    "plt.show()\n",
    "diagrama_evolucion_ventas(df_ventas, 'barras')\n",
    "plt.show()\n",
    "diagrama_evolucion_ventas(df_ventas, 'sectores')\n",
    "plt.show()"
   ]
  },
  {
   "cell_type": "markdown",
   "metadata": {},
   "source": [
    "### Ejercicio 6\n",
    "Escribir una función que reciba un dataframe de Pandas con los ingresos y gastos de una empresa por meses y devuelva un diagrama de líneas con dos líneas, una para los ingresos y otra para los gastos. El diagrama debe tener una leyenda identificando la línea de los ingresos y la de los gastos, un título con el nombre “Evolución de ingresos y gastos” y el eje y debe empezar en 0."
   ]
  },
  {
   "cell_type": "code",
   "execution_count": null,
   "metadata": {},
   "outputs": [],
   "source": [
    "import pandas as pd \n",
    "import matplotlib.pyplot as plt \n",
    "\n",
    "def diagrama_lineas_ingresos_gastos(datos):\n",
    "    '''Función que construye un diagrama de lineas con los ingresos y gastos de un cuatrimestre.\n",
    "    \n",
    "    Parámetros:\n",
    "        - datos: Es un dataframe de Pandas con dos columnas, una para los ingresos y otra para los gastos, y como índice los meses.\n",
    "\n",
    "    Salida:\n",
    "        Un gráfico de líneas con los ingresos y los gastos dados.\n",
    "    '''\n",
    "    # Definimos la figura y los ejes del gráfico con Matplotlib\n",
    "    fig, ax = plt.subplots()\n",
    "    # Dibujamos las series de líneas con los ingresos y los gastos\n",
    "    datos.plot(ax = ax)\n",
    "    # Añadimos la escala del eje y\n",
    "    ax.set_ylim([0, max(datos.Ingresos.max(), datos.Gastos.max()) + 500])\n",
    "    # Añadimos el título\n",
    "    plt.title('Evolución de ingresos y gastos')\n",
    "    # Devolvemos el objeto con los ejes y el gráfico que contienten\n",
    "    return ax\n",
    "\n",
    "datos = {'Mes':['Ene', 'Feb', 'Mar', 'Abr'], 'Ingresos':[4500, 5200, 4800, 5300], 'Gastos':[2300, 2450, 2000, 2200]}\n",
    "df_datos = pd.DataFrame(datos).set_index('Mes')\n",
    "print(df_datos)\n",
    "diagrama_lineas_ingresos_gastos(df_datos)\n",
    "plt.show()"
   ]
  },
  {
   "cell_type": "markdown",
   "metadata": {},
   "source": [
    "### Ejercicio 7\n",
    "El fichero bancos.csv contiene las cotizaciones de los principales bancos de España con : Empresa (nombre de la empresa), Apertura (precio de la acción a la apertura de bolsa), Máximo (precio máximo de la acción durante la jornada), Mínimo (precio mínimo de la acción durante la jornada), Cierre (precio de la acción al cierre de bolsa), Volumen (volumen al cierre de bolsa). Construir una función reciba el fichero bancos.csv y cree un diagrama de líneas con las series temporales de las cotizaciones de cierre de cada banco."
   ]
  },
  {
   "cell_type": "code",
   "execution_count": null,
   "metadata": {},
   "outputs": [],
   "source": [
    "import pandas as pd \n",
    "import matplotlib.pyplot as plt \n",
    "\n",
    "def evolucion_cotizacion(datos, variable):\n",
    "    '''Función que construye un diagrama de lineas con la evolución de las cotizaciones de las empresas en bolsa.\n",
    "    \n",
    "    Parámetros:\n",
    "        - datos: Es un dataframe de Pandas con las columnas Empresa, Apertura, Mínimo, Máximo, Cierre, Volumen.\n",
    "        - variable: Es una cadena con el nombre de la columna del dataframe a dibujar.\n",
    "\n",
    "    Salida:\n",
    "        Un gráfico de líneas con las series temporales de las cotizaciones de cierre de cada empresa.\n",
    "    '''\n",
    "    # Definimos la figura y los ejes del gráfico con Matplotlib\n",
    "    fig, ax = plt.subplots()\n",
    "    # Dibujamos las series de cotizaciones por empresa\n",
    "    datos.groupby('Empresa').plot(x = 'Fecha', y = variable, ax = ax)\n",
    "    # Añadimos el título\n",
    "    plt.title('Evolución de las cotizaciones (' + variable + ')')\n",
    "    # Añadimos la legenda\n",
    "    plt.legend(df_datos.groupby('Empresa').groups.keys())\n",
    "    # Devolvemos el objeto con los ejes y el gráfico que contienten\n",
    "    return ax\n",
    "\n",
    "# Creamos un dataframe a partir del fichero csv\n",
    "df_datos = pd.read_csv('bancos.csv')\n",
    "# Convertimos la columna Fecha a formato datetime\n",
    "df_datos[\"Fecha\"] = pd.to_datetime(df_datos[\"Fecha\"])\n",
    "# Llamamos a la función para crear el gráfico\n",
    "evolucion_cotizacion(df_datos, 'Cierre')\n",
    "plt.show()"
   ]
  },
  {
   "cell_type": "code",
   "execution_count": null,
   "metadata": {},
   "outputs": [],
   "source": []
  }
 ],
 "metadata": {
  "kernelspec": {
   "display_name": "Python 3",
   "language": "python",
   "name": "python3"
  },
  "language_info": {
   "codemirror_mode": {
    "name": "ipython",
    "version": 3
   },
   "file_extension": ".py",
   "mimetype": "text/x-python",
   "name": "python",
   "nbconvert_exporter": "python",
   "pygments_lexer": "ipython3",
   "version": "3.8.5"
  }
 },
 "nbformat": 4,
 "nbformat_minor": 4
}
