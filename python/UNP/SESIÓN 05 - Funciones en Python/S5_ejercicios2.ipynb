{
 "cells": [
  {
   "cell_type": "markdown",
   "metadata": {
    "colab_type": "text",
    "id": "i7hN554e-nGg"
   },
   "source": [
    "#  Ejercicios 2: Funciones\n"
   ]
  },
  {
   "cell_type": "markdown",
   "metadata": {
    "colab_type": "text",
    "id": "disDJsbP-nGh"
   },
   "source": [
    "\n",
    "Una función es un conjunto de expresiones y sentencias (algoritmo) que se ejecuta cuando es invocada"
   ]
  },
  {
   "cell_type": "markdown",
   "metadata": {
    "colab_type": "raw",
    "id": "jzQ59JjV-nGi"
   },
   "source": [
    "def funcion_1(): \n",
    "    # aquí el algoritmo"
   ]
  },
  {
   "cell_type": "markdown",
   "metadata": {
    "colab_type": "text",
    "id": "tiRwCzzY-nGj"
   },
   "source": [
    "\n",
    "Para ejecutar una función, es necesario que sea invocada"
   ]
  },
  {
   "cell_type": "code",
   "execution_count": null,
   "metadata": {
    "colab": {},
    "colab_type": "code",
    "id": "0e2etDCE-nGj"
   },
   "outputs": [],
   "source": [
    "def funcion_1():\n",
    "    print(\"Hola Mundo\")"
   ]
  },
  {
   "cell_type": "code",
   "execution_count": null,
   "metadata": {
    "colab": {},
    "colab_type": "code",
    "id": "zLs1sdDH-nGn"
   },
   "outputs": [],
   "source": [
    "funcion_1()"
   ]
  },
  {
   "cell_type": "markdown",
   "metadata": {
    "colab_type": "text",
    "id": "QUuTgdCZ-nGq"
   },
   "source": [
    "\n",
    "Cuando una función, haga un retorno de datos, éstos, pueden ser asignados a una variable:"
   ]
  },
  {
   "cell_type": "code",
   "execution_count": null,
   "metadata": {
    "colab": {},
    "colab_type": "code",
    "id": "JPy6joLt-nGq"
   },
   "outputs": [],
   "source": [
    "def funcion_2(): \n",
    "    return(\"Hola Mundo\")"
   ]
  },
  {
   "cell_type": "code",
   "execution_count": null,
   "metadata": {
    "colab": {},
    "colab_type": "code",
    "id": "4_n2ungp-nGt"
   },
   "outputs": [],
   "source": [
    "frase = funcion_2() \n",
    "print(frase)"
   ]
  },
  {
   "cell_type": "markdown",
   "metadata": {
    "colab_type": "text",
    "id": "i0WDMBys-nGw"
   },
   "source": [
    "#### Parámetros por omisión"
   ]
  },
  {
   "cell_type": "markdown",
   "metadata": {
    "colab_type": "text",
    "id": "EjYQq_yd-nGx"
   },
   "source": [
    "Se puede asignar parámetros por defecto, esto permite que la función pueda ser invocada con menos parámetros"
   ]
  },
  {
   "cell_type": "code",
   "execution_count": null,
   "metadata": {
    "colab": {},
    "colab_type": "code",
    "id": "QCKHDWKX-nGy"
   },
   "outputs": [],
   "source": [
    "def saludo(nombre, mensaje='Hola'):\n",
    "    print(mensaje, nombre)\n",
    "\n",
    "saludo('Luis Garayar')"
   ]
  },
  {
   "cell_type": "markdown",
   "metadata": {},
   "source": [
    "Se tiene que declarar los argumentos con valores por defecto siempre después de los argumentos obligatorios."
   ]
  },
  {
   "cell_type": "code",
   "execution_count": null,
   "metadata": {
    "colab": {},
    "colab_type": "code",
    "id": "Daw8DvpV-nG0"
   },
   "outputs": [],
   "source": [
    "def saludo(nombre='Luis Garayar', mensaje):\n",
    "    print(mensaje, nombre)"
   ]
  },
  {
   "cell_type": "markdown",
   "metadata": {
    "colab_type": "text",
    "id": "SMmbwVLX-nG4"
   },
   "source": [
    "<br>Creamos una función `add_numbers` para que tome dos números y los sume:"
   ]
  },
  {
   "cell_type": "code",
   "execution_count": null,
   "metadata": {
    "colab": {},
    "colab_type": "code",
    "id": "qeUZNPrv-nG5"
   },
   "outputs": [],
   "source": [
    "def add_numbers(x, y):\n",
    "    return x + y\n",
    "\n",
    "add_numbers(1, 2)"
   ]
  },
  {
   "cell_type": "markdown",
   "metadata": {
    "colab_type": "text",
    "id": "1BvLiz0E-nG-"
   },
   "source": [
    "<br> Actualizamos `add_numbers` para tomar un tercer parámetro opcional. El uso de `print` permite imprimir múltiples expresiones dentro de una sola ejecución:"
   ]
  },
  {
   "cell_type": "code",
   "execution_count": null,
   "metadata": {
    "colab": {},
    "colab_type": "code",
    "id": "7Ywr5ZFU-nG_"
   },
   "outputs": [],
   "source": [
    "def add_numbers(x,y,z=None):\n",
    "    if (z==None):\n",
    "        return x+y\n",
    "    else:\n",
    "        return x+y+z\n",
    "\n",
    "print(add_numbers(1, 2))\n",
    "print(add_numbers(1, 2, 3))"
   ]
  },
  {
   "cell_type": "markdown",
   "metadata": {
    "colab_type": "text",
    "id": "zDRTBnXe-nHC"
   },
   "source": [
    "<br> Actualizamos `add_numbers` para tomar un parámetro flag opcional:"
   ]
  },
  {
   "cell_type": "code",
   "execution_count": null,
   "metadata": {
    "colab": {},
    "colab_type": "code",
    "id": "83DYMZ5A-nHD"
   },
   "outputs": [],
   "source": [
    "def add_numbers(x, y, z=None, flag=False):\n",
    "    if (flag):\n",
    "        print('Flag is true!')\n",
    "    if (z==None):\n",
    "        return x + y\n",
    "    else:\n",
    "        return x + y + z\n",
    "    \n",
    "print(add_numbers(1, 2, flag=True))"
   ]
  },
  {
   "cell_type": "markdown",
   "metadata": {
    "colab_type": "text",
    "id": "5oic4h52-nHG"
   },
   "source": [
    "<br>Asignar la función `add_numbers` a la variable `a`:"
   ]
  },
  {
   "cell_type": "code",
   "execution_count": null,
   "metadata": {
    "colab": {},
    "colab_type": "code",
    "id": "p8VyIjkw-nHG"
   },
   "outputs": [],
   "source": [
    "def add_numbers(x,y):\n",
    "    return x+y\n",
    "\n",
    "a = add_numbers\n",
    "a(1,2)"
   ]
  },
  {
   "cell_type": "markdown",
   "metadata": {
    "colab_type": "text",
    "id": "qRRw3Bph-nHL"
   },
   "source": [
    "\n",
    "Ejemplo: Crear una función que sume los N primeros números naturales\n"
   ]
  },
  {
   "cell_type": "code",
   "execution_count": 1,
   "metadata": {
    "colab": {},
    "colab_type": "code",
    "id": "us3UXGIj-nHL"
   },
   "outputs": [
    {
     "name": "stdout",
     "output_type": "stream",
     "text": [
      "55\n"
     ]
    }
   ],
   "source": [
    "def suma_n(n):\n",
    "    suma = 0\n",
    "    for i in range(n+1):\n",
    "        suma = suma + i\n",
    "    return(suma)\n",
    "\n",
    "s = suma_n(10)\n",
    "print(s)"
   ]
  },
  {
   "cell_type": "markdown",
   "metadata": {
    "colab_type": "text",
    "id": "SKrnBHDB-nHO"
   },
   "source": [
    "¿Que hace la siguiente función?"
   ]
  },
  {
   "cell_type": "code",
   "execution_count": null,
   "metadata": {
    "colab": {},
    "colab_type": "code",
    "id": "xhSvFn71-nHP"
   },
   "outputs": [],
   "source": [
    "def transforma_numero(numero):\n",
    "    if (numero%2 == 0):\n",
    "        return(numero*2)\n",
    "    else:\n",
    "        return(numero*3)"
   ]
  },
  {
   "cell_type": "code",
   "execution_count": null,
   "metadata": {
    "colab": {},
    "colab_type": "code",
    "id": "wBT-80T6-nHS"
   },
   "outputs": [],
   "source": [
    "print(transforma_numero(15))\n",
    "print(transforma_numero(16))"
   ]
  },
  {
   "cell_type": "markdown",
   "metadata": {
    "colab_type": "text",
    "id": "KAu3YaoI-owo"
   },
   "source": [
    "## Funciones integradas"
   ]
  },
  {
   "cell_type": "markdown",
   "metadata": {
    "colab_type": "text",
    "id": "yiRH1EyR-owp"
   },
   "source": [
    "\n",
    "El interprete Python tiene un número de funciones integradas (built-in), las cuales están siempre disponibles. Tenemos algunas funciones que ya hemos usado:"
   ]
  },
  {
   "cell_type": "raw",
   "metadata": {
    "colab_type": "raw",
    "id": "rPfR8jYX-owq"
   },
   "source": [
    "abs()    # devuelve el valor absoluto de un número (entero o de coma flotante)\n",
    "dict()   # permite crear un diccionario\n",
    "float()  # devuelve un número coma flotante float\n",
    "help()   # invoca el menú de ayuda del intérprete de Python\n",
    "int()    # devuelve un número entero\n",
    "input()  # lee una cadena de caracteres desde la entrada estándar\n",
    "len()    # devuelve el número de elementos de un tipo de secuencia o colección\n",
    "list()   # permite crear una lista mutable\n",
    "long()   # devuelve un número entero largo\n",
    "max()    # si recibe más de un argumento, devuelve el mayor de ellos\n",
    "min()    # si recibe más de un argumento, devuelve el menor de ellos\n",
    "pow()    # recibe dos argumentos, eleva el primero argumento a la potencia del segundo\n",
    "print()  # permite imprimir en consola lo\n",
    "range()  # devuelve una lista conteniendo una progresión aritmética de enteros\n",
    "round()  # redondea un número flotante a una precisión dada en dígitos decimal \n",
    "set()    # crea un conjunto mutable\n",
    "str()    # se usa crear una carácter o cadenas de caracteres\n",
    "sum()    # devuelve la suma de una lista o de una secuencia\n",
    "tuple()  # permite crear una tupla, que es una lista inmutable\n",
    "type()   # devuelve el tipo del objeto que recibe como argumento"
   ]
  },
  {
   "cell_type": "markdown",
   "metadata": {
    "colab_type": "text",
    "id": "r-50K-FI-owr"
   },
   "source": [
    "Veamos algunas funciones adicionales que pueden ser de utilidad:"
   ]
  },
  {
   "cell_type": "code",
   "execution_count": 2,
   "metadata": {
    "colab": {},
    "colab_type": "code",
    "id": "PQkYowaG-ows"
   },
   "outputs": [
    {
     "data": {
      "text/plain": [
       "7"
      ]
     },
     "execution_count": 2,
     "metadata": {},
     "output_type": "execute_result"
    }
   ],
   "source": [
    "# eval(): Evalúa una cadena como una expresión\n",
    "eval('2 + 5')"
   ]
  },
  {
   "cell_type": "code",
   "execution_count": 3,
   "metadata": {
    "colab": {},
    "colab_type": "code",
    "id": "eDnUVtr9-owv"
   },
   "outputs": [
    {
     "data": {
      "text/plain": [
       "10"
      ]
     },
     "execution_count": 3,
     "metadata": {},
     "output_type": "execute_result"
    }
   ],
   "source": [
    "# abs(): Devuelve el valor absoluto de un número (entero o de coma flotante)\n",
    "abs(-10)"
   ]
  },
  {
   "cell_type": "code",
   "execution_count": 4,
   "metadata": {
    "colab": {},
    "colab_type": "code",
    "id": "EuJVBsZe-owz"
   },
   "outputs": [
    {
     "name": "stdout",
     "output_type": "stream",
     "text": [
      "[7, 13, 23, 37]\n",
      "['a', 'c', 'e', 'g', 'i', 'l', 'm', 'o', 'r', 'u']\n"
     ]
    }
   ],
   "source": [
    "# sorted(): devuelve una lista ordenada de los elementos que recibe (lista o cadena de caracteres)\n",
    "lista = [23, 13, 7, 37]\n",
    "print(sorted(lista))\n",
    "cadena = \"murcielago\"\n",
    "print(sorted(cadena))"
   ]
  },
  {
   "cell_type": "code",
   "execution_count": 5,
   "metadata": {
    "colab": {},
    "colab_type": "code",
    "id": "-Qp7s3xu-ow2"
   },
   "outputs": [
    {
     "data": {
      "text/plain": [
       "[('python', 2.7), ('zope', 2.13), ('plone', 5.1)]"
      ]
     },
     "execution_count": 5,
     "metadata": {},
     "output_type": "execute_result"
    }
   ],
   "source": [
    "# zip(): devuelve una lista de tuplas, donde cada una contiene el elemento iésimo desde cada secuencia de argumento\n",
    "list(zip(['python', 'zope', 'plone'], [2.7, 2.13, 5.1]))"
   ]
  },
  {
   "cell_type": "code",
   "execution_count": 6,
   "metadata": {
    "colab": {},
    "colab_type": "code",
    "id": "nWv0obbS-ow4"
   },
   "outputs": [
    {
     "data": {
      "text/plain": [
       "[('China', 1391), ('India', 1364), ('Estados Unidos', 327), ('Indonesia', 264)]"
      ]
     },
     "execution_count": 6,
     "metadata": {},
     "output_type": "execute_result"
    }
   ],
   "source": [
    "paises = [\"China\", \"India\", \"Estados Unidos\", \"Indonesia\"]\n",
    "poblaciones = [1391, 1364, 327, 264]\n",
    "list(zip(paises, poblaciones))"
   ]
  },
  {
   "cell_type": "code",
   "execution_count": 7,
   "metadata": {
    "colab": {},
    "colab_type": "code",
    "id": "uy-WQPi3-ow7"
   },
   "outputs": [
    {
     "data": {
      "text/plain": [
       "['leonardo', 'caballero']"
      ]
     },
     "execution_count": 7,
     "metadata": {},
     "output_type": "execute_result"
    }
   ],
   "source": [
    "# split(): devuelve una lista con la cadena de caracteres separada por cada indice de la lista\n",
    "cad = 'leonardo caballero'\n",
    "cad.split()"
   ]
  },
  {
   "cell_type": "code",
   "execution_count": 8,
   "metadata": {},
   "outputs": [
    {
     "data": {
      "text/plain": [
       "['le', 'nard', ' caballer', '']"
      ]
     },
     "execution_count": 8,
     "metadata": {},
     "output_type": "execute_result"
    }
   ],
   "source": [
    "cad.split('o')"
   ]
  },
  {
   "cell_type": "code",
   "execution_count": 9,
   "metadata": {
    "colab": {},
    "colab_type": "code",
    "id": "1t9lzwGt-ow-"
   },
   "outputs": [
    {
     "data": {
      "text/plain": [
       "'lUIS gARAYAR'"
      ]
     },
     "execution_count": 9,
     "metadata": {},
     "output_type": "execute_result"
    }
   ],
   "source": [
    "# swapcase(): devuelve una cadenas de caracteres convertida al opuesto sea MAYÚSCULAS o MINÚSCULAS\n",
    "cad2 = 'Luis Garayar'\n",
    "cad2.swapcase()"
   ]
  },
  {
   "cell_type": "code",
   "execution_count": 10,
   "metadata": {
    "colab": {},
    "colab_type": "code",
    "id": "tvA_PNZV-oxA"
   },
   "outputs": [
    {
     "data": {
      "text/plain": [
       "'Programa De Televisión'"
      ]
     },
     "execution_count": 10,
     "metadata": {},
     "output_type": "execute_result"
    }
   ],
   "source": [
    "# title(): devuelve una cadenas de caracteres con capitales en cada palabra\n",
    "cad2 = 'programa de televisión'\n",
    "cad2.title()"
   ]
  },
  {
   "cell_type": "code",
   "execution_count": 11,
   "metadata": {
    "colab": {},
    "colab_type": "code",
    "id": "8GudW9i--oxD"
   },
   "outputs": [
    {
     "name": "stdout",
     "output_type": "stream",
     "text": [
      "1\n",
      "2\n",
      "3\n",
      "4\n",
      "5\n"
     ]
    }
   ],
   "source": [
    "# iter(): obtiene un iterador de un objeto. En la primera forma\n",
    "# next(): devuelve el próximo elemento desde un iterador\n",
    "elemento = iter([1,2,3,4,5])\n",
    "print(next(elemento))\n",
    "print(next(elemento))\n",
    "print(next(elemento))\n",
    "print(next(elemento))\n",
    "print(next(elemento))"
   ]
  },
  {
   "cell_type": "code",
   "execution_count": 12,
   "metadata": {
    "colab": {},
    "colab_type": "code",
    "id": "xSICv9N3-oxF"
   },
   "outputs": [
    {
     "name": "stdout",
     "output_type": "stream",
     "text": [
      "P\n",
      "l\n",
      "a\n",
      "n\n",
      "o\n"
     ]
    }
   ],
   "source": [
    "elemento2 = iter(\"Plano\")\n",
    "print(next(elemento2))\n",
    "print(next(elemento2))\n",
    "print(next(elemento2))\n",
    "print(next(elemento2))\n",
    "print(next(elemento2))"
   ]
  },
  {
   "cell_type": "code",
   "execution_count": 13,
   "metadata": {
    "colab": {},
    "colab_type": "code",
    "id": "rwF_l2p5-oxI"
   },
   "outputs": [
    {
     "data": {
      "text/plain": [
       "[2, 4, 6, 8]"
      ]
     },
     "execution_count": 13,
     "metadata": {},
     "output_type": "execute_result"
    }
   ],
   "source": [
    "# map(): ejecuta una función sobre cada elemento de un iterador (generalmente una lista o tupla)\n",
    "def dup(n):\n",
    "    return n * 2\n",
    "\n",
    "list(map(dup, [1, 2, 3, 4]))"
   ]
  },
  {
   "cell_type": "code",
   "execution_count": 14,
   "metadata": {
    "colab": {},
    "colab_type": "code",
    "id": "lvyTIeOA-oxK"
   },
   "outputs": [
    {
     "data": {
      "text/plain": [
       "[5, 12, 21, 32]"
      ]
     },
     "execution_count": 14,
     "metadata": {},
     "output_type": "execute_result"
    }
   ],
   "source": [
    "def mult(a, b):\n",
    "    return a * b\n",
    "\n",
    "list(map(mult, [1, 2, 3, 4], [5, 6, 7, 8]))"
   ]
  },
  {
   "cell_type": "markdown",
   "metadata": {
    "colab_type": "text",
    "id": "F0bIq67U-ox8"
   },
   "source": [
    "## Funciones lambda"
   ]
  },
  {
   "cell_type": "code",
   "execution_count": 15,
   "metadata": {
    "colab": {},
    "colab_type": "code",
    "id": "A6ddTeEF-ox9"
   },
   "outputs": [
    {
     "data": {
      "text/plain": [
       "6859"
      ]
     },
     "execution_count": 15,
     "metadata": {},
     "output_type": "execute_result"
    }
   ],
   "source": [
    "potencia = lambda x,y: x**y\n",
    "potencia(19,3)"
   ]
  },
  {
   "cell_type": "code",
   "execution_count": null,
   "metadata": {
    "colab": {},
    "colab_type": "code",
    "id": "pgz6szpH-ox_"
   },
   "outputs": [],
   "source": [
    "[x ** 2 for x in [1,2,3]]    #comprension de listas"
   ]
  },
  {
   "cell_type": "code",
   "execution_count": null,
   "metadata": {
    "colab": {},
    "colab_type": "code",
    "id": "icpiB2hg-oyB"
   },
   "outputs": [],
   "source": [
    "list(map(lambda x: x**2,[1,2,3]))   #aplicando map a una función lambda"
   ]
  },
  {
   "cell_type": "code",
   "execution_count": null,
   "metadata": {
    "colab": {},
    "colab_type": "code",
    "id": "nAn73PXG-oyD"
   },
   "outputs": [],
   "source": [
    "revertir = lambda cadena: cadena[::-1]\n",
    "revertir(\"DMC\")"
   ]
  },
  {
   "cell_type": "code",
   "execution_count": null,
   "metadata": {
    "colab": {},
    "colab_type": "code",
    "id": "nkSBpaIT-oyG"
   },
   "outputs": [],
   "source": [
    "impar = lambda numero: numero%2 != 0\n",
    "impar(4)"
   ]
  },
  {
   "cell_type": "markdown",
   "metadata": {
    "colab_type": "text",
    "id": "XmICI4Gc-oyI"
   },
   "source": [
    "Aquí hay un ejemplo de `lambda` que toma tres parámetros y agrega los dos primeros:"
   ]
  },
  {
   "cell_type": "code",
   "execution_count": null,
   "metadata": {
    "colab": {},
    "colab_type": "code",
    "id": "SY9gZSzT-oyI"
   },
   "outputs": [],
   "source": [
    "my_function = lambda a, b, c : a + b"
   ]
  },
  {
   "cell_type": "code",
   "execution_count": null,
   "metadata": {
    "colab": {},
    "colab_type": "code",
    "id": "rka7GlZh-oyL"
   },
   "outputs": [],
   "source": [
    "my_function(1, 2, 3)"
   ]
  },
  {
   "cell_type": "markdown",
   "metadata": {},
   "source": [
    "## Comprensión de listas"
   ]
  },
  {
   "cell_type": "markdown",
   "metadata": {
    "colab_type": "text",
    "id": "BrjEFPMJ-oyO"
   },
   "source": [
    "Vamos a iterar de 0 a 999 y devolver los números pares"
   ]
  },
  {
   "cell_type": "code",
   "execution_count": null,
   "metadata": {
    "colab": {},
    "colab_type": "code",
    "id": "DjhZkujH-oyO"
   },
   "outputs": [],
   "source": [
    "my_list = []\n",
    "for number in range(0, 1000):\n",
    "    if number % 2 == 0:\n",
    "        my_list.append(number)\n",
    "my_list"
   ]
  },
  {
   "cell_type": "markdown",
   "metadata": {
    "colab_type": "text",
    "id": "0TzV9LOu-oyQ"
   },
   "source": [
    "Ahora lo mismo pero con ***comprensión de listas***:"
   ]
  },
  {
   "cell_type": "code",
   "execution_count": null,
   "metadata": {
    "colab": {},
    "colab_type": "code",
    "id": "OhzDs4LK-oyQ"
   },
   "outputs": [],
   "source": [
    "my_list = [number for number in range(0,1000) if number % 2 == 0]\n",
    "my_list"
   ]
  },
  {
   "cell_type": "markdown",
   "metadata": {},
   "source": [
    "## Extra: Parámetros arbitrarios"
   ]
  },
  {
   "cell_type": "markdown",
   "metadata": {},
   "source": [
    "Los parámetros arbitrarios se utilizan cuando la función recibirá un número arbitrario (desconocido) de parámetros. Para definir argumentos arbitrarios en una función, se antecede al parámetro un asterisco (*):"
   ]
  },
  {
   "cell_type": "code",
   "execution_count": null,
   "metadata": {},
   "outputs": [],
   "source": [
    "def recorrer_parametros_arbitrarios(parametro_fijo, *arbitrarios): \n",
    "    print(parametro_fijo, \" ---fijo\")\n",
    "    # Los parámetros arbitrarios se corren como tuplas\n",
    "    for argumento in arbitrarios: \n",
    "        print(argumento, \" ---arbitrario\")"
   ]
  },
  {
   "cell_type": "code",
   "execution_count": null,
   "metadata": {},
   "outputs": [],
   "source": [
    "recorrer_parametros_arbitrarios('Fixed', 'arbitrario 1', 'arbitrario 2', 'arbitrario 3')"
   ]
  },
  {
   "cell_type": "code",
   "execution_count": null,
   "metadata": {},
   "outputs": [],
   "source": [
    "recorrer_parametros_arbitrarios('Fixed', 'arbitrario 1', 'arbitrario 2', 'arbitrario 3', 'arbitrario 4', 'arbitrario 5', 'arbitrario 6')"
   ]
  },
  {
   "cell_type": "markdown",
   "metadata": {},
   "source": [
    "Una función que sume todos los números ingresados como parámetros"
   ]
  },
  {
   "cell_type": "code",
   "execution_count": null,
   "metadata": {},
   "outputs": [],
   "source": [
    "def suma_arbitraria (a = 0, *args):\n",
    "    print(a)\n",
    "    for i in args: \n",
    "        a = a + i\n",
    "        print(a)"
   ]
  },
  {
   "cell_type": "code",
   "execution_count": null,
   "metadata": {},
   "outputs": [],
   "source": [
    "suma_arbitraria()"
   ]
  },
  {
   "cell_type": "code",
   "execution_count": null,
   "metadata": {},
   "outputs": [],
   "source": [
    "suma_arbitraria(5)"
   ]
  },
  {
   "cell_type": "code",
   "execution_count": null,
   "metadata": {},
   "outputs": [],
   "source": [
    "suma_arbitraria(5,8)"
   ]
  },
  {
   "cell_type": "code",
   "execution_count": null,
   "metadata": {},
   "outputs": [],
   "source": [
    "suma_arbitraria(5,8,13,4,5,7,8,10,14)"
   ]
  }
 ],
 "metadata": {
  "anaconda-cloud": {},
  "colab": {
   "name": "Sesión 3 - FP - Funciones.ipynb",
   "provenance": []
  },
  "kernelspec": {
   "display_name": "Python 3 (ipykernel)",
   "language": "python",
   "name": "python3"
  },
  "language_info": {
   "codemirror_mode": {
    "name": "ipython",
    "version": 3
   },
   "file_extension": ".py",
   "mimetype": "text/x-python",
   "name": "python",
   "nbconvert_exporter": "python",
   "pygments_lexer": "ipython3",
   "version": "3.11.2"
  }
 },
 "nbformat": 4,
 "nbformat_minor": 1
}
