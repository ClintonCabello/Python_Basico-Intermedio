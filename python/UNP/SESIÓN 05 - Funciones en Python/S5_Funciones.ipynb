{
 "cells": [
  {
   "cell_type": "markdown",
   "metadata": {},
   "source": [
    "## Funciones en Python"
   ]
  },
  {
   "cell_type": "markdown",
   "metadata": {},
   "source": [
    "Una función es una __porción de código encapsulada__ que tiene como objetivo realizar alguna tarea en específico. Tiene entradas, también denominadas argumentos, y salidas, o resultados. \n",
    "\n",
    "Utilizar funciones tiene como ventaja que se divide el código en partes más pequeñas, sencillas y reutilizables, por lo que el código se observa más limpio, entendible y organizado. \n"
   ]
  },
  {
   "cell_type": "markdown",
   "metadata": {},
   "source": [
    "### Sintaxis\n",
    "\n",
    "Las funciones tienen la siguiente sintaxis:\n",
    "\n",
    "def [nombreDeLaFunción] ([argumentos]):\n",
    "    \n",
    "    cuerpo\n",
    "    \n",
    "    return [salida]\n",
    "    \n",
    "  "
   ]
  },
  {
   "cell_type": "code",
   "execution_count": null,
   "metadata": {},
   "outputs": [],
   "source": [
    "def miFuncion (a,b):\n",
    "    suma = a**b\n",
    "    #cuerpo\n",
    "    return suma"
   ]
  },
  {
   "cell_type": "code",
   "execution_count": null,
   "metadata": {},
   "outputs": [],
   "source": [
    "miFuncion(3,11)"
   ]
  },
  {
   "cell_type": "markdown",
   "metadata": {},
   "source": [
    "Observe que para definir funciones se usa la palabra clave \"def\" y para definir la salida de la función se utiliza la palabra clave return. \n",
    "\n",
    "Tenga en cuenta que los argumentos pueden ser muchos, solo uno o incluso ninguno. El nombre de estos argumentos, al igual que el nombre de la función, siguen las mismas reglas de nomenclatura que las variables.\n",
    "\n",
    "Al igual que con las estructuras de las sentencias \"if\", \"for\" y \"while\", todo el código dentro de la función se identifica porque tiene sangrado y esto permite delimitar en dónde termina la función. "
   ]
  },
  {
   "cell_type": "code",
   "execution_count": null,
   "metadata": {},
   "outputs": [],
   "source": [
    "def cuadrado_de_la_suma(x1, x2, x3):\n",
    "    resultado1 = ( x1 + x2 + x3 )**2\n",
    "    # Operaciones\n",
    "    # Sentencias\n",
    "    # Órdenes\n",
    "    return resultado1\n",
    "    # Dentro de la funcion \n",
    "# fuera de la funcion\n"
   ]
  },
  {
   "cell_type": "markdown",
   "metadata": {},
   "source": [
    "Si ejecuta la celda anterior observará que no se arroja ningún resultado, esto ocurre porque en la celda anterior solo se ha definido la función \"miFunción\" mas no se ha utilizado. \n",
    "\n",
    "Para utilizar (llamar o invocar) una función se escribe el nombre de la función y luego entre paréntesis se escriben los argumentos que necesita."
   ]
  },
  {
   "cell_type": "code",
   "execution_count": null,
   "metadata": {},
   "outputs": [],
   "source": [
    "factor = cuadrado_de_la_suma(2, 5, 7)\n",
    "print(factor)"
   ]
  },
  {
   "cell_type": "markdown",
   "metadata": {},
   "source": [
    "Una función es una porción de código que ejecuta una acción en específico y no es obligatorio que retorne un valor, existen funciones que modifican estados o realizan otras tareas que no requieren que se utilice la palabra clave return."
   ]
  },
  {
   "cell_type": "code",
   "execution_count": null,
   "metadata": {},
   "outputs": [],
   "source": [
    "def ordenar(x,y):\n",
    "    if x < y:\n",
    "        print(x, y)\n",
    "    else:\n",
    "        print(y, x)"
   ]
  },
  {
   "cell_type": "code",
   "execution_count": null,
   "metadata": {},
   "outputs": [],
   "source": [
    "ordenar(100,30)"
   ]
  },
  {
   "cell_type": "markdown",
   "metadata": {},
   "source": [
    "Por ejemplo, la función anterior no retorna ningún valor porque su tarea es imprimir en pantalla los números ingresados siguiendo un orden. "
   ]
  },
  {
   "cell_type": "markdown",
   "metadata": {},
   "source": [
    "Observe que si intenta guardar en un espacio de memoria (en una variable) el resultado de una función que no retorna nigún valor, dicho espacio de memoria tendrá almacenado un \"None\", palabra clave reservada para valores \"vacios\" o \"nulos\"."
   ]
  },
  {
   "cell_type": "code",
   "execution_count": null,
   "metadata": {},
   "outputs": [],
   "source": [
    "s = ordenar(40,205)\n",
    "print(\"variable s: {}\".format(s))"
   ]
  },
  {
   "cell_type": "markdown",
   "metadata": {},
   "source": [
    "Para utilizar una función, esta debe haberse definido con anticipación o importado de alguna biblioteca, por lo tanto si intenta utilizar una función que no ha sido definida obtendrá el mensaje de error: \"NameError\""
   ]
  },
  {
   "cell_type": "code",
   "execution_count": null,
   "metadata": {},
   "outputs": [],
   "source": [
    "a = funcionSumar(5,8)\n",
    "print(a)"
   ]
  },
  {
   "cell_type": "markdown",
   "metadata": {},
   "source": [
    "Además, existe el concepto de variable global y variable local. Aquello que se define fuera de una estructura def o class es una variable global, mientras que las que se definen dentro de alguna de esas estructuras es una variable local. Las locales solo existen dentro de su propio entorno local y al desaparecer el entorno también desaparecen ellas."
   ]
  },
  {
   "cell_type": "code",
   "execution_count": null,
   "metadata": {},
   "outputs": [],
   "source": [
    "estado = \"feliz\"\n",
    "lista = [0,1]\n",
    "#fuera tenemos variables globales\n",
    "\n",
    "\n",
    "def ordenar(x,y):\n",
    "    #dentro de una estructura def tenemos variables locales\n",
    "    #global estado\n",
    "    if x < y:\n",
    "        estado = True\n",
    "    else:\n",
    "        estado = False\n",
    "    print(estado)\n",
    "    print(\"entorno local\")\n",
    "\n",
    "ordenar(50,60)\n",
    "print(estado)\n",
    "print(\"entorno global\")"
   ]
  },
  {
   "cell_type": "markdown",
   "metadata": {},
   "source": [
    "### Pasos para definir funciones\n",
    "\n",
    "1. Definir cuál será la salida de la función. En primer lugar debe tener en cuenta cuál será el objetivo de la función, es decir, cuál es la salida o resultado final que debe retornar. Por lo general este primer paso es definido como un requerimiento por parte del cliente.\n",
    "2. Definir las entradas. Es decir cuáles son los argumentos necesarios que proporcionan la información suficiente para obtener el resultado final. Aquí toma importancia definir de qué tipo de dato deben ser las entradas.\n",
    "3. Diseñar el algoritmo de la función. Es decir definir cuáles serán los pasos que permitirán convertir las entradas en salidas. Se recomienda utilizar diagramas de flujo para esquematizar el algoritmo.\n",
    "4. Depuración. Es la fase en la que se prueba el funcionamiento del código, se corrigen los errores y se optimiza la función. \n",
    "5. Documentación. Consiste en comentar oportunamente el código escrito."
   ]
  },
  {
   "cell_type": "markdown",
   "metadata": {},
   "source": [
    "A continuación se seguirán los pasos indicados para definir una función que devolverá una lista con la serie de fibonacci desde cero hasta un número \"n\". La serie de fibonacci se caracteriza porque siempre empieza con 0 y 1, y a partir del tercer valor este es el resultado de sumar los dos anteriores: 0 , 1 , 1 , 2 , 3 , 5 , 8 , 13 , 21 , 34 , 55 , 89 , 144 , 233 ...\n",
    "\n",
    "\n",
    "1. La salida será una lista que contenga la serie de números de fibonacci desde cero hasta \"n\"\n",
    "2. El argumento que necesita la función es el número \"n\", el cual indicará en qué momento se truncará la serie de números. Es el único que se necesita.\n",
    "3. El algoritmo de la función será el siguiente:\n",
    "\n",
    "    a) definir dos variables \"int\" denominadas \"a\" y \"b\" que al inicio tendrán los valores 0 y 1 y luego se irá actualizando según la regla de la serie ( x3 = x2 + x1)\n",
    "    \n",
    "    b) definir una lista denominada \"serie\" en donde se guardará la serie\n",
    "    \n",
    "    c) utilizar una estructura while para que mientras la variable \"a\" sea menor que \"n\", se guarde \"a\" en la serie y se actualicen los valores de \"a\" y \"b\" de tal manera que el nuevo \"a\" sea el antiguo \"b\" y el nuevo \"b\" sea la suma de los antiguos \"a\" y \"b\"\n",
    "    \n",
    "    \n",
    "    0  ,  1  ,   1    ,   2  ,   3 , 5 , 8 , 13 , 21 ...\n",
    "    a0 , b0\n",
    "        a1=b0, b1=a0+b0\n",
    "               a2=b1, b2=a1+b1\n",
    "                       a3=b2, b3=a2+a1\n",
    "    \n",
    "    \n",
    "    d) retornar la serie"
   ]
  },
  {
   "cell_type": "code",
   "execution_count": null,
   "metadata": {},
   "outputs": [],
   "source": [
    "def fibonacci(n):\n",
    "    a, b = 0, 1\n",
    "    serie = []\n",
    "    while a < n:\n",
    "        serie.append(a)\n",
    "        (a, b) = (b, a+b) \n",
    "        # a nuevo = b anterior\n",
    "        # b nuevo = a anterior + b anterior\n",
    "    return serie"
   ]
  },
  {
   "cell_type": "markdown",
   "metadata": {},
   "source": [
    "4. La depuración se realiza probando la función con múltiples entradas y validando que las salidas sean correctas."
   ]
  },
  {
   "cell_type": "code",
   "execution_count": null,
   "metadata": {},
   "outputs": [],
   "source": [
    "resultado = fibonacci(800)\n",
    "print(resultado)"
   ]
  },
  {
   "cell_type": "code",
   "execution_count": null,
   "metadata": {},
   "outputs": [],
   "source": [
    "resultado = fibonacci(270000)\n",
    "print(resultado)"
   ]
  },
  {
   "cell_type": "code",
   "execution_count": null,
   "metadata": {},
   "outputs": [],
   "source": [
    "resultado = fibonacci(500000000)\n",
    "print(resultado)"
   ]
  },
  {
   "cell_type": "markdown",
   "metadata": {},
   "source": [
    "5. El último paso consiste en comentar la función, para ello se recomienda el siguiente esquema:\n",
    "\n",
    "def miFuncion (argumentos):\n",
    "    \n",
    "    \"\"\" #Describir qué hace la función\n",
    "        #Describir sus argumentos\n",
    "        #Describir qué excepciones tiene\n",
    "    \"\"\""
   ]
  },
  {
   "cell_type": "code",
   "execution_count": null,
   "metadata": {},
   "outputs": [],
   "source": [
    "def fibonacci(n):\n",
    "    \"\"\"Retorna la serie de fibonacci desde cero hasta \"n\"\n",
    "        Argumentos:\n",
    "            n(int): el limite maximo de la funcion\n",
    "        excepciones: si el numero n es menor que 1, retorna una lista vacia.\n",
    "    \"\"\"\n",
    "    a, b = 0, 1\n",
    "    serie = []\n",
    "    while a < n:\n",
    "        serie.append(a)\n",
    "        a, b = b, a+b\n",
    "    return serie"
   ]
  },
  {
   "cell_type": "code",
   "execution_count": null,
   "metadata": {},
   "outputs": [],
   "source": [
    "print(fibonacci(0))"
   ]
  },
  {
   "cell_type": "markdown",
   "metadata": {},
   "source": [
    "Después de documentar una función, cualquier usuario puede utilzar la línea help([nombreDeLaFuncion]) para leer lo que se ha comentado."
   ]
  },
  {
   "cell_type": "code",
   "execution_count": null,
   "metadata": {},
   "outputs": [],
   "source": [
    "help(fibonacci)"
   ]
  },
  {
   "cell_type": "markdown",
   "metadata": {},
   "source": [
    "Otro ejemplo de cómo documentar una función:"
   ]
  },
  {
   "cell_type": "code",
   "execution_count": null,
   "metadata": {},
   "outputs": [],
   "source": [
    "def miFuncion(x,y):\n",
    "    \"\"\"Devuelve el cuadro de la suma de las entradas.\n",
    "    Argumentos:\n",
    "        x (int): numero cualquiera\n",
    "        y (int): numero cualquiera\n",
    "    Excepciones: solo se aceptan número como entrada\n",
    "    \"\"\"\n",
    "    z = (x+y)**2\n",
    "    return z "
   ]
  },
  {
   "cell_type": "code",
   "execution_count": null,
   "metadata": {},
   "outputs": [],
   "source": [
    "help(miFuncion)"
   ]
  },
  {
   "cell_type": "markdown",
   "metadata": {},
   "source": [
    "En la clase anterior se presentó la función range, la cual tiene tres argumentos, pero si se dan menos datos de entrada, la función toma algunos valores por defecto."
   ]
  },
  {
   "cell_type": "code",
   "execution_count": null,
   "metadata": {},
   "outputs": [],
   "source": [
    "# Valores por defecto en los argumentos\n",
    "rango = range(10) # por defecto: inicio = 0, paso = 1\n",
    "print(rango)\n",
    "print(list(rango))"
   ]
  },
  {
   "cell_type": "code",
   "execution_count": null,
   "metadata": {},
   "outputs": [],
   "source": [
    "rango = range(5, 10) # por defecto: paso = 1\n",
    "print(rango)\n",
    "print(list(rango))"
   ]
  },
  {
   "cell_type": "code",
   "execution_count": null,
   "metadata": {},
   "outputs": [],
   "source": [
    "rango = range(5, 10, 2)\n",
    "print(rango)\n",
    "print(list(rango))"
   ]
  },
  {
   "cell_type": "markdown",
   "metadata": {},
   "source": [
    "Puede utilizar la función \"help()\" para entender mejor cualquier función. Observe la documentación de la función \"range()\":"
   ]
  },
  {
   "cell_type": "code",
   "execution_count": null,
   "metadata": {},
   "outputs": [],
   "source": [
    "help(range)"
   ]
  },
  {
   "cell_type": "markdown",
   "metadata": {},
   "source": [
    "Al igual que con la función \"range()\" se pueden definir funciones que tengan valores predeterminados. Para esto se define el valor por defecto del argumento dentro de los paréntesis al momento de definir la función."
   ]
  },
  {
   "cell_type": "code",
   "execution_count": null,
   "metadata": {},
   "outputs": [],
   "source": [
    "# Definir funciones con valores por defecto\n",
    "def imprimir (mensaje, veces=3):\n",
    "    \"\"\"Imprime un mensaje n veces\n",
    "        Argumentos:\n",
    "            mensaje (str): mensaje a imprimir\n",
    "            veces (int): cantidad de veces que se repitel el mensaje\n",
    "        excepciones: no acepta números negativos\n",
    "    \"\"\"\n",
    "\n",
    "    print(mensaje*veces)   "
   ]
  },
  {
   "cell_type": "markdown",
   "metadata": {},
   "source": [
    "Al definir valores predeterminados podrá omitir dicho argumento:"
   ]
  },
  {
   "cell_type": "code",
   "execution_count": null,
   "metadata": {},
   "outputs": [],
   "source": [
    "imprimir (\"hola \")"
   ]
  },
  {
   "cell_type": "markdown",
   "metadata": {},
   "source": [
    "O por el contrario, modificar el valor y no utilizar el predeterminado."
   ]
  },
  {
   "cell_type": "code",
   "execution_count": null,
   "metadata": {},
   "outputs": [],
   "source": [
    "imprimir (\"hola \", 2)"
   ]
  },
  {
   "cell_type": "code",
   "execution_count": null,
   "metadata": {},
   "outputs": [],
   "source": [
    "imprimir(\"hola \", veces = 5)"
   ]
  },
  {
   "cell_type": "code",
   "execution_count": null,
   "metadata": {},
   "outputs": [],
   "source": [
    "imprimir(mensaje = \"hola \", veces = 4)"
   ]
  },
  {
   "cell_type": "markdown",
   "metadata": {},
   "source": [
    "Si coloca el nombre de los argumentos al llamar a la función puede incluso modificar el orden con el que escribe los argumentos."
   ]
  },
  {
   "cell_type": "code",
   "execution_count": null,
   "metadata": {},
   "outputs": [],
   "source": [
    "imprimir (veces = 2, mensaje = \"hola \")"
   ]
  },
  {
   "cell_type": "markdown",
   "metadata": {},
   "source": [
    "Observe que el número de argumentos que se utiliza cuando se llama a una funcion debe coincidir con los indicados cuando se define la función (sin contar los predeterminados)."
   ]
  },
  {
   "cell_type": "markdown",
   "metadata": {},
   "source": [
    "Observe que si se entregan argumentos de menos o de más, se encontrará con mensajes de error. \n"
   ]
  },
  {
   "cell_type": "code",
   "execution_count": null,
   "metadata": {},
   "outputs": [],
   "source": [
    "def miFuncion (x,y=1):\n",
    "    z = (x+y)**2\n",
    "    return z"
   ]
  },
  {
   "cell_type": "code",
   "execution_count": null,
   "metadata": {},
   "outputs": [],
   "source": [
    "miFuncion(5,2,3)"
   ]
  },
  {
   "cell_type": "code",
   "execution_count": null,
   "metadata": {},
   "outputs": [],
   "source": [
    "miFuncion(5,9)"
   ]
  },
  {
   "cell_type": "markdown",
   "metadata": {},
   "source": [
    "Sin embargo existe la posibilidad de definir funciones que acepten un número indefinido de argumentos. Esto se logra escribiendo un \"*\" antes del nombre de una variable de tipo tupla que almacenará a todos los argumentos de más que se escriban."
   ]
  },
  {
   "cell_type": "code",
   "execution_count": null,
   "metadata": {},
   "outputs": [],
   "source": [
    "def varios(param1, param2, *extras):\n",
    "    print(\"suma de parametros: \",  str(param1 + param2))\n",
    "    print(\"otros: \", str(extras))"
   ]
  },
  {
   "cell_type": "code",
   "execution_count": null,
   "metadata": {},
   "outputs": [],
   "source": [
    "varios(5, 6)"
   ]
  },
  {
   "cell_type": "code",
   "execution_count": null,
   "metadata": {},
   "outputs": [],
   "source": [
    "varios(5,6, 8, \"hola\", [8, 5, \"o\"], (1,2), 5j, \"a\")"
   ]
  },
  {
   "cell_type": "markdown",
   "metadata": {},
   "source": [
    "Observe que todos los argumentos de más se almacenan en la tupla \"extras\"."
   ]
  },
  {
   "cell_type": "markdown",
   "metadata": {},
   "source": [
    "Se puede definir una función para sumar un número indeterminado de sumando utilizando el concepto anterior: "
   ]
  },
  {
   "cell_type": "code",
   "execution_count": null,
   "metadata": {},
   "outputs": [],
   "source": [
    "def adicion(*sumandos):\n",
    "    suma = 0\n",
    "    for sumando in sumandos:\n",
    "        suma = suma + sumando\n",
    "    return suma"
   ]
  },
  {
   "cell_type": "code",
   "execution_count": null,
   "metadata": {},
   "outputs": [],
   "source": [
    "r = adicion(20,30,40,50, 22, 38, -88, 88, 54, 212)\n",
    "print(r)"
   ]
  },
  {
   "cell_type": "code",
   "execution_count": null,
   "metadata": {},
   "outputs": [],
   "source": [
    "r2 = adicion(57,47,25,36,98,17,39)\n",
    "print(r2)"
   ]
  },
  {
   "cell_type": "markdown",
   "metadata": {},
   "source": [
    "Hasta el momento las funciones retornaban solo un dato, sin embargo se puede retornar los datos que sean necesarios, siempre y cuando estos se expresen como una lista o como una tupla."
   ]
  },
  {
   "cell_type": "code",
   "execution_count": null,
   "metadata": {},
   "outputs": [],
   "source": [
    "#Puedo retornar más de un valor\n",
    "#Se crea una tupla con todos los elementos que retorno\n",
    "def miFuncion2(x, y):\n",
    "    return x**2, y**2"
   ]
  },
  {
   "cell_type": "code",
   "execution_count": null,
   "metadata": {},
   "outputs": [],
   "source": [
    "resultado = miFuncion2(2,3)\n",
    "print(resultado)"
   ]
  },
  {
   "cell_type": "code",
   "execution_count": null,
   "metadata": {},
   "outputs": [],
   "source": [
    "r1, r2 =  miFuncion2(2,3)\n",
    "print(r1)\n",
    "print(r2)"
   ]
  },
  {
   "cell_type": "markdown",
   "metadata": {},
   "source": [
    "Al igual que con las otras estructuras de Python, se pueden definir funciones dentro de otras:"
   ]
  },
  {
   "cell_type": "code",
   "execution_count": null,
   "metadata": {},
   "outputs": [],
   "source": [
    "def operaciones (a, b, operacion):\n",
    "    \"\"\" Suma o multiplica a y b según la variable operacion\n",
    "        Argumentos:\n",
    "            a (numero): numero cualquiera\n",
    "            b (numero): numero cualquiera\n",
    "            operacion (str): puede tomar el valor de suma o multiplicacion\n",
    "    \"\"\"\n",
    "    # numero hace referencia a int, float o complex\n",
    "    def sumar (sumando1, sumando2):\n",
    "        return sumando1 + sumando2\n",
    "    def multiplicar (factor1, factor2):\n",
    "        return factor1 * factor2\n",
    "    \n",
    "    if operacion == \"suma\":\n",
    "        r = sumar(a,b)\n",
    "    if operacion == \"multiplicacion\":\n",
    "        r = multiplicar(a,b)\n",
    "    \n",
    "    return r"
   ]
  },
  {
   "cell_type": "code",
   "execution_count": null,
   "metadata": {},
   "outputs": [],
   "source": [
    "resultado = operaciones (5, 6, \"suma\")\n",
    "print(resultado)"
   ]
  },
  {
   "cell_type": "markdown",
   "metadata": {},
   "source": [
    "### Funciones lambda\n",
    "\n",
    "La palabra clave \"def\" no es la única que permite definir funciones, también existe la palabra clave \"lambda\" que permite definir funciones lambda.\n",
    "\n",
    "Tienen la siguiente sintaxis:\n",
    "\n",
    "    [nombreDeLaFuncion] = lambda [argumentos]: expresion lógica o matemática"
   ]
  },
  {
   "cell_type": "code",
   "execution_count": null,
   "metadata": {},
   "outputs": [],
   "source": [
    "y = lambda x: x**x\n",
    "print(y)"
   ]
  },
  {
   "cell_type": "code",
   "execution_count": null,
   "metadata": {},
   "outputs": [],
   "source": [
    "print(y(3))"
   ]
  },
  {
   "cell_type": "code",
   "execution_count": null,
   "metadata": {},
   "outputs": [],
   "source": [
    "z = lambda a,b,c: a*b + c**2"
   ]
  },
  {
   "cell_type": "code",
   "execution_count": null,
   "metadata": {},
   "outputs": [],
   "source": [
    "print(z(10,20,58))"
   ]
  },
  {
   "cell_type": "markdown",
   "metadata": {},
   "source": [
    "En las expresiones lógicas, la sintaxis de \"lambda\" difiere respecto a \"def\" en el orden en que se escriben las palabras claves. \n",
    "\n",
    "    \"def\": if [condicion]: bloque1 , else: bloque2\n",
    "    \"lambda\": bloque1 if [condicion] else bloque2 \n",
    "    \"lambda\": bloque1 if [condicion] elif [condicion] bloque2 else bloque3 "
   ]
  },
  {
   "cell_type": "code",
   "execution_count": null,
   "metadata": {},
   "outputs": [],
   "source": [
    "def funcion():\n",
    "    if condicion:\n",
    "        bloque\n",
    "    elif condicion:\n",
    "        bloque2\n",
    "        ...."
   ]
  },
  {
   "cell_type": "code",
   "execution_count": null,
   "metadata": {},
   "outputs": [],
   "source": [
    "z = lambda x: x**2 if x < 5 else x**3"
   ]
  },
  {
   "cell_type": "code",
   "execution_count": null,
   "metadata": {},
   "outputs": [],
   "source": [
    "z(2)"
   ]
  },
  {
   "cell_type": "code",
   "execution_count": null,
   "metadata": {},
   "outputs": [],
   "source": [
    "absoluto = lambda x: x if x >= 0 else -x"
   ]
  },
  {
   "cell_type": "code",
   "execution_count": null,
   "metadata": {},
   "outputs": [],
   "source": [
    "print(absoluto(-10))"
   ]
  },
  {
   "cell_type": "code",
   "execution_count": null,
   "metadata": {},
   "outputs": [],
   "source": [
    "verificar = lambda x, lista: True if x in lista else False"
   ]
  },
  {
   "cell_type": "code",
   "execution_count": null,
   "metadata": {},
   "outputs": [],
   "source": [
    "print(verificar(10, [5,10,15,20]))"
   ]
  },
  {
   "cell_type": "code",
   "execution_count": null,
   "metadata": {},
   "outputs": [],
   "source": [
    "print(verificar(100, [5,10,15,20]))"
   ]
  },
  {
   "cell_type": "markdown",
   "metadata": {},
   "source": [
    "El uso de expresiones comprimidas como en lambda también se extiende a definir listas de forma comprimida."
   ]
  },
  {
   "cell_type": "code",
   "execution_count": null,
   "metadata": {},
   "outputs": [],
   "source": [
    "cuadrados = [x**2 for x in range(0,101,1)]\n",
    "print(cuadrados)"
   ]
  },
  {
   "cell_type": "code",
   "execution_count": null,
   "metadata": {},
   "outputs": [],
   "source": []
  }
 ],
 "metadata": {
  "kernelspec": {
   "display_name": "Python 3 (ipykernel)",
   "language": "python",
   "name": "python3"
  },
  "language_info": {
   "codemirror_mode": {
    "name": "ipython",
    "version": 3
   },
   "file_extension": ".py",
   "mimetype": "text/x-python",
   "name": "python",
   "nbconvert_exporter": "python",
   "pygments_lexer": "ipython3",
   "version": "3.11.2"
  }
 },
 "nbformat": 4,
 "nbformat_minor": 4
}
