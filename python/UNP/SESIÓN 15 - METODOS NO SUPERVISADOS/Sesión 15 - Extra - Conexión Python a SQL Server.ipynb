{
 "cells": [
  {
   "cell_type": "markdown",
   "metadata": {},
   "source": [
    "# Extra: Conexión Python a SQL como fuente de datos"
   ]
  },
  {
   "cell_type": "code",
   "execution_count": null,
   "metadata": {},
   "outputs": [],
   "source": [
    "#primero instalar la libreria pypyodbc en Anaconda prompt con el siguiente comando: pip install pypyodbc\n",
    "\n",
    "!pip install pypyodbc"
   ]
  },
  {
   "cell_type": "code",
   "execution_count": null,
   "metadata": {},
   "outputs": [],
   "source": [
    "import pypyodbc as podbc"
   ]
  },
  {
   "cell_type": "code",
   "execution_count": null,
   "metadata": {},
   "outputs": [],
   "source": [
    "# Crear la conexion:\n",
    "\n",
    "server = 'DESKTOP-6I9GJGB\\MSSQLSERVER2019'\n",
    "\n",
    "database = 'NORTHWIND'\n",
    "\n",
    "#Connection String\n",
    "\n",
    "connection = podbc.connect('DRIVER={SQL Server};SERVER='+server+';DATABASE='+database+';Trusted_Connection=yes')\n",
    "\n",
    "cursor = connection.cursor()   # se crea el cursor para la conexión"
   ]
  },
  {
   "cell_type": "markdown",
   "metadata": {},
   "source": [
    "pyodbc.connect() inicia la conexión con el servidor SQL\n",
    "tomando como argumentos, en orden,:\n",
    "- El nombre del controlador SQL\n",
    "- El servidor al cual se hará la conexión\n",
    "- El nombre de la Base de datos que será consultada\n",
    "- El nombre de usuario que tiene acceso a la base de datos\n",
    "- La contraseña del usuario que accede a la base de datos"
   ]
  },
  {
   "cell_type": "raw",
   "metadata": {},
   "source": [
    "connection = pyodbc.connect('DRIVER={Controlador ODBC para el servidor SQL};\n",
    "                       SERVER='+servidor+';\n",
    "                       DATABASE='+bddatos+';\n",
    "                       UID='+usuario+';\n",
    "                       PWD='+clave)"
   ]
  },
  {
   "cell_type": "code",
   "execution_count": null,
   "metadata": {},
   "outputs": [],
   "source": [
    "#Leer registros de una tabla\n",
    "\n",
    "cursor.execute(\"SELECT FIRSTNAME FROM EMPLOYEES\")\n",
    "while 1:\n",
    "    row = cursor.fetchone()\n",
    "    if not row:\n",
    "        break\n",
    "    print(row[0])"
   ]
  },
  {
   "cell_type": "code",
   "execution_count": null,
   "metadata": {},
   "outputs": [],
   "source": [
    "#Insertando una fila\n",
    "\n",
    "cursor.execute(\"INSERT INTO EMPLOYEES (FIRSTNAME, LASTNAME) VALUES ('Agustin','Ullon')\") \n",
    "connection.commit()\n",
    "\n",
    "cursor.execute(\"SELECT FIRSTNAME FROM EMPLOYEES\")\n",
    "while 1:\n",
    "    row = cursor.fetchone()\n",
    "    if not row:\n",
    "        break\n",
    "    print(row[0])"
   ]
  },
  {
   "cell_type": "code",
   "execution_count": null,
   "metadata": {},
   "outputs": [],
   "source": [
    "#Borrando una fila\n",
    "\n",
    "cursor.execute(\"DELETE FROM EMPLOYEES WHERE FIRSTNAME = 'Agustin'\") \n",
    "connection.commit()\n",
    "\n",
    "cursor.execute(\"SELECT FIRSTNAME FROM EMPLOYEES\")\n",
    "while 1:\n",
    "    row = cursor.fetchone()\n",
    "    if not row:\n",
    "        break\n",
    "    print(row[0])"
   ]
  },
  {
   "cell_type": "code",
   "execution_count": null,
   "metadata": {},
   "outputs": [],
   "source": [
    "#cerrando la conexion\n",
    "\n",
    "connection.close()"
   ]
  },
  {
   "cell_type": "markdown",
   "metadata": {},
   "source": [
    "Más información y ejemplos:\n",
    "\n",
    "https://unipython.com/acceso-a-bases-de-datos-con-pyodbc/ <br>\n",
    "https://docs.microsoft.com/en-us/sql/connect/python/pyodbc/python-sql-driver-pyodbc?view=sql-server-ver15 <br>\n",
    "https://riptutorial.com/es/pandas/example/7128/utilizando-pyodbc"
   ]
  }
 ],
 "metadata": {
  "kernelspec": {
   "display_name": "Python 3",
   "language": "python",
   "name": "python3"
  },
  "language_info": {
   "codemirror_mode": {
    "name": "ipython",
    "version": 3
   },
   "file_extension": ".py",
   "mimetype": "text/x-python",
   "name": "python",
   "nbconvert_exporter": "python",
   "pygments_lexer": "ipython3",
   "version": "3.8.5"
  }
 },
 "nbformat": 4,
 "nbformat_minor": 2
}
