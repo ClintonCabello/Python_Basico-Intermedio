{
 "cells": [
  {
   "cell_type": "markdown",
   "metadata": {
    "colab_type": "text",
    "id": "aOD7spN6S_IW"
   },
   "source": [
    "##### Sesión 15: Caso Práctico"
   ]
  },
  {
   "cell_type": "markdown",
   "metadata": {},
   "source": [
    "## Modelo Segmentación K means - Consumo de clientes con su tarjeta  \n",
    "\n",
    "\n",
    "### Objetivo:\n",
    "\n",
    "Dado que los clientes reciben diversas ofertas de consumo para que estos puedan transaccionar con su tarjeta de crédito y débito, la entidad bancaria no está segura si sus clientes tienen algún interes en sus ofertas, teniendo en cuenta que cada oferta ya corresponde un gasto para la entidad.\n",
    "\n",
    "Se pide realizar un estudio de segmentación para conocer cuáles son las preferencias de consumo que sus clientes optarían para comunicarles ofertas más direccionadas."
   ]
  },
  {
   "cell_type": "markdown",
   "metadata": {},
   "source": [
    "* Puede guiarse del procedimiento del caso resuelto de K-means \n",
    "* Previamente corra el código en este notebook para preparar la data\n",
    "* El dataset consta más de 300K operaciones por cliente\n",
    "* El dataset incluye información de 12 meses de historia\n",
    "* La data consta de 21 rubros de consumo:\n",
    "\n",
    "        1.\tProdsuper:\t\tgrupo supermercados\n",
    "        2.\tRestbar:\t\tgrupo restaurantes y bares\n",
    "        3.\tSalud:\t\tgrupo farmacia, clínicas, seguro salud, masaje, etc.\n",
    "        4.\tVehrep:\t\tgrupo repuestos, compra vehículo, gasolina, etc.\n",
    "        5.\tEntretenimiento:\tgrupo entrenamiento, guía turística.\n",
    "        6.\tTiendadepar:\tgrupo tienda por departamento.\n",
    "        7.\tRopamoda:\t\tgrupo tienda de ropa, tienda independiente de mall\n",
    "        8.\tProdpersondiv:\tgrupo diversos productos personales, joyería, etc.\n",
    "        9.\tTelcom:\t\tgrupo telecomunicaciones, pago celular, recargas, etc.\n",
    "        10.\tFinanciero:\t\tgrupo financiero, pago de impuestos, seguros, etc.\n",
    "        11.\tTransplaerea:\tgrupo transporte, aerolíneas, bus interprovincial, etc.\n",
    "        12.\tClubmkt:\t\tgrupo clubes\n",
    "        13.\tProdlocal:\t\tgrupo productos locales\n",
    "        14.\tEnseñanza:\t\tgrupo enseñanza, pago universidades, academia, etc.\n",
    "        15.\tBelleza:\t\tgrupo belleza, gimansio, maquillaje, etc.\n",
    "        16.\tProdelectro:\tgrupo producto electrónico.\n",
    "        17.\tAlqbienes:\t\tgrupo alquiler de bienes, hoteles, pago de departamento, etc\n",
    "        18.\tArtcultura:\t\tgrupo arte y cultura, teatro, librería, etc.\n",
    "        19.\tProfdiverso:\tgrupo profesional, servicio legal, consultoría, etc.\n",
    "        20.\tHogaroficina:\tgrupo hogar y oficina, utensilios para la oficina u hogar.\n",
    "        21.\tInformática:\tgrupo informática, software, reparación Pc, etc.          \n"
   ]
  },
  {
   "cell_type": "markdown",
   "metadata": {},
   "source": [
    "## 1. Librerías"
   ]
  },
  {
   "cell_type": "code",
   "execution_count": null,
   "metadata": {},
   "outputs": [],
   "source": [
    "import pandas as pd\n",
    "import numpy as np\n",
    "import matplotlib.pyplot as plt\n",
    "import seaborn as sns\n",
    "\n",
    "%matplotlib inline\n",
    "plt.rcParams['figure.figsize'] = (10, 10)"
   ]
  },
  {
   "cell_type": "markdown",
   "metadata": {},
   "source": [
    "## 2. Carga y preparación de la base"
   ]
  },
  {
   "cell_type": "code",
   "execution_count": null,
   "metadata": {},
   "outputs": [],
   "source": [
    "dataFramePre = pd.read_csv(\"data/02dataBaseConsumo.txt\",delimiter='|', encoding='latin-1')\n",
    "display(dataFramePre.head())"
   ]
  },
  {
   "cell_type": "markdown",
   "metadata": {},
   "source": [
    "Realizaremos la construcción de nuestra Matriz de Segmentación, llevando nuestra base de datos a nivel de ***cliente*** y creando variables de rubro de consumo, donde agruparemos por la cantidad de transacciones."
   ]
  },
  {
   "cell_type": "code",
   "execution_count": null,
   "metadata": {},
   "outputs": [],
   "source": [
    "# Reinicio de índice \"df.reset_index()\"\n",
    "copy=dataFramePre\n",
    "dataFrame = pd.DataFrame() \n",
    "\n",
    "dataFrame['trxGrupoGiro']=copy.groupby([\"cliente\",\"grupoGiro\",\"edad\",\"ingreso\",\"sexo\"]).agg(\"trx\").sum()\n",
    "dataFrame = pd.pivot_table(dataFrame,'trxGrupoGiro',['cliente',\"edad\",\"ingreso\",\"sexo\"],'grupoGiro')\n",
    "dataFrame = dataFrame.fillna(0)\n",
    "dataFrame"
   ]
  },
  {
   "cell_type": "code",
   "execution_count": null,
   "metadata": {},
   "outputs": [],
   "source": [
    "dataFrame = dataFrame.reset_index()\n",
    "display(dataFrame.head())"
   ]
  },
  {
   "cell_type": "markdown",
   "metadata": {},
   "source": [
    "## Objetivo"
   ]
  },
  {
   "cell_type": "code",
   "execution_count": null,
   "metadata": {},
   "outputs": [],
   "source": [
    "# Variables objetivo de estudio:\n",
    "rubroName = ['prodsuper', 'restbar', 'salud', 'vehrep', 'entretenimiento', 'tiendadepar', 'ropamoda', 'prodpersondiv',\n",
    "               'telcom','financiero', 'transplaerea','clubmkt','prodlocal','enseñanza','belleza','prodelectro',\n",
    "               'alqbienes','artcultura','profdiverso','hogaroficina','informatica']"
   ]
  },
  {
   "cell_type": "markdown",
   "metadata": {},
   "source": [
    "### Exploración"
   ]
  },
  {
   "cell_type": "code",
   "execution_count": null,
   "metadata": {},
   "outputs": [],
   "source": [
    "# Base con la que se vamos a trabajar\n",
    "df_final = dataFrame[rubroName]\n",
    "display(df_final.head(10))"
   ]
  },
  {
   "cell_type": "code",
   "execution_count": null,
   "metadata": {},
   "outputs": [],
   "source": [
    "print(df_final.describe())"
   ]
  },
  {
   "cell_type": "code",
   "execution_count": null,
   "metadata": {},
   "outputs": [],
   "source": [
    "dataFrame[rubroName].hist(bins = 50, figsize=(20,15))\n",
    "plt.show()"
   ]
  },
  {
   "cell_type": "code",
   "execution_count": null,
   "metadata": {},
   "outputs": [],
   "source": [
    "for columnName in rubroName:\n",
    "    plt.title(columnName)  \n",
    "    plt.boxplot(dataFrame[columnName], 0, 'gD')    \n",
    "    plt.show()"
   ]
  },
  {
   "cell_type": "markdown",
   "metadata": {},
   "source": [
    "### Transformación (normalización estándar)"
   ]
  },
  {
   "cell_type": "code",
   "execution_count": null,
   "metadata": {},
   "outputs": [],
   "source": [
    "from sklearn import preprocessing\n",
    "\n",
    "scaler = preprocessing.StandardScaler()\n",
    "#scaler = preprocessing.MinMaxScaler(feature_range=(0, 1))\n",
    "\n",
    "# ************\n",
    "# Lo aplicamos\n",
    "# ************\n",
    "for columnName in rubroName:\n",
    "    dataFrame[columnName] = scaler.fit_transform(dataFrame[columnName].values.reshape(-1, 1))\n",
    "    \n",
    "dataFrame[rubroName].head()"
   ]
  },
  {
   "cell_type": "markdown",
   "metadata": {},
   "source": [
    "### Outliers"
   ]
  },
  {
   "cell_type": "code",
   "execution_count": null,
   "metadata": {},
   "outputs": [],
   "source": [
    "def calculateNumOutliars(serie):\n",
    "    mu = serie.mean()\n",
    "    desv = np.std(serie)\n",
    "    a = ((serie-mu)/desv < -2) | ((serie-mu)/desv > 2)\n",
    "    numOutliars = a[a == True].shape[0]\n",
    "    return a,numOutliars    "
   ]
  },
  {
   "cell_type": "code",
   "execution_count": null,
   "metadata": {},
   "outputs": [],
   "source": [
    "numTotal = dataFrame.shape[0]\n",
    "for columnName in rubroName:\n",
    "    a,numOutliars = calculateNumOutliars(dataFrame[columnName])\n",
    "    # Creamos nuevos campos para filtrar los Outliers \n",
    "    dataFrame['flg_'+columnName]=a\n",
    "    print('*'+columnName)\n",
    "    if numOutliars > 0:\n",
    "        print(\"Número de valores outliars: \" + str(numOutliars))\n",
    "        print(\"Porcentaje: \" + str(np.round(numOutliars * 100 / numTotal, 2)) + \"%\")\n",
    "    else:\n",
    "        print(\"****No hay Outliers\")    \n",
    "    print(\"\\n\")"
   ]
  },
  {
   "cell_type": "code",
   "execution_count": null,
   "metadata": {},
   "outputs": [],
   "source": [
    "dataFrame = dataFrame[(dataFrame['flg_prodsuper']==False)&\n",
    "                      (dataFrame['flg_restbar']==False)&\n",
    "                      (dataFrame['flg_salud']==False)&\n",
    "                      (dataFrame['flg_vehrep']==False)&\n",
    "                      (dataFrame['flg_entretenimiento']==False)&\n",
    "                      (dataFrame['flg_tiendadepar']==False)&\n",
    "                      (dataFrame['flg_ropamoda']==False)&\n",
    "                      (dataFrame['flg_prodpersondiv']==False)&\n",
    "                      (dataFrame['flg_telcom']==False)&\n",
    "                      (dataFrame['flg_financiero']==False)&\n",
    "                      (dataFrame['flg_transplaerea']==False)&\n",
    "                      (dataFrame['flg_clubmkt']==False)&\n",
    "                      (dataFrame['flg_prodlocal']==False)&\n",
    "                      (dataFrame['flg_enseñanza']==False)&\n",
    "                      (dataFrame['flg_belleza']==False)&\n",
    "                      (dataFrame['flg_prodelectro']==False)&\n",
    "                      (dataFrame['flg_alqbienes']==False)&\n",
    "                      (dataFrame['flg_artcultura']==False)&\n",
    "                      (dataFrame['flg_profdiverso']==False)&\n",
    "                      (dataFrame['flg_hogaroficina']==False)&\n",
    "                      (dataFrame['flg_informatica']==False)]\n",
    "dataFrame = dataFrame.reset_index()\n",
    "\n",
    "print('Cantidad de Registros sin Outliers: '+str(dataFrame.shape[0]))\n",
    "dataFrame[rubroName].head()"
   ]
  },
  {
   "cell_type": "markdown",
   "metadata": {},
   "source": [
    "###  Reducción de dimensión (PCA)"
   ]
  },
  {
   "cell_type": "code",
   "execution_count": null,
   "metadata": {},
   "outputs": [],
   "source": [
    "from sklearn.decomposition import PCA\n",
    "\n",
    "pca = PCA()\n",
    "pca.fit(dataFrame[rubroName])\n",
    "pca.explained_variance_ratio_"
   ]
  },
  {
   "cell_type": "code",
   "execution_count": null,
   "metadata": {},
   "outputs": [],
   "source": [
    "for i in range(len(pca.components_)):\n",
    "    print('% Var. explicada ('+str(i+1)+' componentes): ', np.cumsum(pca.explained_variance_ratio_)[i]*100)\n",
    "    \n",
    "plt.bar(range(1,len(pca.components_)+1),pca.explained_variance_ratio_, alpha=.2,color='0')\n",
    "plt.plot(range(1,len(pca.components_)+1),np.cumsum(pca.explained_variance_ratio_),alpha=4)\n",
    "plt.title(\"Varianza explicada y pareto\")\n",
    "plt.show()"
   ]
  },
  {
   "cell_type": "code",
   "execution_count": null,
   "metadata": {},
   "outputs": [],
   "source": [
    "# Elegimos la componente adecuada:\n",
    "pcaFin = PCA(n_components=11)\n",
    "pcaFin.fit(dataFrame[rubroName])\n",
    "pd.DataFrame(pcaFin.components_,columns=rubroName)"
   ]
  },
  {
   "cell_type": "markdown",
   "metadata": {},
   "source": [
    "### Modelamiento"
   ]
  },
  {
   "cell_type": "code",
   "execution_count": null,
   "metadata": {},
   "outputs": [],
   "source": [
    "from sklearn.cluster import KMeans\n",
    "from sklearn import metrics\n",
    "from sklearn.metrics import pairwise_distances_argmin_min "
   ]
  },
  {
   "cell_type": "code",
   "execution_count": null,
   "metadata": {},
   "outputs": [],
   "source": [
    "# Calculando el número de clúster adecuado:\n",
    "X = dataFrame[rubroName]\n",
    "X.head()"
   ]
  },
  {
   "cell_type": "code",
   "execution_count": null,
   "metadata": {},
   "outputs": [],
   "source": [
    "# Calculando el número de clúster adecuado:\n",
    "X = dataFrame[rubroName]\n",
    "score = []\n",
    "\n",
    "for i in range(1, 20):\n",
    "    kmeans = KMeans(n_clusters=i,max_iter=600, algorithm = 'auto')\n",
    "    kmeans_model = kmeans.fit(X)\n",
    "    score.append(kmeans_model.inertia_)"
   ]
  },
  {
   "cell_type": "code",
   "execution_count": null,
   "metadata": {},
   "outputs": [],
   "source": [
    "plt.plot(range(1, 20), score, marker='o')\n",
    "plt.xlabel('Número de Clúster')\n",
    "plt.ylabel('Score')\n",
    "plt.title('Elbow method')\n",
    "plt.show()"
   ]
  },
  {
   "cell_type": "code",
   "execution_count": null,
   "metadata": {},
   "outputs": [],
   "source": [
    "from sklearn.metrics import silhouette_score\n",
    "\n",
    "# Nos fijamos de los indicadores de clustering:\n",
    "\n",
    "for i in range(2,12): \n",
    "    kmeans = KMeans(n_clusters=i,max_iter=600, algorithm = 'auto')\n",
    "    kmeans_model = kmeans.fit(X)\n",
    "    cluster = kmeans_model.predict(X)\n",
    "    print(str(i)+' clústeres:')\n",
    "    print('Inercia: '+str(kmeans.inertia_))\n",
    "    print('Silueta: '+str(silhouette_score(X, cluster, metric='euclidean', sample_size = 5000, random_state=123)))"
   ]
  },
  {
   "cell_type": "code",
   "execution_count": null,
   "metadata": {},
   "outputs": [],
   "source": [
    "# coriendo para 3 clusters\n",
    "kmeans = KMeans(n_clusters=3,max_iter=600, algorithm = 'auto')\n",
    "kmeans_model = kmeans.fit(X)\n",
    "cluster = kmeans_model.predict(X)\n",
    "    \n",
    "# graficando para esta cantidad de clusters\n",
    "fig = plt.figure()\n",
    "f1 = dataFrame['restbar'].values\n",
    "f2 = dataFrame['salud'].values\n",
    " \n",
    "#colores=['red','green','blue','yellow']\n",
    "colores=['yellow','green','blue']\n",
    "asignar=[]\n",
    "for row in cluster:\n",
    "    asignar.append(colores[row])\n",
    "    \n",
    "plt.scatter(f1, f2, c=asignar, marker='*', s=100)\n",
    "#plt.scatter(centroide[2][:, 0], centroide[2][:, 1], marker='*', c='yellow', s=100)\n",
    "plt.show()"
   ]
  },
  {
   "cell_type": "code",
   "execution_count": null,
   "metadata": {},
   "outputs": [],
   "source": [
    "fig = plt.figure()\n",
    "f1 = dataFrame['restbar'].values\n",
    "f2 = dataFrame['prodsuper'].values\n",
    " \n",
    "#colores=['red','green','blue','yellow']\n",
    "colores=['yellow','green','blue']\n",
    "asignar=[]\n",
    "for row in cluster:\n",
    "    asignar.append(colores[row])\n",
    "    \n",
    "plt.scatter(f1, f2, c=asignar, marker='*', s=100)\n",
    "plt.show()"
   ]
  },
  {
   "cell_type": "markdown",
   "metadata": {},
   "source": [
    "### Evaluación"
   ]
  },
  {
   "cell_type": "code",
   "execution_count": null,
   "metadata": {},
   "outputs": [],
   "source": [
    "numClus = [2,3,4,5]\n",
    "\n",
    "kmeans = [KMeans(n_clusters=i,max_iter=600, algorithm = 'auto') for i in numClus]\n",
    "score = [kmeans[i].fit(X).score(X) for i in range(len(kmeans))]\n",
    "cluster = [kmeans[i].predict(X) for i in range(len(kmeans))]"
   ]
  },
  {
   "cell_type": "code",
   "execution_count": null,
   "metadata": {},
   "outputs": [],
   "source": [
    "centroide = [kmeans[i].cluster_centers_ for i in range(len(kmeans))]\n",
    "copy =  pd.DataFrame()\n",
    "\n",
    "for i in numClus:\n",
    "    # Distribución de los grupos por clúster:\n",
    "    copy['cluster'] = cluster[i-2]   #cuidado con la cantidad de clusters\n",
    "    cantidadGrupo =  pd.DataFrame()\n",
    "    cantidadGrupo['ctdCliente']=copy.groupby('cluster').size()\n",
    "    cantidadGrupo['pctCliente']=round(100*cantidadGrupo['ctdCliente']/cantidadGrupo['ctdCliente'].sum(),2)\n",
    "    \n",
    "    # gráfico de los grupos según su distribución:\n",
    "    plt.pie(cantidadGrupo['pctCliente'], labels=cantidadGrupo.index, autopct='%1.1f%%')\n",
    "    plt.title('Clúster '+str(i))\n",
    "    plt.legend()\n",
    "    plt.show()\n",
    "    print(cantidadGrupo)       \n",
    "    print('\\n')"
   ]
  },
  {
   "cell_type": "code",
   "execution_count": null,
   "metadata": {},
   "outputs": [],
   "source": [
    "centroide = [kmeans[i].cluster_centers_ for i in range(len(kmeans))]\n",
    "copy =  pd.DataFrame()\n",
    "\n",
    "for i in numClus:\n",
    "    # Distribución de los grupos por clúster:\n",
    "    copy['cluster'] = cluster[i-2]   #cuidado con la cantidad de clusters\n",
    "    cantidadGrupo =  pd.DataFrame()\n",
    "    cantidadGrupo['ctdCliente']=copy.groupby('cluster').size()\n",
    "    cantidadGrupo['pctCliente']=round(100*cantidadGrupo['ctdCliente']/cantidadGrupo['ctdCliente'].sum(),2)\n",
    "    \n",
    "    # gráfico de los grupos según su distribución:\n",
    "    plt.pie(cantidadGrupo['pctCliente'], labels=cantidadGrupo.index, autopct='%1.1f%%')\n",
    "    plt.title('Clúster '+str(i))\n",
    "    plt.legend()\n",
    "    plt.show()\n",
    "    print(cantidadGrupo)       \n",
    "    print('\\n')"
   ]
  },
  {
   "cell_type": "code",
   "execution_count": null,
   "metadata": {},
   "outputs": [],
   "source": [
    "numClusFinal = int(input('Ingrese el número de clúster: '))"
   ]
  },
  {
   "cell_type": "code",
   "execution_count": null,
   "metadata": {},
   "outputs": [],
   "source": [
    "dfval = pd.DataFrame(centroide[numClusFinal-2],columns=rubroName)\n",
    "dfval"
   ]
  },
  {
   "cell_type": "code",
   "execution_count": null,
   "metadata": {},
   "outputs": [],
   "source": [
    "plt.rcParams['figure.figsize'] = (10, 10)\n",
    "#plt.style.use('ggplot')\n",
    "\n",
    "dfval.plot.barh()"
   ]
  },
  {
   "cell_type": "code",
   "execution_count": null,
   "metadata": {},
   "outputs": [],
   "source": []
  }
 ],
 "metadata": {
  "colab": {
   "collapsed_sections": [],
   "name": "Ejercicicios_Sesión5_OG2.ipynb",
   "provenance": []
  },
  "kernelspec": {
   "display_name": "Python 3",
   "language": "python",
   "name": "python3"
  },
  "language_info": {
   "codemirror_mode": {
    "name": "ipython",
    "version": 3
   },
   "file_extension": ".py",
   "mimetype": "text/x-python",
   "name": "python",
   "nbconvert_exporter": "python",
   "pygments_lexer": "ipython3",
   "version": "3.8.5"
  }
 },
 "nbformat": 4,
 "nbformat_minor": 1
}
