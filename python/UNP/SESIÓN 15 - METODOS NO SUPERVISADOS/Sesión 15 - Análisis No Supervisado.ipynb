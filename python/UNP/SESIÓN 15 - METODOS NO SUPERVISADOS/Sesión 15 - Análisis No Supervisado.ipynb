{
 "cells": [
  {
   "cell_type": "markdown",
   "metadata": {},
   "source": [
    "# Sesión 15: Análisis No Supervisado"
   ]
  },
  {
   "cell_type": "markdown",
   "metadata": {
    "colab_type": "text",
    "id": "UsY3VwwXjyQQ"
   },
   "source": [
    "## **Análisis Cluster: Kmeans**\n",
    "\n",
    "La data de los diferentes paises del mundo tiene como variables los siguientes indicadores.\n",
    "<table><tr><th>country</th><td>Nombre del país</td></tr>\n",
    "<tr><th>region</th><td>Continente al que pertenece</td></tr>\n",
    "<tr><th>tfr</th><td>Ratio de fertilidad</td></tr>\n",
    "<tr><th>contraception</th><td>% de la población que usa anticonceptivos</td></tr>\n",
    "<tr><th>educationMale</th><td>% de la población masculina educada</td></tr>\n",
    "<tr><th>educationFemale</th><td>% de la población femenina educada</td></tr>\n",
    "<tr><th>lifeMale</th><td>Esperanza de vida de los hombres</td></tr>\n",
    "<tr><th>lifeFemale</th><td>Esperanza de vida de las mujeres</td></tr>\n",
    "<tr><th>infantMortality</th><td>Ratio de mortalidad infantil</td></tr>\n",
    "<tr><th>GDPperCapita</th><td>PBI</td></tr>\n",
    "<tr><th>economicActivityMale</th><td>Hombres en la PEA</td></tr>\n",
    "<tr><th>economicActivityFemale</th><td>Mujeres en la PEA</td></tr>\n",
    "<tr><th>illiteracyMale</th><td>Ratio de analfabetismo en hombres</td></tr>\n",
    "<tr><th>illiteracyFemale</th><td>Ratio de analfabetismo en mujeres</td></tr>\n",
    "</table>"
   ]
  },
  {
   "cell_type": "markdown",
   "metadata": {
    "colab_type": "text",
    "id": "0_QEzYLtj7En"
   },
   "source": [
    "### Carga de módulos necesarios"
   ]
  },
  {
   "cell_type": "code",
   "execution_count": null,
   "metadata": {
    "colab": {},
    "colab_type": "code",
    "id": "5qUnwR-Rjezi"
   },
   "outputs": [],
   "source": [
    "import numpy as np\n",
    "import pandas as pd\n",
    "import seaborn as sns\n",
    "import matplotlib.pyplot as plt\n",
    "\n",
    "from sklearn.cluster import KMeans, AgglomerativeClustering\n",
    "from sklearn.metrics import silhouette_score\n",
    "from sklearn.metrics import pairwise_distances_argmin_min\n",
    "\n",
    "import scipy.cluster.hierarchy as shc"
   ]
  },
  {
   "cell_type": "markdown",
   "metadata": {
    "colab_type": "text",
    "id": "aHULf25Uj_Pt"
   },
   "source": [
    "### Lectura"
   ]
  },
  {
   "cell_type": "code",
   "execution_count": null,
   "metadata": {
    "colab": {},
    "colab_type": "code",
    "id": "nj-7abkGkB0P"
   },
   "outputs": [],
   "source": [
    "#Cargando el dataset\n",
    "data = pd.read_csv('data/UN.csv')"
   ]
  },
  {
   "cell_type": "code",
   "execution_count": null,
   "metadata": {
    "colab": {},
    "colab_type": "code",
    "id": "dvX-dcASjezm"
   },
   "outputs": [],
   "source": [
    "data.head()"
   ]
  },
  {
   "cell_type": "code",
   "execution_count": null,
   "metadata": {
    "colab": {},
    "colab_type": "code",
    "id": "s3RifN3Gjez5",
    "scrolled": true
   },
   "outputs": [],
   "source": [
    "data.shape"
   ]
  },
  {
   "cell_type": "code",
   "execution_count": null,
   "metadata": {
    "colab": {},
    "colab_type": "code",
    "id": "tdUwj4QLjezr"
   },
   "outputs": [],
   "source": [
    "# data.columns\n",
    "data.dtypes"
   ]
  },
  {
   "cell_type": "markdown",
   "metadata": {
    "colab_type": "text",
    "id": "xz27emAzjez5"
   },
   "source": [
    "% de missings por variables"
   ]
  },
  {
   "cell_type": "code",
   "execution_count": null,
   "metadata": {
    "colab": {},
    "colab_type": "code",
    "id": "idN-3h0Kjez-"
   },
   "outputs": [],
   "source": [
    "print('% de poblamiento de las variables\\n')\n",
    "print((data.isnull().sum()/data.shape[0])*100)"
   ]
  },
  {
   "cell_type": "markdown",
   "metadata": {
    "colab_type": "text",
    "id": "WX4gb9qqje0D"
   },
   "source": [
    "Vamos a considerar a todas las variables que superen el 50% de información completa."
   ]
  },
  {
   "cell_type": "code",
   "execution_count": null,
   "metadata": {
    "colab": {},
    "colab_type": "code",
    "id": "glPH7O1Pje0E"
   },
   "outputs": [],
   "source": [
    "df = data[['tfr','contraception','lifeMale', 'lifeFemale', 'infantMortality', 'GDPperCapita','economicActivityMale','economicActivityFemale','illiteracyMale','illiteracyFemale']]\n",
    "df = df.dropna(how='any')"
   ]
  },
  {
   "cell_type": "code",
   "execution_count": null,
   "metadata": {
    "colab": {},
    "colab_type": "code",
    "id": "tVR2G4Jyje0F"
   },
   "outputs": [],
   "source": [
    "print('database original:', data.shape)\n",
    "print('database reducida:', df.shape)"
   ]
  },
  {
   "cell_type": "code",
   "execution_count": null,
   "metadata": {
    "colab": {},
    "colab_type": "code",
    "id": "l5EDsxKbje0H",
    "scrolled": true
   },
   "outputs": [],
   "source": [
    "df.head()"
   ]
  },
  {
   "cell_type": "markdown",
   "metadata": {
    "colab_type": "text",
    "id": "qXKnynRvje0e"
   },
   "source": [
    "### Modelamiento clusters"
   ]
  },
  {
   "cell_type": "code",
   "execution_count": null,
   "metadata": {
    "colab": {},
    "colab_type": "code",
    "id": "wHq7ncqIrgW5"
   },
   "outputs": [],
   "source": [
    "# Seleccionando nuestro set de datos\n",
    "X = df"
   ]
  },
  {
   "cell_type": "code",
   "execution_count": null,
   "metadata": {
    "colab": {},
    "colab_type": "code",
    "id": "K8j9jzrprgZt"
   },
   "outputs": [],
   "source": [
    "# Generando nuestro primer cluster\n",
    "kmeans = KMeans(n_clusters=4)"
   ]
  },
  {
   "cell_type": "code",
   "execution_count": null,
   "metadata": {
    "colab": {},
    "colab_type": "code",
    "id": "yfg2BaSzrgb5"
   },
   "outputs": [],
   "source": [
    "kmeans_model = kmeans.fit(X)"
   ]
  },
  {
   "cell_type": "code",
   "execution_count": null,
   "metadata": {
    "colab": {},
    "colab_type": "code",
    "id": "1VtcWeRlr2Vs"
   },
   "outputs": [],
   "source": [
    "# Generamos la predicción de nuestro cluster\n",
    "cluster = kmeans_model.predict(X)\n",
    "len(cluster)"
   ]
  },
  {
   "cell_type": "code",
   "execution_count": null,
   "metadata": {
    "colab": {},
    "colab_type": "code",
    "id": "HlSWXLGLr2Y6"
   },
   "outputs": [],
   "source": [
    "# Obtenemos los centros\n",
    "centers = kmeans_model.cluster_centers_\n",
    "print(centers)\n",
    "print(centers.shape)"
   ]
  },
  {
   "cell_type": "code",
   "execution_count": null,
   "metadata": {
    "colab": {},
    "colab_type": "code",
    "id": "jl15OXrasgX7"
   },
   "outputs": [],
   "source": [
    "# Obtenemos los indicadores de clustering:\n",
    "\n",
    "# Suma de las distancias al cuadrado de las muestras al centro de agrupación más cercano.\n",
    "print('Inercia: '+str(kmeans_model.inertia_))\n",
    "\n",
    "# El gráfico de silueta muestra una medida de qué tan cerca está cada punto de un grupo a los puntos en los grupos vecinos\n",
    "print('Silueta: '+str(silhouette_score(X, cluster, metric='euclidean')))\n",
    "\n",
    "# Entendiendo la silueta\n",
    "# +1 indica que la muestra está muy lejos de los grupos vecinos\n",
    "#  0 indica que la muestra está en o muy cerca del límite de decisión entre dos grupos vecinos\n",
    "# -1 indica que la muestra está asignada al grupo incorrecto."
   ]
  },
  {
   "cell_type": "code",
   "execution_count": null,
   "metadata": {
    "colab": {},
    "colab_type": "code",
    "id": "yG-LpLwMsga1"
   },
   "outputs": [],
   "source": [
    "# Graficamos nuestro cluster\n",
    "v1 = df['infantMortality'].values\n",
    "v2 = df['contraception'].values\n",
    "\n",
    "colores=['red','blue','green','yellow']\n",
    "asignar=[]\n",
    "\n",
    "for row in cluster:\n",
    "    asignar.append(colores[row])"
   ]
  },
  {
   "cell_type": "code",
   "execution_count": null,
   "metadata": {
    "colab": {},
    "colab_type": "code",
    "id": "8i8plttWCurg"
   },
   "outputs": [],
   "source": [
    "plt.scatter(v1, v2, c=asignar, marker='*')\n",
    "plt.show()"
   ]
  },
  {
   "cell_type": "markdown",
   "metadata": {
    "colab_type": "text",
    "id": "6HdvOjQWt6dC"
   },
   "source": [
    "### Modelamiento el número de clusters optimos"
   ]
  },
  {
   "cell_type": "code",
   "execution_count": null,
   "metadata": {
    "colab": {},
    "colab_type": "code",
    "id": "O65s3JXPDSnu"
   },
   "outputs": [],
   "source": [
    "score = []\n",
    "\n",
    "for i in range(1, 20):\n",
    "    kmeans = KMeans(n_clusters=i)\n",
    "    kmeans_model = kmeans.fit(X)\n",
    "    score.append(kmeans_model.inertia_)"
   ]
  },
  {
   "cell_type": "code",
   "execution_count": null,
   "metadata": {
    "colab": {},
    "colab_type": "code",
    "id": "UYMFEt8rDyr3"
   },
   "outputs": [],
   "source": [
    "plt.plot(range(1, 20), score, marker='o')\n",
    "plt.xlabel('Número de Clúster')\n",
    "plt.ylabel('Score')\n",
    "plt.title('Elbow method')\n",
    "plt.show()"
   ]
  },
  {
   "cell_type": "markdown",
   "metadata": {
    "colab_type": "text",
    "id": "qWUmM0Jkv_Vb"
   },
   "source": [
    "### Calculamos nuestro cluster final"
   ]
  },
  {
   "cell_type": "code",
   "execution_count": null,
   "metadata": {
    "colab": {},
    "colab_type": "code",
    "id": "R5kY2xbgwH0p"
   },
   "outputs": [],
   "source": [
    "# Generando nuestro primer cluster\n",
    "kmeans = KMeans(n_clusters=3)\n",
    "kmeans_model = kmeans.fit(X)"
   ]
  },
  {
   "cell_type": "code",
   "execution_count": null,
   "metadata": {
    "colab": {},
    "colab_type": "code",
    "id": "mVCxfjx7wY6r"
   },
   "outputs": [],
   "source": [
    "# Generamos la predicción de nuestro cluster\n",
    "cluster = kmeans_model.predict(X)\n",
    "len(cluster)"
   ]
  },
  {
   "cell_type": "code",
   "execution_count": null,
   "metadata": {
    "colab": {},
    "colab_type": "code",
    "id": "PH303jkxwUpu"
   },
   "outputs": [],
   "source": [
    "# Obtenemos los indicadores de clustering:\n",
    "print('Inercia: '+str(kmeans_model.inertia_)) \n",
    "print('Silueta: '+str(silhouette_score(X, cluster, metric='euclidean'))) "
   ]
  },
  {
   "cell_type": "markdown",
   "metadata": {
    "colab_type": "text",
    "id": "Jv1wYsXWwrR5"
   },
   "source": [
    "### Agregando a nuestro set de datos"
   ]
  },
  {
   "cell_type": "code",
   "execution_count": null,
   "metadata": {
    "colab": {},
    "colab_type": "code",
    "id": "F-wq7j_1wWQD"
   },
   "outputs": [],
   "source": [
    "df['cluster'] = cluster"
   ]
  },
  {
   "cell_type": "code",
   "execution_count": null,
   "metadata": {
    "colab": {},
    "colab_type": "code",
    "id": "A3Y2WIT4wWSj"
   },
   "outputs": [],
   "source": [
    "df.head()"
   ]
  },
  {
   "cell_type": "code",
   "execution_count": null,
   "metadata": {},
   "outputs": [],
   "source": [
    "df['cluster'].value_counts()"
   ]
  },
  {
   "cell_type": "code",
   "execution_count": null,
   "metadata": {},
   "outputs": [],
   "source": [
    "# tabla de frecuencia relativa\n",
    "round(100 * df['cluster'].value_counts()/ len(df['cluster']),2)"
   ]
  },
  {
   "cell_type": "markdown",
   "metadata": {},
   "source": [
    "### Un ejemplo para graficar clusters"
   ]
  },
  {
   "cell_type": "code",
   "execution_count": null,
   "metadata": {},
   "outputs": [],
   "source": [
    "np.random.seed(42)\n",
    "d0 = np.random.randn(150, 2)\n",
    "d1 = np.random.randn(150, 2)+[0,3]\n",
    "d2 = np.random.randn(150, 2)+3\n",
    "\n",
    "features = np.concatenate([d0, d1, d2])\n",
    "\n",
    "plt.scatter(features[:, 0], features[:, 1])\n",
    "plt.show()"
   ]
  },
  {
   "cell_type": "markdown",
   "metadata": {},
   "source": [
    "#### 2 Clusters"
   ]
  },
  {
   "cell_type": "code",
   "execution_count": null,
   "metadata": {},
   "outputs": [],
   "source": [
    "kmeans = KMeans(n_clusters=2)\n",
    "kmeans.fit(features)\n",
    "pred_2 = kmeans.predict(features)"
   ]
  },
  {
   "cell_type": "code",
   "execution_count": null,
   "metadata": {},
   "outputs": [],
   "source": [
    "plt.scatter(features[(pred_2 == 0), 0], features[(pred_2 == 0), 1], color = 'r')\n",
    "plt.scatter(features[(pred_2 == 1), 0], features[(pred_2 == 1), 1], color = 'b')\n",
    "plt.show()"
   ]
  },
  {
   "cell_type": "markdown",
   "metadata": {},
   "source": [
    "#### 3 Clusters"
   ]
  },
  {
   "cell_type": "code",
   "execution_count": null,
   "metadata": {},
   "outputs": [],
   "source": [
    "kmeans = KMeans(n_clusters=3)\n",
    "kmeans.fit(features)\n",
    "pred_2 = kmeans.predict(features)"
   ]
  },
  {
   "cell_type": "code",
   "execution_count": null,
   "metadata": {},
   "outputs": [],
   "source": [
    "centers = kmeans.cluster_centers_\n",
    "centers"
   ]
  },
  {
   "cell_type": "code",
   "execution_count": null,
   "metadata": {},
   "outputs": [],
   "source": [
    "plt.scatter(features[(pred_2 == 0), 0], features[(pred_2 == 0), 1], color = 'r')\n",
    "plt.scatter(features[(pred_2 == 1), 0], features[(pred_2 == 1), 1], color = 'b')\n",
    "plt.scatter(features[(pred_2 == 2), 0], features[(pred_2 == 2), 1], color = 'g')\n",
    "plt.plot(centers[:, 0], centers[:, 1], 'k+', markersize = 10)\n",
    "plt.show()"
   ]
  },
  {
   "cell_type": "markdown",
   "metadata": {
    "colab_type": "text",
    "id": "W5BDdkaBKeL4"
   },
   "source": [
    "## Clustering Jerárquico: Dendograma"
   ]
  },
  {
   "cell_type": "code",
   "execution_count": null,
   "metadata": {
    "colab": {},
    "colab_type": "code",
    "id": "MUwEtiTXKCa_"
   },
   "outputs": [],
   "source": [
    "plt.title('Visualizando la data') \n",
    "dendrogram = shc.dendrogram((shc.linkage(X, method ='ward')))"
   ]
  },
  {
   "cell_type": "code",
   "execution_count": null,
   "metadata": {
    "colab": {},
    "colab_type": "code",
    "id": "hsPt0TVqIYRM"
   },
   "outputs": [],
   "source": [
    "agg = AgglomerativeClustering(3)\n",
    "pred = agg.fit_predict(X)"
   ]
  },
  {
   "cell_type": "code",
   "execution_count": null,
   "metadata": {
    "colab": {},
    "colab_type": "code",
    "id": "_PdBClxPKV0d"
   },
   "outputs": [],
   "source": [
    "pred[:10]"
   ]
  },
  {
   "cell_type": "code",
   "execution_count": null,
   "metadata": {},
   "outputs": [],
   "source": [
    "pd.value_counts(pred)"
   ]
  },
  {
   "cell_type": "code",
   "execution_count": null,
   "metadata": {},
   "outputs": [],
   "source": [
    "# tabla de frecuencia relativa\n",
    "round(100 * pd.value_counts(pred) / len(pred),2)"
   ]
  },
  {
   "cell_type": "code",
   "execution_count": null,
   "metadata": {},
   "outputs": [],
   "source": []
  }
 ],
 "metadata": {
  "colab": {
   "collapsed_sections": [
    "UsY3VwwXjyQQ",
    "0_QEzYLtj7En",
    "aHULf25Uj_Pt",
    "qXKnynRvje0e",
    "6HdvOjQWt6dC",
    "qWUmM0Jkv_Vb",
    "Jv1wYsXWwrR5",
    "W5BDdkaBKeL4"
   ],
   "name": "Sesión5_OG2.ipynb",
   "provenance": []
  },
  "kernelspec": {
   "display_name": "Python 3",
   "language": "python",
   "name": "python3"
  },
  "language_info": {
   "codemirror_mode": {
    "name": "ipython",
    "version": 3
   },
   "file_extension": ".py",
   "mimetype": "text/x-python",
   "name": "python",
   "nbconvert_exporter": "python",
   "pygments_lexer": "ipython3",
   "version": "3.8.5"
  }
 },
 "nbformat": 4,
 "nbformat_minor": 1
}
