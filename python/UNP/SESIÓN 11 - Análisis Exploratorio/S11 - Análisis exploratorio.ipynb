{
 "cells": [
  {
   "cell_type": "markdown",
   "metadata": {},
   "source": [
    "# Sesión 11: Análisis Exploratorio"
   ]
  },
  {
   "cell_type": "markdown",
   "metadata": {},
   "source": [
    "# Análisis exploratorio de datos"
   ]
  },
  {
   "cell_type": "code",
   "execution_count": null,
   "metadata": {},
   "outputs": [],
   "source": [
    "import pandas as pd"
   ]
  },
  {
   "cell_type": "code",
   "execution_count": null,
   "metadata": {},
   "outputs": [],
   "source": [
    "df_sfy = pd.read_csv('data/data_spotify.csv')"
   ]
  },
  {
   "cell_type": "code",
   "execution_count": null,
   "metadata": {},
   "outputs": [],
   "source": [
    "# Damos una vista previa a nuestros datos\n",
    "df_sfy.head()\n"
   ]
  },
  {
   "cell_type": "code",
   "execution_count": null,
   "metadata": {},
   "outputs": [],
   "source": [
    "# Reconocer qué tipo de datos tenemos\n",
    "df_sfy.dtypes"
   ]
  },
  {
   "cell_type": "code",
   "execution_count": null,
   "metadata": {},
   "outputs": [],
   "source": [
    "df_sfy.info()"
   ]
  },
  {
   "cell_type": "code",
   "execution_count": null,
   "metadata": {},
   "outputs": [],
   "source": [
    "df_sfy.describe()"
   ]
  },
  {
   "cell_type": "markdown",
   "metadata": {},
   "source": [
    "#### Detección de nulos"
   ]
  },
  {
   "cell_type": "code",
   "execution_count": null,
   "metadata": {},
   "outputs": [],
   "source": [
    "df_sfy.isnull().any()"
   ]
  },
  {
   "cell_type": "code",
   "execution_count": null,
   "metadata": {},
   "outputs": [],
   "source": [
    "df_sfy[\"genres\"].isnull().sum()"
   ]
  },
  {
   "cell_type": "code",
   "execution_count": null,
   "metadata": {},
   "outputs": [],
   "source": [
    "df_sfy[\"genres\"].notnull().sum()"
   ]
  },
  {
   "cell_type": "code",
   "execution_count": null,
   "metadata": {},
   "outputs": [],
   "source": [
    "df_sfy[\"genres\"].isnull()"
   ]
  },
  {
   "cell_type": "code",
   "execution_count": null,
   "metadata": {},
   "outputs": [],
   "source": [
    "df2 = df_sfy[df_sfy[\"genres\"].notnull()]"
   ]
  },
  {
   "cell_type": "code",
   "execution_count": null,
   "metadata": {},
   "outputs": [],
   "source": [
    "df2.info()"
   ]
  },
  {
   "cell_type": "code",
   "execution_count": null,
   "metadata": {},
   "outputs": [],
   "source": [
    "df2.describe()"
   ]
  },
  {
   "cell_type": "markdown",
   "metadata": {},
   "source": [
    "### 1.1. Si nuestra variable es numérica"
   ]
  },
  {
   "cell_type": "code",
   "execution_count": null,
   "metadata": {
    "scrolled": false
   },
   "outputs": [],
   "source": [
    "#!pip install seaborn"
   ]
  },
  {
   "cell_type": "code",
   "execution_count": null,
   "metadata": {},
   "outputs": [],
   "source": [
    "import matplotlib.pyplot as plt"
   ]
  },
  {
   "cell_type": "markdown",
   "metadata": {},
   "source": [
    "#### Histogramas\n",
    "\n",
    "Un histograma es una representación gráfica de la distribución de datos numéricos. Toma como input una variable numérica. La variable se corta en varios bins, y el número de observación por bins está representado por la altura de la barra. Tenga en cuenta que la forma del histograma puede ser diferente dependiendo del número de bins que configure."
   ]
  },
  {
   "cell_type": "code",
   "execution_count": null,
   "metadata": {},
   "outputs": [],
   "source": [
    "import matplotlib.pyplot as plt\n",
    "import seaborn as sns"
   ]
  },
  {
   "cell_type": "code",
   "execution_count": null,
   "metadata": {
    "scrolled": false
   },
   "outputs": [],
   "source": [
    "# Make default histogram of sepal length\n",
    "plt.hist(df_sfy[\"popularity\"], bins = 40,edgecolor='black')\n",
    "plt.show()"
   ]
  },
  {
   "cell_type": "code",
   "execution_count": null,
   "metadata": {},
   "outputs": [],
   "source": [
    "# Make default histogram of sepal length\n",
    "plt.hist(df_sfy[\"popularity\"], bins=100,edgecolor='black')\n",
    "plt.show()"
   ]
  },
  {
   "cell_type": "code",
   "execution_count": null,
   "metadata": {},
   "outputs": [],
   "source": [
    "plt.hist(df_sfy[\"popularity\"], bins=20, color='g', cumulative =True,edgecolor='black')\n",
    "plt.show()"
   ]
  },
  {
   "cell_type": "code",
   "execution_count": null,
   "metadata": {},
   "outputs": [],
   "source": [
    "plt.hist(df_sfy[\"popularity\"], bins=100, color='g', cumulative =False,edgecolor='black')\n",
    "plt.show()"
   ]
  },
  {
   "cell_type": "code",
   "execution_count": null,
   "metadata": {},
   "outputs": [],
   "source": [
    "# Control del numero de bins\n",
    "sns.distplot( df_sfy[\"popularity\"], bins=10)"
   ]
  },
  {
   "cell_type": "code",
   "execution_count": null,
   "metadata": {},
   "outputs": [],
   "source": [
    "# Control del numero de bins\n",
    "sns.distplot( df_sfy[\"followers\"], bins=100)"
   ]
  },
  {
   "cell_type": "markdown",
   "metadata": {},
   "source": [
    "#### Diagrama de cajas\n",
    "\n",
    "Boxplot es uno de los tipos de gráficos más comunes. Da un buen resumen de una o varias variables numéricas. La línea que divide la caja en 2 partes representa la mediana de los datos. El final del cuadro muestra los cuartiles superior e inferior. Las líneas extremas muestran los valores más altos y más bajos sin incluir *valores atípicos*. Tenga en cuenta que boxplot oculta el número de valores existiendo detrás de la variable. Por lo tanto, se recomienda imprimir el número de observación."
   ]
  },
  {
   "cell_type": "code",
   "execution_count": null,
   "metadata": {
    "scrolled": true
   },
   "outputs": [],
   "source": [
    "df_box = df_sfy.loc[(df_sfy['genres'] == 'bolero') | (df_sfy['genres'] == 'spanish pop')]\n",
    "df_box"
   ]
  },
  {
   "cell_type": "code",
   "execution_count": null,
   "metadata": {},
   "outputs": [],
   "source": [
    "plt.boxplot(df_box['followers'])\n",
    "plt.show()"
   ]
  },
  {
   "cell_type": "code",
   "execution_count": null,
   "metadata": {
    "scrolled": true
   },
   "outputs": [],
   "source": [
    "plt.boxplot(df_box['followers'], vert=False)\n",
    "plt.show()"
   ]
  },
  {
   "cell_type": "code",
   "execution_count": null,
   "metadata": {},
   "outputs": [],
   "source": [
    "import matplotlib.pyplot as plt\n",
    "df_sfy['popularity'].plot(kind='box', color = 'blue')\n",
    "plt.title('Diagrama de cajas')\n",
    "plt.show()"
   ]
  },
  {
   "cell_type": "code",
   "execution_count": null,
   "metadata": {},
   "outputs": [],
   "source": [
    "import matplotlib.pyplot as plt\n",
    "df_sfy['followers'].plot(kind='box', color = 'blue')\n",
    "plt.title('Diagrama de cajas')\n",
    "plt.show()"
   ]
  },
  {
   "cell_type": "code",
   "execution_count": null,
   "metadata": {},
   "outputs": [],
   "source": [
    "plt.boxplot([df_box[df_box['genres']=='bolero']['followers'],\n",
    "             df_box[df_box['genres']=='spanish pop']['followers']])\n",
    "plt.show()"
   ]
  },
  {
   "cell_type": "code",
   "execution_count": null,
   "metadata": {},
   "outputs": [],
   "source": [
    "sns.boxplot(x=df_box['genres'], y=df_box['followers'], palette=\"Reds\")"
   ]
  },
  {
   "cell_type": "code",
   "execution_count": null,
   "metadata": {},
   "outputs": [],
   "source": [
    "df_sfy[(df_sfy['genres']=='bolero') & (df_sfy['followers']>15000)]"
   ]
  },
  {
   "cell_type": "code",
   "execution_count": null,
   "metadata": {},
   "outputs": [],
   "source": [
    "df_sfy[(df_sfy['genres']=='spanish pop') & (df_sfy['followers']>40000)]"
   ]
  },
  {
   "cell_type": "code",
   "execution_count": null,
   "metadata": {},
   "outputs": [],
   "source": [
    "plt.boxplot([df_box[df_box['genres']=='bolero']['popularity'],\n",
    "             df_box[df_box['genres']=='spanish pop']['popularity']])\n",
    "plt.show()"
   ]
  },
  {
   "cell_type": "code",
   "execution_count": null,
   "metadata": {},
   "outputs": [],
   "source": [
    "sns.boxplot( x=df_box['genres'], y=df_box['popularity'], palette=\"Blues\")"
   ]
  },
  {
   "cell_type": "code",
   "execution_count": null,
   "metadata": {},
   "outputs": [],
   "source": [
    "# Add jitter with the swarmplot function.\n",
    "sns.boxplot( x=df_box['genres'], y=df_box['popularity'], palette=\"Blues\")\n",
    "sns.swarmplot(x=df_box['genres'], y=df_box['popularity'], data=df_box, color=\"grey\")"
   ]
  },
  {
   "cell_type": "markdown",
   "metadata": {},
   "source": [
    "#### Scaterplot\n",
    "\n",
    "\n",
    "Un Scatterplot muestra el valor de 2 conjuntos de datos en 2 dimensiones. Cada punto representa una observación. La posición en los ejes X (horizontal) e Y (vertical) representa los valores de 2 variables. Es realmente útil estudiar la relación entre ambas variables."
   ]
  },
  {
   "cell_type": "code",
   "execution_count": null,
   "metadata": {},
   "outputs": [],
   "source": [
    "plt.scatter(df_sfy[\"followers\"]/1000, y=df_sfy[\"popularity\"])\n",
    "plt.show()"
   ]
  },
  {
   "cell_type": "code",
   "execution_count": null,
   "metadata": {},
   "outputs": [],
   "source": [
    "sns.regplot(x=df_sfy[\"followers\"]/1000, y=df_sfy[\"popularity\"], fit_reg=False)"
   ]
  },
  {
   "cell_type": "code",
   "execution_count": null,
   "metadata": {},
   "outputs": [],
   "source": [
    "sns.regplot(x=df_sfy[\"followers\"]/1000, y=df_sfy[\"popularity\"], fit_reg=True)"
   ]
  },
  {
   "cell_type": "code",
   "execution_count": null,
   "metadata": {},
   "outputs": [],
   "source": [
    "df_scp = df_sfy.loc[(df_sfy['genres'] == 'bolero') | (df_sfy['genres'] == 'spanish pop')]\n",
    "df_scp.head()"
   ]
  },
  {
   "cell_type": "code",
   "execution_count": null,
   "metadata": {},
   "outputs": [],
   "source": [
    "# Usemos el argumento 'hue' para definir una la variable factor \n",
    "sns.lmplot( x=\"followers\", y=\"popularity\", data=df_scp, fit_reg=False, hue='genres', legend=True)"
   ]
  },
  {
   "cell_type": "markdown",
   "metadata": {},
   "source": [
    "### 1.2. Análisis de correlaciones"
   ]
  },
  {
   "cell_type": "code",
   "execution_count": null,
   "metadata": {},
   "outputs": [],
   "source": [
    "#para variables numéricas\n",
    "df_sfy.corr()"
   ]
  },
  {
   "cell_type": "markdown",
   "metadata": {},
   "source": [
    "Lo que más nos importa es la relación entre la popularidad y los seguidores en la data de spotify.\n",
    "El coeficiente de correlación de Pearson, para la inversión de publicidad en TV y las ventas es de 0.524, podemos considerar una relación directa (pero no muy fuerte) entre ambas variables. "
   ]
  },
  {
   "cell_type": "code",
   "execution_count": null,
   "metadata": {},
   "outputs": [],
   "source": [
    "#matriz de correlaciones para interpretarlo de manera gráfica\n",
    "plt.matshow(df_sfy.corr())"
   ]
  },
  {
   "cell_type": "markdown",
   "metadata": {},
   "source": [
    "### 1.3. Si nuestra variable es categórica"
   ]
  },
  {
   "cell_type": "code",
   "execution_count": null,
   "metadata": {
    "scrolled": true
   },
   "outputs": [],
   "source": [
    "# ¿Qué artista tiene mayor popularidad?\n",
    "df_sfy.groupby('Label').agg({'popularity':'sum'}).sort_values('popularity', ascending = False)"
   ]
  },
  {
   "cell_type": "code",
   "execution_count": null,
   "metadata": {
    "scrolled": true
   },
   "outputs": [],
   "source": [
    "# ¿Qué artista tiene más seguidores?\n",
    "df_sfy.groupby('Label').agg({'followers':'sum'}).sort_values('followers', ascending = False)"
   ]
  },
  {
   "cell_type": "code",
   "execution_count": null,
   "metadata": {},
   "outputs": [],
   "source": [
    "df_seguidores = df_sfy.groupby('Label', as_index=False).agg({'followers':'sum'}).sort_values('followers', ascending = False)"
   ]
  },
  {
   "cell_type": "markdown",
   "metadata": {},
   "source": [
    "#### Gráfico de barras\n",
    "\n",
    "Una barra de barras muestra la relación entre una variable numérica y una variable categórica. Cada entidad de la variable categórica se representa como una barra. El tamaño de la barra representa su valor numérico. "
   ]
  },
  {
   "cell_type": "code",
   "execution_count": null,
   "metadata": {},
   "outputs": [],
   "source": [
    "# Librerias\n",
    "import numpy as np\n",
    "import matplotlib.pyplot as plt\n",
    " \n",
    "# Make fake dataset\n",
    "height = df_seguidores['followers'][:10]/1000000\n",
    "bars = df_seguidores['Label'][:10]\n",
    "y_pos = np.arange(len(bars))\n",
    " \n",
    "# Crear las barras\n",
    "#fig = plt.barh(y_pos, height)\n",
    "fig = plt.bar(y_pos, height)\n",
    "\n",
    "# Crear nombres de los ejes\n",
    "#plt.yticks(y_pos, bars)\n",
    "plt.xticks(y_pos, bars, rotation=90)\n",
    "plt.xlabel('Artistas', fontweight='bold', color = 'blue', fontsize='12')\n",
    "plt.ylabel('Seguidores (MM)', fontweight='bold', color = 'blue', fontsize='12')\n",
    "\n",
    "# Mostrar gráfico\n",
    "plt.show()"
   ]
  },
  {
   "cell_type": "markdown",
   "metadata": {},
   "source": [
    "#### Nube de palabras\n",
    "\n",
    "Un Wordcloud (o nube de etiquetas) muestra una lista de palabras. Este tipo de gráficos es útil para percibir rápidamente los términos más destacados. "
   ]
  },
  {
   "cell_type": "code",
   "execution_count": null,
   "metadata": {
    "scrolled": true
   },
   "outputs": [],
   "source": [
    "# Consola: Anaconda Powershell Prompt o Anaconda Prompt\n",
    "# Ejecutar la consola para instalar la librería wordcloud\n",
    "# con uno de los siguientes comandos:\n",
    "\n",
    "# pip install wordcloud\n",
    "# conda install -c conda-forge wordcloud\n",
    "# conda install -c conda-forge/label/gcc7 wordcloud\n",
    "# conda install -c conda-forge/label/cf201901 wordcloud\n",
    "# conda install -c conda-forge/label/cf202003 wordcloud\n",
    "\n",
    "# si no funciona, la causa más probable es por la versión del python o del windows (32 o 64 bits)\n",
    "# con el siguiente código revisamos la versión:"
   ]
  },
  {
   "cell_type": "code",
   "execution_count": null,
   "metadata": {},
   "outputs": [],
   "source": [
    "import sys\n",
    "print(sys.version)"
   ]
  },
  {
   "cell_type": "code",
   "execution_count": null,
   "metadata": {},
   "outputs": [],
   "source": [
    "# para instalar una librería externa tenemos que hacerlo desde un archivo wheel (.whl)\n",
    "# en la siguiente ruta tenemos un repositorio de librerías para casos especiales:\n",
    "# https://www.lfd.uci.edu/~gohlke/pythonlibs/\n",
    "\n",
    "# descargamos el archivo wheel deacuerdo a la versión del python instalado\n",
    "# por ejemplo para Python 3.7 en un Windows de 32 bits Intel\n",
    "# descargamos este archivo:\n",
    "# wordcloud-1.7.0-cp37-cp37m-win32.whl"
   ]
  },
  {
   "cell_type": "code",
   "execution_count": null,
   "metadata": {},
   "outputs": [],
   "source": [
    "# para instalarlo debemos hacer lo siguiente: \n",
    "# 1. Colocar el archivo en una ruta sencilla, recomiendo la raíz de un disco (como el D:\\)\n",
    "# 2. En consola nos dirigimos a la ruta donde se encuentra el archivo:\n",
    "# cd <ruta del archivo>\n",
    "# 3. Finalmente instalamos el archivo con la siguiente línea de comando:\n",
    "# pip install --no-index --find-links=LocalPathToWheelFile <nombre del archivo>"
   ]
  },
  {
   "cell_type": "code",
   "execution_count": null,
   "metadata": {},
   "outputs": [],
   "source": [
    "!pip install wordcloud"
   ]
  },
  {
   "cell_type": "code",
   "execution_count": null,
   "metadata": {},
   "outputs": [],
   "source": [
    "from wordcloud import WordCloud\n",
    "import matplotlib.pyplot as plt"
   ]
  },
  {
   "cell_type": "code",
   "execution_count": null,
   "metadata": {},
   "outputs": [],
   "source": [
    "text = ';'.join(str(x) for x in df_sfy['genres'])\n",
    "text"
   ]
  },
  {
   "cell_type": "code",
   "execution_count": null,
   "metadata": {},
   "outputs": [],
   "source": [
    "# Crear el objeto wordcloud\n",
    "wordcloud = WordCloud(width=1600, height=1600).generate(text)\n",
    " \n",
    "# Mostremos la imagen:\n",
    "plt.imshow(wordcloud, interpolation='bilinear')\n",
    "plt.axis(\"off\")\n",
    "plt.margins(x=0, y=0)\n",
    "plt.show()"
   ]
  },
  {
   "attachments": {
    "image.png": {
     "image/png": "[encoded data removed]"
    }
   },
   "cell_type": "markdown",
   "metadata": {},
   "source": [
    "#### Resultado esperado:\n",
    "![image.png](attachment:image.png)"
   ]
  },
  {
   "cell_type": "markdown",
   "metadata": {},
   "source": [
    "### Referencias\n",
    "https://www.analyticsvidhya.com/blog/2016/01/guide-data-exploration/#two\n",
    "\n",
    "https://www.analyticsvidhya.com/blog/2016/01/12-pandas-techniques-python-data-manipulation/\n",
    "\n",
    "https://www.analyticsvidhya.com/blog/2016/01/complete-tutorial-learn-data-science-python-scratch-2/\n",
    "\n",
    "Github:\n",
    "\n",
    "\n",
    "http://nbviewer.jupyter.org/github/albahnsen/PracticalMachineLearningClass/blob/master/notebooks/06-data_preparation_evaluation_update.ipynb\n",
    "\n",
    "Data:\n",
    "\n",
    "https://www.kaggle.com/adityapatil673/visual-analysis-of-apps-on-applestore?utm_medium=email&utm_source=mailchimp&utm_campaign=datanotes-20180726\n",
    "\n",
    "https://www.analyticsvidhya.com/blog/2018/05/24-ultimate-data-science-projects-to-boost-your-knowledge-and-skills/?utm_medium=social&utm_source=facebook.com&utm_campaign=buffer\n",
    "\n",
    "Repositorio de librerías:\n",
    "\n",
    "https://www.lfd.uci.edu/~gohlke/pythonlibs/"
   ]
  }
 ],
 "metadata": {
  "kernelspec": {
   "display_name": "Python 3",
   "language": "python",
   "name": "python3"
  },
  "language_info": {
   "codemirror_mode": {
    "name": "ipython",
    "version": 3
   },
   "file_extension": ".py",
   "mimetype": "text/x-python",
   "name": "python",
   "nbconvert_exporter": "python",
   "pygments_lexer": "ipython3",
   "version": "3.8.5"
  }
 },
 "nbformat": 4,
 "nbformat_minor": 2
}
