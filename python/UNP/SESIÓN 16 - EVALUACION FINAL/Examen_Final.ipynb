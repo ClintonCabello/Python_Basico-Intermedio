{
 "cells": [
  {
   "cell_type": "markdown",
   "metadata": {},
   "source": [
    "## Examen Final"
   ]
  },
  {
   "cell_type": "markdown",
   "metadata": {},
   "source": [
    "__Nota: --/20__"
   ]
  },
  {
   "cell_type": "markdown",
   "metadata": {},
   "source": [
    "Lea atentamente las indicaciones y resuelva los ejercicios planteados.\n",
    "\n",
    "El examen tiene una duración de 2 horas.\n",
    "Deberá subir el archivo al espacio creado en \"Tarea Sesion 16\" con el nombre: Apellidos_Nombres_ExamenFinal, por ejemplo: PerezRosas_JuanJose_ExamenFinal\n",
    "\n",
    "¡Éxitos!"
   ]
  },
  {
   "cell_type": "markdown",
   "metadata": {},
   "source": [
    "1. Las siguientes celdas contienen código con errores, modifíquelas para solventar los errores:"
   ]
  },
  {
   "cell_type": "code",
   "execution_count": 1,
   "metadata": {},
   "outputs": [
    {
     "ename": "SyntaxError",
     "evalue": "invalid syntax (<ipython-input-1-ede0a8511f19>, line 1)",
     "output_type": "error",
     "traceback": [
      "\u001b[1;36m  File \u001b[1;32m\"<ipython-input-1-ede0a8511f19>\"\u001b[1;36m, line \u001b[1;32m1\u001b[0m\n\u001b[1;33m    mis datos = [15,25,30,80,220] # 0.5 pts\u001b[0m\n\u001b[1;37m        ^\u001b[0m\n\u001b[1;31mSyntaxError\u001b[0m\u001b[1;31m:\u001b[0m invalid syntax\n"
     ]
    }
   ],
   "source": [
    "mis datos = [15,25,30,80,220] # 0.5 pts"
   ]
  },
  {
   "cell_type": "code",
   "execution_count": null,
   "metadata": {},
   "outputs": [],
   "source": [
    "print(type(12.58547)    # 0.5 pts"
   ]
  },
  {
   "cell_type": "code",
   "execution_count": 2,
   "metadata": {},
   "outputs": [
    {
     "ename": "SyntaxError",
     "evalue": "invalid syntax (<ipython-input-2-f6446cd2db85>, line 1)",
     "output_type": "error",
     "traceback": [
      "\u001b[1;36m  File \u001b[1;32m\"<ipython-input-2-f6446cd2db85>\"\u001b[1;36m, line \u001b[1;32m1\u001b[0m\n\u001b[1;33m    def = 25 # 0.5 pts\u001b[0m\n\u001b[1;37m        ^\u001b[0m\n\u001b[1;31mSyntaxError\u001b[0m\u001b[1;31m:\u001b[0m invalid syntax\n"
     ]
    }
   ],
   "source": [
    "def = 25 # 0.5 pts"
   ]
  },
  {
   "cell_type": "code",
   "execution_count": null,
   "metadata": {},
   "outputs": [],
   "source": [
    "vector = numpy.array([15,25,30,80,220]) # 0.5 pts\n",
    "print(vector*2)"
   ]
  },
  {
   "cell_type": "code",
   "execution_count": null,
   "metadata": {},
   "outputs": [],
   "source": [
    "a = 8         # 0.5 pts\n",
    "b = 10\n",
    "if a = b:\n",
    "    print(\"iguales\")"
   ]
  },
  {
   "cell_type": "code",
   "execution_count": null,
   "metadata": {},
   "outputs": [],
   "source": [
    "lista = [0,1,2,3]  # 0.5 pts\n",
    "lista.apend(4)\n",
    "print(lista)"
   ]
  },
  {
   "cell_type": "code",
   "execution_count": null,
   "metadata": {},
   "outputs": [],
   "source": [
    "a = 10 # 0.5 pts\n",
    "b = \"15\"\n",
    "suma = a + b\n",
    "print(suma)"
   ]
  },
  {
   "cell_type": "code",
   "execution_count": null,
   "metadata": {},
   "outputs": [],
   "source": [
    "c = 26  # 0.5 pts\n",
    "d = 12\n",
    "multiplicacion = 5d + 4c\n",
    "print(multiplicacion)"
   ]
  },
  {
   "cell_type": "code",
   "execution_count": null,
   "metadata": {},
   "outputs": [],
   "source": [
    "def saludo # 0.5 pts\n",
    "    print(\"hola\")"
   ]
  },
  {
   "cell_type": "code",
   "execution_count": null,
   "metadata": {},
   "outputs": [],
   "source": [
    "x = 4  # 0.5 pts\n",
    "t = 2\n",
    "d = X*T\n",
    "print(d)"
   ]
  },
  {
   "cell_type": "markdown",
   "metadata": {},
   "source": [
    "2. Una empresa que ofrece servicios de banquetes tiene precios diferenciados según la cantidad de platos solicitados:\n",
    "\n",
    "\n",
    "    Precio por plato : Pedido mínimo\n",
    "    \n",
    "    17.90           si        el pedido mínimo es <= 25\n",
    "    \n",
    "    16.90           si        el pedido mínimo es > 25 y <= 100\n",
    "    \n",
    "    15.90           si        el pedido mínimo es > 100 y <= 1000 \n",
    "    \n",
    "    13.90           si        el pedido mínimo es > 1000\n",
    "    \n",
    "    Además cobra un cargo fijo de 0.5 por plato debido al servicio de los camareros.\n",
    "\n",
    "    Escriba un programa que permita conocer el precio final que deberá pagar según la cantidad de platos solicitados a dicha empresa. Por ejemplo, si los platos pedidos son 500, el costo total será de 8200 (500*15.90 + 0.5*500)\n",
    "    \n",
    "    La unidad (moneda) utilizada es el dólar.\n",
    "\n",
    "    Requisitos:\n",
    "    \n",
    "    El código deberá pedir que el usuario ingrese por teclado la cantidad de platos solicitados.\n",
    "    \n",
    "    El código deberá imprimir en pantalla el costo total de dicho pedido.\n",
    "    \n",
    "    Obligatoriamente debe utilizar una estructura IF .  \n",
    "    \n",
    "    3 pts"
   ]
  },
  {
   "cell_type": "code",
   "execution_count": null,
   "metadata": {},
   "outputs": [],
   "source": []
  },
  {
   "cell_type": "markdown",
   "metadata": {},
   "source": [
    "3. Cree una función que dadas dos listas de n elementos, las sume como si fueran vectores, es decir, posición por posición.\n",
    "\n",
    "    La entrada de la función deben ser dos listas.\n",
    "    La salida de la función debe ser otra lista.\n",
    "\n",
    "    Por ejemplo:\n",
    "    \n",
    "    el código funcion([a1,a2,a3], [b1,b2,b3]) deberá dar como resultado [a1+b1, a2+b2, a3+b3]\n",
    "\n",
    "    funcion([1,2,3], [4,5,6]) deberá dar como resultado [5,7,9]\n",
    "\n",
    "\n",
    "    Tip: con la función len() obtiene el tamaño de una lista\n",
    "            la funcion range() le puede ser de utilidad\n",
    "\n",
    "    2pts"
   ]
  },
  {
   "cell_type": "code",
   "execution_count": null,
   "metadata": {},
   "outputs": [],
   "source": []
  },
  {
   "cell_type": "markdown",
   "metadata": {},
   "source": [
    "4. Cree una función que dado un número entero que designa un periodo de tiempo expresado en segundos, imprima el equivalente en días, horas, minutos y segundos. Por ejemplo: 300000 segundos serán 3 días, 11 horas, 20 minutos y 0 segundos. Por ejemplo: 7400 segundos serán 0 días, 2 horas, 3 minutos y 20 segundos (4pts)\n",
    "\n",
    "        Tip: \n",
    "             el operador residuo es %\n",
    "             el operador division entera // devuelve el cociente\n",
    "             \n",
    "             \n",
    "3pts"
   ]
  },
  {
   "cell_type": "code",
   "execution_count": null,
   "metadata": {},
   "outputs": [],
   "source": []
  },
  {
   "cell_type": "markdown",
   "metadata": {},
   "source": [
    "5. Cree una función que haga exactamente lo contrario a la anterior. Tendrá como entrada 4 números enteros que indiquen los días, horas, minutos y segundos, mientras que la salida será la cantidad de segundos totales equivalente a dicho tiempo. Deberás definir a todos los argumentos con valor cero por defecto, de tal manera que:\n",
    "\n",
    "         funcion(dias=1) devuelva como resultado 86400\n",
    "         funcion(minutos=1) devuelva como resultado 60\n",
    "         funcion(0,0,0,5) devuelva como resultado 5\n",
    "\n",
    "\n",
    "2pt"
   ]
  },
  {
   "cell_type": "code",
   "execution_count": null,
   "metadata": {},
   "outputs": [],
   "source": []
  },
  {
   "cell_type": "markdown",
   "metadata": {},
   "source": [
    "6. Cree una función que reciba como entrada un número entero en base decimal y lo convierta en un número de base 2. El tipo de dato de entrada será \"int\" y la salida en \"str\" \n",
    "\n",
    "        La base dos contiene solo los dígitos 0 y 1\n",
    "        La transformación de una base a la otra se puede realizar con divisiones sucesivas. Observe la imagen anexa que explica cómo se pasa de base 10 a base 2. \n",
    "        \n",
    "        \n",
    "        Tip: el operador residuo es %\n",
    "             el operador division entera // devuelve el cociente\n",
    "             con la función str() cambia a tipo de dato str\n",
    "      \n",
    "\n",
    "4 pts"
   ]
  },
  {
   "cell_type": "markdown",
   "metadata": {},
   "source": [
    "Para hacer la conversión de decimal a binario, hay que ir dividiendo el número decimal entre dos y anotar en una columna a la derecha el resto (un 0 si el resultado de la división es par y un 1 si es impar).\n",
    "\n",
    "La lista de ceros y unos leídos de abajo a arriba es el resultado."
   ]
  },
  {
   "cell_type": "code",
   "execution_count": null,
   "metadata": {},
   "outputs": [],
   "source": []
  },
  {
   "cell_type": "markdown",
   "metadata": {},
   "source": [
    "7. Cree una nueva clase de Python que se llamará alumno.\n",
    "   \n",
    "   La clase alumno tienen como atributos:\n",
    "       nombres (str)\n",
    "       apellidos (str)\n",
    "       calificaciones(list)\n",
    "       \n",
    "   La clase alumno tiene tres métodos:\n",
    "       El método constructor (__init__) que requiere dos argumentos: nombres y apellidos.\n",
    "       El método agregarCalificacion() el cual permite añadir una única calificación en la lista de calificaciones de dicho alumno. \n",
    "       El método obtenerPromedio() el cual debe devolver el promedio de todas las calificaciones que posea el alumno.\n",
    "       \n",
    "       \n",
    "       \n",
    "       Por ejemplo:\n",
    "       \n",
    ">Juan = Alumno(\"Juan\", \"Arevalo\")  # crea un objeto Alumno\n",
    "\n",
    ">Juan.agregarCalificacion(15)  #agrega una nota\n",
    "\n",
    ">Juan.agregarCalificacion(17)  #agrega una nota\n",
    "\n",
    ">Juan.agregarCalificacion(16)  #agrega una nota\n",
    "\n",
    ">Juan.obtenerPromedio()        #devuelve el promedio, en este caso 16 que resulta de (15+17+16)/3 \n",
    "       \n",
    "       No tiene permitido importar paquetes.\n",
    "       \n",
    "       5 pts"
   ]
  },
  {
   "cell_type": "code",
   "execution_count": null,
   "metadata": {},
   "outputs": [],
   "source": []
  },
  {
   "cell_type": "markdown",
   "metadata": {},
   "source": [
    "8. Realice los siguientes gráficos:"
   ]
  },
  {
   "cell_type": "markdown",
   "metadata": {},
   "source": [
    "8.1. Muestre un gráfico de barras para comparar los ingresos (en miles de dólares) de las empresas A y B. Revise en las imágenes anexas cómo debe mostrarse el resultado final.  \n",
    "    \n",
    "4 pts"
   ]
  },
  {
   "cell_type": "code",
   "execution_count": null,
   "metadata": {},
   "outputs": [],
   "source": [
    "meses = [\"ene\", \"feb\", \"mar\", \"abr\", \"may\", \"jun\"]\n",
    "ingresos_A = [17, 19, 18, 15, 14, 15]\n",
    "ingresos_B = [18, 17, 18, 17, 16, 16]  "
   ]
  },
  {
   "cell_type": "markdown",
   "metadata": {},
   "source": [
    "9. A partir de la base de datos \"poblacion1997\" escriba la consulta correspondiente (código) y responda:\n",
    "\n"
   ]
  },
  {
   "cell_type": "code",
   "execution_count": null,
   "metadata": {},
   "outputs": [],
   "source": [
    "import pandas as pd\n",
    "data = pd.read_excel(\"poblacion1997.xlsx\")\n",
    "data.head()"
   ]
  },
  {
   "cell_type": "markdown",
   "metadata": {},
   "source": [
    "Detalle por columna:\n",
    "\n",
    "    Estado : nombre del estado (división politica)\n",
    "    Capital : nombre de la capital del estado.\n",
    "    Población 1997 : poblacion de la capital en 1997"
   ]
  },
  {
   "cell_type": "markdown",
   "metadata": {},
   "source": [
    "a. ¿cuál es la capital con mayor población? (1pto)"
   ]
  },
  {
   "cell_type": "code",
   "execution_count": null,
   "metadata": {},
   "outputs": [],
   "source": []
  },
  {
   "cell_type": "markdown",
   "metadata": {},
   "source": [
    "b. ¿cuál es la capital con menor población? (1pto)"
   ]
  },
  {
   "cell_type": "code",
   "execution_count": null,
   "metadata": {},
   "outputs": [],
   "source": []
  },
  {
   "cell_type": "markdown",
   "metadata": {},
   "source": [
    "c. ¿cuál es la población total? (1pto)"
   ]
  },
  {
   "cell_type": "code",
   "execution_count": null,
   "metadata": {},
   "outputs": [],
   "source": []
  },
  {
   "cell_type": "markdown",
   "metadata": {},
   "source": [
    "d. muestre un gráfico de barras con la población de solo las 5 capitales más pobladas.(2 ptos)"
   ]
  },
  {
   "cell_type": "code",
   "execution_count": null,
   "metadata": {},
   "outputs": [],
   "source": []
  }
 ],
 "metadata": {
  "kernelspec": {
   "display_name": "Python 3",
   "language": "python",
   "name": "python3"
  },
  "language_info": {
   "codemirror_mode": {
    "name": "ipython",
    "version": 3
   },
   "file_extension": ".py",
   "mimetype": "text/x-python",
   "name": "python",
   "nbconvert_exporter": "python",
   "pygments_lexer": "ipython3",
   "version": "3.8.5"
  }
 },
 "nbformat": 4,
 "nbformat_minor": 4
}
