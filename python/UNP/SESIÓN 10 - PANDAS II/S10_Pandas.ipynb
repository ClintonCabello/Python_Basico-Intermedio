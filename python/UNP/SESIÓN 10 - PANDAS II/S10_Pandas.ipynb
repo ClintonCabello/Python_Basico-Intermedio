{
 "cells": [
  {
   "cell_type": "markdown",
   "metadata": {},
   "source": [
    "## Análisis de datos con Pandas (II)"
   ]
  },
  {
   "cell_type": "markdown",
   "metadata": {},
   "source": [
    "### Consultas y agrupación de datos"
   ]
  },
  {
   "cell_type": "markdown",
   "metadata": {},
   "source": [
    "Con Pandas se pueden realizar consultas de datos (querys) similares a las de SQL. Para realizar estas consultas se debe indicar el dataframe que contiene los datos a analizar (origen de los datos - FROM), la serie o series (recuerde que una serie es una columna indexada) que requerimos como respuesta (SELECT) y además una condición que se encargue de filtrar los datos (WHERE)."
   ]
  },
  {
   "cell_type": "markdown",
   "metadata": {},
   "source": [
    "Se utilizará el dataframe myEnergy_df para los ejemplos."
   ]
  },
  {
   "cell_type": "code",
   "execution_count": null,
   "metadata": {},
   "outputs": [],
   "source": [
    "import pandas as pd\n",
    "#direccion = r\"C:\\Users\\juanf\\OneDrive\\Escritorio\\Python\\Building_Energy_Benchmarking_2018.csv\"\n",
    "energy_df = pd.read_csv(\"Building_Energy_Benchmarking_2018.csv\", sep=\",\")\n",
    "myEnergy_df = energy_df[['OSEBuildingID', 'YearBuilt', 'NumberofFloors',\n",
    "                         'ENERGYSTARScore','Electricity(kBtu)', \n",
    "                         'GHGEmissionsIntensity']]\n",
    "myEnergy_df = myEnergy_df.rename(columns={'OSEBuildingID': \"id\",\n",
    "                                      'YearBuilt': \"yearBuilt\",\n",
    "                                      'NumberofFloors': \"numberOfFloors\",\n",
    "                                      'ENERGYSTARScore': \"energyStarScore\",\n",
    "                                      'Electricity(kBtu)': \"electricity\",\n",
    "                                      'GHGEmissionsIntensity': \"emissionsIntensity\"\n",
    "                                       })\n",
    "\n",
    "myEnergy_df.set_index('id', inplace=True) \n",
    "myEnergy_df.head(10)"
   ]
  },
  {
   "cell_type": "markdown",
   "metadata": {},
   "source": [
    "### Sintaxis para consultas\n",
    "\n",
    "La sintaxis para consultar datos en pandas es:\n",
    "\n",
    "       dataframe[ condicion ] [Columnas]\n",
    "       \n",
    "Con esta sintaxis se obtendrá como respuesta otro dataframe."
   ]
  },
  {
   "cell_type": "code",
   "execution_count": null,
   "metadata": {},
   "outputs": [],
   "source": [
    "#Consultar datos de forma condicional\n",
    "# dataframe: myEnergy_df\n",
    "# condicion: myEnergy_df['numberOfFloors'] == 15\n",
    "# columnas: [\"id\", \"yearBuilt\", \"numberOfFloors\"]\n",
    "\n",
    "myEnergy_df [ myEnergy_df['numberOfFloors'] == 15 ] [ [\"yearBuilt\", \"numberOfFloors\"] ]"
   ]
  },
  {
   "cell_type": "markdown",
   "metadata": {},
   "source": [
    "Se puede complementar la sintaxis anterior agregando un método al final de la consulta para operar directamente los datos.\n",
    "\n",
    "       dataframe[ condicion ] [Columnas].metodo(argumentos)"
   ]
  },
  {
   "cell_type": "code",
   "execution_count": null,
   "metadata": {},
   "outputs": [],
   "source": [
    "# Se agregan metodos al final de la consulta\n",
    "myEnergy_df[ myEnergy_df['numberOfFloors'] == 15 ] [ [\"yearBuilt\", \"numberOfFloors\"] ].sort_values(by=\"yearBuilt\")"
   ]
  },
  {
   "cell_type": "code",
   "execution_count": null,
   "metadata": {},
   "outputs": [],
   "source": [
    "# Se agregan metodos al final de la consulta\n",
    "myEnergy_df[ myEnergy_df['numberOfFloors'] == 15 ][[\"yearBuilt\", \"numberOfFloors\"]].count()\n",
    "# min, max, count, mean, std, sum"
   ]
  },
  {
   "cell_type": "code",
   "execution_count": null,
   "metadata": {},
   "outputs": [],
   "source": [
    "# las consultas las pueden separar en partes\n",
    "a = myEnergy_df[ myEnergy_df['numberOfFloors'] == 15 ]\n",
    "b = a[[\"yearBuilt\", \"numberOfFloors\"]]\n",
    "c = b.sort_values(by=\"yearBuilt\")\n",
    "\n",
    "print(c)"
   ]
  },
  {
   "cell_type": "markdown",
   "metadata": {},
   "source": [
    "###  Operadores lógicos"
   ]
  },
  {
   "cell_type": "markdown",
   "metadata": {},
   "source": [
    "Pandas cuenta con los operadores:\n",
    "\n",
    "       and (&) - intersección: devuelve los datos que cumplan ambas condiciones\n",
    "       or (|) - unión: devuelve los datos que cumplan al menos una de las dos condiciones\n",
    "       not (~) - complemento: devuelve los datos que no cumplan con la condición "
   ]
  },
  {
   "cell_type": "code",
   "execution_count": null,
   "metadata": {},
   "outputs": [],
   "source": [
    "# el operador lógico \"and\" se escribe en Pandas como: & \n",
    "myEnergy_df[ (myEnergy_df[\"yearBuilt\"] < 2015) & (myEnergy_df[\"energyStarScore\"] > 99) ]"
   ]
  },
  {
   "cell_type": "code",
   "execution_count": null,
   "metadata": {},
   "outputs": [],
   "source": [
    "#el operador lógico \"or\" se escribe en Pandas como: | \n",
    "myEnergy_df[ (myEnergy_df[\"yearBuilt\"] == 2000) |  (myEnergy_df[\"yearBuilt\"] == 2001) ]"
   ]
  },
  {
   "cell_type": "markdown",
   "metadata": {},
   "source": [
    "Puede obtener los estadísticos de la tabla o columna que resulta de la consulta."
   ]
  },
  {
   "cell_type": "code",
   "execution_count": null,
   "metadata": {},
   "outputs": [],
   "source": [
    "myEnergy_df[(myEnergy_df[\"yearBuilt\"] == 2000) | (myEnergy_df[\"yearBuilt\"] == 2001)].mean()"
   ]
  },
  {
   "cell_type": "markdown",
   "metadata": {},
   "source": [
    "### Agrupación de datos"
   ]
  },
  {
   "cell_type": "markdown",
   "metadata": {},
   "source": [
    "Con la función \"groupby\" se pueden agrupar datos según una o varias columnas. Al usar esta función es obligatorio indicar un método que opere a los datos que están siendo agrupados.\n",
    "\n",
    "Observe que al agrupar los datos, las columnas de agrupación toman el lugar de columna de identificadores."
   ]
  },
  {
   "cell_type": "code",
   "execution_count": null,
   "metadata": {},
   "outputs": [],
   "source": [
    "# Se puede agrupar los datos\n",
    "myEnergy_df.groupby('yearBuilt').min()[[\"electricity\", \"emissionsIntensity\"]]"
   ]
  },
  {
   "cell_type": "code",
   "execution_count": null,
   "metadata": {},
   "outputs": [],
   "source": [
    "myEnergy_df.groupby([\"yearBuilt\", \"numberOfFloors\"]).mean()"
   ]
  },
  {
   "cell_type": "markdown",
   "metadata": {},
   "source": [
    "La respuesta a una agrupación es un nuevo dataframe el cual puede continuar operándose."
   ]
  },
  {
   "cell_type": "code",
   "execution_count": null,
   "metadata": {},
   "outputs": [],
   "source": [
    "myEnergy_df.groupby([\"yearBuilt\"]).mean()[\"electricity\"]"
   ]
  },
  {
   "cell_type": "code",
   "execution_count": null,
   "metadata": {},
   "outputs": [],
   "source": [
    "myEnergy_df.groupby([\"yearBuilt\", \"numberOfFloors\"]).mean()[\"emissionsIntensity\"]"
   ]
  },
  {
   "cell_type": "markdown",
   "metadata": {},
   "source": [
    "### Operaciones con series"
   ]
  },
  {
   "cell_type": "markdown",
   "metadata": {},
   "source": [
    "Una forma de operar entre las columnas indexadas es utilizar funciones lambda junto al método \"apply\"."
   ]
  },
  {
   "cell_type": "code",
   "execution_count": null,
   "metadata": {},
   "outputs": [],
   "source": [
    "# la sintaxis de lambda es:\n",
    "# lambda [argumentos]: [operacion]\n",
    "nuevaColumna = myEnergy_df[\"electricity\"].apply(lambda dato: dato/10**6)\n",
    "nuevaColumna"
   ]
  },
  {
   "cell_type": "code",
   "execution_count": null,
   "metadata": {},
   "outputs": [],
   "source": [
    "# (x*3.14 + 15)/(10^6)\n",
    "nuevaColumna2 = myEnergy_df[\"electricity\"].apply(lambda x: (x*3.14+15)/10**6 )\n",
    "print (nuevaColumna2)"
   ]
  },
  {
   "cell_type": "markdown",
   "metadata": {},
   "source": [
    "Las series generadas pueden añadirse al dataframe utilizando la notación de corchetes."
   ]
  },
  {
   "cell_type": "code",
   "execution_count": null,
   "metadata": {},
   "outputs": [],
   "source": [
    "# Para agregar la columna a la tabla\n",
    "# nombreDelDataFrame[\"nombreDeLaColumnaNueva\"] = datos\n",
    "myEnergy_df[\"electricity(M)\"] = nuevaColumna\n",
    "myEnergy_df.head()"
   ]
  },
  {
   "cell_type": "code",
   "execution_count": null,
   "metadata": {},
   "outputs": [],
   "source": [
    "myEnergy_df[\"electricity(2)\"] = myEnergy_df[\"electricity\"].apply(lambda dato: dato/10**6)\n",
    "myEnergy_df.head()"
   ]
  },
  {
   "cell_type": "markdown",
   "metadata": {},
   "source": [
    "Para elimar columnas se utiliza la palabra clave \"del\" mientras que para eliminar filas se utiliza la función \"drop\"."
   ]
  },
  {
   "cell_type": "code",
   "execution_count": null,
   "metadata": {},
   "outputs": [],
   "source": [
    "# Eliminar una columna\n",
    "del myEnergy_df[\"electricity(2)\"]\n",
    "myEnergy_df.head()"
   ]
  },
  {
   "cell_type": "code",
   "execution_count": null,
   "metadata": {},
   "outputs": [],
   "source": [
    "# Para eliminar una fila\n",
    "#dataframe.drop([id], axis=0)\n",
    "myEnergy_df.drop([2,3], axis=0)"
   ]
  },
  {
   "cell_type": "markdown",
   "metadata": {},
   "source": [
    "### Iterar a través de una tabla"
   ]
  },
  {
   "cell_type": "markdown",
   "metadata": {},
   "source": [
    "Se puede iterar a través de las filas de una tabla generando un elemento iterable al utilizar el método \"iterrrows\"."
   ]
  },
  {
   "cell_type": "code",
   "execution_count": null,
   "metadata": {},
   "outputs": [],
   "source": [
    "# Para recorrer fila por fila una tabla\n",
    "# for [variable] in [elemento iterable]:\n",
    "#      cuerpo\n",
    "\n",
    "for index, row in myEnergy_df.iterrows():  \n",
    "    if row[\"emissionsIntensity\"] > 20:\n",
    "        print(row)\n",
    "        print(type(row))\n",
    "        print(index)"
   ]
  },
  {
   "cell_type": "code",
   "execution_count": null,
   "metadata": {},
   "outputs": [],
   "source": [
    "myEnergy_df[myEnergy_df[\"emissionsIntensity\"]>20]"
   ]
  },
  {
   "cell_type": "markdown",
   "metadata": {},
   "source": [
    "Puede iterar a través de la tabla y obtener datos para crear un nueva columna. Es una alternativa al uso de las funciones lambda."
   ]
  },
  {
   "cell_type": "code",
   "execution_count": null,
   "metadata": {},
   "outputs": [],
   "source": [
    "# indiceNuevo = ((emissionsIntensity * energyStarScore) / (electricity) *(10**5)\n",
    "indiceNuevo = []\n",
    "calificacion = []  # A B C D \n",
    "\n",
    "for index, row in myEnergy_df.iterrows():\n",
    "    indicador = ((row[\"emissionsIntensity\"]* row[\"energyStarScore\"]/row[\"electricity\"])*(10**5))\n",
    "    indiceNuevo.append(indicador)\n",
    "    \n",
    "    if row[\"emissionsIntensity\"] < 2.5:\n",
    "        calificacion.append(\"A\")\n",
    "    elif row[\"emissionsIntensity\"] < 5:\n",
    "        calificacion.append(\"B\")\n",
    "    elif row[\"emissionsIntensity\"] < 7.5:\n",
    "        calificacion.append(\"C\")\n",
    "    else:\n",
    "        calificacion.append(\"D\")\n",
    "                     \n",
    "        \n",
    "#print(indiceNuevo)\n",
    "\n",
    "myEnergy_df[\"INDICADOR05\"] = indiceNuevo\n",
    "myEnergy_df[\"Calificacion\"] = calificacion\n",
    "myEnergy_df.head(3)"
   ]
  },
  {
   "cell_type": "markdown",
   "metadata": {},
   "source": [
    "### Para practicar:\n",
    "\n",
    "1. Se requiere conocer el promedio de energyStarScore para todos los edificios agrupados por yearBuilt.\n",
    "\n",
    "2. Se requier conocer la desviación estandar de emisiones(emissionsIntensity) para todos los edificios que tienen la misma cantidad de pisos (numberOfFloors). \n",
    "\n",
    "3. Realice una consulta para obtener los datos de los edificios cuyo consumo de electricidad (electricity) sea menor que la media.\n",
    "\n",
    "4. Realice una consulta para conocer el edificio o edificios que tienen la mayor puntuación de energyStarScore.\n",
    "\n",
    "5. Realice una consulta para conocer el edificio o los edificios que tienen el menor consumo de electricidad (electricity)."
   ]
  },
  {
   "cell_type": "markdown",
   "metadata": {},
   "source": [
    "### Visualización de datos"
   ]
  },
  {
   "cell_type": "markdown",
   "metadata": {},
   "source": [
    "Pandas cuenta con funciones integradas de Matplotlib, por lo que se pueden graficar directamente las series o dataframes."
   ]
  },
  {
   "cell_type": "code",
   "execution_count": null,
   "metadata": {},
   "outputs": [],
   "source": [
    "myEnergy_df[\"yearBuilt\"]"
   ]
  },
  {
   "cell_type": "code",
   "execution_count": null,
   "metadata": {},
   "outputs": [],
   "source": [
    "# Histograma\n",
    "import matplotlib.pyplot as plt\n",
    "myEnergy_df[\"yearBuilt\"].plot(kind=\"hist\", edgecolor='black')\n",
    "plt.title(\"Histograma - Año de construcción\")\n",
    "plt.xlabel(\"Año\")\n",
    "plt.ylabel(\"Frecuencia\")\n",
    "plt.show()"
   ]
  },
  {
   "cell_type": "markdown",
   "metadata": {},
   "source": [
    "Esto no implica que no se puedan obtener gráficas por otros medios."
   ]
  },
  {
   "cell_type": "code",
   "execution_count": null,
   "metadata": {},
   "outputs": [],
   "source": [
    "# Histograma\n",
    "import matplotlib.pyplot as plt\n",
    "\n",
    "plt.hist(myEnergy_df[\"yearBuilt\"], edgecolor='black')\n",
    "plt.title(\"Histograma - Año de construcción\")\n",
    "plt.xlabel(\"Año\")\n",
    "plt.ylabel(\"Frecuencia\")\n",
    "plt.show()"
   ]
  },
  {
   "cell_type": "code",
   "execution_count": null,
   "metadata": {},
   "outputs": [],
   "source": [
    "plt.hist(myEnergy_df[\"energyStarScore\"], edgecolor='black')\n",
    "plt.show()"
   ]
  },
  {
   "cell_type": "markdown",
   "metadata": {},
   "source": [
    "La integración permite obtener gráficas utilizando pocas líneas de código."
   ]
  },
  {
   "cell_type": "code",
   "execution_count": null,
   "metadata": {},
   "outputs": [],
   "source": [
    "# Media del consumo energético según el número de pisos \n",
    "plt.figure(figsize=(5,14))\n",
    "myEnergy_df.groupby([\"yearBuilt\"]).mean()[\"electricity\"].plot(kind=\"barh\")\n",
    "plt.show()"
   ]
  },
  {
   "cell_type": "markdown",
   "metadata": {},
   "source": [
    "### Para practicar\n",
    "\n",
    "Grafique lo siguiente:\n",
    "\n",
    "        1. Histograma del consumo de electricidad\n",
    "        \n",
    "        2. Histograma de la intensidad de emisiones de gases\n",
    "        \n",
    "        3. Gráfico de barras de la media del indicador energyStarScore por año entre el 2000 y el 2010  \n",
    "        \n",
    "        4. Gráfico de barras del valor máximo de intensidad de emisiones para edificios de 15, 16, 17, 18, 19 y 20 pisos."
   ]
  },
  {
   "cell_type": "code",
   "execution_count": null,
   "metadata": {},
   "outputs": [],
   "source": []
  },
  {
   "cell_type": "markdown",
   "metadata": {},
   "source": [
    "### Bibliografía\n",
    "\n",
    "Bibliografia de Pandas\n",
    "\n",
    "https://pandas.pydata.org/docs/\n",
    "\n",
    "https://github.com/pandas-dev/pandas\n",
    "\n",
    "\n",
    "Visualización de datos con pandas\n",
    "\n",
    "https://pandas.pydata.org/pandas-docs/stable/user_guide/visualization.html\n"
   ]
  },
  {
   "cell_type": "markdown",
   "metadata": {},
   "source": [
    "Bases de datos:\n",
    "\n",
    "https://figshare.com\n",
    "\n",
    "https://www.kaggle.com\n",
    "\n",
    "https://www.kaggle.com/loveall/appliances-energy-prediction\n",
    "\n",
    "https://www.data.gov\n",
    "\n",
    "https://data.europa.eu/euodp/en/home\n",
    "\n",
    "https://archive.ics.uci.edu/ml/datasets.php\n",
    "\n",
    "\n",
    "Bases de datos en Google:\n",
    "\n",
    "https://datasetsearch.research.google.com\n",
    "\n",
    "Otros:\n",
    "\n",
    "https://lionbridge.ai/datasets/the-50-best-free-datasets-for-machine-learning/\n",
    "https://guides.library.cmu.edu/machine-learning/datasets"
   ]
  },
  {
   "cell_type": "markdown",
   "metadata": {},
   "source": [
    "Extra: Gestión de bases de datos con python\n",
    "\n",
    "https://realpython.com/tutorials/databases/"
   ]
  }
 ],
 "metadata": {
  "kernelspec": {
   "display_name": "Python 3",
   "language": "python",
   "name": "python3"
  },
  "language_info": {
   "codemirror_mode": {
    "name": "ipython",
    "version": 3
   },
   "file_extension": ".py",
   "mimetype": "text/x-python",
   "name": "python",
   "nbconvert_exporter": "python",
   "pygments_lexer": "ipython3",
   "version": "3.8.5"
  }
 },
 "nbformat": 4,
 "nbformat_minor": 2
}
