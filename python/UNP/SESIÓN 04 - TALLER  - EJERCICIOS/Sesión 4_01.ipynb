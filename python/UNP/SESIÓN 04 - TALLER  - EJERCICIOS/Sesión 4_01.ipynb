{
 "cells": [
  {
   "cell_type": "markdown",
   "metadata": {
    "colab_type": "text",
    "id": "I4c0J82DFj5y"
   },
   "source": [
    "# Sesión 4-1: Introducción"
   ]
  },
  {
   "cell_type": "code",
   "execution_count": null,
   "metadata": {
    "colab": {
     "base_uri": "https://localhost:8080/",
     "height": 34
    },
    "colab_type": "code",
    "executionInfo": {
     "elapsed": 1786,
     "status": "ok",
     "timestamp": 1582128519393,
     "user": {
      "displayName": "Jair Loayza Suasnabar",
      "photoUrl": "https://lh3.googleusercontent.com/a-/AAuE7mB2CXCeZ2y-RlcY4ztrl5LvEY2RFnEW7o3Zt_1Xfg=s64",
      "userId": "11599661286454468428"
     },
     "user_tz": 300
    },
    "id": "mhP9DgpXETSE",
    "outputId": "5ed50f1c-d9be-42fc-888d-a02bb810ce8c"
   },
   "outputs": [],
   "source": [
    "#Celda de código\n",
    "\n",
    "4 + 5"
   ]
  },
  {
   "cell_type": "markdown",
   "metadata": {
    "colab_type": "text",
    "id": "cKKJMN37Ettq"
   },
   "source": [
    "Esto es un comentario dentro de una celda de texto\n",
    "# Título nivel 1\n",
    "### Título nivel 3"
   ]
  },
  {
   "cell_type": "markdown",
   "metadata": {
    "colab": {},
    "colab_type": "code",
    "id": "EPOmZqR5FsF5"
   },
   "source": [
    "*Este texto está en cursiva*\n",
    "<br>\n",
    "**Este texto está en negrita**\n",
    "<br>\n",
    "***Y este texto en negrita y cursiva***"
   ]
  },
  {
   "cell_type": "markdown",
   "metadata": {
    "colab_type": "text",
    "id": "fH5VFoIGNm1Y"
   },
   "source": [
    "## Básicos"
   ]
  },
  {
   "cell_type": "code",
   "execution_count": null,
   "metadata": {
    "colab": {},
    "colab_type": "code",
    "id": "mhUNmByjFn8p"
   },
   "outputs": [],
   "source": [
    "#Importando librerías\n",
    "\n",
    "import numpy as np\n",
    "\n",
    "from numpy import sqrt as raiz"
   ]
  },
  {
   "cell_type": "code",
   "execution_count": null,
   "metadata": {
    "colab": {},
    "colab_type": "code",
    "id": "fVjsw2OtGR9i"
   },
   "outputs": [],
   "source": [
    "#Crear variables\n",
    "\n",
    "x = 18"
   ]
  },
  {
   "cell_type": "code",
   "execution_count": null,
   "metadata": {
    "colab": {
     "base_uri": "https://localhost:8080/",
     "height": 34
    },
    "colab_type": "code",
    "executionInfo": {
     "elapsed": 1262,
     "status": "ok",
     "timestamp": 1582128543786,
     "user": {
      "displayName": "Jair Loayza Suasnabar",
      "photoUrl": "https://lh3.googleusercontent.com/a-/AAuE7mB2CXCeZ2y-RlcY4ztrl5LvEY2RFnEW7o3Zt_1Xfg=s64",
      "userId": "11599661286454468428"
     },
     "user_tz": 300
    },
    "id": "1rss0wumHHt-",
    "outputId": "3f3d5d43-463e-457e-c735-b55ec7e24e1b"
   },
   "outputs": [],
   "source": [
    "#Consultar variables\n",
    "\n",
    "x"
   ]
  },
  {
   "cell_type": "code",
   "execution_count": null,
   "metadata": {
    "colab": {
     "base_uri": "https://localhost:8080/",
     "height": 34
    },
    "colab_type": "code",
    "executionInfo": {
     "elapsed": 1695,
     "status": "ok",
     "timestamp": 1582128546512,
     "user": {
      "displayName": "Jair Loayza Suasnabar",
      "photoUrl": "https://lh3.googleusercontent.com/a-/AAuE7mB2CXCeZ2y-RlcY4ztrl5LvEY2RFnEW7o3Zt_1Xfg=s64",
      "userId": "11599661286454468428"
     },
     "user_tz": 300
    },
    "id": "ECaHBI3ZHN5A",
    "outputId": "b6ebde3f-9037-4a06-ca1f-136bcf30b853"
   },
   "outputs": [],
   "source": [
    "#Mostrar en pantalla\n",
    "\n",
    "print(\"La variable x vale\", x)"
   ]
  },
  {
   "cell_type": "code",
   "execution_count": null,
   "metadata": {
    "colab": {
     "base_uri": "https://localhost:8080/",
     "height": 34
    },
    "colab_type": "code",
    "executionInfo": {
     "elapsed": 7475,
     "status": "ok",
     "timestamp": 1582128563179,
     "user": {
      "displayName": "Jair Loayza Suasnabar",
      "photoUrl": "https://lh3.googleusercontent.com/a-/AAuE7mB2CXCeZ2y-RlcY4ztrl5LvEY2RFnEW7o3Zt_1Xfg=s64",
      "userId": "11599661286454468428"
     },
     "user_tz": 300
    },
    "id": "dxDqXxDFHYDr",
    "outputId": "f875cd77-727c-4459-d8f0-9b96c2b24512"
   },
   "outputs": [],
   "source": [
    "#Solicitar datos (se almacena siempre como un string)\n",
    "\n",
    "nombre = input()"
   ]
  },
  {
   "cell_type": "code",
   "execution_count": null,
   "metadata": {},
   "outputs": [],
   "source": [
    "nombre"
   ]
  },
  {
   "cell_type": "code",
   "execution_count": null,
   "metadata": {
    "colab": {},
    "colab_type": "code",
    "id": "7USqa7jjIVMf"
   },
   "outputs": [],
   "source": [
    "#Eliminar una variable\n",
    "\n",
    "del nombre"
   ]
  },
  {
   "cell_type": "markdown",
   "metadata": {
    "colab_type": "text",
    "id": "rXSPSXpmJnuq"
   },
   "source": [
    "## Bool"
   ]
  },
  {
   "cell_type": "code",
   "execution_count": null,
   "metadata": {
    "colab": {},
    "colab_type": "code",
    "id": "m9Uwyn6CInVR"
   },
   "outputs": [],
   "source": [
    "b1 = True\n",
    "b2 = True\n",
    "b3 = False"
   ]
  },
  {
   "cell_type": "code",
   "execution_count": null,
   "metadata": {
    "colab": {
     "base_uri": "https://localhost:8080/",
     "height": 34
    },
    "colab_type": "code",
    "executionInfo": {
     "elapsed": 673,
     "status": "ok",
     "timestamp": 1582128607340,
     "user": {
      "displayName": "Jair Loayza Suasnabar",
      "photoUrl": "https://lh3.googleusercontent.com/a-/AAuE7mB2CXCeZ2y-RlcY4ztrl5LvEY2RFnEW7o3Zt_1Xfg=s64",
      "userId": "11599661286454468428"
     },
     "user_tz": 300
    },
    "id": "4I47hQuJJ0xD",
    "outputId": "5723cd26-c899-4f1c-e29f-243754843fc1"
   },
   "outputs": [],
   "source": [
    "b1"
   ]
  },
  {
   "cell_type": "code",
   "execution_count": null,
   "metadata": {
    "colab": {
     "base_uri": "https://localhost:8080/",
     "height": 34
    },
    "colab_type": "code",
    "executionInfo": {
     "elapsed": 939,
     "status": "ok",
     "timestamp": 1582128614198,
     "user": {
      "displayName": "Jair Loayza Suasnabar",
      "photoUrl": "https://lh3.googleusercontent.com/a-/AAuE7mB2CXCeZ2y-RlcY4ztrl5LvEY2RFnEW7o3Zt_1Xfg=s64",
      "userId": "11599661286454468428"
     },
     "user_tz": 300
    },
    "id": "0k_GdFilJ8DA",
    "outputId": "6ca0b418-bb55-4424-aa3e-aec2d5202d6e"
   },
   "outputs": [],
   "source": [
    "#Negación\n",
    "\n",
    "not b1"
   ]
  },
  {
   "cell_type": "code",
   "execution_count": null,
   "metadata": {
    "colab": {
     "base_uri": "https://localhost:8080/",
     "height": 34
    },
    "colab_type": "code",
    "executionInfo": {
     "elapsed": 877,
     "status": "ok",
     "timestamp": 1582128618600,
     "user": {
      "displayName": "Jair Loayza Suasnabar",
      "photoUrl": "https://lh3.googleusercontent.com/a-/AAuE7mB2CXCeZ2y-RlcY4ztrl5LvEY2RFnEW7o3Zt_1Xfg=s64",
      "userId": "11599661286454468428"
     },
     "user_tz": 300
    },
    "id": "mnltgIYnJ_BP",
    "outputId": "86832fe2-4750-431e-99bf-4a9e87d4a712"
   },
   "outputs": [],
   "source": [
    "#Operador and\n",
    "\n",
    "b1 and b3"
   ]
  },
  {
   "cell_type": "code",
   "execution_count": null,
   "metadata": {
    "colab": {
     "base_uri": "https://localhost:8080/",
     "height": 34
    },
    "colab_type": "code",
    "executionInfo": {
     "elapsed": 858,
     "status": "ok",
     "timestamp": 1582128622605,
     "user": {
      "displayName": "Jair Loayza Suasnabar",
      "photoUrl": "https://lh3.googleusercontent.com/a-/AAuE7mB2CXCeZ2y-RlcY4ztrl5LvEY2RFnEW7o3Zt_1Xfg=s64",
      "userId": "11599661286454468428"
     },
     "user_tz": 300
    },
    "id": "nJj333fnK8zc",
    "outputId": "3f9a1681-6db5-4d2e-c7aa-b6249603c580"
   },
   "outputs": [],
   "source": [
    "#Operador or\n",
    "\n",
    "b2 or b3"
   ]
  },
  {
   "cell_type": "code",
   "execution_count": null,
   "metadata": {
    "colab": {
     "base_uri": "https://localhost:8080/",
     "height": 34
    },
    "colab_type": "code",
    "executionInfo": {
     "elapsed": 834,
     "status": "ok",
     "timestamp": 1582128626003,
     "user": {
      "displayName": "Jair Loayza Suasnabar",
      "photoUrl": "https://lh3.googleusercontent.com/a-/AAuE7mB2CXCeZ2y-RlcY4ztrl5LvEY2RFnEW7o3Zt_1Xfg=s64",
      "userId": "11599661286454468428"
     },
     "user_tz": 300
    },
    "id": "x7EOaAwzK_mB",
    "outputId": "eb2ab686-c7da-4b2c-c19b-8e149c843eae"
   },
   "outputs": [],
   "source": [
    "#Operador xor\n",
    "\n",
    "b1 ^ b3"
   ]
  },
  {
   "cell_type": "markdown",
   "metadata": {},
   "source": [
    "#### Operadores relacionales"
   ]
  },
  {
   "cell_type": "code",
   "execution_count": null,
   "metadata": {},
   "outputs": [],
   "source": [
    "3 == 4  # Igual que"
   ]
  },
  {
   "cell_type": "code",
   "execution_count": null,
   "metadata": {},
   "outputs": [],
   "source": [
    "3 != 4  # Distinto que"
   ]
  },
  {
   "cell_type": "code",
   "execution_count": null,
   "metadata": {},
   "outputs": [],
   "source": [
    "8 < 12  # Menor que"
   ]
  },
  {
   "cell_type": "code",
   "execution_count": null,
   "metadata": {},
   "outputs": [],
   "source": [
    "12 > 7  # Mayor que"
   ]
  },
  {
   "cell_type": "code",
   "execution_count": null,
   "metadata": {},
   "outputs": [],
   "source": [
    "12 <= 12  # Menor o igual que"
   ]
  },
  {
   "cell_type": "code",
   "execution_count": null,
   "metadata": {},
   "outputs": [],
   "source": [
    "4 >= 5  # Mayor o igual que"
   ]
  },
  {
   "cell_type": "markdown",
   "metadata": {},
   "source": [
    "#### Operadores lógicos"
   ]
  },
  {
   "cell_type": "code",
   "execution_count": null,
   "metadata": {},
   "outputs": [],
   "source": [
    "5 == 7 and 7 < 12  #False and False"
   ]
  },
  {
   "cell_type": "code",
   "execution_count": null,
   "metadata": {},
   "outputs": [],
   "source": [
    "9 < 12 and 12 > 7  # True and True"
   ]
  },
  {
   "cell_type": "code",
   "execution_count": null,
   "metadata": {},
   "outputs": [],
   "source": [
    "9 < 12 and 12 > 15  # True and False"
   ]
  },
  {
   "cell_type": "code",
   "execution_count": null,
   "metadata": {},
   "outputs": [],
   "source": [
    "12 == 12 or 15 < 7  # True or False"
   ]
  },
  {
   "cell_type": "code",
   "execution_count": null,
   "metadata": {},
   "outputs": [],
   "source": [
    "7 > 5 or 9 < 12  # True or True"
   ]
  },
  {
   "cell_type": "code",
   "execution_count": null,
   "metadata": {},
   "outputs": [],
   "source": [
    "12 == 13 or 15 < 7  # False or False"
   ]
  },
  {
   "cell_type": "markdown",
   "metadata": {
    "colab_type": "text",
    "id": "3JgHmz_RLnUD"
   },
   "source": [
    "## Numéricos"
   ]
  },
  {
   "cell_type": "code",
   "execution_count": null,
   "metadata": {
    "colab": {},
    "colab_type": "code",
    "id": "VjvAebXALFUY"
   },
   "outputs": [],
   "source": [
    "a = 24\n",
    "b = 7"
   ]
  },
  {
   "cell_type": "code",
   "execution_count": null,
   "metadata": {
    "colab": {
     "base_uri": "https://localhost:8080/",
     "height": 34
    },
    "colab_type": "code",
    "executionInfo": {
     "elapsed": 950,
     "status": "ok",
     "timestamp": 1582128631482,
     "user": {
      "displayName": "Jair Loayza Suasnabar",
      "photoUrl": "https://lh3.googleusercontent.com/a-/AAuE7mB2CXCeZ2y-RlcY4ztrl5LvEY2RFnEW7o3Zt_1Xfg=s64",
      "userId": "11599661286454468428"
     },
     "user_tz": 300
    },
    "id": "JxRvbYCBLu_3",
    "outputId": "a00b89fb-94fd-4f8e-e8a5-ad56f4665edc"
   },
   "outputs": [],
   "source": [
    "a + b"
   ]
  },
  {
   "cell_type": "code",
   "execution_count": null,
   "metadata": {
    "colab": {
     "base_uri": "https://localhost:8080/",
     "height": 34
    },
    "colab_type": "code",
    "executionInfo": {
     "elapsed": 610,
     "status": "ok",
     "timestamp": 1582128631881,
     "user": {
      "displayName": "Jair Loayza Suasnabar",
      "photoUrl": "https://lh3.googleusercontent.com/a-/AAuE7mB2CXCeZ2y-RlcY4ztrl5LvEY2RFnEW7o3Zt_1Xfg=s64",
      "userId": "11599661286454468428"
     },
     "user_tz": 300
    },
    "id": "AEA8ZgiILx6Q",
    "outputId": "de953ec7-1710-4922-871c-b5d611108d5d"
   },
   "outputs": [],
   "source": [
    "a - b"
   ]
  },
  {
   "cell_type": "code",
   "execution_count": null,
   "metadata": {
    "colab": {
     "base_uri": "https://localhost:8080/",
     "height": 34
    },
    "colab_type": "code",
    "executionInfo": {
     "elapsed": 716,
     "status": "ok",
     "timestamp": 1582128632717,
     "user": {
      "displayName": "Jair Loayza Suasnabar",
      "photoUrl": "https://lh3.googleusercontent.com/a-/AAuE7mB2CXCeZ2y-RlcY4ztrl5LvEY2RFnEW7o3Zt_1Xfg=s64",
      "userId": "11599661286454468428"
     },
     "user_tz": 300
    },
    "id": "zqW3ooW6Lz7w",
    "outputId": "d13d39a0-d279-4c63-e8c3-ebc628f32ca4"
   },
   "outputs": [],
   "source": [
    "a * b"
   ]
  },
  {
   "cell_type": "code",
   "execution_count": null,
   "metadata": {
    "colab": {
     "base_uri": "https://localhost:8080/",
     "height": 34
    },
    "colab_type": "code",
    "executionInfo": {
     "elapsed": 570,
     "status": "ok",
     "timestamp": 1582128634096,
     "user": {
      "displayName": "Jair Loayza Suasnabar",
      "photoUrl": "https://lh3.googleusercontent.com/a-/AAuE7mB2CXCeZ2y-RlcY4ztrl5LvEY2RFnEW7o3Zt_1Xfg=s64",
      "userId": "11599661286454468428"
     },
     "user_tz": 300
    },
    "id": "3OpOSiXFL1lv",
    "outputId": "7b58bea5-9ed3-4501-b2b0-033b93945ab0"
   },
   "outputs": [],
   "source": [
    "#División real\n",
    "\n",
    "a / b"
   ]
  },
  {
   "cell_type": "code",
   "execution_count": null,
   "metadata": {
    "colab": {
     "base_uri": "https://localhost:8080/",
     "height": 34
    },
    "colab_type": "code",
    "executionInfo": {
     "elapsed": 518,
     "status": "ok",
     "timestamp": 1582128635269,
     "user": {
      "displayName": "Jair Loayza Suasnabar",
      "photoUrl": "https://lh3.googleusercontent.com/a-/AAuE7mB2CXCeZ2y-RlcY4ztrl5LvEY2RFnEW7o3Zt_1Xfg=s64",
      "userId": "11599661286454468428"
     },
     "user_tz": 300
    },
    "id": "PBXTk-hcL5vG",
    "outputId": "1b5162de-b450-4170-ab9e-412cd8a0e964"
   },
   "outputs": [],
   "source": [
    "#División entera\n",
    "\n",
    "a // b"
   ]
  },
  {
   "cell_type": "code",
   "execution_count": null,
   "metadata": {
    "colab": {
     "base_uri": "https://localhost:8080/",
     "height": 34
    },
    "colab_type": "code",
    "executionInfo": {
     "elapsed": 1018,
     "status": "ok",
     "timestamp": 1582128637389,
     "user": {
      "displayName": "Jair Loayza Suasnabar",
      "photoUrl": "https://lh3.googleusercontent.com/a-/AAuE7mB2CXCeZ2y-RlcY4ztrl5LvEY2RFnEW7o3Zt_1Xfg=s64",
      "userId": "11599661286454468428"
     },
     "user_tz": 300
    },
    "id": "bQKw57eLMPQs",
    "outputId": "73a80a12-639e-478d-bb23-459858acc91d"
   },
   "outputs": [],
   "source": [
    "#Residuo (Operador módulo)\n",
    "\n",
    "a % b"
   ]
  },
  {
   "cell_type": "markdown",
   "metadata": {
    "colab_type": "text",
    "id": "NGV5PVEmN3IR"
   },
   "source": [
    "Al tener diversas operaciones y consultas dentro de una misma celda de código, todas las operaciones son ejecutadas pero solo la última consulta será visible en el output."
   ]
  },
  {
   "cell_type": "code",
   "execution_count": null,
   "metadata": {
    "colab": {
     "base_uri": "https://localhost:8080/",
     "height": 34
    },
    "colab_type": "code",
    "executionInfo": {
     "elapsed": 790,
     "status": "ok",
     "timestamp": 1582128693868,
     "user": {
      "displayName": "Jair Loayza Suasnabar",
      "photoUrl": "https://lh3.googleusercontent.com/a-/AAuE7mB2CXCeZ2y-RlcY4ztrl5LvEY2RFnEW7o3Zt_1Xfg=s64",
      "userId": "11599661286454468428"
     },
     "user_tz": 300
    },
    "id": "wpitkfm1Maye",
    "outputId": "c429c209-956c-479b-be36-51b151b7ed91"
   },
   "outputs": [],
   "source": [
    "c = a / b\n",
    "a,b,c"
   ]
  },
  {
   "cell_type": "code",
   "execution_count": null,
   "metadata": {
    "colab": {
     "base_uri": "https://localhost:8080/",
     "height": 34
    },
    "colab_type": "code",
    "executionInfo": {
     "elapsed": 852,
     "status": "ok",
     "timestamp": 1582128710195,
     "user": {
      "displayName": "Jair Loayza Suasnabar",
      "photoUrl": "https://lh3.googleusercontent.com/a-/AAuE7mB2CXCeZ2y-RlcY4ztrl5LvEY2RFnEW7o3Zt_1Xfg=s64",
      "userId": "11599661286454468428"
     },
     "user_tz": 300
    },
    "id": "Bl_FgPvqM6kK",
    "outputId": "a07056b9-eca0-4c87-829b-aeb1ec14c869"
   },
   "outputs": [],
   "source": [
    "#Consultar el tipo de dato de una variable\n",
    "\n",
    "type(a), type(c), type(b1)"
   ]
  },
  {
   "cell_type": "code",
   "execution_count": null,
   "metadata": {
    "colab": {
     "base_uri": "https://localhost:8080/",
     "height": 34
    },
    "colab_type": "code",
    "executionInfo": {
     "elapsed": 804,
     "status": "ok",
     "timestamp": 1582128721000,
     "user": {
      "displayName": "Jair Loayza Suasnabar",
      "photoUrl": "https://lh3.googleusercontent.com/a-/AAuE7mB2CXCeZ2y-RlcY4ztrl5LvEY2RFnEW7o3Zt_1Xfg=s64",
      "userId": "11599661286454468428"
     },
     "user_tz": 300
    },
    "id": "wOAZvXk5NZ_d",
    "outputId": "2b8cd961-4f04-4b3b-d3e7-87c567cf7ed2"
   },
   "outputs": [],
   "source": [
    "#Operador exponencial\n",
    "\n",
    "24 ** 7"
   ]
  },
  {
   "cell_type": "code",
   "execution_count": null,
   "metadata": {
    "colab": {
     "base_uri": "https://localhost:8080/",
     "height": 34
    },
    "colab_type": "code",
    "executionInfo": {
     "elapsed": 806,
     "status": "ok",
     "timestamp": 1582128736110,
     "user": {
      "displayName": "Jair Loayza Suasnabar",
      "photoUrl": "https://lh3.googleusercontent.com/a-/AAuE7mB2CXCeZ2y-RlcY4ztrl5LvEY2RFnEW7o3Zt_1Xfg=s64",
      "userId": "11599661286454468428"
     },
     "user_tz": 300
    },
    "id": "tp71DFIYNt-k",
    "outputId": "252b35b2-09f6-4f4b-eff9-634c2a9d9c84"
   },
   "outputs": [],
   "source": [
    "#Números muy grandes son soportados en Python\n",
    "\n",
    "5424157445487845 ** 10"
   ]
  },
  {
   "cell_type": "code",
   "execution_count": null,
   "metadata": {
    "colab": {
     "base_uri": "https://localhost:8080/",
     "height": 34
    },
    "colab_type": "code",
    "executionInfo": {
     "elapsed": 784,
     "status": "ok",
     "timestamp": 1582128753267,
     "user": {
      "displayName": "Jair Loayza Suasnabar",
      "photoUrl": "https://lh3.googleusercontent.com/a-/AAuE7mB2CXCeZ2y-RlcY4ztrl5LvEY2RFnEW7o3Zt_1Xfg=s64",
      "userId": "11599661286454468428"
     },
     "user_tz": 300
    },
    "id": "Xq_rFyOhNyEH",
    "outputId": "ef1ddcfa-d8c8-4c01-84ae-d1fe38c14722"
   },
   "outputs": [],
   "source": [
    "#Calculando una raiz como la inversa de la exponencial\n",
    "\n",
    "36 ** (1/5)"
   ]
  },
  {
   "cell_type": "code",
   "execution_count": null,
   "metadata": {
    "colab": {
     "base_uri": "https://localhost:8080/",
     "height": 34
    },
    "colab_type": "code",
    "executionInfo": {
     "elapsed": 846,
     "status": "ok",
     "timestamp": 1582128778563,
     "user": {
      "displayName": "Jair Loayza Suasnabar",
      "photoUrl": "https://lh3.googleusercontent.com/a-/AAuE7mB2CXCeZ2y-RlcY4ztrl5LvEY2RFnEW7o3Zt_1Xfg=s64",
      "userId": "11599661286454468428"
     },
     "user_tz": 300
    },
    "id": "QxQuo7UGOAGe",
    "outputId": "f4dfef83-babd-4720-bf6a-26e900a94cf5"
   },
   "outputs": [],
   "source": [
    "#Llamando a la función log que se encuentra en numpy (alias np)\n",
    "\n",
    "np.log(47)"
   ]
  },
  {
   "cell_type": "code",
   "execution_count": null,
   "metadata": {
    "colab": {
     "base_uri": "https://localhost:8080/",
     "height": 34
    },
    "colab_type": "code",
    "executionInfo": {
     "elapsed": 791,
     "status": "ok",
     "timestamp": 1582128798290,
     "user": {
      "displayName": "Jair Loayza Suasnabar",
      "photoUrl": "https://lh3.googleusercontent.com/a-/AAuE7mB2CXCeZ2y-RlcY4ztrl5LvEY2RFnEW7o3Zt_1Xfg=s64",
      "userId": "11599661286454468428"
     },
     "user_tz": 300
    },
    "id": "_91o2DdDOad4",
    "outputId": "d51d8c02-21e3-4102-90b6-f6fcfa6d7f19"
   },
   "outputs": [],
   "source": [
    "#Llamando a la función sqrt con el alias de raiz (declarado en la importación de librerías)\n",
    "\n",
    "raiz(100)"
   ]
  },
  {
   "cell_type": "code",
   "execution_count": null,
   "metadata": {},
   "outputs": [],
   "source": [
    "# 2 formas de llamar una función de una librería\n",
    "\n",
    "# forma 1\n",
    "from math import sqrt as raiz\n",
    "raiz(81)"
   ]
  },
  {
   "cell_type": "code",
   "execution_count": null,
   "metadata": {},
   "outputs": [],
   "source": [
    "# forma 2\n",
    "import math\n",
    "math.sqrt(81)"
   ]
  },
  {
   "cell_type": "code",
   "execution_count": null,
   "metadata": {},
   "outputs": [],
   "source": [
    "radius = 20\n",
    "pi = math.pi\n",
    "area = pi * radius ** 2 \n",
    "area"
   ]
  },
  {
   "cell_type": "code",
   "execution_count": null,
   "metadata": {},
   "outputs": [],
   "source": [
    "volume = 4/3*pi*radius**3\n",
    "volume"
   ]
  },
  {
   "cell_type": "markdown",
   "metadata": {},
   "source": [
    "Calcular el producto de 444...444 (150 dígitos) por 777...777 (300 dígitos). Sin escribir el número completo."
   ]
  },
  {
   "cell_type": "code",
   "execution_count": null,
   "metadata": {},
   "outputs": [],
   "source": [
    "int('4' * 150) * int('7' * 300)"
   ]
  },
  {
   "cell_type": "markdown",
   "metadata": {},
   "source": [
    "1. Se replica el string '4' 150 veces.\n",
    "2. Se convierte ese string de 150 caracteres a un entero con la operación de cast.\n",
    "3. Se realiza el mismo proceso con el string '7'.\n",
    "4. Se realiza el cálculo de la multiplicación sin problemas, ambos son enteros."
   ]
  },
  {
   "cell_type": "markdown",
   "metadata": {
    "colab_type": "text",
    "id": "S0Xuw1NVRbu8"
   },
   "source": [
    "## Cast\n",
    "\n",
    "Es la operación de cambio de tipo de dato entre variables:\n",
    "- De int a float\n",
    "- De int a str\n",
    "- De float a str\n",
    "- Viceversa\n",
    "\n",
    "Tener en cuenta que un str se puede convertir a número (int o float) siempre que no tenga otros caracteres, es decir, solo puede estar compuesto por dígitos.\n"
   ]
  },
  {
   "cell_type": "code",
   "execution_count": null,
   "metadata": {
    "colab": {
     "base_uri": "https://localhost:8080/",
     "height": 34
    },
    "colab_type": "code",
    "executionInfo": {
     "elapsed": 827,
     "status": "ok",
     "timestamp": 1582128970604,
     "user": {
      "displayName": "Jair Loayza Suasnabar",
      "photoUrl": "https://lh3.googleusercontent.com/a-/AAuE7mB2CXCeZ2y-RlcY4ztrl5LvEY2RFnEW7o3Zt_1Xfg=s64",
      "userId": "11599661286454468428"
     },
     "user_tz": 300
    },
    "id": "r9D-S2JdREhm",
    "outputId": "12f2ff67-e5b2-4dd5-e888-7b74c35b4e24"
   },
   "outputs": [],
   "source": [
    "a"
   ]
  },
  {
   "cell_type": "code",
   "execution_count": null,
   "metadata": {
    "colab": {
     "base_uri": "https://localhost:8080/",
     "height": 34
    },
    "colab_type": "code",
    "executionInfo": {
     "elapsed": 809,
     "status": "ok",
     "timestamp": 1582128980397,
     "user": {
      "displayName": "Jair Loayza Suasnabar",
      "photoUrl": "https://lh3.googleusercontent.com/a-/AAuE7mB2CXCeZ2y-RlcY4ztrl5LvEY2RFnEW7o3Zt_1Xfg=s64",
      "userId": "11599661286454468428"
     },
     "user_tz": 300
    },
    "id": "G_9yzswYRkZE",
    "outputId": "db7cd4f3-0996-4050-ddf0-a64c05179695"
   },
   "outputs": [],
   "source": [
    "#De int a float\n",
    "\n",
    "float(a)"
   ]
  },
  {
   "cell_type": "code",
   "execution_count": null,
   "metadata": {
    "colab": {
     "base_uri": "https://localhost:8080/",
     "height": 34
    },
    "colab_type": "code",
    "executionInfo": {
     "elapsed": 850,
     "status": "ok",
     "timestamp": 1582128985495,
     "user": {
      "displayName": "Jair Loayza Suasnabar",
      "photoUrl": "https://lh3.googleusercontent.com/a-/AAuE7mB2CXCeZ2y-RlcY4ztrl5LvEY2RFnEW7o3Zt_1Xfg=s64",
      "userId": "11599661286454468428"
     },
     "user_tz": 300
    },
    "id": "Jcp9DXroRtXk",
    "outputId": "069e63de-622a-4222-b175-8aa4a6baa924"
   },
   "outputs": [],
   "source": [
    "#De int a str\n",
    "\n",
    "str(a)"
   ]
  },
  {
   "cell_type": "code",
   "execution_count": null,
   "metadata": {
    "colab": {
     "base_uri": "https://localhost:8080/",
     "height": 34
    },
    "colab_type": "code",
    "executionInfo": {
     "elapsed": 877,
     "status": "ok",
     "timestamp": 1582128987482,
     "user": {
      "displayName": "Jair Loayza Suasnabar",
      "photoUrl": "https://lh3.googleusercontent.com/a-/AAuE7mB2CXCeZ2y-RlcY4ztrl5LvEY2RFnEW7o3Zt_1Xfg=s64",
      "userId": "11599661286454468428"
     },
     "user_tz": 300
    },
    "id": "6PA9hicfRxQY",
    "outputId": "bb09e1cb-b8c1-4986-b6e7-748149bf1588"
   },
   "outputs": [],
   "source": [
    "s1=\"Hola\"\n"
   ]
  },
  {
   "cell_type": "code",
   "execution_count": null,
   "metadata": {
    "colab": {
     "base_uri": "https://localhost:8080/",
     "height": 180
    },
    "colab_type": "code",
    "executionInfo": {
     "elapsed": 778,
     "status": "error",
     "timestamp": 1582128998429,
     "user": {
      "displayName": "Jair Loayza Suasnabar",
      "photoUrl": "https://lh3.googleusercontent.com/a-/AAuE7mB2CXCeZ2y-RlcY4ztrl5LvEY2RFnEW7o3Zt_1Xfg=s64",
      "userId": "11599661286454468428"
     },
     "user_tz": 300
    },
    "id": "unNVJh8lR3LT",
    "outputId": "29c6fdb0-09eb-4fab-a64d-c5f6547f929f"
   },
   "outputs": [],
   "source": [
    "#Error, no se puede convertir a int\n",
    "\n",
    "int(s1)"
   ]
  },
  {
   "cell_type": "code",
   "execution_count": null,
   "metadata": {
    "colab": {
     "base_uri": "https://localhost:8080/",
     "height": 34
    },
    "colab_type": "code",
    "executionInfo": {
     "elapsed": 2890,
     "status": "ok",
     "timestamp": 1582129032543,
     "user": {
      "displayName": "Jair Loayza Suasnabar",
      "photoUrl": "https://lh3.googleusercontent.com/a-/AAuE7mB2CXCeZ2y-RlcY4ztrl5LvEY2RFnEW7o3Zt_1Xfg=s64",
      "userId": "11599661286454468428"
     },
     "user_tz": 300
    },
    "id": "7K9SqXaPR5Fe",
    "outputId": "7b7545e6-96ce-4eec-d8d1-30ee3f246f86"
   },
   "outputs": [],
   "source": [
    "#Solicitamos la edad y convertimos a int, puesto que la función input() siempre devuelve un str\n",
    "\n",
    "edad = int(input(\"Ingrese la edad: \"))"
   ]
  },
  {
   "cell_type": "code",
   "execution_count": null,
   "metadata": {
    "colab": {
     "base_uri": "https://localhost:8080/",
     "height": 34
    },
    "colab_type": "code",
    "executionInfo": {
     "elapsed": 756,
     "status": "ok",
     "timestamp": 1582129036586,
     "user": {
      "displayName": "Jair Loayza Suasnabar",
      "photoUrl": "https://lh3.googleusercontent.com/a-/AAuE7mB2CXCeZ2y-RlcY4ztrl5LvEY2RFnEW7o3Zt_1Xfg=s64",
      "userId": "11599661286454468428"
     },
     "user_tz": 300
    },
    "id": "4eMrsQX_SDcP",
    "outputId": "1a0f14b3-c0e6-4d03-ae62-3935568fa369"
   },
   "outputs": [],
   "source": [
    "edad + 5"
   ]
  },
  {
   "cell_type": "code",
   "execution_count": null,
   "metadata": {
    "colab": {
     "base_uri": "https://localhost:8080/",
     "height": 34
    },
    "colab_type": "code",
    "executionInfo": {
     "elapsed": 782,
     "status": "ok",
     "timestamp": 1582129038215,
     "user": {
      "displayName": "Jair Loayza Suasnabar",
      "photoUrl": "https://lh3.googleusercontent.com/a-/AAuE7mB2CXCeZ2y-RlcY4ztrl5LvEY2RFnEW7o3Zt_1Xfg=s64",
      "userId": "11599661286454468428"
     },
     "user_tz": 300
    },
    "id": "8IDFB0rPSJZR",
    "outputId": "8a38e227-4bda-45fa-8297-a51552be4efa"
   },
   "outputs": [],
   "source": [
    "c"
   ]
  },
  {
   "cell_type": "code",
   "execution_count": null,
   "metadata": {
    "colab": {
     "base_uri": "https://localhost:8080/",
     "height": 34
    },
    "colab_type": "code",
    "executionInfo": {
     "elapsed": 844,
     "status": "ok",
     "timestamp": 1582129059950,
     "user": {
      "displayName": "Jair Loayza Suasnabar",
      "photoUrl": "https://lh3.googleusercontent.com/a-/AAuE7mB2CXCeZ2y-RlcY4ztrl5LvEY2RFnEW7o3Zt_1Xfg=s64",
      "userId": "11599661286454468428"
     },
     "user_tz": 300
    },
    "id": "kRUqQF-mStpF",
    "outputId": "b99d2467-93d0-48f0-f538-4b1326338f81"
   },
   "outputs": [],
   "source": [
    "#Función útil de redondeo, no requiere importar ningún paquete o módulo adicional\n",
    "\n",
    "round(c, 2)"
   ]
  },
  {
   "cell_type": "markdown",
   "metadata": {},
   "source": [
    "## Manejo de Fechas"
   ]
  },
  {
   "cell_type": "code",
   "execution_count": null,
   "metadata": {},
   "outputs": [],
   "source": [
    "import datetime as dt\n",
    "import time as tm"
   ]
  },
  {
   "cell_type": "markdown",
   "metadata": {},
   "source": [
    "time devuelve el tiempo actual en segundos desde la fecha 1 de enero de 1970:"
   ]
  },
  {
   "cell_type": "code",
   "execution_count": null,
   "metadata": {},
   "outputs": [],
   "source": [
    "tm.time()"
   ]
  },
  {
   "cell_type": "markdown",
   "metadata": {},
   "source": [
    "La estructura del tiempo en Python se maneja como una tupla:\n",
    "<br>Index:\t**Atributos**\tValores\n",
    "<br>0:\t**tm_year**\t2009\n",
    "<br>1:\t**tm_mon**\tde 1 a 12\n",
    "<br>2:\t**tm_mday**\tde 1 a 31\n",
    "<br>3:\t**tm_hour**\tde 0 a 23\n",
    "<br>4:\t**tm_min**\tde 0 a 59\n",
    "<br>5:\t**tm_sec**\tde 0 a 60\n",
    "<br>6:\t**tm_wday**\tde 0 a 6 (0 lunes)\n",
    "<br>7:\t**tm_yday**\tde 1 a 366\n",
    "<br>8:\t**tm_isdst**\t-1, 0, 1, -1 (horario de verano)"
   ]
  },
  {
   "cell_type": "code",
   "execution_count": null,
   "metadata": {},
   "outputs": [],
   "source": [
    "localtime = tm.localtime(tm.time())\n",
    "print (\"Actual hora local :\", localtime)"
   ]
  },
  {
   "cell_type": "markdown",
   "metadata": {},
   "source": [
    "Convierte la marca de tiempo en fecha y hora:"
   ]
  },
  {
   "cell_type": "code",
   "execution_count": null,
   "metadata": {},
   "outputs": [],
   "source": [
    "#Para visualizar las funciones de Time\n",
    "dir(dt.time)"
   ]
  },
  {
   "cell_type": "code",
   "execution_count": null,
   "metadata": {},
   "outputs": [],
   "source": [
    "dtnow = dt.datetime.fromtimestamp(tm.time())\n",
    "dtnow "
   ]
  },
  {
   "cell_type": "markdown",
   "metadata": {},
   "source": [
    "\n",
    "Prácticos atributos de fecha y hora:"
   ]
  },
  {
   "cell_type": "code",
   "execution_count": null,
   "metadata": {},
   "outputs": [],
   "source": [
    "dtnow.year, dtnow.month, dtnow.day, dtnow.hour, dtnow.minute, dtnow.second \n",
    "# get year, month, day, etc.from a datetime"
   ]
  },
  {
   "cell_type": "markdown",
   "metadata": {},
   "source": [
    "\n",
    "timedelta es una duración que expresa la diferencia entre dos fechas"
   ]
  },
  {
   "cell_type": "code",
   "execution_count": null,
   "metadata": {},
   "outputs": [],
   "source": [
    "delta = dt.timedelta(days = 100) # create a timedelta of 100 days\n",
    "delta"
   ]
  },
  {
   "cell_type": "markdown",
   "metadata": {},
   "source": [
    "\n",
    "\n",
    "date.today devuelve la fecha local actual:"
   ]
  },
  {
   "cell_type": "code",
   "execution_count": null,
   "metadata": {},
   "outputs": [],
   "source": [
    "today = dt.date.today()"
   ]
  },
  {
   "cell_type": "markdown",
   "metadata": {},
   "source": [
    "\n",
    "Puedes usar el valor de una variable de fecha como una cadena usando str():"
   ]
  },
  {
   "cell_type": "code",
   "execution_count": null,
   "metadata": {},
   "outputs": [],
   "source": [
    "str(today)"
   ]
  },
  {
   "cell_type": "code",
   "execution_count": null,
   "metadata": {},
   "outputs": [],
   "source": [
    "str(today - delta) # the date 100 days ago"
   ]
  },
  {
   "cell_type": "code",
   "execution_count": null,
   "metadata": {},
   "outputs": [],
   "source": [
    "today > today-delta # compare dates"
   ]
  },
  {
   "cell_type": "markdown",
   "metadata": {},
   "source": [
    "Para convertir cadenas formateadas a instancias de datetime (fechas) se puede usar **strptime** <br>Para escribir datetime (fechas) en cadenas formateadas se puede usar **strftime**"
   ]
  },
  {
   "cell_type": "code",
   "execution_count": null,
   "metadata": {},
   "outputs": [],
   "source": [
    "from datetime import datetime\n",
    "\n",
    "now = datetime.now() # current date and time\n",
    "\n",
    "year = now.strftime(\"%Y\")\n",
    "print(\"year:\", year)\n",
    "\n",
    "month = now.strftime(\"%m\")\n",
    "print(\"month:\", month)\n",
    "\n",
    "day = now.strftime(\"%d\")\n",
    "print(\"day:\", day)\n",
    "\n",
    "time = now.strftime(\"%H:%M:%S\")\n",
    "print(\"time:\", time)\n",
    "\n",
    "date_time = now.strftime(\"%m/%d/%Y, %H:%M:%S\")\n",
    "print(\"date and time:\",date_time)\n",
    "\n",
    "print(now.strftime('%d/%m/%Y'))\n",
    "type(now.strftime('%d/%m/%Y'))\n"
   ]
  },
  {
   "cell_type": "code",
   "execution_count": null,
   "metadata": {},
   "outputs": [],
   "source": [
    "from datetime import datetime\n",
    "\n",
    "datetime_1 = datetime.strptime(\"30 Nov 00\", \"%d %b %y\")\n",
    "datetime_2 = datetime.strptime(\"Thursday, 30 Nov 2000\", \"%A, %d %b %Y\")\n",
    "\n",
    "print(datetime_1)\n",
    "type(datetime_1)\n",
    "\n",
    "print(datetime_2)"
   ]
  },
  {
   "cell_type": "code",
   "execution_count": null,
   "metadata": {},
   "outputs": [],
   "source": [
    "#diferencia entre 2 fechas en días\n",
    "datetime_2= datetime.strptime('04/03/1979', '%d/%m/%Y')\n",
    "datetime_3= datetime.strptime('04/03/2020', '%d/%m/%Y')\n",
    "\n",
    "datetime_3-datetime_2\n"
   ]
  },
  {
   "cell_type": "markdown",
   "metadata": {},
   "source": [
    "### Módulo Calendario"
   ]
  },
  {
   "cell_type": "markdown",
   "metadata": {},
   "source": [
    "El módulo calendario nos brinda diversas funciones relacionadas con el calendario, incluyendo funciones que imprimen un calendario en formato textual para un mes o un año."
   ]
  },
  {
   "cell_type": "code",
   "execution_count": null,
   "metadata": {},
   "outputs": [],
   "source": [
    "import calendar"
   ]
  },
  {
   "cell_type": "code",
   "execution_count": null,
   "metadata": {},
   "outputs": [],
   "source": [
    "calendar.setfirstweekday(0) #define el primer día dela semana,por defecto 0:Monday"
   ]
  },
  {
   "cell_type": "code",
   "execution_count": null,
   "metadata": {},
   "outputs": [],
   "source": [
    "calendar.firstweekday() #0:Monday - 6:Sunday"
   ]
  },
  {
   "cell_type": "code",
   "execution_count": null,
   "metadata": {},
   "outputs": [],
   "source": [
    "calendar.isleap(2020) #True si el año es bisiesto"
   ]
  },
  {
   "cell_type": "code",
   "execution_count": null,
   "metadata": {},
   "outputs": [],
   "source": [
    "calendar.leapdays(2000,2020)  #cantidad de años bisiesto entre 2 años"
   ]
  },
  {
   "cell_type": "code",
   "execution_count": null,
   "metadata": {},
   "outputs": [],
   "source": [
    "calendar.monthcalendar(2022,5) "
   ]
  },
  {
   "cell_type": "code",
   "execution_count": null,
   "metadata": {},
   "outputs": [],
   "source": [
    "calendar.weekday(2020,6,6) #día de la semana que corresponde a una fecha en específico"
   ]
  },
  {
   "cell_type": "markdown",
   "metadata": {},
   "source": [
    "## Ayuda en Python"
   ]
  },
  {
   "cell_type": "code",
   "execution_count": null,
   "metadata": {},
   "outputs": [],
   "source": [
    "help(int)"
   ]
  },
  {
   "cell_type": "code",
   "execution_count": null,
   "metadata": {},
   "outputs": [],
   "source": [
    "?int"
   ]
  },
  {
   "cell_type": "code",
   "execution_count": null,
   "metadata": {},
   "outputs": [],
   "source": [
    "help()"
   ]
  },
  {
   "cell_type": "markdown",
   "metadata": {},
   "source": [
    "## Asignación de variables"
   ]
  },
  {
   "cell_type": "code",
   "execution_count": null,
   "metadata": {},
   "outputs": [],
   "source": [
    "a='string'\n",
    "b=15\n",
    "c=True"
   ]
  },
  {
   "cell_type": "code",
   "execution_count": null,
   "metadata": {},
   "outputs": [],
   "source": [
    "print(a)\n",
    "print(b)\n",
    "print(c)"
   ]
  },
  {
   "cell_type": "markdown",
   "metadata": {},
   "source": [
    "### Asignación múltiple"
   ]
  },
  {
   "cell_type": "code",
   "execution_count": null,
   "metadata": {},
   "outputs": [],
   "source": [
    "a, b, c = 'string', 15, True\n",
    "print(a, b, c)"
   ]
  },
  {
   "cell_type": "markdown",
   "metadata": {},
   "source": [
    "Con información de una tupla:"
   ]
  },
  {
   "cell_type": "code",
   "execution_count": null,
   "metadata": {},
   "outputs": [],
   "source": [
    "tupla_2 = ('hola mundo', 2014) \n",
    "texto_1, anio = tupla_2\n",
    "print(texto_1, anio)"
   ]
  },
  {
   "cell_type": "markdown",
   "metadata": {
    "colab_type": "text",
    "id": "08gs7n1zPvEM"
   },
   "source": [
    "## String"
   ]
  },
  {
   "cell_type": "code",
   "execution_count": null,
   "metadata": {},
   "outputs": [],
   "source": [
    "'Hola Data Science'"
   ]
  },
  {
   "cell_type": "code",
   "execution_count": null,
   "metadata": {},
   "outputs": [],
   "source": [
    "\"Hola Data Science\""
   ]
  },
  {
   "cell_type": "code",
   "execution_count": null,
   "metadata": {},
   "outputs": [],
   "source": [
    "'Este texto incluye unas \" \" '"
   ]
  },
  {
   "cell_type": "code",
   "execution_count": null,
   "metadata": {},
   "outputs": [],
   "source": [
    "\"Esta 'palabra' se encuentra escrita entre comillas simples\""
   ]
  },
  {
   "cell_type": "code",
   "execution_count": null,
   "metadata": {},
   "outputs": [],
   "source": [
    "\"Esta \\\"palabra\\\" se encuentra escrita entre comillas dobles\""
   ]
  },
  {
   "cell_type": "code",
   "execution_count": null,
   "metadata": {},
   "outputs": [],
   "source": [
    "'Esta \\'palabra\\' se encuentra escrita entre comillas dobles'"
   ]
  },
  {
   "cell_type": "code",
   "execution_count": null,
   "metadata": {
    "colab": {},
    "colab_type": "code",
    "id": "Rz_cQEi1PSQw"
   },
   "outputs": [],
   "source": [
    "s1 = 'Hola, soy un string.'\n",
    "s2 = \"Yo también\""
   ]
  },
  {
   "cell_type": "code",
   "execution_count": null,
   "metadata": {
    "colab": {
     "base_uri": "https://localhost:8080/",
     "height": 34
    },
    "colab_type": "code",
    "executionInfo": {
     "elapsed": 625,
     "status": "ok",
     "timestamp": 1582128808122,
     "user": {
      "displayName": "Jair Loayza Suasnabar",
      "photoUrl": "https://lh3.googleusercontent.com/a-/AAuE7mB2CXCeZ2y-RlcY4ztrl5LvEY2RFnEW7o3Zt_1Xfg=s64",
      "userId": "11599661286454468428"
     },
     "user_tz": 300
    },
    "id": "5mIvqhi0P1xd",
    "outputId": "f3ace4c2-b85c-4894-fe47-2f2de39608fa"
   },
   "outputs": [],
   "source": [
    "type(s2)"
   ]
  },
  {
   "cell_type": "code",
   "execution_count": null,
   "metadata": {
    "colab": {
     "base_uri": "https://localhost:8080/",
     "height": 34
    },
    "colab_type": "code",
    "executionInfo": {
     "elapsed": 498,
     "status": "ok",
     "timestamp": 1582128809307,
     "user": {
      "displayName": "Jair Loayza Suasnabar",
      "photoUrl": "https://lh3.googleusercontent.com/a-/AAuE7mB2CXCeZ2y-RlcY4ztrl5LvEY2RFnEW7o3Zt_1Xfg=s64",
      "userId": "11599661286454468428"
     },
     "user_tz": 300
    },
    "id": "mXCNHqxdP4pa",
    "outputId": "ba01e103-1b35-4771-ad4f-d579871d5270"
   },
   "outputs": [],
   "source": [
    "#Concatenar strings\n",
    "\n",
    "s1 + s2"
   ]
  },
  {
   "cell_type": "code",
   "execution_count": null,
   "metadata": {
    "colab": {
     "base_uri": "https://localhost:8080/",
     "height": 34
    },
    "colab_type": "code",
    "executionInfo": {
     "elapsed": 657,
     "status": "ok",
     "timestamp": 1582128817610,
     "user": {
      "displayName": "Jair Loayza Suasnabar",
      "photoUrl": "https://lh3.googleusercontent.com/a-/AAuE7mB2CXCeZ2y-RlcY4ztrl5LvEY2RFnEW7o3Zt_1Xfg=s64",
      "userId": "11599661286454468428"
     },
     "user_tz": 300
    },
    "id": "zj_lV-xSQDUc",
    "outputId": "cc263573-54a8-4089-f2db-1f54736086d8"
   },
   "outputs": [],
   "source": [
    "#Cantidad de caracteres de un string\n",
    "\n",
    "len(s1)"
   ]
  },
  {
   "cell_type": "code",
   "execution_count": null,
   "metadata": {
    "colab": {
     "base_uri": "https://localhost:8080/",
     "height": 34
    },
    "colab_type": "code",
    "executionInfo": {
     "elapsed": 761,
     "status": "ok",
     "timestamp": 1582128827769,
     "user": {
      "displayName": "Jair Loayza Suasnabar",
      "photoUrl": "https://lh3.googleusercontent.com/a-/AAuE7mB2CXCeZ2y-RlcY4ztrl5LvEY2RFnEW7o3Zt_1Xfg=s64",
      "userId": "11599661286454468428"
     },
     "user_tz": 300
    },
    "id": "JWimUyIXQMq7",
    "outputId": "f7b7f6c3-9ef5-42f4-a34a-d0d701d259b5"
   },
   "outputs": [],
   "source": [
    "#String convertido a mayúsculas\n",
    "\n",
    "s1.upper()"
   ]
  },
  {
   "cell_type": "code",
   "execution_count": null,
   "metadata": {},
   "outputs": [],
   "source": [
    "#Convirtiendo el string a una oración\n",
    "\n",
    "s1.capitalize()"
   ]
  },
  {
   "cell_type": "code",
   "execution_count": null,
   "metadata": {},
   "outputs": [],
   "source": [
    "#Convirtiendo el string a minúsculas\n",
    "\n",
    "s2.lower()"
   ]
  },
  {
   "cell_type": "code",
   "execution_count": null,
   "metadata": {},
   "outputs": [],
   "source": [
    "#Consultando si el string termina en 'en'\n",
    "\n",
    "s2.endswith('en')"
   ]
  },
  {
   "cell_type": "code",
   "execution_count": null,
   "metadata": {},
   "outputs": [],
   "source": [
    "#Consultando si el string termina en 'en'\n",
    "\n",
    "s2.endswith('én')"
   ]
  },
  {
   "cell_type": "code",
   "execution_count": null,
   "metadata": {
    "colab": {
     "base_uri": "https://localhost:8080/",
     "height": 34
    },
    "colab_type": "code",
    "executionInfo": {
     "elapsed": 764,
     "status": "ok",
     "timestamp": 1582128836993,
     "user": {
      "displayName": "Jair Loayza Suasnabar",
      "photoUrl": "https://lh3.googleusercontent.com/a-/AAuE7mB2CXCeZ2y-RlcY4ztrl5LvEY2RFnEW7o3Zt_1Xfg=s64",
      "userId": "11599661286454468428"
     },
     "user_tz": 300
    },
    "id": "bchH66syQnRR",
    "outputId": "4bd10dc4-ab83-4b57-d72f-40e8bf452ed5"
   },
   "outputs": [],
   "source": [
    "#Réplica de un string n veces\n",
    "\n",
    "s1 * 4"
   ]
  },
  {
   "cell_type": "markdown",
   "metadata": {},
   "source": [
    "## La función print()\n",
    "Es una instrucción que nos permite mostrar correctamente el valor de una cadena (u otros valores/variables) por pantalla."
   ]
  },
  {
   "cell_type": "code",
   "execution_count": null,
   "metadata": {},
   "outputs": [],
   "source": [
    "\"Visual .Net\"\n",
    "'Java'\n",
    "'Pyhton'"
   ]
  },
  {
   "cell_type": "code",
   "execution_count": null,
   "metadata": {},
   "outputs": [],
   "source": [
    "print(\"Visual .Net\")\n",
    "print('Java')\n",
    "print('Python')"
   ]
  },
  {
   "cell_type": "markdown",
   "metadata": {},
   "source": [
    "#### Acepta carácteres especiales como las tabulaciones /t o los saltos de línea /n"
   ]
  },
  {
   "cell_type": "code",
   "execution_count": null,
   "metadata": {},
   "outputs": [],
   "source": [
    "print(\"Un texto\\tuna tabulación\")"
   ]
  },
  {
   "cell_type": "code",
   "execution_count": null,
   "metadata": {},
   "outputs": [],
   "source": [
    "print(\"Un texto\\nuna nueva línea\")"
   ]
  },
  {
   "cell_type": "markdown",
   "metadata": {},
   "source": [
    "#### Para evitar los carácteres especiales (como \\n), debemos indicar que una cadena es cruda (raw)"
   ]
  },
  {
   "cell_type": "code",
   "execution_count": null,
   "metadata": {},
   "outputs": [],
   "source": [
    "print(\"C:\\nombre\\directorio\")"
   ]
  },
  {
   "cell_type": "code",
   "execution_count": null,
   "metadata": {},
   "outputs": [],
   "source": [
    "print(r\"C:\\nombre\\directorio\")  # r => raw (cruda)"
   ]
  },
  {
   "cell_type": "markdown",
   "metadata": {},
   "source": [
    "#### Podemos utilizar \"\"\" *(triple comillas)* para cadenas multilínea"
   ]
  },
  {
   "cell_type": "code",
   "execution_count": null,
   "metadata": {},
   "outputs": [],
   "source": [
    "print(\"\"\"Una línea\n",
    "otra línea\n",
    "otra línea\\tuna tabulación\"\"\")"
   ]
  },
  {
   "cell_type": "markdown",
   "metadata": {},
   "source": [
    "#### También es posible asignar cadenas a variables\n",
    "La forma correcta de mostrarlas es con la instrucción print()."
   ]
  },
  {
   "cell_type": "code",
   "execution_count": null,
   "metadata": {},
   "outputs": [],
   "source": [
    "c = \"Esto es una cadena\\ncon dos líneas\""
   ]
  },
  {
   "cell_type": "code",
   "execution_count": null,
   "metadata": {},
   "outputs": [],
   "source": [
    "c"
   ]
  },
  {
   "cell_type": "code",
   "execution_count": null,
   "metadata": {},
   "outputs": [],
   "source": [
    "print(c)"
   ]
  },
  {
   "cell_type": "markdown",
   "metadata": {},
   "source": [
    "## Operaciones\n",
    "Una de las operaciones de las cadenas es la concatenación (o suma de cadenas)"
   ]
  },
  {
   "cell_type": "code",
   "execution_count": null,
   "metadata": {},
   "outputs": [],
   "source": [
    "print(c+c)"
   ]
  },
  {
   "cell_type": "code",
   "execution_count": null,
   "metadata": {},
   "outputs": [],
   "source": [
    "s = \"Una cadena\" \" compuesta de dos cadenas\"\n",
    "print(s)"
   ]
  },
  {
   "cell_type": "code",
   "execution_count": null,
   "metadata": {},
   "outputs": [],
   "source": [
    "c1 = \"Una cadena\"\n",
    "c2 = \"otra cadena\"\n",
    "print(\"Una cadena \" + c2)"
   ]
  },
  {
   "cell_type": "markdown",
   "metadata": {},
   "source": [
    "#### También es posible utilizar la multiplicación de cadenas"
   ]
  },
  {
   "cell_type": "code",
   "execution_count": null,
   "metadata": {},
   "outputs": [],
   "source": [
    "diez_espacios = \" \" * 10\n",
    "print(diez_espacios + \"un texto a diez espacios\")"
   ]
  },
  {
   "cell_type": "markdown",
   "metadata": {},
   "source": [
    "##  Más ejemplos de Cadenas (*Strings*)"
   ]
  },
  {
   "cell_type": "markdown",
   "metadata": {
    "colab_type": "text",
    "id": "08gs7n1zPvEM"
   },
   "source": [
    "## String"
   ]
  },
  {
   "cell_type": "markdown",
   "metadata": {},
   "source": [
    "Entre los diferentes tipos nativos de python, nos centraremos en los <i>strings</i>, ya que serán el tipo principal que repetiremos para representar el texto. Esencialmente, una cadena es solo una concatenación de caracteres."
   ]
  },
  {
   "cell_type": "code",
   "execution_count": null,
   "metadata": {},
   "outputs": [],
   "source": [
    "str1 = '\"Hola\" is how we say \"hello\" in Spanish.'\n",
    "str2 = \"Strings can also be defined with quotes; try to be sistematic.\"\n",
    "print(str1)"
   ]
  },
  {
   "cell_type": "code",
   "execution_count": null,
   "metadata": {},
   "outputs": [],
   "source": [
    "print (str1)\n",
    "print (type(str1))\n",
    "print (type(3))\n",
    "print (type(3.))\n",
    "print (type (\"3.\"))"
   ]
  },
  {
   "cell_type": "code",
   "execution_count": null,
   "metadata": {},
   "outputs": [],
   "source": [
    "print (str1[20:-2])"
   ]
  },
  {
   "cell_type": "code",
   "execution_count": null,
   "metadata": {},
   "outputs": [],
   "source": [
    "print (str1+\" \"+str2+\" \"+str(3))"
   ]
  },
  {
   "cell_type": "code",
   "execution_count": null,
   "metadata": {},
   "outputs": [],
   "source": [
    "print (str1.lower())"
   ]
  },
  {
   "cell_type": "code",
   "execution_count": null,
   "metadata": {},
   "outputs": [],
   "source": [
    "print (str1.upper())"
   ]
  },
  {
   "cell_type": "code",
   "execution_count": null,
   "metadata": {},
   "outputs": [],
   "source": [
    "print (len(str1+str2))"
   ]
  },
  {
   "cell_type": "code",
   "execution_count": null,
   "metadata": {},
   "outputs": [],
   "source": [
    "str_replaced=str1.replace('h','H')\n",
    "print (str_replaced)"
   ]
  },
  {
   "cell_type": "code",
   "execution_count": null,
   "metadata": {},
   "outputs": [],
   "source": [
    "str3 = 'This is a question'\n",
    "str3 = str3.replace('i','o')\n",
    "str3 = str3.lower()\n",
    "print (str3[0:3])"
   ]
  },
  {
   "cell_type": "code",
   "execution_count": null,
   "metadata": {},
   "outputs": [],
   "source": [
    "str3[1]"
   ]
  },
  {
   "cell_type": "markdown",
   "metadata": {},
   "source": [
    "El método **split** permite dividir una cadena en unidades menores indicando un separador:"
   ]
  },
  {
   "cell_type": "code",
   "execution_count": null,
   "metadata": {},
   "outputs": [],
   "source": [
    "str1.split()"
   ]
  },
  {
   "cell_type": "code",
   "execution_count": null,
   "metadata": {},
   "outputs": [],
   "source": [
    "str2.split(';')"
   ]
  },
  {
   "cell_type": "markdown",
   "metadata": {},
   "source": [
    "\n",
    "Observamos que existen caracteres especiales que requieren una consideración especial. Además de los caracteres orientados al lenguaje o los símbolos especiales (por ejemplo, \\euro), los siguientes caracteres se usan comúnmente para denotar el retorno de carro (\\r), el inicio de nuevas líneas (\\n) y el tabulado (\\t):"
   ]
  },
  {
   "cell_type": "code",
   "execution_count": null,
   "metadata": {},
   "outputs": [],
   "source": [
    "print ('This is just a carriage return symbol.\\r This sentence will overwrite the previous text.')"
   ]
  },
  {
   "cell_type": "code",
   "execution_count": null,
   "metadata": {},
   "outputs": [],
   "source": [
    "print ('If you wish to start a new line,\\r\\nthe line feed character should also be used.')"
   ]
  },
  {
   "cell_type": "code",
   "execution_count": null,
   "metadata": {},
   "outputs": [],
   "source": [
    "str_quote='But note that most \\tapplications are tolerant\\nto the use of \\'line feed\\' only.'\n",
    "print(str_quote)\n",
    "print(str_quote[58:61])"
   ]
  },
  {
   "cell_type": "markdown",
   "metadata": {},
   "source": [
    "## Índices en las cadenas\n",
    "Los índices nos permiten posicionarnos en un carácter específico de una cadena.\n",
    "\n",
    "Representan un número [índice], que empezando por el 0 indica el carácter de la primera posición, y así sucesivamente."
   ]
  },
  {
   "cell_type": "code",
   "execution_count": null,
   "metadata": {},
   "outputs": [],
   "source": [
    "palabra = \"Python\""
   ]
  },
  {
   "cell_type": "code",
   "execution_count": null,
   "metadata": {},
   "outputs": [],
   "source": [
    "palabra[0] # carácter en la posición 0"
   ]
  },
  {
   "cell_type": "code",
   "execution_count": null,
   "metadata": {},
   "outputs": [],
   "source": [
    "palabra[3]"
   ]
  },
  {
   "cell_type": "markdown",
   "metadata": {},
   "source": [
    "#### El índice negativo -1, hace referencia al carácter de la última posición, el -2 al penúltimo y así sucesivamente"
   ]
  },
  {
   "cell_type": "code",
   "execution_count": null,
   "metadata": {},
   "outputs": [],
   "source": [
    "palabra[-1]"
   ]
  },
  {
   "cell_type": "code",
   "execution_count": null,
   "metadata": {},
   "outputs": [],
   "source": [
    "palabra[-0]"
   ]
  },
  {
   "cell_type": "code",
   "execution_count": null,
   "metadata": {},
   "outputs": [],
   "source": [
    "palabra[-2]"
   ]
  },
  {
   "cell_type": "code",
   "execution_count": null,
   "metadata": {},
   "outputs": [],
   "source": [
    "palabra[-6]"
   ]
  },
  {
   "cell_type": "code",
   "execution_count": null,
   "metadata": {},
   "outputs": [],
   "source": [
    "palabra[5]"
   ]
  },
  {
   "cell_type": "markdown",
   "metadata": {},
   "source": [
    "## Slicing en las cadenas\n",
    "El slicing es una capacidad de las cadenas que devuelve un subconjunto o subcadena utilizando dos índices [inicio:fin]:\n",
    "- El primer índice indica donde empieza la subcadena (se incluye el carácter).\n",
    "- El segundo índice indica donde acaba la subcadena (se excluye el carácter)."
   ]
  },
  {
   "cell_type": "code",
   "execution_count": null,
   "metadata": {},
   "outputs": [],
   "source": [
    "palabra = \"Python\""
   ]
  },
  {
   "cell_type": "code",
   "execution_count": null,
   "metadata": {},
   "outputs": [],
   "source": [
    "palabra[0:2]"
   ]
  },
  {
   "cell_type": "code",
   "execution_count": null,
   "metadata": {},
   "outputs": [],
   "source": [
    "palabra[2:]"
   ]
  },
  {
   "cell_type": "code",
   "execution_count": null,
   "metadata": {},
   "outputs": [],
   "source": [
    "palabra[:2]"
   ]
  },
  {
   "cell_type": "markdown",
   "metadata": {},
   "source": [
    "#### Si en el slicing no se indica un índice se toma por defecto el principio y el final (incluídos)"
   ]
  },
  {
   "cell_type": "code",
   "execution_count": null,
   "metadata": {},
   "outputs": [],
   "source": [
    "palabra[:]"
   ]
  },
  {
   "cell_type": "code",
   "execution_count": null,
   "metadata": {},
   "outputs": [],
   "source": [
    "palabra[:2] + palabra[2:]"
   ]
  },
  {
   "cell_type": "code",
   "execution_count": null,
   "metadata": {},
   "outputs": [],
   "source": [
    "palabra[-2:]"
   ]
  },
  {
   "cell_type": "markdown",
   "metadata": {},
   "source": [
    "#### Si un índice se encuentra fuera del rango de la cadena, dará error"
   ]
  },
  {
   "cell_type": "code",
   "execution_count": null,
   "metadata": {},
   "outputs": [],
   "source": [
    "palabra[99]"
   ]
  },
  {
   "cell_type": "markdown",
   "metadata": {},
   "source": [
    "#### Pero con slicing ésto no pasa y simplemente se ignora el espacio hueco"
   ]
  },
  {
   "cell_type": "code",
   "execution_count": null,
   "metadata": {},
   "outputs": [],
   "source": [
    "palabra[:99]"
   ]
  },
  {
   "cell_type": "code",
   "execution_count": null,
   "metadata": {},
   "outputs": [],
   "source": [
    "palabra[99:]"
   ]
  },
  {
   "cell_type": "markdown",
   "metadata": {},
   "source": [
    "#### Además con slicing podemos invertir una cadena utilizando un tercer argumento: -1 "
   ]
  },
  {
   "cell_type": "code",
   "execution_count": null,
   "metadata": {},
   "outputs": [],
   "source": [
    "palabra[::-1]"
   ]
  },
  {
   "cell_type": "markdown",
   "metadata": {},
   "source": [
    "## Inmutabilidad\n",
    "Una propiedad de las cadenas es que no se pueden modificar. Si intentamos reasignar un carácter, no nos dejará:"
   ]
  },
  {
   "cell_type": "code",
   "execution_count": null,
   "metadata": {},
   "outputs": [],
   "source": [
    "palabra[0] = \"N\""
   ]
  },
  {
   "cell_type": "markdown",
   "metadata": {},
   "source": [
    "#### Sin embargo, utilizando slicing y concatenación podemos generar nuevas cadenas fácilmente:"
   ]
  },
  {
   "cell_type": "code",
   "execution_count": null,
   "metadata": {},
   "outputs": [],
   "source": [
    "palabra = \"N\" + palabra[1:]\n",
    "palabra"
   ]
  },
  {
   "cell_type": "markdown",
   "metadata": {},
   "source": [
    "### Largo de una cadena\n",
    "Un ejemplo de función útil que soportan las cadenas es len(), que nos permite saber su longitud (el número de caracteres que contienen)."
   ]
  },
  {
   "cell_type": "code",
   "execution_count": null,
   "metadata": {},
   "outputs": [],
   "source": [
    "len(palabra)"
   ]
  },
  {
   "cell_type": "markdown",
   "metadata": {},
   "source": [
    "Ingresar el primer párrafo de la página Wikipedia cuando se busca 'circunflejo'. Mostrar el párrafo sin signos de puntuación y en minúsculas."
   ]
  },
  {
   "cell_type": "code",
   "execution_count": null,
   "metadata": {},
   "outputs": [],
   "source": [
    "s = \"El acento circunflejo (^) es un signo diacrítico utilizado en la ortografía normal de diversas lenguas: francés, español medieval, portugués, rumano, neerlandés, noruego, galés, eslovaco, griego, esperanto, vietnamita, ligur, friulano, barese y siciliano entre otros. También es utilizado comúnmente en varios esquemas de transcripción y romanización. Su nombre proviene del latín circumflexus (plegado circularmente), que es una traducción del griego περισπωμένη (perispōménē).\""
   ]
  },
  {
   "cell_type": "code",
   "execution_count": null,
   "metadata": {},
   "outputs": [],
   "source": [
    "print(s)"
   ]
  },
  {
   "cell_type": "code",
   "execution_count": null,
   "metadata": {},
   "outputs": [],
   "source": [
    "#Se reemmplaza la coma, punto y dos puntos por un vacío. Finalmente se convierte a minúsculas.\n",
    "\n",
    "s = s.replace(',', '').replace('.', '').replace(':', '').lower()\n",
    "print(s)"
   ]
  },
  {
   "cell_type": "code",
   "execution_count": null,
   "metadata": {},
   "outputs": [],
   "source": []
  }
 ],
 "metadata": {
  "colab": {
   "authorship_tag": "ABX9TyMk2iW6+hfEm+iZRcRDONY5",
   "collapsed_sections": [
    "cKKJMN37Ettq",
    "fH5VFoIGNm1Y",
    "MffM1qeQPtqV",
    "jjUhPKW0UICg",
    "TxYDSkblYp6c"
   ],
   "name": "Sesión1_G4.ipynb",
   "provenance": []
  },
  "kernelspec": {
   "display_name": "Python 3",
   "language": "python",
   "name": "python3"
  },
  "language_info": {
   "codemirror_mode": {
    "name": "ipython",
    "version": 3
   },
   "file_extension": ".py",
   "mimetype": "text/x-python",
   "name": "python",
   "nbconvert_exporter": "python",
   "pygments_lexer": "ipython3",
   "version": "3.8.5"
  }
 },
 "nbformat": 4,
 "nbformat_minor": 1
}
