{
 "cells": [
  {
   "cell_type": "markdown",
   "metadata": {},
   "source": [
    "# Sesión 4-2: Estructuras de control"
   ]
  },
  {
   "cell_type": "markdown",
   "metadata": {},
   "source": [
    "## Identación"
   ]
  },
  {
   "cell_type": "raw",
   "metadata": {},
   "source": [
    "inicio de la estructura de control:\n",
    "    expresiones"
   ]
  },
  {
   "cell_type": "markdown",
   "metadata": {},
   "source": [
    "La identación es lo que se conoce como sangría, en Python es obligatoria ya que de ella dependerá su estructura"
   ]
  },
  {
   "cell_type": "markdown",
   "metadata": {},
   "source": [
    "## Estructuras de control"
   ]
  },
  {
   "cell_type": "markdown",
   "metadata": {},
   "source": [
    "### Estructuras de control de flujo condicionales"
   ]
  },
  {
   "cell_type": "markdown",
   "metadata": {},
   "source": [
    "Las estructuras de control de flujo condicionales, se definen mediante el uso de tres palabras claves reservadas, del lenguaje: if (si), elif (sino, si) y else (sino)."
   ]
  },
  {
   "cell_type": "markdown",
   "metadata": {},
   "source": [
    "Ejemplo 1:\n",
    "Si semáforo esta en verde, cruzar la calle. Sino, esperar"
   ]
  },
  {
   "cell_type": "raw",
   "metadata": {},
   "source": [
    "if semaforo == 'verde': \n",
    "    print(\"Cruzar la calle\")\n",
    "else: \n",
    "    print(\"Esperar\")"
   ]
  },
  {
   "cell_type": "markdown",
   "metadata": {},
   "source": [
    "Aplicando para semaforo rojo"
   ]
  },
  {
   "cell_type": "code",
   "execution_count": null,
   "metadata": {},
   "outputs": [],
   "source": [
    "semaforo = 'rojo'"
   ]
  },
  {
   "cell_type": "code",
   "execution_count": null,
   "metadata": {},
   "outputs": [],
   "source": [
    "if semaforo == 'verde': \n",
    "    print(\"Cruzar la calle\")\n",
    "else: \n",
    "    print(\"Esperar\")"
   ]
  },
  {
   "cell_type": "code",
   "execution_count": null,
   "metadata": {},
   "outputs": [],
   "source": [
    "print(\"Cruzar la calle\") if semaforo == 'verde' else print(\"Esperar\")"
   ]
  },
  {
   "cell_type": "markdown",
   "metadata": {},
   "source": [
    "Ejemplo 2:\n",
    "Si gasto hasta S/.100, pago con dinero en efectivo. Si no, si gasto más de S/.100 pero menos de S/.300, pago con tarjeta de débito. Si no, pago con tarjeta de crédito."
   ]
  },
  {
   "cell_type": "markdown",
   "metadata": {},
   "source": [
    "#### Pregunta: ¿Si gaste S/.210, con que pago?"
   ]
  },
  {
   "cell_type": "code",
   "execution_count": null,
   "metadata": {},
   "outputs": [],
   "source": [
    "compra = 210\n",
    "if compra <= 100: \n",
    "    print(\"Pago en efectivo\")\n",
    "elif compra > 100 and compra < 300: \n",
    "    print(\"Pago con tarjeta de débito\")\n",
    "else: \n",
    "    print(\"Pago con tarjeta de crédito\")"
   ]
  },
  {
   "cell_type": "markdown",
   "metadata": {},
   "source": [
    "Ejemplo 3:\n",
    "Si la compra es mayor a S/.100, obtengo un descuento del 10%."
   ]
  },
  {
   "cell_type": "code",
   "execution_count": null,
   "metadata": {},
   "outputs": [],
   "source": [
    "total_compra = 400\n",
    "if total_compra > 100: \n",
    "    tasa_descuento = 10 \n",
    "    importe_descuento = total_compra * tasa_descuento / 100 \n",
    "    importe_a_pagar = total_compra - importe_descuento\n",
    "importe_a_pagar"
   ]
  },
  {
   "cell_type": "code",
   "execution_count": null,
   "metadata": {},
   "outputs": [],
   "source": [
    "numero = 1\n",
    "numero = numero + 1\n",
    "print(numero)\n",
    "if numero < 0:\n",
    "    print(\"negativo\")\n",
    "elif numero > 0:\n",
    "    print(\"Positivo\")\n",
    "    print(\"Positivo\")\n",
    "    print(\"Positivo\")\n",
    "    print(\"Positivo\")\n",
    "else:\n",
    "    print(\"Cero\")"
   ]
  },
  {
   "cell_type": "markdown",
   "metadata": {},
   "source": [
    "### Otros ejemplos"
   ]
  },
  {
   "cell_type": "code",
   "execution_count": null,
   "metadata": {},
   "outputs": [],
   "source": [
    "edad = 30"
   ]
  },
  {
   "cell_type": "code",
   "execution_count": null,
   "metadata": {},
   "outputs": [],
   "source": [
    "if edad >= 18:\n",
    "    print('Es mayor de edad')"
   ]
  },
  {
   "cell_type": "code",
   "execution_count": null,
   "metadata": {},
   "outputs": [],
   "source": [
    "if edad >= 18:\n",
    "    print('Es mayor de edad')\n",
    "else:\n",
    "    print('Es menor de edad')"
   ]
  },
  {
   "cell_type": "code",
   "execution_count": null,
   "metadata": {},
   "outputs": [],
   "source": [
    "if edad < 18:\n",
    "    print('Niño')\n",
    "elif edad < 30:\n",
    "    print('Adulto joven')\n",
    "elif edad < 60:\n",
    "    print('Adulto')\n",
    "else:\n",
    "    print('Anciano')"
   ]
  },
  {
   "cell_type": "code",
   "execution_count": null,
   "metadata": {},
   "outputs": [],
   "source": [
    "day = \"Sunday\"\n",
    "if day == \"Sunday\":\n",
    "    print(\"Sleep in\")\n",
    "elif day == \"Saturday\":\n",
    "    print(\"Do chores\")\n",
    "else:\n",
    "    print(\"Go to work\")"
   ]
  },
  {
   "cell_type": "code",
   "execution_count": null,
   "metadata": {},
   "outputs": [],
   "source": [
    "#operación ternaria en una fila\n",
    "edad=15\n",
    "mensaje = 'Es mayor de edad' if edad >= 18 else print('Es menor de edad') \n",
    "print(mensaje)"
   ]
  },
  {
   "cell_type": "markdown",
   "metadata": {},
   "source": [
    "### Estructuras de control iterativas"
   ]
  },
  {
   "cell_type": "markdown",
   "metadata": {},
   "source": [
    "#### Bucle while"
   ]
  },
  {
   "cell_type": "code",
   "execution_count": null,
   "metadata": {},
   "outputs": [],
   "source": [
    "anio = 2005 \n",
    "while anio <= 2018: \n",
    "    print(\"Informes del Año\", str(anio))\n",
    "    anio += 1"
   ]
  },
  {
   "cell_type": "markdown",
   "metadata": {},
   "source": [
    "Este bucle, se encarga de ejecutar una misma acción \"mientras que\" una determinada condición se cumpla."
   ]
  },
  {
   "cell_type": "code",
   "execution_count": null,
   "metadata": {},
   "outputs": [],
   "source": [
    "valor = -5\n",
    "while (valor < 5):\n",
    "    print(\"valor \"+str(valor))\n",
    "    valor+=1\n",
    "#end while\n",
    "print(\"Fin del while\")"
   ]
  },
  {
   "cell_type": "markdown",
   "metadata": {},
   "source": [
    "#### Bucle for"
   ]
  },
  {
   "cell_type": "markdown",
   "metadata": {},
   "source": [
    "El bucle for, en Python, es aquel que nos permitirá iterar sobre una variable compleja, del tipo lista o tupla"
   ]
  },
  {
   "cell_type": "code",
   "execution_count": null,
   "metadata": {},
   "outputs": [],
   "source": [
    "for i in range(1, 11):\n",
    "    print(i)"
   ]
  },
  {
   "cell_type": "code",
   "execution_count": null,
   "metadata": {},
   "outputs": [],
   "source": [
    "#codigo usando for\n",
    "acum = 0\n",
    "for i in range(1, 10001):\n",
    "    acum = acum + i\n",
    "    \n",
    "print(acum)"
   ]
  },
  {
   "cell_type": "code",
   "execution_count": null,
   "metadata": {},
   "outputs": [],
   "source": [
    "#codigo usando while\n",
    "acum = 0\n",
    "i = 1\n",
    "while (i < 10001):\n",
    "    acum = acum + i\n",
    "    i = i+1\n",
    "print(acum)"
   ]
  },
  {
   "cell_type": "code",
   "execution_count": null,
   "metadata": {},
   "outputs": [],
   "source": [
    "fact = 1\n",
    "\n",
    "for i in range(1, 11):\n",
    "    fact = fact*i\n",
    "    print(i, fact)"
   ]
  },
  {
   "cell_type": "code",
   "execution_count": null,
   "metadata": {},
   "outputs": [],
   "source": [
    "lista_1 = ['Juan', 'Antonio', 'Pedro', 'Herminio'] \n",
    "for nombre in lista_1: \n",
    "    print(nombre)"
   ]
  },
  {
   "cell_type": "code",
   "execution_count": null,
   "metadata": {},
   "outputs": [],
   "source": [
    "tupla_1 = ('rosa', 'verde', 'celeste', 'amarillo') \n",
    "for color in tupla_1: \n",
    "    print(color)"
   ]
  },
  {
   "cell_type": "markdown",
   "metadata": {},
   "source": [
    "En los ejemplos anteriores, nombre y color, son dos variables declaradas en tiempo de ejecución (es decir, se declaran dinámicamente durante el bucle), asumiendo como valor, el de cada elemento de la lista (o tupla) en cada iteración."
   ]
  },
  {
   "cell_type": "code",
   "execution_count": null,
   "metadata": {},
   "outputs": [],
   "source": [
    "days_of_the_week = ['Monday','Tuesday','Wednesday','Thursday','Friday','Saturday','Sunday']"
   ]
  },
  {
   "cell_type": "code",
   "execution_count": null,
   "metadata": {},
   "outputs": [],
   "source": [
    "for day in days_of_the_week:\n",
    "    print(day)"
   ]
  },
  {
   "cell_type": "code",
   "execution_count": null,
   "metadata": {},
   "outputs": [],
   "source": [
    "for day in days_of_the_week:\n",
    "    statement = \"Today is \" + day\n",
    "    print(statement)"
   ]
  },
  {
   "cell_type": "code",
   "execution_count": null,
   "metadata": {},
   "outputs": [],
   "source": [
    "for i in range (20):\n",
    "    print(\"The square of \",i,\" is \",i*i)"
   ]
  },
  {
   "cell_type": "code",
   "execution_count": null,
   "metadata": {},
   "outputs": [],
   "source": [
    "for letter in \"Sunday\":\n",
    "    print(letter)"
   ]
  },
  {
   "cell_type": "code",
   "execution_count": null,
   "metadata": {},
   "outputs": [],
   "source": [
    "for day in days_of_the_week:\n",
    "    print(\"Today is\",day)\n",
    "    if day == \"Sunday\":\n",
    "        print(\"Sleep in\")\n",
    "    elif day == \"Saturday\":\n",
    "        print(\"Do chores\")\n",
    "    else:\n",
    "        print(\"Go to work\")"
   ]
  },
  {
   "cell_type": "code",
   "execution_count": null,
   "metadata": {},
   "outputs": [],
   "source": [
    "# Fibonacci\n",
    "n = 10\n",
    "sequence = [0,1]  #es una lista de numeros\n",
    "for i in range(2,n): # Para todo n<=2\n",
    "    sequence.append(sequence[i-1]+sequence[i-2])\n",
    "print(sequence)"
   ]
  },
  {
   "cell_type": "code",
   "execution_count": null,
   "metadata": {},
   "outputs": [],
   "source": [
    "n = 10\n",
    "sequence = [0,1,1]\n",
    "for i in range(3,n): # Para todo n<=2\n",
    "    sequence.append(sequence[i-1]+sequence[i-2]+sequence[i-3])\n",
    "print(sequence)"
   ]
  },
  {
   "cell_type": "code",
   "execution_count": null,
   "metadata": {},
   "outputs": [],
   "source": [
    "#Bucles\n",
    "list = range(0,10,2)\n",
    "\n",
    "for valor in range(0,10,2):\n",
    "    print(valor)\n",
    "    \n",
    "valor=0"
   ]
  },
  {
   "cell_type": "code",
   "execution_count": null,
   "metadata": {},
   "outputs": [],
   "source": [
    "#Programa que escriba los múltiplos de 5 del 1 al 100\n",
    "for i in range(1,100):\n",
    "    if i%5 == 0:\n",
    "        print(i)"
   ]
  },
  {
   "cell_type": "code",
   "execution_count": null,
   "metadata": {},
   "outputs": [],
   "source": [
    "#Programa que va creando la media de los valores que va iterando\n",
    "suma = 0\n",
    "elementos = 0\n",
    "for i in range(9):\n",
    "    suma = suma + i\n",
    "    elementos = elementos + 1\n",
    "    print(\"la media en la iteración \" +str(elementos)+\" es \"+str(suma/elementos))"
   ]
  },
  {
   "cell_type": "code",
   "execution_count": null,
   "metadata": {},
   "outputs": [],
   "source": [
    "#que hace el siguiente programa?\n",
    "valor = 100\n",
    "i = 2\n",
    "while (i <= valor):\n",
    "    k = 0\n",
    "    for j in range(2,i+1):\n",
    "        if i%j == 0:\n",
    "            k = k+1\n",
    "    if k <= 1:\n",
    "        print(i)\n",
    "    i = i+1"
   ]
  },
  {
   "cell_type": "markdown",
   "metadata": {},
   "source": [
    "### Control de errores"
   ]
  },
  {
   "cell_type": "code",
   "execution_count": null,
   "metadata": {},
   "outputs": [],
   "source": [
    "x = 7\n",
    "if x>5:\n",
    "    print('mayor que 5')\n",
    "else:\n",
    "    print('menos o igual que 5')\n"
   ]
  },
  {
   "cell_type": "code",
   "execution_count": null,
   "metadata": {},
   "outputs": [],
   "source": [
    "x = 'Hola'\n",
    "if x>5:\n",
    "    print('mayor que 5')\n",
    "else:\n",
    "    print('menor o igual que 5')\n"
   ]
  },
  {
   "cell_type": "code",
   "execution_count": null,
   "metadata": {},
   "outputs": [],
   "source": [
    "x = 'Hola'\n",
    "try:\n",
    "    if x>5:\n",
    "        print('mayor que 5')\n",
    "    else:\n",
    "        print('menor o igual que 5')\n",
    "except:\n",
    "    print('número incorrecto')"
   ]
  },
  {
   "cell_type": "code",
   "execution_count": null,
   "metadata": {},
   "outputs": [],
   "source": [
    "x = 5\n",
    "try:\n",
    "    if x>5:\n",
    "        print('mayor que 5')\n",
    "    elif x<5:\n",
    "        print('menor que 5')\n",
    "    else:\n",
    "        print('igual a 5')\n",
    "except:\n",
    "    print('número incorrecto')"
   ]
  },
  {
   "cell_type": "code",
   "execution_count": null,
   "metadata": {},
   "outputs": [],
   "source": []
  }
 ],
 "metadata": {
  "kernelspec": {
   "display_name": "Python 3",
   "language": "python",
   "name": "python3"
  },
  "language_info": {
   "codemirror_mode": {
    "name": "ipython",
    "version": 3
   },
   "file_extension": ".py",
   "mimetype": "text/x-python",
   "name": "python",
   "nbconvert_exporter": "python",
   "pygments_lexer": "ipython3",
   "version": "3.8.5"
  }
 },
 "nbformat": 4,
 "nbformat_minor": 2
}
