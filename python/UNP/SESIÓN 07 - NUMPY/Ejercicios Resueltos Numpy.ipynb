{
 "cells": [
  {
   "cell_type": "markdown",
   "metadata": {
    "colab_type": "text",
    "id": "sjx-cCS2qjXB"
   },
   "source": [
    "# Sesión 07: Ejercicios Resueltos Numpy\n"
   ]
  },
  {
   "cell_type": "markdown",
   "metadata": {
    "colab_type": "text",
    "id": "-HPc81yMqlX9"
   },
   "source": [
    "### Parte 1: ***Numpy***\n"
   ]
  },
  {
   "cell_type": "markdown",
   "metadata": {
    "colab_type": "text",
    "id": "XpfED-eFqlX9"
   },
   "source": [
    "**Ejercicio 1** \n",
    "\n",
    "Crear un vector con los valores impares entre 40 y 80"
   ]
  },
  {
   "cell_type": "code",
   "execution_count": null,
   "metadata": {
    "colab": {},
    "colab_type": "code",
    "id": "sNFcAnNCqlX-"
   },
   "outputs": [],
   "source": [
    "# Completa el ejercicio aquí\n",
    "import numpy as np\n",
    "vect1=np.arange(40,80)\n",
    "print(vect1)\n",
    "vect2=vect1[(np.mod(vect1, 2) != 0)]\n",
    "print(vect2)"
   ]
  },
  {
   "cell_type": "markdown",
   "metadata": {
    "colab_type": "text",
    "id": "NHC-u_CcqlYB"
   },
   "source": [
    "**Ejercicio 2** \n",
    "\n",
    "Crea 2 matrices de números aleatorios del orden que desees, pero que sean del mismo orden, y realizar las operaciones de suma, resta, multiplicación escalar y división escalar."
   ]
  },
  {
   "cell_type": "code",
   "execution_count": null,
   "metadata": {
    "colab": {},
    "colab_type": "code",
    "id": "OEV8DeOIqlYB"
   },
   "outputs": [],
   "source": [
    "# Completa el ejercicio aquí\n",
    "import numpy as np\n",
    "A = np.random.randint(0, 30, (3,4))\n",
    "B = np.random.randint(0, 30, (3,4))\n",
    "print('\\033[1m' +\"MATRIZ A\"+ '\\033[0m')\n",
    "print(A)\n",
    "print('\\033[1m' +\"MATRIZ B\"+ '\\033[0m')\n",
    "print(B)\n",
    "print('\\033[1m' +\"SUMA A + B \"+ '\\033[0m')\n",
    "print(A+B)\n",
    "print('\\033[1m' +\"RESTA A - B \"+ '\\033[0m')\n",
    "print(A-B)\n",
    "print('\\033[1m' +\"MULTIPLICACION A * B \"+ '\\033[0m')\n",
    "print(A*B)"
   ]
  },
  {
   "cell_type": "markdown",
   "metadata": {
    "colab_type": "text",
    "id": "AEjOdOkPqlYF"
   },
   "source": [
    "**Ejercicio 3** \n",
    "\n",
    "Crea 2 matrices de números aleatorios, una de orden mxn y otra de nxm (m puede ser igual a n) y realizar las operaciones de  multiplicación matricial, y a esa matriz resultado sacar las operaciones determinante e inversa. Haga las mismas operaciones con las matrices transpuestas."
   ]
  },
  {
   "cell_type": "code",
   "execution_count": null,
   "metadata": {
    "colab": {},
    "colab_type": "code",
    "id": "nT8W6En6qlYF"
   },
   "outputs": [],
   "source": [
    "# Completa el ejercicio aquí\n",
    "C = np.random.randint(0, 30, (3,4))\n",
    "D = np.array(C.T)\n",
    "E = np.dot(C,D)\n",
    "print(C)\n",
    "print(D)\n",
    "print('\\033[1m' +\"MULTIPLICACION MATRICIAL\"+ '\\033[0m')\n",
    "print(E)\n",
    "print('\\033[1m' +\"DETERMINANTE\"+ '\\033[0m')\n",
    "print(np.linalg.det(E))\n",
    "print('\\033[1m' +\"INVERSA\"+ '\\033[0m')\n",
    "print(np.linalg.inv(E))"
   ]
  },
  {
   "cell_type": "markdown",
   "metadata": {
    "colab_type": "text",
    "id": "Te40ThTSqlYI"
   },
   "source": [
    "**Ejercicio 4** \n",
    "\n",
    "Crear matrices cuadradas de elementos aleatorios (entre 0 y 1) del orden del 2 al 9. De estas matrices, crear otras cuyos elementos cumplan la siguiente condición: elemento que sea mayor o igual a 0.5 se convertirá a 1, caso contrario que sea 0. Extraer el promedio y la desviación estándar de los elementos de las matrices resultantes. ¿Puede ver un patrón en estos resultados?"
   ]
  },
  {
   "cell_type": "code",
   "execution_count": null,
   "metadata": {
    "colab": {},
    "colab_type": "code",
    "id": "Rwa0Q8lEqlYI"
   },
   "outputs": [],
   "source": [
    "# Completa el ejercicio aquí\n",
    "a1 = np.random.random((2,2))\n",
    "print(a1)\n",
    "a1[a1 > 0.5] = 1\n",
    "a1[a1 < 0.5] = 0\n",
    "print(a1)\n",
    "print(\"Promedio: \",a1.mean())\n",
    "print(\"Desviación estándar: \",a1.std())\n",
    "a2 = np.random.random((3,3))\n",
    "print(a2)\n",
    "a2[a2 > 0.5] = 1\n",
    "a2[a2 < 0.5] = 0\n",
    "print(a2)\n",
    "print(\"Promedio: \",a2.mean())\n",
    "print(\"Desviación estándar: \",a2.std())\n",
    "a3 = np.random.random((4,4))\n",
    "print(a3)\n",
    "a3[a3 > 0.5] = 1\n",
    "a3[a3 < 0.5] = 0\n",
    "print(a3)\n",
    "print(\"Promedio: \",a3.mean())\n",
    "print(\"Desviación estándar: \",a3.std())\n",
    "a4 = np.random.random((5,5))\n",
    "print(a4)\n",
    "a4[a4 > 0.5] = 1\n",
    "a4[a4 < 0.5] = 0\n",
    "print(a4)\n",
    "print(\"Promedio: \",a4.mean())\n",
    "print(\"Desviación estándar: \",a4.std())\n",
    "a5 = np.random.random((6,6))\n",
    "print(a5)\n",
    "a5[a5 > 0.5] = 1\n",
    "a5[a5 < 0.5] = 0\n",
    "print(a5)\n",
    "print(\"Promedio: \",a5.mean())\n",
    "print(\"Desviación estándar: \",a5.std())\n",
    "a6 = np.random.random((7,7))\n",
    "print(a6)\n",
    "a6[a6 > 0.5] = 1\n",
    "a6[a6 < 0.5] = 0\n",
    "print(a6)\n",
    "print(\"Promedio: \",a6.mean())\n",
    "print(\"Desviación estándar: \",a6.std())\n",
    "a7 = np.random.random((8,8))\n",
    "print(a7)\n",
    "a7[a7 > 0.5] = 1\n",
    "a7[a7 < 0.5] = 0\n",
    "print(a7)\n",
    "print(\"Promedio: \",a7.mean())\n",
    "print(\"Desviación estándar: \",a7.std())\n",
    "a8 = np.random.random((9,9))\n",
    "print(a8)\n",
    "a8[a8 > 0.5] = 1\n",
    "a8[a8 < 0.5] = 0\n",
    "print(a8)\n",
    "print(\"Promedio: \",a8.mean())\n",
    "print(\"Desviación estándar: \",a8.std())"
   ]
  },
  {
   "cell_type": "markdown",
   "metadata": {
    "colab_type": "text",
    "id": "dMfjzVx8qlYL"
   },
   "source": [
    "**Ejercicio 5** \n",
    "\n",
    "Crea a partir de esta matriz una que cumpla la siguiente condición: que en cada fila, el quinto elemento siempre debe ser el resultado de sumar los cuatro primeros. Hacer el código para que esto se cumpla.\n",
    "\n",
    "*Ayuda: La función sum() y la función column_stack pueden ayudar*"
   ]
  },
  {
   "cell_type": "code",
   "execution_count": null,
   "metadata": {
    "colab": {},
    "colab_type": "code",
    "id": "c6BfLa0wqlYM"
   },
   "outputs": [],
   "source": [
    "M = [ \n",
    "    [1, 1, 1, 3],\n",
    "    [2, 2, 2, 7],\n",
    "    [3, 3, 3, 9],\n",
    "    [4, 4, 4, 13]\n",
    "]\n",
    "\n",
    "\n",
    "matriz = np.array(M)\n",
    "# Completa el ejercicio aquí\n",
    "\n",
    "nueva_matriz=np.column_stack((matriz,np.sum(matriz, axis=1)))\n",
    "print(nueva_matriz)"
   ]
  },
  {
   "cell_type": "markdown",
   "metadata": {
    "colab_type": "text",
    "id": "4reUGaY2qnQl"
   },
   "source": [
    "### Parte 2: ***Estructuras de datos en Python***\n"
   ]
  },
  {
   "cell_type": "markdown",
   "metadata": {
    "colab_type": "text",
    "id": "DaOmYibHqjXD"
   },
   "source": [
    "**Ejercicio 1**\n",
    "\n",
    "Dada la siguiente lista, cree un comando que mueva los dos últimos elementos de <i> list1 </i> al comienzo de la misma:"
   ]
  },
  {
   "cell_type": "code",
   "execution_count": null,
   "metadata": {
    "colab": {},
    "colab_type": "code",
    "id": "x5gzy2t1qnQn"
   },
   "outputs": [],
   "source": [
    "list1 = [1, 2, 3, 4, 5, 6, 7, 8, 9, 10 ]"
   ]
  },
  {
   "cell_type": "code",
   "execution_count": null,
   "metadata": {
    "colab": {},
    "colab_type": "code",
    "id": "qA5HnLMkqnQs"
   },
   "outputs": [],
   "source": [
    "# Completa el ejercicio aquí\n",
    "\n",
    "list1.insert(0,list1.pop())\n",
    "print(list1)\n",
    "list1.insert(0,list1.pop())\n",
    "print(list1)"
   ]
  },
  {
   "cell_type": "markdown",
   "metadata": {
    "colab_type": "text",
    "id": "4iWRme8ZqnQw"
   },
   "source": [
    "**Ejercicio 2**\n",
    "\n",
    "Usando la ayuda de la siguiente función, crea un comando usando `pop()` que elimine el último elemento de <i> list1 </i> y lo inserte al principio:"
   ]
  },
  {
   "cell_type": "code",
   "execution_count": null,
   "metadata": {
    "colab": {},
    "colab_type": "code",
    "id": "dq2VdVuYqnQx"
   },
   "outputs": [],
   "source": [
    "# Completa el ejercicio aquí\n",
    "print(list1)\n",
    "list1.insert(0,list1.pop())\n",
    "print(list1)"
   ]
  },
  {
   "cell_type": "markdown",
   "metadata": {
    "colab_type": "text",
    "id": "xly85YcyqnQ0"
   },
   "source": [
    "**Ejercicio 3**\n",
    "\n",
    "Usando conjuntos y listas, ingrese algunas líneas de código que permita ingresar una palabra, convertirlo en mayúscula, que elimine las vocales y queden las consonantes distintas. Finalmente debe devolver el listado de consonantes en orden descendente. "
   ]
  },
  {
   "cell_type": "code",
   "execution_count": null,
   "metadata": {
    "colab": {},
    "colab_type": "code",
    "id": "g54a8mp4qnQ1"
   },
   "outputs": [],
   "source": [
    "# Completa el ejercicio aquí\n",
    "\n",
    "palabra_may=input(\"ingrese palabra: \").upper()\n",
    "lista1=list(palabra_may)\n",
    "vocales={'A','E','I','O','U'}\n",
    "palabra1=set(lista1)-vocales\n",
    "palabra2=list(palabra1)\n",
    "palabra2.sort(reverse = True)\n",
    "print(palabra2)\n"
   ]
  },
  {
   "cell_type": "markdown",
   "metadata": {
    "colab_type": "text",
    "id": "P_M14qYEqnQ4"
   },
   "source": [
    "**Ejercicio 4**\n",
    "\n",
    "Escribir un programa que guarde en un diccionario las siguientes relaciones divisa->simbolo y que al solicitar una divisa muestre su símbolo o un mensaje de aviso si la divisa no está en el diccionario.\n",
    "- Euro -> €\n",
    "- Dólar -> $\n",
    "- Yen -> ¥"
   ]
  },
  {
   "cell_type": "code",
   "execution_count": null,
   "metadata": {
    "colab": {},
    "colab_type": "code",
    "id": "bMAOfCcuqnQ4"
   },
   "outputs": [],
   "source": [
    "diccionario_divisas = {'Euro':'€', 'Dollar':'$', 'Yen':'¥'}\n",
    "divisa = input(\"Introduce una divisa: \")\n",
    "# Completa el ejercicio aquí\n",
    "if divisa in diccionario_divisas:\n",
    "    print(divisa + ' ---> '+diccionario_divisas[divisa])\n",
    "else:\n",
    "    print(\"Divisa no se encuentra\")"
   ]
  },
  {
   "attachments": {
    "image.png": {
     "image/png": "[encoded data removed]"
    }
   },
   "cell_type": "markdown",
   "metadata": {
    "colab_type": "text",
    "id": "qucIeudxqnQ7"
   },
   "source": [
    "**Ejercicio 5**\n",
    "\n",
    "Escribir un programa que guarde en un diccionario los precios de las frutas de la tabla, pregunte al usuario por una fruta, un número de kilos y muestre por pantalla el precio de ese número de kilos de fruta. Si la fruta no está en el diccionario debe mostrar un mensaje informando de ello. \n",
    "![image.png](attachment:image.png)"
   ]
  },
  {
   "cell_type": "code",
   "execution_count": null,
   "metadata": {
    "colab": {},
    "colab_type": "code",
    "id": "rPt2sJf4qnQ7"
   },
   "outputs": [],
   "source": [
    "# Completa el ejercicio aquí\n",
    "print(\"1. Ingrese Frutas\")\n",
    "print(\"2. Mostrar Datos\")\n",
    "print(\"3. Busque Frutas\")\n",
    "print(\"4. Eliminar Datos\")\n",
    "print(\"5. Salir\")\n",
    "productos={}\n",
    "while(1):\n",
    "  \n",
    "    opcion = int(input('Ingrese la opcion: '))\n",
    "\n",
    "    #salimos del while si se ingresa la opción 5\n",
    "    if opcion == 5:\n",
    "        break\n",
    "    if opcion == 1:\n",
    "        fruta  = input('Ingrese nombre de la fruta: ')\n",
    "        precio  = input('Ingrese su Precio: ')\n",
    "        productos[fruta] = float(precio)\n",
    "        \n",
    "    elif opcion == 2:   \n",
    "        print('\\033[1m' +'FRUTA', '   ','PRECIO'+ '\\033[0m')\n",
    "        for clave, valor in productos.items():\n",
    "            print(clave, '-->', valor)\n",
    "    elif opcion == 3:\n",
    "        \n",
    "        Dato_buscar = input('Ingrese la fruta a buscar: ')\n",
    "        if Dato_buscar in productos:\n",
    "            print('\\033[1m' +'FRUTA', '   ','PRECIO'+ '\\033[0m')\n",
    "            print(Dato_buscar, '-->', productos[Dato_buscar])\n",
    "        else:\n",
    "            print(\"El producto no existe\")\n",
    "\n",
    "    elif opcion == 4:\n",
    "        productos.clear()\n",
    "        print(\"Datos eliminados ....\")"
   ]
  },
  {
   "attachments": {
    "image.png": {
     "image/png": "[encoded data removed]"
    }
   },
   "cell_type": "markdown",
   "metadata": {
    "colab_type": "text",
    "id": "pXThNhzDqnQ_"
   },
   "source": [
    "**Ejercicio 6**\n",
    "\n",
    "Escribir un programa que cree un diccionario simulando una cesta de la compra. El programa debe preguntar el artículo y su precio y añadir el par al diccionario, hasta que el usuario decida terminar. Después se debe mostrar por pantalla la lista de la compra y el coste total, con el siguiente formato!\n",
    "![image.png](attachment:image.png)"
   ]
  },
  {
   "cell_type": "code",
   "execution_count": null,
   "metadata": {
    "colab": {},
    "colab_type": "code",
    "id": "p1gha-_cqnRA"
   },
   "outputs": [],
   "source": [
    "# Completa el ejercicio aquí\n",
    "print(\"1. Ingrese Articulo\")\n",
    "print(\"2. Mostrar Lista de compra\")\n",
    "print(\"3. Busque Articulo\")\n",
    "print(\"4. Eliminar Datos\")\n",
    "print(\"5. Salir\")\n",
    "productos={}\n",
    "while(1):\n",
    "  \n",
    "    opcion = int(input('Ingrese la opcion: '))\n",
    "\n",
    "    #salimos del while si se ingresa la opción 5\n",
    "    if opcion == 5:\n",
    "        break\n",
    "    if opcion == 1:\n",
    "        articulo  = input('Ingrese nombre del Articulo: ')\n",
    "        precio  = input('Ingrese su Precio: ')\n",
    "        productos[articulo] = float(precio)\n",
    "        \n",
    "    elif opcion == 2:   \n",
    "        print('\\033[1m' +'LISTA DE COMPRA'+ '\\033[0m')\n",
    "        for clave, valor in productos.items():\n",
    "            print(clave, '-->', valor)\n",
    "        total = sum(productos.values())\n",
    "        print('\\033[1m' +\"EL TOTAL ES:\"+ '\\033[0m',total)\n",
    "    elif opcion == 3:\n",
    "        \n",
    "        Dato_buscar = input('Ingrese el articulo a buscar: ')\n",
    "        if Dato_buscar in productos:\n",
    "            print('\\033[1m' +'LISTA DE COMPRA'+ '\\033[0m')\n",
    "            print(Dato_buscar, '-->', productos[Dato_buscar])\n",
    "        else:\n",
    "            print(\"El producto no existe\")\n",
    "\n",
    "    elif opcion == 4:\n",
    "        productos.clear()\n",
    "        print(\"Datos eliminados ....\")"
   ]
  },
  {
   "cell_type": "markdown",
   "metadata": {
    "colab_type": "text",
    "id": "sqvzajoUqnRC"
   },
   "source": [
    "### Parte 3: ***Introducción a las funciones***"
   ]
  },
  {
   "cell_type": "markdown",
   "metadata": {
    "colab_type": "text",
    "id": "C7YDpLGuqnRC"
   },
   "source": [
    "**Ejercicio 1**\n",
    "\n",
    "Crea una función de deuelva el área de un triángulo o de un rectángulo ingresando 3 parámetros: la base, la altura y el número de lados: 3 o 4. Si es un valor distinto o de otro tipo, arrojar un mensaje de error (recuerde el manejo de errores)"
   ]
  },
  {
   "cell_type": "code",
   "execution_count": null,
   "metadata": {
    "colab": {},
    "colab_type": "code",
    "id": "Lp5xR8iKqnRD"
   },
   "outputs": [],
   "source": [
    "# Completa el ejercicio aquí\n",
    "def area():\n",
    "    b=True\n",
    "    while b:\n",
    "       \n",
    "        try:\n",
    "            nl=int(input(\"Ingrese el numero de lados: \"))\n",
    "            b=int(input(\"Ingrese la base: \"))\n",
    "            h=int(input(\"Ingrese la altura: \"))\n",
    "            if nl==3:\n",
    "                return b*h/2\n",
    "            elif nl==2:\n",
    "                return b*h\n",
    "                \n",
    "        except:\n",
    "            return \"Hay un error en los valores de entrada\"\n",
    "        b=False \n",
    "a=area()\n",
    "print(\"El area es \",a)\n"
   ]
  },
  {
   "cell_type": "markdown",
   "metadata": {
    "colab_type": "text",
    "id": "akzb7slBqjXE"
   },
   "source": [
    "**Ejercicio 2**\n",
    "\n",
    "Crea una función que calcule el factorial de un número. No olvidar que no hay factorial para números negativos y que el factorial de cero es 1."
   ]
  },
  {
   "cell_type": "code",
   "execution_count": null,
   "metadata": {
    "colab": {},
    "colab_type": "code",
    "id": "ZtoBUkv5qnRG"
   },
   "outputs": [],
   "source": [
    "# Completa el ejercicio aquí\n",
    "def factorial(n):\n",
    "    if n==0 or n==1:\n",
    "        resultado=1\n",
    "        return resultado\n",
    "    elif n>1:\n",
    "        resultado=n*factorial(n-1)\n",
    "        return resultado\n",
    "    elif n<1:\n",
    "        print(\"No tiene factorial\")\n",
    "    \n",
    "\n",
    "factorial(6)\n"
   ]
  },
  {
   "cell_type": "markdown",
   "metadata": {},
   "source": [
    "**Ejercicio 3**\n",
    "\n",
    "Crear una función que calcule el interes generado por un capital C, en un tiempo T (dado en meses) bajo una tasa R (anual)."
   ]
  },
  {
   "cell_type": "code",
   "execution_count": null,
   "metadata": {},
   "outputs": [],
   "source": [
    "# Completa el ejercicio aquí\n",
    "def cal_int(capital,tasa,meses):\n",
    "    for i in range(meses):\n",
    "        tm=(tasa/12)\n",
    "        capital *= 1 + tm / 100 \n",
    "        print(\"Interes generados en el mes\" + str(i+1) + \": \" + str(round(capital, 2)))\n",
    "\n",
    "capital = float(input(\"Ingrese capital: \"))\n",
    "tasa = float(input(\"Ingrese la tasa R anual'('%')': \"))\n",
    "meses = int(input(\"Ingrese el tiempo en meses: \"))\n",
    "cal_int(capital,tasa,meses)"
   ]
  },
  {
   "cell_type": "markdown",
   "metadata": {
    "colab_type": "text",
    "id": "K_LeCj1jqjXG"
   },
   "source": [
    "**Ejercicio 4**\n",
    "\n",
    "Crea una función que, dada una cadena que contenga un guión bajo, devuelva la subcadena antes del guión bajo. Si no hubiera este caracter especial, simplemente devolver la palabra completa.\n",
    "<br> ***Nota: Puede basarse en un ejercicio propuesto de la sesión anterior***"
   ]
  },
  {
   "cell_type": "code",
   "execution_count": null,
   "metadata": {
    "colab": {},
    "colab_type": "code",
    "id": "vfgXwZGqqjXH"
   },
   "outputs": [],
   "source": [
    "# Completa el ejercicio aquí\n",
    "def sub_cad(cadena):\n",
    "    a=list(cadena)\n",
    "    if '_' in a:\n",
    "        i=a.index('_')\n",
    "        b=a[0:i]\n",
    "        StrB = \"\".join(b)\n",
    "        print(StrB)\n",
    "    \n",
    "    else:\n",
    "        StrA = \"\".join(a)\n",
    "        print(StrA)\n",
    "\n",
    "cadena=input(\"Ingrese una cadena: \")\n",
    "sub_cad(cadena)    \n",
    "    "
   ]
  },
  {
   "cell_type": "markdown",
   "metadata": {
    "colab_type": "text",
    "id": "av1VTorKqjXM"
   },
   "source": [
    "**Ejercicio 5**\n",
    "\n",
    "Crea una función que calcule el promedio iterativo de una lista numérica. Por ejemplo: para la lista range(10) se obtendra el siguiente resultado:\n",
    "<i>\n",
    "<br>\n",
    "La media en la iteracion 1 es 0.0 <br>\n",
    "La media en la iteracion 2 es 0.5 <br>\n",
    "La media en la iteracion 3 es 1.0 <br>\n",
    "La media en la iteracion 4 es 1.5 <br>\n",
    "La media en la iteracion 5 es 2.0 <br>\n",
    "La media en la iteracion 6 es 2.5 <br>\n",
    "La media en la iteracion 7 es 3.0 <br>\n",
    "La media en la iteracion 8 es 3.5 <br>\n",
    "La media en la iteracion 9 es 4.0 <br>\n",
    "La media en la iteracion 10 es 4.5 <br>"
   ]
  },
  {
   "cell_type": "code",
   "execution_count": null,
   "metadata": {
    "colab": {},
    "colab_type": "code",
    "id": "kor5WLcUqjXM"
   },
   "outputs": [],
   "source": [
    "# Completa el ejercicio aquí\n",
    "def promedio_iterativo(a):\n",
    "    media=0\n",
    "    for i in range(1,a+1):\n",
    "        print('La media en la iteracion ',i,'es', media)\n",
    "        media=i/2 \n",
    "\n",
    "promedio_iterativo(10)        "
   ]
  },
  {
   "cell_type": "markdown",
   "metadata": {
    "colab_type": "text",
    "id": "fSmCqNcMqnRO"
   },
   "source": [
    "**Ejercicio 6**\n",
    "\n",
    "La secuencia de Fibonacci es una secuencia en matemática que comienza con 0 y 1, y luego cada entrada sucesiva es la suma de los dos anteriores. Por lo tanto, la secuencia va 0,1,1,2,3,5,8,13,21,34,55,89, ...\n",
    "<br>Crea una función que reciba como parámetro un número entero n mayor que 0 y calcule la secuencia de Fibonacci de n elementos. Use control iterativo **for** \n",
    "<br><i><b>Fib[0]=0, Fib[1], Fib[n]=Fib[n-1]+Fib[n-2]"
   ]
  },
  {
   "cell_type": "code",
   "execution_count": null,
   "metadata": {
    "colab": {},
    "colab_type": "code",
    "id": "OMNRqO5YqnRP"
   },
   "outputs": [],
   "source": [
    "# Completa el ejercicio aquí\n",
    "def fibo(num):\n",
    "    a, b = 0,1\n",
    "    print(\"Fibonacci de\",num)\n",
    "    for i in range(num):\n",
    "        print(a, end=' ')\n",
    "        a, b = b, a + b\n",
    "    \n",
    "n = int(input(\"Ingrese un número \"))\n",
    "\n",
    "fibo(n)"
   ]
  },
  {
   "cell_type": "markdown",
   "metadata": {
    "colab_type": "text",
    "id": "S-mO_RtPqnRS"
   },
   "source": [
    "**Ejercicio 7**\n",
    "\n",
    "*Ejercicio de la Caja fuerte:*\n",
    "\n",
    "Encuentra usando fuerza bruta (intentando todas las opciones) el(los) código(s) de 4 dígitos de una caja fuerte. Las únicas pistas que recuerdas son:\n",
    "\n",
    "* El primer dígito es el número de ceros en el código.\n",
    "* El segundo dígito es el número de unos en el código.\n",
    "* El tercer dígito es el número de dos en el código.\n",
    "* El cuarto dígito es el número de tres en el código."
   ]
  },
  {
   "cell_type": "code",
   "execution_count": null,
   "metadata": {},
   "outputs": [],
   "source": [
    "# Completa el ejercicio aquí\n",
    "def caja_fuerte(num):\n",
    "    a=list(num)\n",
    "    pc=a.count('0')\n",
    "    sc=a.count('1')\n",
    "    tc=a.count('2')\n",
    "    cc=a.count('3')\n",
    "    print(\"El codigo buscado es:\"+str(pc)+' '+str(sc)+' '+str(tc)+' '+str(cc))\n",
    "\n",
    "numeros=input(\"Ingresa numeros:\")\n",
    "caja_fuerte(numeros)"
   ]
  },
  {
   "cell_type": "markdown",
   "metadata": {},
   "source": [
    "**Ejercicio 8**\n",
    "\n",
    "Cree una función llamada **prod_numeros** la cual permita multiplicar una cantidad indefinida de valores que son ingresados como parámetros. El primer parámetro se llama \"a\", es obligatorio y tiene el valor de uno por defecto, mientras que los demás son opcionales.\n",
    "Evalue esta función sin parámetros, con un parámetro y con varios parámetros."
   ]
  },
  {
   "cell_type": "code",
   "execution_count": null,
   "metadata": {
    "colab": {},
    "colab_type": "code",
    "id": "3l589d7IqnRT"
   },
   "outputs": [],
   "source": [
    "# Completa el ejercicio aquí\n",
    "def prod_numeros(a = 1, *args):\n",
    "    for i in args:\n",
    "        a = a * i\n",
    "    print(a)\n",
    "\n",
    "prod_numeros()\n",
    "prod_numeros(3)\n",
    "prod_numeros(4,5)\n",
    "prod_numeros(6,7,9)"
   ]
  },
  {
   "cell_type": "markdown",
   "metadata": {},
   "source": [
    "**Ejercicio 9**\n",
    "\n",
    "**a.** Crea una función lambda que reciba 2 parámetros y que devuelva la suma de los cuadrados de ambos números si el primer número es mayor al segundo, caso contrario que devuelva la suma de los cubos de ambos números.\n"
   ]
  },
  {
   "cell_type": "code",
   "execution_count": null,
   "metadata": {},
   "outputs": [],
   "source": [
    "# Completa el ejercicio aquí\n",
    "sum=lambda a,b: a**2 + b**2 if a>b else  a**3 + b**3"
   ]
  },
  {
   "cell_type": "code",
   "execution_count": null,
   "metadata": {},
   "outputs": [],
   "source": [
    "sum(3,4)\n"
   ]
  },
  {
   "cell_type": "markdown",
   "metadata": {},
   "source": [
    "**b.** Evalue la función lambda anterior para los siguientes vectores (usando **list** y **map**)."
   ]
  },
  {
   "cell_type": "code",
   "execution_count": null,
   "metadata": {},
   "outputs": [],
   "source": [
    "a = [3,4,5,6,7]\n",
    "b = [9,7,5,3,1]\n",
    "sum=list(map(lambda a,b: a**2 + b**2 if a>b else a**3 + b**3 ,a,b))\n",
    "\n",
    "print(sum)\n"
   ]
  },
  {
   "cell_type": "markdown",
   "metadata": {},
   "source": [
    "**Ejercicio 10**\n",
    "\n",
    "Cree una función lambda que reciba una cantidad de segundos y lo devueva en horas, minutos y segundos. Por ejemplo:\n",
    "\n",
    "tiempo(3895)\n",
    "<br> 1 horas 4 minutos 55 segundos\n",
    "\n",
    "*Ayuda: Puede ayudar la división entera (//) y la función módulo (%)*"
   ]
  },
  {
   "cell_type": "code",
   "execution_count": null,
   "metadata": {},
   "outputs": [],
   "source": [
    "# Completa el ejercicio aquí\n",
    "def conver():\n",
    "    s=int(input(\"Ingrese los segundos:\"))\n",
    "    convertir_hora=lambda segundo: (segundo//3600)\n",
    "    convertir_min= lambda segundo: (segundo%3600)//60  \n",
    "    convertir_seg= lambda segundo: ((segundo%3600)%60)   \n",
    "    h=convertir_hora(s)\n",
    "    m=convertir_min(s)\n",
    "    s=convertir_seg(s)\n",
    "    print('Hora ',h, 'minutos ',m,' segundos ',s)\n",
    "\n",
    "conver()\n",
    "    "
   ]
  },
  {
   "cell_type": "markdown",
   "metadata": {},
   "source": [
    "**Ejercicio 11**\n",
    "\n",
    "Usa compresión de listas para calcular todos los números múltiplos de 3 ó múltiplos de 5 hasta el 150 inclusive."
   ]
  },
  {
   "cell_type": "code",
   "execution_count": null,
   "metadata": {},
   "outputs": [],
   "source": [
    "# Completa el ejercicio aquí\n",
    "my_list = []\n",
    "for number in range(1, 151):\n",
    "    if number % 3==0 or number%5==0:\n",
    "        my_list.append(number)\n",
    "my_list"
   ]
  },
  {
   "cell_type": "markdown",
   "metadata": {},
   "source": [
    "**Ejercicio 12**\n",
    "\n",
    "Escribir un programa que calcule el monto total a pagar por un préstamo considerando:\n",
    "- El monto del préstamo es M soles\n",
    "- Si se trata de un colaborador del banco, la tasa es del 10.5%\n",
    "- Si el cliente es del segmento 'Independiente' la tasa será del 13% si tiene cuenta de ahorro,\n",
    "  de lo contrario la tasa es del 16%\n",
    "- En otros casos, la tasa es del 18.5%"
   ]
  },
  {
   "cell_type": "code",
   "execution_count": null,
   "metadata": {},
   "outputs": [],
   "source": [
    "# Completa el ejercicio aquí\n",
    "def monto_total():\n",
    "    monto=int(input(\"Ingrese monto: \"))\n",
    "    colaborador=input(\"Es colaborador (Si/No): \")\n",
    "     \n",
    "    if colaborador=='Si':\n",
    "        Monto_T=monto+monto*10.5/100\n",
    "    else:\n",
    "        segmento=input(\"Es trabajador Independiente (Si/No): \")\n",
    "        cta=input(\"Tiene cuenta (Si/NO)\")\n",
    "        if segmento=='Si'and cta=='Si':\n",
    "            Monto_T=monto+monto*13/100\n",
    "        elif segmento=='Si'and cta=='No':\n",
    "            Monto_T=monto+monto*16/100\n",
    "        else:\n",
    "            Monto_T=monto+monto*18.5/100\n",
    "    \n",
    "    print(\"El monto total es: \",Monto_T)\n",
    "\n",
    "\n",
    "monto_total()\n",
    "        "
   ]
  }
 ],
 "metadata": {
  "anaconda-cloud": {},
  "colab": {
   "collapsed_sections": [],
   "name": "Sesión 2 - PFA - Ejercicios.ipynb",
   "provenance": []
  },
  "kernelspec": {
   "display_name": "Python 3",
   "language": "python",
   "name": "python3"
  },
  "language_info": {
   "codemirror_mode": {
    "name": "ipython",
    "version": 3
   },
   "file_extension": ".py",
   "mimetype": "text/x-python",
   "name": "python",
   "nbconvert_exporter": "python",
   "pygments_lexer": "ipython3",
   "version": "3.8.5"
  }
 },
 "nbformat": 4,
 "nbformat_minor": 1
}
