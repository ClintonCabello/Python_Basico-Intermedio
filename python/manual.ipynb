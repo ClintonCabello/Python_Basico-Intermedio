{
 "cells": [
  {
   "cell_type": "code",
   "execution_count": 1,
   "id": "9b005db4",
   "metadata": {},
   "outputs": [],
   "source": [
    "import findspark\n",
    "findspark.init()"
   ]
  },
  {
   "cell_type": "code",
   "execution_count": 2,
   "id": "d27ba5e2",
   "metadata": {},
   "outputs": [],
   "source": [
    "from pyspark.sql import SparkSession"
   ]
  },
  {
   "cell_type": "code",
   "execution_count": 3,
   "id": "2fc53be2",
   "metadata": {},
   "outputs": [],
   "source": [
    "spark =  SparkSession.builder.getOrCreate()"
   ]
  },
  {
   "cell_type": "code",
   "execution_count": 4,
   "id": "84a8b3cd",
   "metadata": {},
   "outputs": [
    {
     "data": {
      "text/html": [
       "\n",
       "            <div>\n",
       "                <p><b>SparkSession - in-memory</b></p>\n",
       "                \n",
       "        <div>\n",
       "            <p><b>SparkContext</b></p>\n",
       "\n",
       "            <p><a href=\"http://LAPTOP-SL0LGCC2:4040\">Spark UI</a></p>\n",
       "\n",
       "            <dl>\n",
       "              <dt>Version</dt>\n",
       "                <dd><code>v3.4.0</code></dd>\n",
       "              <dt>Master</dt>\n",
       "                <dd><code>local[*]</code></dd>\n",
       "              <dt>AppName</dt>\n",
       "                <dd><code>pyspark-shell</code></dd>\n",
       "            </dl>\n",
       "        </div>\n",
       "        \n",
       "            </div>\n",
       "        "
      ],
      "text/plain": [
       "<pyspark.sql.session.SparkSession at 0x2127a5b7550>"
      ]
     },
     "execution_count": 4,
     "metadata": {},
     "output_type": "execute_result"
    }
   ],
   "source": [
    "spark"
   ]
  },
  {
   "cell_type": "code",
   "execution_count": 3,
   "id": "5c93007e",
   "metadata": {},
   "outputs": [
    {
     "name": "stdout",
     "output_type": "stream",
     "text": [
      "Hello Clinton\n",
      "Hello Clinton\n"
     ]
    }
   ],
   "source": [
    "nombre = \"Clinton\"\n",
    "\n",
    "print(\"Hello\", nombre)\n",
    "print(f\"Hello {nombre}\")"
   ]
  },
  {
   "cell_type": "code",
   "execution_count": 6,
   "id": "ece6db17",
   "metadata": {},
   "outputs": [
    {
     "name": "stdout",
     "output_type": "stream",
     "text": [
      "Hello Clinton\n"
     ]
    }
   ],
   "source": [
    "print(\"Hello \"+ nombre)"
   ]
  },
  {
   "cell_type": "code",
   "execution_count": 8,
   "id": "5485ce45",
   "metadata": {},
   "outputs": [
    {
     "data": {
      "text/plain": [
       "str"
      ]
     },
     "execution_count": 8,
     "metadata": {},
     "output_type": "execute_result"
    }
   ],
   "source": [
    "type('name')"
   ]
  },
  {
   "cell_type": "code",
   "execution_count": 9,
   "id": "5b7b4ed9",
   "metadata": {},
   "outputs": [
    {
     "data": {
      "text/plain": [
       "dict"
      ]
     },
     "execution_count": 9,
     "metadata": {},
     "output_type": "execute_result"
    }
   ],
   "source": [
    "type({1:'uno'})"
   ]
  },
  {
   "cell_type": "code",
   "execution_count": 10,
   "id": "fe599738",
   "metadata": {},
   "outputs": [
    {
     "data": {
      "text/plain": [
       "True"
      ]
     },
     "execution_count": 10,
     "metadata": {},
     "output_type": "execute_result"
    }
   ],
   "source": [
    "5 == 5"
   ]
  },
  {
   "cell_type": "code",
   "execution_count": 11,
   "id": "351e49ec",
   "metadata": {},
   "outputs": [
    {
     "data": {
      "text/plain": [
       "True"
      ]
     },
     "execution_count": 11,
     "metadata": {},
     "output_type": "execute_result"
    }
   ],
   "source": [
    "8 != 7"
   ]
  },
  {
   "cell_type": "code",
   "execution_count": 12,
   "id": "4b7a6cc4",
   "metadata": {},
   "outputs": [
    {
     "data": {
      "text/plain": [
       "True"
      ]
     },
     "execution_count": 12,
     "metadata": {},
     "output_type": "execute_result"
    }
   ],
   "source": [
    "(5*2) > ((4+5)/5)"
   ]
  },
  {
   "cell_type": "code",
   "execution_count": 15,
   "id": "57e2868c",
   "metadata": {},
   "outputs": [],
   "source": [
    "c = 'python'"
   ]
  },
  {
   "cell_type": "code",
   "execution_count": 16,
   "id": "0b2e7cb0",
   "metadata": {},
   "outputs": [
    {
     "data": {
      "text/plain": [
       "'y'"
      ]
     },
     "execution_count": 16,
     "metadata": {},
     "output_type": "execute_result"
    }
   ],
   "source": [
    "c[1]"
   ]
  },
  {
   "cell_type": "code",
   "execution_count": 17,
   "id": "4dc9c2de",
   "metadata": {},
   "outputs": [
    {
     "data": {
      "text/plain": [
       "'pyt'"
      ]
     },
     "execution_count": 17,
     "metadata": {},
     "output_type": "execute_result"
    }
   ],
   "source": [
    "c[:-3]"
   ]
  },
  {
   "cell_type": "code",
   "execution_count": 18,
   "id": "e74efd00",
   "metadata": {},
   "outputs": [
    {
     "data": {
      "text/plain": [
       "'hon'"
      ]
     },
     "execution_count": 18,
     "metadata": {},
     "output_type": "execute_result"
    }
   ],
   "source": [
    "c[-3:]"
   ]
  },
  {
   "cell_type": "code",
   "execution_count": 20,
   "id": "a2d4e503",
   "metadata": {},
   "outputs": [
    {
     "data": {
      "text/plain": [
       "'hon'"
      ]
     },
     "execution_count": 20,
     "metadata": {},
     "output_type": "execute_result"
    }
   ],
   "source": [
    "c[3:6]"
   ]
  },
  {
   "cell_type": "code",
   "execution_count": 21,
   "id": "1295c4ec",
   "metadata": {},
   "outputs": [
    {
     "data": {
      "text/plain": [
       "6"
      ]
     },
     "execution_count": 21,
     "metadata": {},
     "output_type": "execute_result"
    }
   ],
   "source": [
    "len(c)"
   ]
  },
  {
   "cell_type": "code",
   "execution_count": 22,
   "id": "9a448f16",
   "metadata": {},
   "outputs": [
    {
     "data": {
      "text/plain": [
       "'pt'"
      ]
     },
     "execution_count": 22,
     "metadata": {},
     "output_type": "execute_result"
    }
   ],
   "source": [
    "c[0:4:2]"
   ]
  },
  {
   "cell_type": "code",
   "execution_count": 24,
   "id": "d5e33b8e",
   "metadata": {},
   "outputs": [
    {
     "data": {
      "text/plain": [
       "'me gusta dormir'"
      ]
     },
     "execution_count": 24,
     "metadata": {},
     "output_type": "execute_result"
    }
   ],
   "source": [
    "'me gusta ' + 'dormir'"
   ]
  },
  {
   "cell_type": "code",
   "execution_count": 25,
   "id": "6f9d7ec0",
   "metadata": {},
   "outputs": [
    {
     "data": {
      "text/plain": [
       "'pythonpythonpythonpythonpython'"
      ]
     },
     "execution_count": 25,
     "metadata": {},
     "output_type": "execute_result"
    }
   ],
   "source": [
    "'python'*5"
   ]
  },
  {
   "cell_type": "code",
   "execution_count": 27,
   "id": "b223ba0b",
   "metadata": {},
   "outputs": [
    {
     "data": {
      "text/plain": [
       "'PYTHON'"
      ]
     },
     "execution_count": 27,
     "metadata": {},
     "output_type": "execute_result"
    }
   ],
   "source": [
    "c.upper()"
   ]
  },
  {
   "cell_type": "code",
   "execution_count": 28,
   "id": "2f65694b",
   "metadata": {},
   "outputs": [
    {
     "data": {
      "text/plain": [
       "'python'"
      ]
     },
     "execution_count": 28,
     "metadata": {},
     "output_type": "execute_result"
    }
   ],
   "source": [
    "c.lower()"
   ]
  },
  {
   "cell_type": "code",
   "execution_count": 29,
   "id": "930de1b6",
   "metadata": {},
   "outputs": [
    {
     "data": {
      "text/plain": [
       "'Python'"
      ]
     },
     "execution_count": 29,
     "metadata": {},
     "output_type": "execute_result"
    }
   ],
   "source": [
    "c.title()"
   ]
  },
  {
   "cell_type": "code",
   "execution_count": 35,
   "id": "6daf1394",
   "metadata": {},
   "outputs": [
    {
     "data": {
      "text/plain": [
       "['me', 'gusta', 'python']"
      ]
     },
     "execution_count": 35,
     "metadata": {},
     "output_type": "execute_result"
    }
   ],
   "source": [
    "'me gusta python'.split()"
   ]
  },
  {
   "cell_type": "code",
   "execution_count": 36,
   "id": "2cbfb437",
   "metadata": {},
   "outputs": [
    {
     "data": {
      "text/plain": [
       "['me gusta python']"
      ]
     },
     "execution_count": 36,
     "metadata": {},
     "output_type": "execute_result"
    }
   ],
   "source": [
    "'me gusta python'.split(',')"
   ]
  },
  {
   "cell_type": "code",
   "execution_count": 40,
   "id": "334d082a",
   "metadata": {},
   "outputs": [
    {
     "name": "stdout",
     "output_type": "stream",
     "text": [
      "ingresa tu edad: 12\n",
      "menor\n"
     ]
    }
   ],
   "source": [
    "s = int(input('ingresa tu edad: '))\n",
    "\n",
    "if s <= 18:\n",
    "    print('menor')\n",
    "elif s >= 65:\n",
    "    print('Jubilado')\n",
    "else:\n",
    "    print('activo')"
   ]
  },
  {
   "cell_type": "code",
   "execution_count": 42,
   "id": "6a738dbb",
   "metadata": {},
   "outputs": [
    {
     "name": "stdout",
     "output_type": "stream",
     "text": [
      "Ingresa un número: 4\n",
      "Ingresa un número: 3\n",
      "Ingresa un número: 2\n",
      "Ingresa un número: -1\n",
      "Ingresa un número: 3.2\n",
      "Ingresa un número: 0\n"
     ]
    }
   ],
   "source": [
    "# Pregunta al usuario por un número hasta que introduce 0.\n",
    "\n",
    "while True:\n",
    "    num = float(input('Ingresa un número: '))\n",
    "    if num == 0:\n",
    "        break"
   ]
  },
  {
   "cell_type": "code",
   "execution_count": 47,
   "id": "9f09f54b",
   "metadata": {},
   "outputs": [
    {
     "name": "stdout",
     "output_type": "stream",
     "text": [
      "Ingrese el número: 3\n",
      "Ingrese el número: 4\n",
      "Ingrese el número: 0\n"
     ]
    }
   ],
   "source": [
    "num1 = None\n",
    "\n",
    "while num1 != 0:\n",
    "    num1 = float(input('Ingrese el número: '))"
   ]
  },
  {
   "cell_type": "code",
   "execution_count": 45,
   "id": "eea27095",
   "metadata": {},
   "outputs": [
    {
     "name": "stdout",
     "output_type": "stream",
     "text": [
      "ingrese el número: 4\n",
      "ingrese el número: 3\n",
      "ingrese el número: 2\n",
      "ingrese el número: -1\n",
      "ingrese el número: 0\n",
      "la suma es  8.0\n"
     ]
    }
   ],
   "source": [
    "# Pregunta al usuario por un número hasta que introduce 0 y luego muestre la suma\n",
    "suma = 0\n",
    "while True:\n",
    "    n = float(input('ingrese el número: '))\n",
    "    if n == 0:\n",
    "        break\n",
    "    suma = suma + n\n",
    "\n",
    "print('la suma es ',suma)    "
   ]
  },
  {
   "cell_type": "code",
   "execution_count": 48,
   "id": "086b8e1f",
   "metadata": {},
   "outputs": [],
   "source": [
    "p = 'barcelona'"
   ]
  },
  {
   "cell_type": "code",
   "execution_count": 49,
   "id": "5e16fb51",
   "metadata": {
    "scrolled": true
   },
   "outputs": [
    {
     "name": "stdout",
     "output_type": "stream",
     "text": [
      "b\n",
      "a\n",
      "r\n",
      "c\n",
      "e\n",
      "l\n",
      "o\n",
      "n\n",
      "a\n"
     ]
    }
   ],
   "source": [
    "for i in p:\n",
    "    print(i)"
   ]
  },
  {
   "cell_type": "code",
   "execution_count": 50,
   "id": "c5bb3d3d",
   "metadata": {},
   "outputs": [
    {
     "name": "stdout",
     "output_type": "stream",
     "text": [
      "['Liverpool', 'Chelsea']\n",
      "['Liverpool', 'Chelsea']\n"
     ]
    }
   ],
   "source": [
    "x = ['Liverpool', 'Chelsea']\n",
    "\n",
    "for i in x:\n",
    "    print(x)    "
   ]
  },
  {
   "cell_type": "code",
   "execution_count": 52,
   "id": "3b6eefa0",
   "metadata": {},
   "outputs": [
    {
     "name": "stdout",
     "output_type": "stream",
     "text": [
      "2\n",
      "4\n",
      "6\n",
      "8\n"
     ]
    }
   ],
   "source": [
    "for i in range(2,10,2):\n",
    "    print(i)"
   ]
  },
  {
   "cell_type": "code",
   "execution_count": 53,
   "id": "e2203aa8",
   "metadata": {},
   "outputs": [
    {
     "name": "stdout",
     "output_type": "stream",
     "text": [
      "2\n",
      "4\n",
      "6\n",
      "8\n",
      "La suma es:  20\n"
     ]
    }
   ],
   "source": [
    "s=0\n",
    "for i in range(2,10,2):\n",
    "    print(i)\n",
    "    s = s +i\n",
    "print('La suma es: ',s)"
   ]
  },
  {
   "cell_type": "code",
   "execution_count": 57,
   "id": "4a5c7592",
   "metadata": {},
   "outputs": [
    {
     "data": {
      "text/plain": [
       "['b', 'a', 'r', 'c', 'e', 'l', 'o', 'n', 'a']"
      ]
     },
     "execution_count": 57,
     "metadata": {},
     "output_type": "execute_result"
    }
   ],
   "source": [
    "l = list(p);l"
   ]
  },
  {
   "cell_type": "code",
   "execution_count": 59,
   "id": "b2d5d8cd",
   "metadata": {},
   "outputs": [
    {
     "data": {
      "text/plain": [
       "True"
      ]
     },
     "execution_count": 59,
     "metadata": {},
     "output_type": "execute_result"
    }
   ],
   "source": [
    "'a' in l"
   ]
  },
  {
   "cell_type": "code",
   "execution_count": 61,
   "id": "6cbb2f69",
   "metadata": {},
   "outputs": [
    {
     "data": {
      "text/plain": [
       "1"
      ]
     },
     "execution_count": 61,
     "metadata": {},
     "output_type": "execute_result"
    }
   ],
   "source": [
    "l.index('a')"
   ]
  },
  {
   "cell_type": "code",
   "execution_count": 62,
   "id": "32964ac8",
   "metadata": {},
   "outputs": [
    {
     "data": {
      "text/plain": [
       "2"
      ]
     },
     "execution_count": 62,
     "metadata": {},
     "output_type": "execute_result"
    }
   ],
   "source": [
    "l.count('a')"
   ]
  },
  {
   "cell_type": "code",
   "execution_count": 64,
   "id": "5a2be0c4",
   "metadata": {},
   "outputs": [
    {
     "data": {
      "text/plain": [
       "['a', 'a', 'b', 'c', 'e', 'l', 'n', 'o', 'r']"
      ]
     },
     "execution_count": 64,
     "metadata": {},
     "output_type": "execute_result"
    }
   ],
   "source": [
    "l.sort();l"
   ]
  },
  {
   "cell_type": "markdown",
   "id": "86164b29",
   "metadata": {},
   "source": [
    "## Funciones"
   ]
  },
  {
   "cell_type": "code",
   "execution_count": 71,
   "id": "3304ef07",
   "metadata": {},
   "outputs": [
    {
     "name": "stdout",
     "output_type": "stream",
     "text": [
      "¡bienvenido a python!\n"
     ]
    }
   ],
   "source": [
    " def nombre():\n",
    "        print('¡bienvenido a python!')\n",
    "        return\n",
    "\n",
    "\n",
    "nombre()"
   ]
  },
  {
   "cell_type": "code",
   "execution_count": 68,
   "id": "31e318e7",
   "metadata": {},
   "outputs": [
    {
     "data": {
      "text/plain": [
       "function"
      ]
     },
     "execution_count": 68,
     "metadata": {},
     "output_type": "execute_result"
    }
   ],
   "source": [
    "type(nombre)"
   ]
  },
  {
   "cell_type": "code",
   "execution_count": 73,
   "id": "2ba1ffc4",
   "metadata": {},
   "outputs": [
    {
     "name": "stdout",
     "output_type": "stream",
     "text": [
      "Ingrese su nombre: la\n",
      "<function Nombre at 0x0000017C1E85AC00>\n"
     ]
    }
   ],
   "source": [
    "nombre = input('Ingrese su nombre: ')\n",
    "\n",
    "def Nombre (nombre):\n",
    "    print('bienvenido ', nombre) \n",
    "    return\n",
    "\n",
    "print(Nombre)"
   ]
  }
 ],
 "metadata": {
  "kernelspec": {
   "display_name": "Python 3 (ipykernel)",
   "language": "python",
   "name": "python3"
  },
  "language_info": {
   "codemirror_mode": {
    "name": "ipython",
    "version": 3
   },
   "file_extension": ".py",
   "mimetype": "text/x-python",
   "name": "python",
   "nbconvert_exporter": "python",
   "pygments_lexer": "ipython3",
   "version": "3.11.2"
  }
 },
 "nbformat": 4,
 "nbformat_minor": 5
}
