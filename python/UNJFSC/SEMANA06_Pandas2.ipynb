{
  "nbformat": 4,
  "nbformat_minor": 0,
  "metadata": {
    "colab": {
      "provenance": []
    },
    "kernelspec": {
      "name": "python3",
      "display_name": "Python 3"
    },
    "language_info": {
      "name": "python"
    }
  },
  "cells": [
    {
      "cell_type": "code",
      "metadata": {
        "id": "QhOcGH3qzzlN"
      },
      "source": [
        "import pandas as pd\n"
      ],
      "execution_count": null,
      "outputs": []
    },
    {
      "cell_type": "markdown",
      "metadata": {
        "id": "spFGvGb51wHL"
      },
      "source": [
        "### Archivos en Pandas "
      ]
    },
    {
      "cell_type": "code",
      "metadata": {
        "colab": {
          "base_uri": "https://localhost:8080/",
          "height": 204
        },
        "id": "YWC3HYcO0XWg",
        "outputId": "6ccb376d-2c22-43c9-ff15-3eee598df37f"
      },
      "source": [
        "# Creamos un DataFrame\n",
        "datos={  \"Nombre\" : ['Marcia','Marcos','Luis','Tatiana','Pedro'],\n",
        "         \"Sexo\"   : ['Femennino','Masculino','Masculino','Femenino','Masculino'],\n",
        "         \"Edad\"   : [23,13,43,17,23],\n",
        "         \"Ciudad\" : ['Huancayo','Lima','Trujillo','Arequipa','Ica']}\n",
        "df=pd.DataFrame(datos)\n",
        "df"
      ],
      "execution_count": null,
      "outputs": [
        {
          "output_type": "execute_result",
          "data": {
            "text/html": [
              "<div>\n",
              "<style scoped>\n",
              "    .dataframe tbody tr th:only-of-type {\n",
              "        vertical-align: middle;\n",
              "    }\n",
              "\n",
              "    .dataframe tbody tr th {\n",
              "        vertical-align: top;\n",
              "    }\n",
              "\n",
              "    .dataframe thead th {\n",
              "        text-align: right;\n",
              "    }\n",
              "</style>\n",
              "<table border=\"1\" class=\"dataframe\">\n",
              "  <thead>\n",
              "    <tr style=\"text-align: right;\">\n",
              "      <th></th>\n",
              "      <th>Nombre</th>\n",
              "      <th>Sexo</th>\n",
              "      <th>Edad</th>\n",
              "      <th>Ciudad</th>\n",
              "    </tr>\n",
              "  </thead>\n",
              "  <tbody>\n",
              "    <tr>\n",
              "      <th>0</th>\n",
              "      <td>Marcia</td>\n",
              "      <td>Femennino</td>\n",
              "      <td>23</td>\n",
              "      <td>Huancayo</td>\n",
              "    </tr>\n",
              "    <tr>\n",
              "      <th>1</th>\n",
              "      <td>Marcos</td>\n",
              "      <td>Masculino</td>\n",
              "      <td>13</td>\n",
              "      <td>Lima</td>\n",
              "    </tr>\n",
              "    <tr>\n",
              "      <th>2</th>\n",
              "      <td>Luis</td>\n",
              "      <td>Masculino</td>\n",
              "      <td>43</td>\n",
              "      <td>Trujillo</td>\n",
              "    </tr>\n",
              "    <tr>\n",
              "      <th>3</th>\n",
              "      <td>Tatiana</td>\n",
              "      <td>Femenino</td>\n",
              "      <td>17</td>\n",
              "      <td>Arequipa</td>\n",
              "    </tr>\n",
              "    <tr>\n",
              "      <th>4</th>\n",
              "      <td>Pedro</td>\n",
              "      <td>Masculino</td>\n",
              "      <td>23</td>\n",
              "      <td>Ica</td>\n",
              "    </tr>\n",
              "  </tbody>\n",
              "</table>\n",
              "</div>"
            ],
            "text/plain": [
              "    Nombre       Sexo  Edad    Ciudad\n",
              "0   Marcia  Femennino    23  Huancayo\n",
              "1   Marcos  Masculino    13      Lima\n",
              "2     Luis  Masculino    43  Trujillo\n",
              "3  Tatiana   Femenino    17  Arequipa\n",
              "4    Pedro  Masculino    23       Ica"
            ]
          },
          "metadata": {
            "tags": []
          },
          "execution_count": 3
        }
      ]
    },
    {
      "cell_type": "markdown",
      "metadata": {
        "id": "6ipPMSZRePRh"
      },
      "source": [
        "###Exportamos el DataFrame a un archivo de tipo .csv\n",
        "* Primero debemos ubicar una carpeta donde guardar el archivo\n",
        "* Activamos el googleDrive o enlazamo en el colab\n",
        "* Primero vamos a la barra izquieda  y hacemos clik en Archivos\n",
        "* Activar Drive\n",
        "* Localizar la carpeta en Drive -> MyDrive ->ColabNotebook->dbase\n",
        "* Hacer clik en tres puntos y copiar la ruta\n",
        "* Lugo copia la tuta y agrega el nombre del archivo y su extension \n",
        "\n",
        "df.to_csv('/content/drive/MyDrive/Colab Notebooks/dbase/persona.csv')\n",
        "\n",
        "* se ha granado el archivo persona.csv en la carpeta dbase. Verificar"
      ]
    },
    {
      "cell_type": "code",
      "metadata": {
        "id": "YAbwKRmCw-rb"
      },
      "source": [],
      "execution_count": null,
      "outputs": []
    },
    {
      "cell_type": "code",
      "metadata": {
        "id": "YmlsGgyr0YcG"
      },
      "source": [
        " \n",
        "df.to_csv('/content/drive/MyDrive/Colab Notebooks/dbase/persona.csv')\n"
      ],
      "execution_count": null,
      "outputs": []
    },
    {
      "cell_type": "markdown",
      "metadata": {
        "id": "hiJVw_7zey7L"
      },
      "source": [
        "###Importamos en DataFrame desde un archivo de tipo .csv\n",
        "* Copiamos la ruta del archivo, que se encuentra en la carpeta dbase , estando en Mydrive -> dbase -> archivo, clik en los tres puntos y copiar la ruta."
      ]
    },
    {
      "cell_type": "code",
      "metadata": {
        "colab": {
          "base_uri": "https://localhost:8080/",
          "height": 204
        },
        "id": "TfrQSlrcmOvJ",
        "outputId": "4d5f3f41-8e12-4ab0-bd3d-ad61c26f4233"
      },
      "source": [
        "df2=pd.read_csv('/content/drive/MyDrive/Colab Notebooks/dbase/persona.csv')\n",
        "df2"
      ],
      "execution_count": null,
      "outputs": [
        {
          "output_type": "execute_result",
          "data": {
            "text/html": [
              "<div>\n",
              "<style scoped>\n",
              "    .dataframe tbody tr th:only-of-type {\n",
              "        vertical-align: middle;\n",
              "    }\n",
              "\n",
              "    .dataframe tbody tr th {\n",
              "        vertical-align: top;\n",
              "    }\n",
              "\n",
              "    .dataframe thead th {\n",
              "        text-align: right;\n",
              "    }\n",
              "</style>\n",
              "<table border=\"1\" class=\"dataframe\">\n",
              "  <thead>\n",
              "    <tr style=\"text-align: right;\">\n",
              "      <th></th>\n",
              "      <th>Unnamed: 0</th>\n",
              "      <th>Nombre</th>\n",
              "      <th>Sexo</th>\n",
              "      <th>Edad</th>\n",
              "      <th>Ciudad</th>\n",
              "    </tr>\n",
              "  </thead>\n",
              "  <tbody>\n",
              "    <tr>\n",
              "      <th>0</th>\n",
              "      <td>0</td>\n",
              "      <td>Marcia</td>\n",
              "      <td>Femennino</td>\n",
              "      <td>23</td>\n",
              "      <td>Huancayo</td>\n",
              "    </tr>\n",
              "    <tr>\n",
              "      <th>1</th>\n",
              "      <td>1</td>\n",
              "      <td>Marcos</td>\n",
              "      <td>Masculino</td>\n",
              "      <td>13</td>\n",
              "      <td>Lima</td>\n",
              "    </tr>\n",
              "    <tr>\n",
              "      <th>2</th>\n",
              "      <td>2</td>\n",
              "      <td>Luis</td>\n",
              "      <td>Masculino</td>\n",
              "      <td>43</td>\n",
              "      <td>Trujillo</td>\n",
              "    </tr>\n",
              "    <tr>\n",
              "      <th>3</th>\n",
              "      <td>3</td>\n",
              "      <td>Tatiana</td>\n",
              "      <td>Femenino</td>\n",
              "      <td>17</td>\n",
              "      <td>Arequipa</td>\n",
              "    </tr>\n",
              "    <tr>\n",
              "      <th>4</th>\n",
              "      <td>4</td>\n",
              "      <td>Pedro</td>\n",
              "      <td>Masculino</td>\n",
              "      <td>23</td>\n",
              "      <td>Ica</td>\n",
              "    </tr>\n",
              "  </tbody>\n",
              "</table>\n",
              "</div>"
            ],
            "text/plain": [
              "   Unnamed: 0   Nombre       Sexo  Edad    Ciudad\n",
              "0           0   Marcia  Femennino    23  Huancayo\n",
              "1           1   Marcos  Masculino    13      Lima\n",
              "2           2     Luis  Masculino    43  Trujillo\n",
              "3           3  Tatiana   Femenino    17  Arequipa\n",
              "4           4    Pedro  Masculino    23       Ica"
            ]
          },
          "metadata": {
            "tags": []
          },
          "execution_count": 33
        }
      ]
    },
    {
      "cell_type": "code",
      "metadata": {
        "id": "pYYclGGop8-d"
      },
      "source": [
        "# Guardando el archivo con separados '|'\n",
        "\n",
        "df.to_csv('/content/drive/MyDrive/Colab Notebooks/dbase/persona.csv',sep='|')"
      ],
      "execution_count": null,
      "outputs": []
    },
    {
      "cell_type": "code",
      "metadata": {
        "colab": {
          "base_uri": "https://localhost:8080/",
          "height": 204
        },
        "id": "3URoIn7l1Lkh",
        "outputId": "aa7a06eb-70e4-4e12-900b-9f30ff76e32d"
      },
      "source": [
        "# Argumento separador de datos\n",
        "df2=pd.read_csv('/content/drive/MyDrive/Colab Notebooks/dbase/persona.csv',sep='|')\n",
        "df2"
      ],
      "execution_count": null,
      "outputs": [
        {
          "output_type": "execute_result",
          "data": {
            "text/html": [
              "<div>\n",
              "<style scoped>\n",
              "    .dataframe tbody tr th:only-of-type {\n",
              "        vertical-align: middle;\n",
              "    }\n",
              "\n",
              "    .dataframe tbody tr th {\n",
              "        vertical-align: top;\n",
              "    }\n",
              "\n",
              "    .dataframe thead th {\n",
              "        text-align: right;\n",
              "    }\n",
              "</style>\n",
              "<table border=\"1\" class=\"dataframe\">\n",
              "  <thead>\n",
              "    <tr style=\"text-align: right;\">\n",
              "      <th></th>\n",
              "      <th>Unnamed: 0</th>\n",
              "      <th>Nombre</th>\n",
              "      <th>Sexo</th>\n",
              "      <th>Edad</th>\n",
              "      <th>Ciudad</th>\n",
              "    </tr>\n",
              "  </thead>\n",
              "  <tbody>\n",
              "    <tr>\n",
              "      <th>0</th>\n",
              "      <td>0</td>\n",
              "      <td>Marcia</td>\n",
              "      <td>Femennino</td>\n",
              "      <td>23</td>\n",
              "      <td>Huancayo</td>\n",
              "    </tr>\n",
              "    <tr>\n",
              "      <th>1</th>\n",
              "      <td>1</td>\n",
              "      <td>Marcos</td>\n",
              "      <td>Masculino</td>\n",
              "      <td>13</td>\n",
              "      <td>Lima</td>\n",
              "    </tr>\n",
              "    <tr>\n",
              "      <th>2</th>\n",
              "      <td>2</td>\n",
              "      <td>Luis</td>\n",
              "      <td>Masculino</td>\n",
              "      <td>43</td>\n",
              "      <td>Trujillo</td>\n",
              "    </tr>\n",
              "    <tr>\n",
              "      <th>3</th>\n",
              "      <td>3</td>\n",
              "      <td>Tatiana</td>\n",
              "      <td>Femenino</td>\n",
              "      <td>17</td>\n",
              "      <td>Arequipa</td>\n",
              "    </tr>\n",
              "    <tr>\n",
              "      <th>4</th>\n",
              "      <td>4</td>\n",
              "      <td>Pedro</td>\n",
              "      <td>Masculino</td>\n",
              "      <td>23</td>\n",
              "      <td>Ica</td>\n",
              "    </tr>\n",
              "  </tbody>\n",
              "</table>\n",
              "</div>"
            ],
            "text/plain": [
              "   Unnamed: 0   Nombre       Sexo  Edad    Ciudad\n",
              "0           0   Marcia  Femennino    23  Huancayo\n",
              "1           1   Marcos  Masculino    13      Lima\n",
              "2           2     Luis  Masculino    43  Trujillo\n",
              "3           3  Tatiana   Femenino    17  Arequipa\n",
              "4           4    Pedro  Masculino    23       Ica"
            ]
          },
          "metadata": {
            "tags": []
          },
          "execution_count": 36
        }
      ]
    },
    {
      "cell_type": "code",
      "metadata": {
        "colab": {
          "base_uri": "https://localhost:8080/",
          "height": 204
        },
        "id": "AGxLKlc-qAd3",
        "outputId": "8608fc67-f187-48d6-ba7a-24d1ab5df98a"
      },
      "source": [
        "# Eliminamos la columna de indice\n",
        "df2=pd.read_csv('/content/drive/MyDrive/Colab Notebooks/dbase/persona.csv',sep='|',index_col=0)\n",
        "df2"
      ],
      "execution_count": null,
      "outputs": [
        {
          "output_type": "execute_result",
          "data": {
            "text/html": [
              "<div>\n",
              "<style scoped>\n",
              "    .dataframe tbody tr th:only-of-type {\n",
              "        vertical-align: middle;\n",
              "    }\n",
              "\n",
              "    .dataframe tbody tr th {\n",
              "        vertical-align: top;\n",
              "    }\n",
              "\n",
              "    .dataframe thead th {\n",
              "        text-align: right;\n",
              "    }\n",
              "</style>\n",
              "<table border=\"1\" class=\"dataframe\">\n",
              "  <thead>\n",
              "    <tr style=\"text-align: right;\">\n",
              "      <th></th>\n",
              "      <th>Nombre</th>\n",
              "      <th>Sexo</th>\n",
              "      <th>Edad</th>\n",
              "      <th>Ciudad</th>\n",
              "    </tr>\n",
              "  </thead>\n",
              "  <tbody>\n",
              "    <tr>\n",
              "      <th>0</th>\n",
              "      <td>Marcia</td>\n",
              "      <td>Femennino</td>\n",
              "      <td>23</td>\n",
              "      <td>Huancayo</td>\n",
              "    </tr>\n",
              "    <tr>\n",
              "      <th>1</th>\n",
              "      <td>Marcos</td>\n",
              "      <td>Masculino</td>\n",
              "      <td>13</td>\n",
              "      <td>Lima</td>\n",
              "    </tr>\n",
              "    <tr>\n",
              "      <th>2</th>\n",
              "      <td>Luis</td>\n",
              "      <td>Masculino</td>\n",
              "      <td>43</td>\n",
              "      <td>Trujillo</td>\n",
              "    </tr>\n",
              "    <tr>\n",
              "      <th>3</th>\n",
              "      <td>Tatiana</td>\n",
              "      <td>Femenino</td>\n",
              "      <td>17</td>\n",
              "      <td>Arequipa</td>\n",
              "    </tr>\n",
              "    <tr>\n",
              "      <th>4</th>\n",
              "      <td>Pedro</td>\n",
              "      <td>Masculino</td>\n",
              "      <td>23</td>\n",
              "      <td>Ica</td>\n",
              "    </tr>\n",
              "  </tbody>\n",
              "</table>\n",
              "</div>"
            ],
            "text/plain": [
              "    Nombre       Sexo  Edad    Ciudad\n",
              "0   Marcia  Femennino    23  Huancayo\n",
              "1   Marcos  Masculino    13      Lima\n",
              "2     Luis  Masculino    43  Trujillo\n",
              "3  Tatiana   Femenino    17  Arequipa\n",
              "4    Pedro  Masculino    23       Ica"
            ]
          },
          "metadata": {
            "tags": []
          },
          "execution_count": 38
        }
      ]
    },
    {
      "cell_type": "code",
      "metadata": {
        "colab": {
          "base_uri": "https://localhost:8080/",
          "height": 204
        },
        "id": "PCPDcHB4qCTa",
        "outputId": "c7478e0e-fdea-4c41-b228-1d9e700bb46e"
      },
      "source": [
        "# Asignado NaN a algunos valores de la DataFrame\n",
        "df2=pd.read_csv('/content/drive/MyDrive/Colab Notebooks/dbase/persona.csv',sep='|',index_col=0,na_values=[43])\n",
        "df2"
      ],
      "execution_count": null,
      "outputs": [
        {
          "output_type": "execute_result",
          "data": {
            "text/html": [
              "<div>\n",
              "<style scoped>\n",
              "    .dataframe tbody tr th:only-of-type {\n",
              "        vertical-align: middle;\n",
              "    }\n",
              "\n",
              "    .dataframe tbody tr th {\n",
              "        vertical-align: top;\n",
              "    }\n",
              "\n",
              "    .dataframe thead th {\n",
              "        text-align: right;\n",
              "    }\n",
              "</style>\n",
              "<table border=\"1\" class=\"dataframe\">\n",
              "  <thead>\n",
              "    <tr style=\"text-align: right;\">\n",
              "      <th></th>\n",
              "      <th>Nombre</th>\n",
              "      <th>Sexo</th>\n",
              "      <th>Edad</th>\n",
              "      <th>Ciudad</th>\n",
              "    </tr>\n",
              "  </thead>\n",
              "  <tbody>\n",
              "    <tr>\n",
              "      <th>0</th>\n",
              "      <td>Marcia</td>\n",
              "      <td>Femennino</td>\n",
              "      <td>23.0</td>\n",
              "      <td>Huancayo</td>\n",
              "    </tr>\n",
              "    <tr>\n",
              "      <th>1</th>\n",
              "      <td>Marcos</td>\n",
              "      <td>Masculino</td>\n",
              "      <td>13.0</td>\n",
              "      <td>Lima</td>\n",
              "    </tr>\n",
              "    <tr>\n",
              "      <th>2</th>\n",
              "      <td>Luis</td>\n",
              "      <td>Masculino</td>\n",
              "      <td>NaN</td>\n",
              "      <td>Trujillo</td>\n",
              "    </tr>\n",
              "    <tr>\n",
              "      <th>3</th>\n",
              "      <td>Tatiana</td>\n",
              "      <td>Femenino</td>\n",
              "      <td>17.0</td>\n",
              "      <td>Arequipa</td>\n",
              "    </tr>\n",
              "    <tr>\n",
              "      <th>4</th>\n",
              "      <td>Pedro</td>\n",
              "      <td>Masculino</td>\n",
              "      <td>23.0</td>\n",
              "      <td>Ica</td>\n",
              "    </tr>\n",
              "  </tbody>\n",
              "</table>\n",
              "</div>"
            ],
            "text/plain": [
              "    Nombre       Sexo  Edad    Ciudad\n",
              "0   Marcia  Femennino  23.0  Huancayo\n",
              "1   Marcos  Masculino  13.0      Lima\n",
              "2     Luis  Masculino   NaN  Trujillo\n",
              "3  Tatiana   Femenino  17.0  Arequipa\n",
              "4    Pedro  Masculino  23.0       Ica"
            ]
          },
          "metadata": {
            "tags": []
          },
          "execution_count": 46
        }
      ]
    },
    {
      "cell_type": "code",
      "metadata": {
        "colab": {
          "base_uri": "https://localhost:8080/",
          "height": 204
        },
        "id": "7Vp_Nd31qDEY",
        "outputId": "f4d431bd-ba4a-4c70-8fc9-63d3a3e25324"
      },
      "source": [
        "# Argumento separador de datos\n",
        "df2=pd.read_csv('/content/drive/MyDrive/Colab Notebooks/dbase/persona.csv',sep='|',index_col=0,decimal=',')\n",
        "df2"
      ],
      "execution_count": null,
      "outputs": [
        {
          "output_type": "execute_result",
          "data": {
            "text/html": [
              "<div>\n",
              "<style scoped>\n",
              "    .dataframe tbody tr th:only-of-type {\n",
              "        vertical-align: middle;\n",
              "    }\n",
              "\n",
              "    .dataframe tbody tr th {\n",
              "        vertical-align: top;\n",
              "    }\n",
              "\n",
              "    .dataframe thead th {\n",
              "        text-align: right;\n",
              "    }\n",
              "</style>\n",
              "<table border=\"1\" class=\"dataframe\">\n",
              "  <thead>\n",
              "    <tr style=\"text-align: right;\">\n",
              "      <th></th>\n",
              "      <th>Nombre</th>\n",
              "      <th>Sexo</th>\n",
              "      <th>Edad</th>\n",
              "      <th>Ciudad</th>\n",
              "    </tr>\n",
              "  </thead>\n",
              "  <tbody>\n",
              "    <tr>\n",
              "      <th>0</th>\n",
              "      <td>Marcia</td>\n",
              "      <td>Femennino</td>\n",
              "      <td>23</td>\n",
              "      <td>Huancayo</td>\n",
              "    </tr>\n",
              "    <tr>\n",
              "      <th>1</th>\n",
              "      <td>Marcos</td>\n",
              "      <td>Masculino</td>\n",
              "      <td>13</td>\n",
              "      <td>Lima</td>\n",
              "    </tr>\n",
              "    <tr>\n",
              "      <th>2</th>\n",
              "      <td>Luis</td>\n",
              "      <td>Masculino</td>\n",
              "      <td>43</td>\n",
              "      <td>Trujillo</td>\n",
              "    </tr>\n",
              "    <tr>\n",
              "      <th>3</th>\n",
              "      <td>Tatiana</td>\n",
              "      <td>Femenino</td>\n",
              "      <td>17</td>\n",
              "      <td>Arequipa</td>\n",
              "    </tr>\n",
              "    <tr>\n",
              "      <th>4</th>\n",
              "      <td>Pedro</td>\n",
              "      <td>Masculino</td>\n",
              "      <td>23</td>\n",
              "      <td>Ica</td>\n",
              "    </tr>\n",
              "  </tbody>\n",
              "</table>\n",
              "</div>"
            ],
            "text/plain": [
              "    Nombre       Sexo  Edad    Ciudad\n",
              "0   Marcia  Femennino    23  Huancayo\n",
              "1   Marcos  Masculino    13      Lima\n",
              "2     Luis  Masculino    43  Trujillo\n",
              "3  Tatiana   Femenino    17  Arequipa\n",
              "4    Pedro  Masculino    23       Ica"
            ]
          },
          "metadata": {
            "tags": []
          },
          "execution_count": 54
        }
      ]
    },
    {
      "cell_type": "code",
      "metadata": {
        "colab": {
          "base_uri": "https://localhost:8080/",
          "height": 204
        },
        "id": "Lqv0KHNpxUPh",
        "outputId": "fc137ae7-0ab0-4e8e-9306-f1c12efd8d0d"
      },
      "source": [
        "# Argumento hader que especifica una lista de filas\n",
        "df2=pd.read_csv('/content/drive/MyDrive/Colab Notebooks/dbase/persona.csv',sep='|',index_col=0,header=[0,1,2])\n",
        "df2"
      ],
      "execution_count": null,
      "outputs": [
        {
          "output_type": "execute_result",
          "data": {
            "text/html": [
              "<div>\n",
              "<style scoped>\n",
              "    .dataframe tbody tr th:only-of-type {\n",
              "        vertical-align: middle;\n",
              "    }\n",
              "\n",
              "    .dataframe tbody tr th {\n",
              "        vertical-align: top;\n",
              "    }\n",
              "\n",
              "    .dataframe thead tr th {\n",
              "        text-align: left;\n",
              "    }\n",
              "</style>\n",
              "<table border=\"1\" class=\"dataframe\">\n",
              "  <thead>\n",
              "    <tr>\n",
              "      <th></th>\n",
              "      <th>Nombre</th>\n",
              "      <th>Sexo</th>\n",
              "      <th>Edad</th>\n",
              "      <th>Ciudad</th>\n",
              "    </tr>\n",
              "    <tr>\n",
              "      <th>0</th>\n",
              "      <th>Marcia</th>\n",
              "      <th>Femennino</th>\n",
              "      <th>23</th>\n",
              "      <th>Huancayo</th>\n",
              "    </tr>\n",
              "    <tr>\n",
              "      <th>1</th>\n",
              "      <th>Marcos</th>\n",
              "      <th>Masculino</th>\n",
              "      <th>13</th>\n",
              "      <th>Lima</th>\n",
              "    </tr>\n",
              "  </thead>\n",
              "  <tbody>\n",
              "    <tr>\n",
              "      <th>2</th>\n",
              "      <td>Luis</td>\n",
              "      <td>Masculino</td>\n",
              "      <td>43</td>\n",
              "      <td>Trujillo</td>\n",
              "    </tr>\n",
              "    <tr>\n",
              "      <th>3</th>\n",
              "      <td>Tatiana</td>\n",
              "      <td>Femenino</td>\n",
              "      <td>17</td>\n",
              "      <td>Arequipa</td>\n",
              "    </tr>\n",
              "    <tr>\n",
              "      <th>4</th>\n",
              "      <td>Pedro</td>\n",
              "      <td>Masculino</td>\n",
              "      <td>23</td>\n",
              "      <td>Ica</td>\n",
              "    </tr>\n",
              "  </tbody>\n",
              "</table>\n",
              "</div>"
            ],
            "text/plain": [
              "    Nombre       Sexo Edad    Ciudad\n",
              "0   Marcia  Femennino   23  Huancayo\n",
              "1   Marcos  Masculino   13      Lima\n",
              "2     Luis  Masculino   43  Trujillo\n",
              "3  Tatiana   Femenino   17  Arequipa\n",
              "4    Pedro  Masculino   23       Ica"
            ]
          },
          "metadata": {
            "tags": []
          },
          "execution_count": 65
        }
      ]
    },
    {
      "cell_type": "code",
      "metadata": {
        "colab": {
          "base_uri": "https://localhost:8080/",
          "height": 235
        },
        "id": "z3XOxRX61N-K",
        "outputId": "32fa958e-15b0-44ef-e2c3-e03005aecdd9"
      },
      "source": [
        "# Argumento usecols selecciona la que especifica una lista de columnas\n",
        "df2=pd.read_csv('/content/drive/MyDrive/Colab Notebooks/dbase/persona.csv',sep='|',index_col=0,usecols=['Nombre','Sexo'])\n",
        "df2"
      ],
      "execution_count": null,
      "outputs": [
        {
          "output_type": "execute_result",
          "data": {
            "text/html": [
              "<div>\n",
              "<style scoped>\n",
              "    .dataframe tbody tr th:only-of-type {\n",
              "        vertical-align: middle;\n",
              "    }\n",
              "\n",
              "    .dataframe tbody tr th {\n",
              "        vertical-align: top;\n",
              "    }\n",
              "\n",
              "    .dataframe thead th {\n",
              "        text-align: right;\n",
              "    }\n",
              "</style>\n",
              "<table border=\"1\" class=\"dataframe\">\n",
              "  <thead>\n",
              "    <tr style=\"text-align: right;\">\n",
              "      <th></th>\n",
              "      <th>Sexo</th>\n",
              "    </tr>\n",
              "    <tr>\n",
              "      <th>Nombre</th>\n",
              "      <th></th>\n",
              "    </tr>\n",
              "  </thead>\n",
              "  <tbody>\n",
              "    <tr>\n",
              "      <th>Marcia</th>\n",
              "      <td>Femennino</td>\n",
              "    </tr>\n",
              "    <tr>\n",
              "      <th>Marcos</th>\n",
              "      <td>Masculino</td>\n",
              "    </tr>\n",
              "    <tr>\n",
              "      <th>Luis</th>\n",
              "      <td>Masculino</td>\n",
              "    </tr>\n",
              "    <tr>\n",
              "      <th>Tatiana</th>\n",
              "      <td>Femenino</td>\n",
              "    </tr>\n",
              "    <tr>\n",
              "      <th>Pedro</th>\n",
              "      <td>Masculino</td>\n",
              "    </tr>\n",
              "  </tbody>\n",
              "</table>\n",
              "</div>"
            ],
            "text/plain": [
              "              Sexo\n",
              "Nombre            \n",
              "Marcia   Femennino\n",
              "Marcos   Masculino\n",
              "Luis     Masculino\n",
              "Tatiana   Femenino\n",
              "Pedro    Masculino"
            ]
          },
          "metadata": {
            "tags": []
          },
          "execution_count": 67
        }
      ]
    },
    {
      "cell_type": "code",
      "metadata": {
        "id": "vD3oeYmF24p5"
      },
      "source": [
        "# Exportamos el DataFrame a un archivo de tipo .excel\n",
        "df.to_excel('/content/drive/MyDrive/Colab Notebooks/dbase/persona.excel')"
      ],
      "execution_count": null,
      "outputs": []
    },
    {
      "cell_type": "code",
      "metadata": {
        "colab": {
          "base_uri": "https://localhost:8080/",
          "height": 204
        },
        "id": "a8tIdA6Y2cOF",
        "outputId": "930c76c1-e132-4c7a-967a-305b2befcda3"
      },
      "source": [
        "# Importamos en DataFrame desde un archivo de tipo .xlsx\n",
        "df3=pd.read_excel('/content/drive/MyDrive/Colab Notebooks/dbase/persona.xlsx',index_col=0)\n",
        "df3\n"
      ],
      "execution_count": null,
      "outputs": [
        {
          "output_type": "execute_result",
          "data": {
            "text/html": [
              "<div>\n",
              "<style scoped>\n",
              "    .dataframe tbody tr th:only-of-type {\n",
              "        vertical-align: middle;\n",
              "    }\n",
              "\n",
              "    .dataframe tbody tr th {\n",
              "        vertical-align: top;\n",
              "    }\n",
              "\n",
              "    .dataframe thead th {\n",
              "        text-align: right;\n",
              "    }\n",
              "</style>\n",
              "<table border=\"1\" class=\"dataframe\">\n",
              "  <thead>\n",
              "    <tr style=\"text-align: right;\">\n",
              "      <th></th>\n",
              "      <th>Nombre</th>\n",
              "      <th>Sexo</th>\n",
              "      <th>Edad</th>\n",
              "      <th>Ciudad</th>\n",
              "    </tr>\n",
              "  </thead>\n",
              "  <tbody>\n",
              "    <tr>\n",
              "      <th>0</th>\n",
              "      <td>Marcia</td>\n",
              "      <td>Femennino</td>\n",
              "      <td>23</td>\n",
              "      <td>Huancayo</td>\n",
              "    </tr>\n",
              "    <tr>\n",
              "      <th>1</th>\n",
              "      <td>Marcos</td>\n",
              "      <td>Masculino</td>\n",
              "      <td>13</td>\n",
              "      <td>Lima</td>\n",
              "    </tr>\n",
              "    <tr>\n",
              "      <th>2</th>\n",
              "      <td>Luis</td>\n",
              "      <td>Masculino</td>\n",
              "      <td>43</td>\n",
              "      <td>Trujillo</td>\n",
              "    </tr>\n",
              "    <tr>\n",
              "      <th>3</th>\n",
              "      <td>Tatiana</td>\n",
              "      <td>Femenino</td>\n",
              "      <td>17</td>\n",
              "      <td>Arequipa</td>\n",
              "    </tr>\n",
              "    <tr>\n",
              "      <th>4</th>\n",
              "      <td>Pedro</td>\n",
              "      <td>Masculino</td>\n",
              "      <td>23</td>\n",
              "      <td>Ica</td>\n",
              "    </tr>\n",
              "  </tbody>\n",
              "</table>\n",
              "</div>"
            ],
            "text/plain": [
              "    Nombre       Sexo  Edad    Ciudad\n",
              "0   Marcia  Femennino    23  Huancayo\n",
              "1   Marcos  Masculino    13      Lima\n",
              "2     Luis  Masculino    43  Trujillo\n",
              "3  Tatiana   Femenino    17  Arequipa\n",
              "4    Pedro  Masculino    23       Ica"
            ]
          },
          "metadata": {
            "tags": []
          },
          "execution_count": 69
        }
      ]
    },
    {
      "cell_type": "code",
      "metadata": {
        "id": "jMdz5Sbs2skY"
      },
      "source": [
        "# Exportamos el DataFrame a un archivo de tipo .json\n",
        "df.to_json('/content/drive/MyDrive/Colab Notebooks/dbase/persona.json')"
      ],
      "execution_count": null,
      "outputs": []
    },
    {
      "cell_type": "code",
      "metadata": {
        "colab": {
          "base_uri": "https://localhost:8080/",
          "height": 204
        },
        "id": "zfNefMSy22m9",
        "outputId": "2ed9f8e0-660f-4a76-e75a-d542e6cf66cc"
      },
      "source": [
        "# Importamos en DataFrame desde un archivo de tipo .json\n",
        "df4=pd.read_json('/content/drive/MyDrive/Colab Notebooks/dbase/persona.json')\n",
        "df4"
      ],
      "execution_count": null,
      "outputs": [
        {
          "output_type": "execute_result",
          "data": {
            "text/html": [
              "<div>\n",
              "<style scoped>\n",
              "    .dataframe tbody tr th:only-of-type {\n",
              "        vertical-align: middle;\n",
              "    }\n",
              "\n",
              "    .dataframe tbody tr th {\n",
              "        vertical-align: top;\n",
              "    }\n",
              "\n",
              "    .dataframe thead th {\n",
              "        text-align: right;\n",
              "    }\n",
              "</style>\n",
              "<table border=\"1\" class=\"dataframe\">\n",
              "  <thead>\n",
              "    <tr style=\"text-align: right;\">\n",
              "      <th></th>\n",
              "      <th>Nombre</th>\n",
              "      <th>Sexo</th>\n",
              "      <th>Edad</th>\n",
              "      <th>Ciudad</th>\n",
              "    </tr>\n",
              "  </thead>\n",
              "  <tbody>\n",
              "    <tr>\n",
              "      <th>0</th>\n",
              "      <td>Marcia</td>\n",
              "      <td>Femennino</td>\n",
              "      <td>23</td>\n",
              "      <td>Huancayo</td>\n",
              "    </tr>\n",
              "    <tr>\n",
              "      <th>1</th>\n",
              "      <td>Marcos</td>\n",
              "      <td>Masculino</td>\n",
              "      <td>13</td>\n",
              "      <td>Lima</td>\n",
              "    </tr>\n",
              "    <tr>\n",
              "      <th>2</th>\n",
              "      <td>Luis</td>\n",
              "      <td>Masculino</td>\n",
              "      <td>43</td>\n",
              "      <td>Trujillo</td>\n",
              "    </tr>\n",
              "    <tr>\n",
              "      <th>3</th>\n",
              "      <td>Tatiana</td>\n",
              "      <td>Femenino</td>\n",
              "      <td>17</td>\n",
              "      <td>Arequipa</td>\n",
              "    </tr>\n",
              "    <tr>\n",
              "      <th>4</th>\n",
              "      <td>Pedro</td>\n",
              "      <td>Masculino</td>\n",
              "      <td>23</td>\n",
              "      <td>Ica</td>\n",
              "    </tr>\n",
              "  </tbody>\n",
              "</table>\n",
              "</div>"
            ],
            "text/plain": [
              "    Nombre       Sexo  Edad    Ciudad\n",
              "0   Marcia  Femennino    23  Huancayo\n",
              "1   Marcos  Masculino    13      Lima\n",
              "2     Luis  Masculino    43  Trujillo\n",
              "3  Tatiana   Femenino    17  Arequipa\n",
              "4    Pedro  Masculino    23       Ica"
            ]
          },
          "metadata": {
            "tags": []
          },
          "execution_count": 9
        }
      ]
    },
    {
      "cell_type": "code",
      "metadata": {
        "id": "gQk9qp513BuK"
      },
      "source": [
        "# Exportamos el DataFrame a un archivo de tipo .Pickle\n",
        "df.to_pickle('/content/drive/MyDrive/Colab Notebooks/dbase/persona.pkl')"
      ],
      "execution_count": null,
      "outputs": []
    },
    {
      "cell_type": "code",
      "metadata": {
        "colab": {
          "base_uri": "https://localhost:8080/",
          "height": 204
        },
        "id": "qhN2NBl13ZbD",
        "outputId": "ddc88536-bb4e-4d75-945e-9f7c9d7af064"
      },
      "source": [
        "# Importamos en DataFrame desde un archivo de tipo .json\n",
        "df4=pd.read_pickle('/content/drive/MyDrive/Colab Notebooks/dbase/persona.pkl')\n",
        "df4"
      ],
      "execution_count": null,
      "outputs": [
        {
          "output_type": "execute_result",
          "data": {
            "text/html": [
              "<div>\n",
              "<style scoped>\n",
              "    .dataframe tbody tr th:only-of-type {\n",
              "        vertical-align: middle;\n",
              "    }\n",
              "\n",
              "    .dataframe tbody tr th {\n",
              "        vertical-align: top;\n",
              "    }\n",
              "\n",
              "    .dataframe thead th {\n",
              "        text-align: right;\n",
              "    }\n",
              "</style>\n",
              "<table border=\"1\" class=\"dataframe\">\n",
              "  <thead>\n",
              "    <tr style=\"text-align: right;\">\n",
              "      <th></th>\n",
              "      <th>Nombre</th>\n",
              "      <th>Sexo</th>\n",
              "      <th>Edad</th>\n",
              "      <th>Ciudad</th>\n",
              "    </tr>\n",
              "  </thead>\n",
              "  <tbody>\n",
              "    <tr>\n",
              "      <th>0</th>\n",
              "      <td>Marcia</td>\n",
              "      <td>Femennino</td>\n",
              "      <td>23</td>\n",
              "      <td>Huancayo</td>\n",
              "    </tr>\n",
              "    <tr>\n",
              "      <th>1</th>\n",
              "      <td>Marcos</td>\n",
              "      <td>Masculino</td>\n",
              "      <td>13</td>\n",
              "      <td>Lima</td>\n",
              "    </tr>\n",
              "    <tr>\n",
              "      <th>2</th>\n",
              "      <td>Luis</td>\n",
              "      <td>Masculino</td>\n",
              "      <td>43</td>\n",
              "      <td>Trujillo</td>\n",
              "    </tr>\n",
              "    <tr>\n",
              "      <th>3</th>\n",
              "      <td>Tatiana</td>\n",
              "      <td>Femenino</td>\n",
              "      <td>17</td>\n",
              "      <td>Arequipa</td>\n",
              "    </tr>\n",
              "    <tr>\n",
              "      <th>4</th>\n",
              "      <td>Pedro</td>\n",
              "      <td>Masculino</td>\n",
              "      <td>23</td>\n",
              "      <td>Ica</td>\n",
              "    </tr>\n",
              "  </tbody>\n",
              "</table>\n",
              "</div>"
            ],
            "text/plain": [
              "    Nombre       Sexo  Edad    Ciudad\n",
              "0   Marcia  Femennino    23  Huancayo\n",
              "1   Marcos  Masculino    13      Lima\n",
              "2     Luis  Masculino    43  Trujillo\n",
              "3  Tatiana   Femenino    17  Arequipa\n",
              "4    Pedro  Masculino    23       Ica"
            ]
          },
          "metadata": {
            "tags": []
          },
          "execution_count": 11
        }
      ]
    },
    {
      "cell_type": "code",
      "metadata": {
        "id": "_sct5Y093gBS"
      },
      "source": [
        "# Exportamos el DataFrame a un archivo de tipo .Parquet\n",
        "df.to_parquet('/content/drive/MyDrive/Colab Notebooks/dbase/persona.parquet')"
      ],
      "execution_count": null,
      "outputs": []
    },
    {
      "cell_type": "code",
      "metadata": {
        "colab": {
          "base_uri": "https://localhost:8080/",
          "height": 204
        },
        "id": "Eq91szDu3tIn",
        "outputId": "5ce94aef-7eed-40da-b023-7513bf4d9ef0"
      },
      "source": [
        "# Importamos en DataFrame desde un archivo de tipo .json\n",
        "df4=pd.read_parquet('/content/drive/MyDrive/Colab Notebooks/dbase/persona.parquet')\n",
        "df4"
      ],
      "execution_count": null,
      "outputs": [
        {
          "output_type": "execute_result",
          "data": {
            "text/html": [
              "<div>\n",
              "<style scoped>\n",
              "    .dataframe tbody tr th:only-of-type {\n",
              "        vertical-align: middle;\n",
              "    }\n",
              "\n",
              "    .dataframe tbody tr th {\n",
              "        vertical-align: top;\n",
              "    }\n",
              "\n",
              "    .dataframe thead th {\n",
              "        text-align: right;\n",
              "    }\n",
              "</style>\n",
              "<table border=\"1\" class=\"dataframe\">\n",
              "  <thead>\n",
              "    <tr style=\"text-align: right;\">\n",
              "      <th></th>\n",
              "      <th>Nombre</th>\n",
              "      <th>Sexo</th>\n",
              "      <th>Edad</th>\n",
              "      <th>Ciudad</th>\n",
              "    </tr>\n",
              "  </thead>\n",
              "  <tbody>\n",
              "    <tr>\n",
              "      <th>0</th>\n",
              "      <td>Marcia</td>\n",
              "      <td>Femennino</td>\n",
              "      <td>23</td>\n",
              "      <td>Huancayo</td>\n",
              "    </tr>\n",
              "    <tr>\n",
              "      <th>1</th>\n",
              "      <td>Marcos</td>\n",
              "      <td>Masculino</td>\n",
              "      <td>13</td>\n",
              "      <td>Lima</td>\n",
              "    </tr>\n",
              "    <tr>\n",
              "      <th>2</th>\n",
              "      <td>Luis</td>\n",
              "      <td>Masculino</td>\n",
              "      <td>43</td>\n",
              "      <td>Trujillo</td>\n",
              "    </tr>\n",
              "    <tr>\n",
              "      <th>3</th>\n",
              "      <td>Tatiana</td>\n",
              "      <td>Femenino</td>\n",
              "      <td>17</td>\n",
              "      <td>Arequipa</td>\n",
              "    </tr>\n",
              "    <tr>\n",
              "      <th>4</th>\n",
              "      <td>Pedro</td>\n",
              "      <td>Masculino</td>\n",
              "      <td>23</td>\n",
              "      <td>Ica</td>\n",
              "    </tr>\n",
              "  </tbody>\n",
              "</table>\n",
              "</div>"
            ],
            "text/plain": [
              "    Nombre       Sexo  Edad    Ciudad\n",
              "0   Marcia  Femennino    23  Huancayo\n",
              "1   Marcos  Masculino    13      Lima\n",
              "2     Luis  Masculino    43  Trujillo\n",
              "3  Tatiana   Femenino    17  Arequipa\n",
              "4    Pedro  Masculino    23       Ica"
            ]
          },
          "metadata": {
            "tags": []
          },
          "execution_count": 13
        }
      ]
    },
    {
      "cell_type": "code",
      "metadata": {
        "id": "-HBbOZW-31J_",
        "colab": {
          "base_uri": "https://localhost:8080/",
          "height": 419
        },
        "outputId": "70d95208-c3e6-41ec-972a-855e38c89f2b"
      },
      "source": [
        "# Import pandas desde un url\n",
        "df2=pd.read_csv('/content/drive/MyDrive/Colab Notebooks/dbase/meteorite-landings.csv')\n",
        "df2"
      ],
      "execution_count": null,
      "outputs": [
        {
          "output_type": "execute_result",
          "data": {
            "text/html": [
              "<div>\n",
              "<style scoped>\n",
              "    .dataframe tbody tr th:only-of-type {\n",
              "        vertical-align: middle;\n",
              "    }\n",
              "\n",
              "    .dataframe tbody tr th {\n",
              "        vertical-align: top;\n",
              "    }\n",
              "\n",
              "    .dataframe thead th {\n",
              "        text-align: right;\n",
              "    }\n",
              "</style>\n",
              "<table border=\"1\" class=\"dataframe\">\n",
              "  <thead>\n",
              "    <tr style=\"text-align: right;\">\n",
              "      <th></th>\n",
              "      <th>name</th>\n",
              "      <th>id</th>\n",
              "      <th>nametype</th>\n",
              "      <th>recclass</th>\n",
              "      <th>mass</th>\n",
              "      <th>fall</th>\n",
              "      <th>year</th>\n",
              "      <th>reclat</th>\n",
              "      <th>reclong</th>\n",
              "      <th>GeoLocation</th>\n",
              "    </tr>\n",
              "  </thead>\n",
              "  <tbody>\n",
              "    <tr>\n",
              "      <th>0</th>\n",
              "      <td>Aachen</td>\n",
              "      <td>1</td>\n",
              "      <td>Valid</td>\n",
              "      <td>L5</td>\n",
              "      <td>21.0</td>\n",
              "      <td>Fell</td>\n",
              "      <td>1880.0</td>\n",
              "      <td>50.77500</td>\n",
              "      <td>6.08333</td>\n",
              "      <td>(50.775000, 6.083330)</td>\n",
              "    </tr>\n",
              "    <tr>\n",
              "      <th>1</th>\n",
              "      <td>Aarhus</td>\n",
              "      <td>2</td>\n",
              "      <td>Valid</td>\n",
              "      <td>H6</td>\n",
              "      <td>720.0</td>\n",
              "      <td>Fell</td>\n",
              "      <td>1951.0</td>\n",
              "      <td>56.18333</td>\n",
              "      <td>10.23333</td>\n",
              "      <td>(56.183330, 10.233330)</td>\n",
              "    </tr>\n",
              "    <tr>\n",
              "      <th>2</th>\n",
              "      <td>Abee</td>\n",
              "      <td>6</td>\n",
              "      <td>Valid</td>\n",
              "      <td>EH4</td>\n",
              "      <td>107000.0</td>\n",
              "      <td>Fell</td>\n",
              "      <td>1952.0</td>\n",
              "      <td>54.21667</td>\n",
              "      <td>-113.00000</td>\n",
              "      <td>(54.216670, -113.000000)</td>\n",
              "    </tr>\n",
              "    <tr>\n",
              "      <th>3</th>\n",
              "      <td>Acapulco</td>\n",
              "      <td>10</td>\n",
              "      <td>Valid</td>\n",
              "      <td>Acapulcoite</td>\n",
              "      <td>1914.0</td>\n",
              "      <td>Fell</td>\n",
              "      <td>1976.0</td>\n",
              "      <td>16.88333</td>\n",
              "      <td>-99.90000</td>\n",
              "      <td>(16.883330, -99.900000)</td>\n",
              "    </tr>\n",
              "    <tr>\n",
              "      <th>4</th>\n",
              "      <td>Achiras</td>\n",
              "      <td>370</td>\n",
              "      <td>Valid</td>\n",
              "      <td>L6</td>\n",
              "      <td>780.0</td>\n",
              "      <td>Fell</td>\n",
              "      <td>1902.0</td>\n",
              "      <td>-33.16667</td>\n",
              "      <td>-64.95000</td>\n",
              "      <td>(-33.166670, -64.950000)</td>\n",
              "    </tr>\n",
              "    <tr>\n",
              "      <th>...</th>\n",
              "      <td>...</td>\n",
              "      <td>...</td>\n",
              "      <td>...</td>\n",
              "      <td>...</td>\n",
              "      <td>...</td>\n",
              "      <td>...</td>\n",
              "      <td>...</td>\n",
              "      <td>...</td>\n",
              "      <td>...</td>\n",
              "      <td>...</td>\n",
              "    </tr>\n",
              "    <tr>\n",
              "      <th>45711</th>\n",
              "      <td>Zillah 002</td>\n",
              "      <td>31356</td>\n",
              "      <td>Valid</td>\n",
              "      <td>Eucrite</td>\n",
              "      <td>172.0</td>\n",
              "      <td>Found</td>\n",
              "      <td>1990.0</td>\n",
              "      <td>29.03700</td>\n",
              "      <td>17.01850</td>\n",
              "      <td>(29.037000, 17.018500)</td>\n",
              "    </tr>\n",
              "    <tr>\n",
              "      <th>45712</th>\n",
              "      <td>Zinder</td>\n",
              "      <td>30409</td>\n",
              "      <td>Valid</td>\n",
              "      <td>Pallasite, ungrouped</td>\n",
              "      <td>46.0</td>\n",
              "      <td>Found</td>\n",
              "      <td>1999.0</td>\n",
              "      <td>13.78333</td>\n",
              "      <td>8.96667</td>\n",
              "      <td>(13.783330, 8.966670)</td>\n",
              "    </tr>\n",
              "    <tr>\n",
              "      <th>45713</th>\n",
              "      <td>Zlin</td>\n",
              "      <td>30410</td>\n",
              "      <td>Valid</td>\n",
              "      <td>H4</td>\n",
              "      <td>3.3</td>\n",
              "      <td>Found</td>\n",
              "      <td>1939.0</td>\n",
              "      <td>49.25000</td>\n",
              "      <td>17.66667</td>\n",
              "      <td>(49.250000, 17.666670)</td>\n",
              "    </tr>\n",
              "    <tr>\n",
              "      <th>45714</th>\n",
              "      <td>Zubkovsky</td>\n",
              "      <td>31357</td>\n",
              "      <td>Valid</td>\n",
              "      <td>L6</td>\n",
              "      <td>2167.0</td>\n",
              "      <td>Found</td>\n",
              "      <td>2003.0</td>\n",
              "      <td>49.78917</td>\n",
              "      <td>41.50460</td>\n",
              "      <td>(49.789170, 41.504600)</td>\n",
              "    </tr>\n",
              "    <tr>\n",
              "      <th>45715</th>\n",
              "      <td>Zulu Queen</td>\n",
              "      <td>30414</td>\n",
              "      <td>Valid</td>\n",
              "      <td>L3.7</td>\n",
              "      <td>200.0</td>\n",
              "      <td>Found</td>\n",
              "      <td>1976.0</td>\n",
              "      <td>33.98333</td>\n",
              "      <td>-115.68333</td>\n",
              "      <td>(33.983330, -115.683330)</td>\n",
              "    </tr>\n",
              "  </tbody>\n",
              "</table>\n",
              "<p>45716 rows × 10 columns</p>\n",
              "</div>"
            ],
            "text/plain": [
              "             name     id  ...    reclong               GeoLocation\n",
              "0          Aachen      1  ...    6.08333     (50.775000, 6.083330)\n",
              "1          Aarhus      2  ...   10.23333    (56.183330, 10.233330)\n",
              "2            Abee      6  ... -113.00000  (54.216670, -113.000000)\n",
              "3        Acapulco     10  ...  -99.90000   (16.883330, -99.900000)\n",
              "4         Achiras    370  ...  -64.95000  (-33.166670, -64.950000)\n",
              "...           ...    ...  ...        ...                       ...\n",
              "45711  Zillah 002  31356  ...   17.01850    (29.037000, 17.018500)\n",
              "45712      Zinder  30409  ...    8.96667     (13.783330, 8.966670)\n",
              "45713        Zlin  30410  ...   17.66667    (49.250000, 17.666670)\n",
              "45714   Zubkovsky  31357  ...   41.50460    (49.789170, 41.504600)\n",
              "45715  Zulu Queen  30414  ... -115.68333  (33.983330, -115.683330)\n",
              "\n",
              "[45716 rows x 10 columns]"
            ]
          },
          "metadata": {
            "tags": []
          },
          "execution_count": 72
        }
      ]
    },
    {
      "cell_type": "code",
      "metadata": {
        "id": "Dfbc5_m74zuZ",
        "colab": {
          "base_uri": "https://localhost:8080/",
          "height": 204
        },
        "outputId": "ede80a4f-86cf-4761-9fd4-b9eee6d49cf7"
      },
      "source": [
        "# Despliega las 5 primeras filas\n",
        "df2.head()"
      ],
      "execution_count": null,
      "outputs": [
        {
          "output_type": "execute_result",
          "data": {
            "text/html": [
              "<div>\n",
              "<style scoped>\n",
              "    .dataframe tbody tr th:only-of-type {\n",
              "        vertical-align: middle;\n",
              "    }\n",
              "\n",
              "    .dataframe tbody tr th {\n",
              "        vertical-align: top;\n",
              "    }\n",
              "\n",
              "    .dataframe thead th {\n",
              "        text-align: right;\n",
              "    }\n",
              "</style>\n",
              "<table border=\"1\" class=\"dataframe\">\n",
              "  <thead>\n",
              "    <tr style=\"text-align: right;\">\n",
              "      <th></th>\n",
              "      <th>name</th>\n",
              "      <th>id</th>\n",
              "      <th>nametype</th>\n",
              "      <th>recclass</th>\n",
              "      <th>mass</th>\n",
              "      <th>fall</th>\n",
              "      <th>year</th>\n",
              "      <th>reclat</th>\n",
              "      <th>reclong</th>\n",
              "      <th>GeoLocation</th>\n",
              "    </tr>\n",
              "  </thead>\n",
              "  <tbody>\n",
              "    <tr>\n",
              "      <th>0</th>\n",
              "      <td>Aachen</td>\n",
              "      <td>1</td>\n",
              "      <td>Valid</td>\n",
              "      <td>L5</td>\n",
              "      <td>21.0</td>\n",
              "      <td>Fell</td>\n",
              "      <td>1880.0</td>\n",
              "      <td>50.77500</td>\n",
              "      <td>6.08333</td>\n",
              "      <td>(50.775000, 6.083330)</td>\n",
              "    </tr>\n",
              "    <tr>\n",
              "      <th>1</th>\n",
              "      <td>Aarhus</td>\n",
              "      <td>2</td>\n",
              "      <td>Valid</td>\n",
              "      <td>H6</td>\n",
              "      <td>720.0</td>\n",
              "      <td>Fell</td>\n",
              "      <td>1951.0</td>\n",
              "      <td>56.18333</td>\n",
              "      <td>10.23333</td>\n",
              "      <td>(56.183330, 10.233330)</td>\n",
              "    </tr>\n",
              "    <tr>\n",
              "      <th>2</th>\n",
              "      <td>Abee</td>\n",
              "      <td>6</td>\n",
              "      <td>Valid</td>\n",
              "      <td>EH4</td>\n",
              "      <td>107000.0</td>\n",
              "      <td>Fell</td>\n",
              "      <td>1952.0</td>\n",
              "      <td>54.21667</td>\n",
              "      <td>-113.00000</td>\n",
              "      <td>(54.216670, -113.000000)</td>\n",
              "    </tr>\n",
              "    <tr>\n",
              "      <th>3</th>\n",
              "      <td>Acapulco</td>\n",
              "      <td>10</td>\n",
              "      <td>Valid</td>\n",
              "      <td>Acapulcoite</td>\n",
              "      <td>1914.0</td>\n",
              "      <td>Fell</td>\n",
              "      <td>1976.0</td>\n",
              "      <td>16.88333</td>\n",
              "      <td>-99.90000</td>\n",
              "      <td>(16.883330, -99.900000)</td>\n",
              "    </tr>\n",
              "    <tr>\n",
              "      <th>4</th>\n",
              "      <td>Achiras</td>\n",
              "      <td>370</td>\n",
              "      <td>Valid</td>\n",
              "      <td>L6</td>\n",
              "      <td>780.0</td>\n",
              "      <td>Fell</td>\n",
              "      <td>1902.0</td>\n",
              "      <td>-33.16667</td>\n",
              "      <td>-64.95000</td>\n",
              "      <td>(-33.166670, -64.950000)</td>\n",
              "    </tr>\n",
              "  </tbody>\n",
              "</table>\n",
              "</div>"
            ],
            "text/plain": [
              "       name   id nametype  ...    reclat    reclong               GeoLocation\n",
              "0    Aachen    1    Valid  ...  50.77500    6.08333     (50.775000, 6.083330)\n",
              "1    Aarhus    2    Valid  ...  56.18333   10.23333    (56.183330, 10.233330)\n",
              "2      Abee    6    Valid  ...  54.21667 -113.00000  (54.216670, -113.000000)\n",
              "3  Acapulco   10    Valid  ...  16.88333  -99.90000   (16.883330, -99.900000)\n",
              "4   Achiras  370    Valid  ... -33.16667  -64.95000  (-33.166670, -64.950000)\n",
              "\n",
              "[5 rows x 10 columns]"
            ]
          },
          "metadata": {
            "tags": []
          },
          "execution_count": 73
        }
      ]
    },
    {
      "cell_type": "code",
      "metadata": {
        "colab": {
          "base_uri": "https://localhost:8080/",
          "height": 235
        },
        "id": "SNM7zyfd4HZt",
        "outputId": "43f88085-538f-43ae-ed9e-314a072e942d"
      },
      "source": [
        "# Despliega las 6 primeras filas\n",
        "df2.head(6)"
      ],
      "execution_count": null,
      "outputs": [
        {
          "output_type": "execute_result",
          "data": {
            "text/html": [
              "<div>\n",
              "<style scoped>\n",
              "    .dataframe tbody tr th:only-of-type {\n",
              "        vertical-align: middle;\n",
              "    }\n",
              "\n",
              "    .dataframe tbody tr th {\n",
              "        vertical-align: top;\n",
              "    }\n",
              "\n",
              "    .dataframe thead th {\n",
              "        text-align: right;\n",
              "    }\n",
              "</style>\n",
              "<table border=\"1\" class=\"dataframe\">\n",
              "  <thead>\n",
              "    <tr style=\"text-align: right;\">\n",
              "      <th></th>\n",
              "      <th>name</th>\n",
              "      <th>id</th>\n",
              "      <th>nametype</th>\n",
              "      <th>recclass</th>\n",
              "      <th>mass</th>\n",
              "      <th>fall</th>\n",
              "      <th>year</th>\n",
              "      <th>reclat</th>\n",
              "      <th>reclong</th>\n",
              "      <th>GeoLocation</th>\n",
              "    </tr>\n",
              "  </thead>\n",
              "  <tbody>\n",
              "    <tr>\n",
              "      <th>0</th>\n",
              "      <td>Aachen</td>\n",
              "      <td>1</td>\n",
              "      <td>Valid</td>\n",
              "      <td>L5</td>\n",
              "      <td>21.0</td>\n",
              "      <td>Fell</td>\n",
              "      <td>1880.0</td>\n",
              "      <td>50.77500</td>\n",
              "      <td>6.08333</td>\n",
              "      <td>(50.775000, 6.083330)</td>\n",
              "    </tr>\n",
              "    <tr>\n",
              "      <th>1</th>\n",
              "      <td>Aarhus</td>\n",
              "      <td>2</td>\n",
              "      <td>Valid</td>\n",
              "      <td>H6</td>\n",
              "      <td>720.0</td>\n",
              "      <td>Fell</td>\n",
              "      <td>1951.0</td>\n",
              "      <td>56.18333</td>\n",
              "      <td>10.23333</td>\n",
              "      <td>(56.183330, 10.233330)</td>\n",
              "    </tr>\n",
              "    <tr>\n",
              "      <th>2</th>\n",
              "      <td>Abee</td>\n",
              "      <td>6</td>\n",
              "      <td>Valid</td>\n",
              "      <td>EH4</td>\n",
              "      <td>107000.0</td>\n",
              "      <td>Fell</td>\n",
              "      <td>1952.0</td>\n",
              "      <td>54.21667</td>\n",
              "      <td>-113.00000</td>\n",
              "      <td>(54.216670, -113.000000)</td>\n",
              "    </tr>\n",
              "    <tr>\n",
              "      <th>3</th>\n",
              "      <td>Acapulco</td>\n",
              "      <td>10</td>\n",
              "      <td>Valid</td>\n",
              "      <td>Acapulcoite</td>\n",
              "      <td>1914.0</td>\n",
              "      <td>Fell</td>\n",
              "      <td>1976.0</td>\n",
              "      <td>16.88333</td>\n",
              "      <td>-99.90000</td>\n",
              "      <td>(16.883330, -99.900000)</td>\n",
              "    </tr>\n",
              "    <tr>\n",
              "      <th>4</th>\n",
              "      <td>Achiras</td>\n",
              "      <td>370</td>\n",
              "      <td>Valid</td>\n",
              "      <td>L6</td>\n",
              "      <td>780.0</td>\n",
              "      <td>Fell</td>\n",
              "      <td>1902.0</td>\n",
              "      <td>-33.16667</td>\n",
              "      <td>-64.95000</td>\n",
              "      <td>(-33.166670, -64.950000)</td>\n",
              "    </tr>\n",
              "    <tr>\n",
              "      <th>5</th>\n",
              "      <td>Adhi Kot</td>\n",
              "      <td>379</td>\n",
              "      <td>Valid</td>\n",
              "      <td>EH4</td>\n",
              "      <td>4239.0</td>\n",
              "      <td>Fell</td>\n",
              "      <td>1919.0</td>\n",
              "      <td>32.10000</td>\n",
              "      <td>71.80000</td>\n",
              "      <td>(32.100000, 71.800000)</td>\n",
              "    </tr>\n",
              "  </tbody>\n",
              "</table>\n",
              "</div>"
            ],
            "text/plain": [
              "       name   id nametype  ...    reclat    reclong               GeoLocation\n",
              "0    Aachen    1    Valid  ...  50.77500    6.08333     (50.775000, 6.083330)\n",
              "1    Aarhus    2    Valid  ...  56.18333   10.23333    (56.183330, 10.233330)\n",
              "2      Abee    6    Valid  ...  54.21667 -113.00000  (54.216670, -113.000000)\n",
              "3  Acapulco   10    Valid  ...  16.88333  -99.90000   (16.883330, -99.900000)\n",
              "4   Achiras  370    Valid  ... -33.16667  -64.95000  (-33.166670, -64.950000)\n",
              "5  Adhi Kot  379    Valid  ...  32.10000   71.80000    (32.100000, 71.800000)\n",
              "\n",
              "[6 rows x 10 columns]"
            ]
          },
          "metadata": {
            "tags": []
          },
          "execution_count": 78
        }
      ]
    },
    {
      "cell_type": "code",
      "metadata": {
        "colab": {
          "base_uri": "https://localhost:8080/",
          "height": 204
        },
        "id": "2XOa-6v54LX6",
        "outputId": "a26807cc-debc-46dd-be7b-87a7122be19f"
      },
      "source": [
        "#despliega 5 filas aleatoriamente\n",
        "df2.sample(5)"
      ],
      "execution_count": null,
      "outputs": [
        {
          "output_type": "execute_result",
          "data": {
            "text/html": [
              "<div>\n",
              "<style scoped>\n",
              "    .dataframe tbody tr th:only-of-type {\n",
              "        vertical-align: middle;\n",
              "    }\n",
              "\n",
              "    .dataframe tbody tr th {\n",
              "        vertical-align: top;\n",
              "    }\n",
              "\n",
              "    .dataframe thead th {\n",
              "        text-align: right;\n",
              "    }\n",
              "</style>\n",
              "<table border=\"1\" class=\"dataframe\">\n",
              "  <thead>\n",
              "    <tr style=\"text-align: right;\">\n",
              "      <th></th>\n",
              "      <th>name</th>\n",
              "      <th>id</th>\n",
              "      <th>nametype</th>\n",
              "      <th>recclass</th>\n",
              "      <th>mass</th>\n",
              "      <th>fall</th>\n",
              "      <th>year</th>\n",
              "      <th>reclat</th>\n",
              "      <th>reclong</th>\n",
              "      <th>GeoLocation</th>\n",
              "    </tr>\n",
              "  </thead>\n",
              "  <tbody>\n",
              "    <tr>\n",
              "      <th>30443</th>\n",
              "      <td>Northwest Africa 7375</td>\n",
              "      <td>55732</td>\n",
              "      <td>Valid</td>\n",
              "      <td>L~6</td>\n",
              "      <td>23.40</td>\n",
              "      <td>Found</td>\n",
              "      <td>2009.0</td>\n",
              "      <td>0.00000</td>\n",
              "      <td>0.00000</td>\n",
              "      <td>(0.000000, 0.000000)</td>\n",
              "    </tr>\n",
              "    <tr>\n",
              "      <th>42134</th>\n",
              "      <td>Yamato 793491</td>\n",
              "      <td>28840</td>\n",
              "      <td>Valid</td>\n",
              "      <td>H4</td>\n",
              "      <td>3.06</td>\n",
              "      <td>Found</td>\n",
              "      <td>1979.0</td>\n",
              "      <td>-71.50000</td>\n",
              "      <td>35.66667</td>\n",
              "      <td>(-71.500000, 35.666670)</td>\n",
              "    </tr>\n",
              "    <tr>\n",
              "      <th>41874</th>\n",
              "      <td>Yamato 793228</td>\n",
              "      <td>28577</td>\n",
              "      <td>Valid</td>\n",
              "      <td>L6</td>\n",
              "      <td>12.14</td>\n",
              "      <td>Found</td>\n",
              "      <td>1979.0</td>\n",
              "      <td>-71.50000</td>\n",
              "      <td>35.66667</td>\n",
              "      <td>(-71.500000, 35.666670)</td>\n",
              "    </tr>\n",
              "    <tr>\n",
              "      <th>1875</th>\n",
              "      <td>Allan Hills 84088</td>\n",
              "      <td>690</td>\n",
              "      <td>Valid</td>\n",
              "      <td>H5</td>\n",
              "      <td>297.50</td>\n",
              "      <td>Found</td>\n",
              "      <td>1984.0</td>\n",
              "      <td>-76.90225</td>\n",
              "      <td>156.92287</td>\n",
              "      <td>(-76.902250, 156.922870)</td>\n",
              "    </tr>\n",
              "    <tr>\n",
              "      <th>722</th>\n",
              "      <td>Ohaba</td>\n",
              "      <td>17995</td>\n",
              "      <td>Valid</td>\n",
              "      <td>H5</td>\n",
              "      <td>16250.00</td>\n",
              "      <td>Fell</td>\n",
              "      <td>1857.0</td>\n",
              "      <td>46.06667</td>\n",
              "      <td>23.58333</td>\n",
              "      <td>(46.066670, 23.583330)</td>\n",
              "    </tr>\n",
              "  </tbody>\n",
              "</table>\n",
              "</div>"
            ],
            "text/plain": [
              "                        name     id  ...    reclong               GeoLocation\n",
              "30443  Northwest Africa 7375  55732  ...    0.00000      (0.000000, 0.000000)\n",
              "42134          Yamato 793491  28840  ...   35.66667   (-71.500000, 35.666670)\n",
              "41874          Yamato 793228  28577  ...   35.66667   (-71.500000, 35.666670)\n",
              "1875       Allan Hills 84088    690  ...  156.92287  (-76.902250, 156.922870)\n",
              "722                    Ohaba  17995  ...   23.58333    (46.066670, 23.583330)\n",
              "\n",
              "[5 rows x 10 columns]"
            ]
          },
          "metadata": {
            "tags": []
          },
          "execution_count": 79
        }
      ]
    },
    {
      "cell_type": "code",
      "metadata": {
        "colab": {
          "base_uri": "https://localhost:8080/",
          "height": 204
        },
        "id": "rZmxybG94Rx8",
        "outputId": "1ef12ad9-e45e-4c15-998b-da4918aac934"
      },
      "source": [
        "# despliaga las ultimas 5 filas\n",
        "df2.tail()"
      ],
      "execution_count": null,
      "outputs": [
        {
          "output_type": "execute_result",
          "data": {
            "text/html": [
              "<div>\n",
              "<style scoped>\n",
              "    .dataframe tbody tr th:only-of-type {\n",
              "        vertical-align: middle;\n",
              "    }\n",
              "\n",
              "    .dataframe tbody tr th {\n",
              "        vertical-align: top;\n",
              "    }\n",
              "\n",
              "    .dataframe thead th {\n",
              "        text-align: right;\n",
              "    }\n",
              "</style>\n",
              "<table border=\"1\" class=\"dataframe\">\n",
              "  <thead>\n",
              "    <tr style=\"text-align: right;\">\n",
              "      <th></th>\n",
              "      <th>name</th>\n",
              "      <th>id</th>\n",
              "      <th>nametype</th>\n",
              "      <th>recclass</th>\n",
              "      <th>mass</th>\n",
              "      <th>fall</th>\n",
              "      <th>year</th>\n",
              "      <th>reclat</th>\n",
              "      <th>reclong</th>\n",
              "      <th>GeoLocation</th>\n",
              "    </tr>\n",
              "  </thead>\n",
              "  <tbody>\n",
              "    <tr>\n",
              "      <th>45711</th>\n",
              "      <td>Zillah 002</td>\n",
              "      <td>31356</td>\n",
              "      <td>Valid</td>\n",
              "      <td>Eucrite</td>\n",
              "      <td>172.0</td>\n",
              "      <td>Found</td>\n",
              "      <td>1990.0</td>\n",
              "      <td>29.03700</td>\n",
              "      <td>17.01850</td>\n",
              "      <td>(29.037000, 17.018500)</td>\n",
              "    </tr>\n",
              "    <tr>\n",
              "      <th>45712</th>\n",
              "      <td>Zinder</td>\n",
              "      <td>30409</td>\n",
              "      <td>Valid</td>\n",
              "      <td>Pallasite, ungrouped</td>\n",
              "      <td>46.0</td>\n",
              "      <td>Found</td>\n",
              "      <td>1999.0</td>\n",
              "      <td>13.78333</td>\n",
              "      <td>8.96667</td>\n",
              "      <td>(13.783330, 8.966670)</td>\n",
              "    </tr>\n",
              "    <tr>\n",
              "      <th>45713</th>\n",
              "      <td>Zlin</td>\n",
              "      <td>30410</td>\n",
              "      <td>Valid</td>\n",
              "      <td>H4</td>\n",
              "      <td>3.3</td>\n",
              "      <td>Found</td>\n",
              "      <td>1939.0</td>\n",
              "      <td>49.25000</td>\n",
              "      <td>17.66667</td>\n",
              "      <td>(49.250000, 17.666670)</td>\n",
              "    </tr>\n",
              "    <tr>\n",
              "      <th>45714</th>\n",
              "      <td>Zubkovsky</td>\n",
              "      <td>31357</td>\n",
              "      <td>Valid</td>\n",
              "      <td>L6</td>\n",
              "      <td>2167.0</td>\n",
              "      <td>Found</td>\n",
              "      <td>2003.0</td>\n",
              "      <td>49.78917</td>\n",
              "      <td>41.50460</td>\n",
              "      <td>(49.789170, 41.504600)</td>\n",
              "    </tr>\n",
              "    <tr>\n",
              "      <th>45715</th>\n",
              "      <td>Zulu Queen</td>\n",
              "      <td>30414</td>\n",
              "      <td>Valid</td>\n",
              "      <td>L3.7</td>\n",
              "      <td>200.0</td>\n",
              "      <td>Found</td>\n",
              "      <td>1976.0</td>\n",
              "      <td>33.98333</td>\n",
              "      <td>-115.68333</td>\n",
              "      <td>(33.983330, -115.683330)</td>\n",
              "    </tr>\n",
              "  </tbody>\n",
              "</table>\n",
              "</div>"
            ],
            "text/plain": [
              "             name     id  ...    reclong               GeoLocation\n",
              "45711  Zillah 002  31356  ...   17.01850    (29.037000, 17.018500)\n",
              "45712      Zinder  30409  ...    8.96667     (13.783330, 8.966670)\n",
              "45713        Zlin  30410  ...   17.66667    (49.250000, 17.666670)\n",
              "45714   Zubkovsky  31357  ...   41.50460    (49.789170, 41.504600)\n",
              "45715  Zulu Queen  30414  ... -115.68333  (33.983330, -115.683330)\n",
              "\n",
              "[5 rows x 10 columns]"
            ]
          },
          "metadata": {
            "tags": []
          },
          "execution_count": 80
        }
      ]
    },
    {
      "cell_type": "code",
      "metadata": {
        "colab": {
          "base_uri": "https://localhost:8080/",
          "height": 297
        },
        "id": "wuQpYOh04Y0v",
        "outputId": "d598c26f-787b-444e-f820-31e3f9ac7342"
      },
      "source": [
        "# Describe los datos \n",
        "df2.describe()"
      ],
      "execution_count": null,
      "outputs": [
        {
          "output_type": "execute_result",
          "data": {
            "text/html": [
              "<div>\n",
              "<style scoped>\n",
              "    .dataframe tbody tr th:only-of-type {\n",
              "        vertical-align: middle;\n",
              "    }\n",
              "\n",
              "    .dataframe tbody tr th {\n",
              "        vertical-align: top;\n",
              "    }\n",
              "\n",
              "    .dataframe thead th {\n",
              "        text-align: right;\n",
              "    }\n",
              "</style>\n",
              "<table border=\"1\" class=\"dataframe\">\n",
              "  <thead>\n",
              "    <tr style=\"text-align: right;\">\n",
              "      <th></th>\n",
              "      <th>id</th>\n",
              "      <th>mass</th>\n",
              "      <th>year</th>\n",
              "      <th>reclat</th>\n",
              "      <th>reclong</th>\n",
              "    </tr>\n",
              "  </thead>\n",
              "  <tbody>\n",
              "    <tr>\n",
              "      <th>count</th>\n",
              "      <td>45716.000000</td>\n",
              "      <td>4.558500e+04</td>\n",
              "      <td>45428.000000</td>\n",
              "      <td>38401.000000</td>\n",
              "      <td>38401.000000</td>\n",
              "    </tr>\n",
              "    <tr>\n",
              "      <th>mean</th>\n",
              "      <td>26889.735104</td>\n",
              "      <td>1.327808e+04</td>\n",
              "      <td>1991.772189</td>\n",
              "      <td>-39.122580</td>\n",
              "      <td>61.074319</td>\n",
              "    </tr>\n",
              "    <tr>\n",
              "      <th>std</th>\n",
              "      <td>16860.683030</td>\n",
              "      <td>5.749889e+05</td>\n",
              "      <td>27.181247</td>\n",
              "      <td>46.378511</td>\n",
              "      <td>80.647298</td>\n",
              "    </tr>\n",
              "    <tr>\n",
              "      <th>min</th>\n",
              "      <td>1.000000</td>\n",
              "      <td>0.000000e+00</td>\n",
              "      <td>301.000000</td>\n",
              "      <td>-87.366670</td>\n",
              "      <td>-165.433330</td>\n",
              "    </tr>\n",
              "    <tr>\n",
              "      <th>25%</th>\n",
              "      <td>12688.750000</td>\n",
              "      <td>7.200000e+00</td>\n",
              "      <td>1987.000000</td>\n",
              "      <td>-76.714240</td>\n",
              "      <td>0.000000</td>\n",
              "    </tr>\n",
              "    <tr>\n",
              "      <th>50%</th>\n",
              "      <td>24261.500000</td>\n",
              "      <td>3.260000e+01</td>\n",
              "      <td>1998.000000</td>\n",
              "      <td>-71.500000</td>\n",
              "      <td>35.666670</td>\n",
              "    </tr>\n",
              "    <tr>\n",
              "      <th>75%</th>\n",
              "      <td>40656.750000</td>\n",
              "      <td>2.026000e+02</td>\n",
              "      <td>2003.000000</td>\n",
              "      <td>0.000000</td>\n",
              "      <td>157.166670</td>\n",
              "    </tr>\n",
              "    <tr>\n",
              "      <th>max</th>\n",
              "      <td>57458.000000</td>\n",
              "      <td>6.000000e+07</td>\n",
              "      <td>2501.000000</td>\n",
              "      <td>81.166670</td>\n",
              "      <td>354.473330</td>\n",
              "    </tr>\n",
              "  </tbody>\n",
              "</table>\n",
              "</div>"
            ],
            "text/plain": [
              "                 id          mass          year        reclat       reclong\n",
              "count  45716.000000  4.558500e+04  45428.000000  38401.000000  38401.000000\n",
              "mean   26889.735104  1.327808e+04   1991.772189    -39.122580     61.074319\n",
              "std    16860.683030  5.749889e+05     27.181247     46.378511     80.647298\n",
              "min        1.000000  0.000000e+00    301.000000    -87.366670   -165.433330\n",
              "25%    12688.750000  7.200000e+00   1987.000000    -76.714240      0.000000\n",
              "50%    24261.500000  3.260000e+01   1998.000000    -71.500000     35.666670\n",
              "75%    40656.750000  2.026000e+02   2003.000000      0.000000    157.166670\n",
              "max    57458.000000  6.000000e+07   2501.000000     81.166670    354.473330"
            ]
          },
          "metadata": {
            "tags": []
          },
          "execution_count": 81
        }
      ]
    },
    {
      "cell_type": "code",
      "metadata": {
        "colab": {
          "base_uri": "https://localhost:8080/",
          "height": 390
        },
        "id": "j-2i8Px55EFR",
        "outputId": "ebc59da0-1f59-4754-9b03-8d26d88922f8"
      },
      "source": [
        "# describe considerando tods las variable\n",
        "df2.describe(include='all')"
      ],
      "execution_count": null,
      "outputs": [
        {
          "output_type": "execute_result",
          "data": {
            "text/html": [
              "<div>\n",
              "<style scoped>\n",
              "    .dataframe tbody tr th:only-of-type {\n",
              "        vertical-align: middle;\n",
              "    }\n",
              "\n",
              "    .dataframe tbody tr th {\n",
              "        vertical-align: top;\n",
              "    }\n",
              "\n",
              "    .dataframe thead th {\n",
              "        text-align: right;\n",
              "    }\n",
              "</style>\n",
              "<table border=\"1\" class=\"dataframe\">\n",
              "  <thead>\n",
              "    <tr style=\"text-align: right;\">\n",
              "      <th></th>\n",
              "      <th>name</th>\n",
              "      <th>id</th>\n",
              "      <th>nametype</th>\n",
              "      <th>recclass</th>\n",
              "      <th>mass</th>\n",
              "      <th>fall</th>\n",
              "      <th>year</th>\n",
              "      <th>reclat</th>\n",
              "      <th>reclong</th>\n",
              "      <th>GeoLocation</th>\n",
              "    </tr>\n",
              "  </thead>\n",
              "  <tbody>\n",
              "    <tr>\n",
              "      <th>count</th>\n",
              "      <td>45716</td>\n",
              "      <td>45716.000000</td>\n",
              "      <td>45716</td>\n",
              "      <td>45716</td>\n",
              "      <td>4.558500e+04</td>\n",
              "      <td>45716</td>\n",
              "      <td>45428.000000</td>\n",
              "      <td>38401.000000</td>\n",
              "      <td>38401.000000</td>\n",
              "      <td>38401</td>\n",
              "    </tr>\n",
              "    <tr>\n",
              "      <th>unique</th>\n",
              "      <td>45716</td>\n",
              "      <td>NaN</td>\n",
              "      <td>2</td>\n",
              "      <td>466</td>\n",
              "      <td>NaN</td>\n",
              "      <td>2</td>\n",
              "      <td>NaN</td>\n",
              "      <td>NaN</td>\n",
              "      <td>NaN</td>\n",
              "      <td>17100</td>\n",
              "    </tr>\n",
              "    <tr>\n",
              "      <th>top</th>\n",
              "      <td>Asuka 880948</td>\n",
              "      <td>NaN</td>\n",
              "      <td>Valid</td>\n",
              "      <td>L6</td>\n",
              "      <td>NaN</td>\n",
              "      <td>Found</td>\n",
              "      <td>NaN</td>\n",
              "      <td>NaN</td>\n",
              "      <td>NaN</td>\n",
              "      <td>(0.000000, 0.000000)</td>\n",
              "    </tr>\n",
              "    <tr>\n",
              "      <th>freq</th>\n",
              "      <td>1</td>\n",
              "      <td>NaN</td>\n",
              "      <td>45641</td>\n",
              "      <td>8285</td>\n",
              "      <td>NaN</td>\n",
              "      <td>44609</td>\n",
              "      <td>NaN</td>\n",
              "      <td>NaN</td>\n",
              "      <td>NaN</td>\n",
              "      <td>6214</td>\n",
              "    </tr>\n",
              "    <tr>\n",
              "      <th>mean</th>\n",
              "      <td>NaN</td>\n",
              "      <td>26889.735104</td>\n",
              "      <td>NaN</td>\n",
              "      <td>NaN</td>\n",
              "      <td>1.327808e+04</td>\n",
              "      <td>NaN</td>\n",
              "      <td>1991.772189</td>\n",
              "      <td>-39.122580</td>\n",
              "      <td>61.074319</td>\n",
              "      <td>NaN</td>\n",
              "    </tr>\n",
              "    <tr>\n",
              "      <th>std</th>\n",
              "      <td>NaN</td>\n",
              "      <td>16860.683030</td>\n",
              "      <td>NaN</td>\n",
              "      <td>NaN</td>\n",
              "      <td>5.749889e+05</td>\n",
              "      <td>NaN</td>\n",
              "      <td>27.181247</td>\n",
              "      <td>46.378511</td>\n",
              "      <td>80.647298</td>\n",
              "      <td>NaN</td>\n",
              "    </tr>\n",
              "    <tr>\n",
              "      <th>min</th>\n",
              "      <td>NaN</td>\n",
              "      <td>1.000000</td>\n",
              "      <td>NaN</td>\n",
              "      <td>NaN</td>\n",
              "      <td>0.000000e+00</td>\n",
              "      <td>NaN</td>\n",
              "      <td>301.000000</td>\n",
              "      <td>-87.366670</td>\n",
              "      <td>-165.433330</td>\n",
              "      <td>NaN</td>\n",
              "    </tr>\n",
              "    <tr>\n",
              "      <th>25%</th>\n",
              "      <td>NaN</td>\n",
              "      <td>12688.750000</td>\n",
              "      <td>NaN</td>\n",
              "      <td>NaN</td>\n",
              "      <td>7.200000e+00</td>\n",
              "      <td>NaN</td>\n",
              "      <td>1987.000000</td>\n",
              "      <td>-76.714240</td>\n",
              "      <td>0.000000</td>\n",
              "      <td>NaN</td>\n",
              "    </tr>\n",
              "    <tr>\n",
              "      <th>50%</th>\n",
              "      <td>NaN</td>\n",
              "      <td>24261.500000</td>\n",
              "      <td>NaN</td>\n",
              "      <td>NaN</td>\n",
              "      <td>3.260000e+01</td>\n",
              "      <td>NaN</td>\n",
              "      <td>1998.000000</td>\n",
              "      <td>-71.500000</td>\n",
              "      <td>35.666670</td>\n",
              "      <td>NaN</td>\n",
              "    </tr>\n",
              "    <tr>\n",
              "      <th>75%</th>\n",
              "      <td>NaN</td>\n",
              "      <td>40656.750000</td>\n",
              "      <td>NaN</td>\n",
              "      <td>NaN</td>\n",
              "      <td>2.026000e+02</td>\n",
              "      <td>NaN</td>\n",
              "      <td>2003.000000</td>\n",
              "      <td>0.000000</td>\n",
              "      <td>157.166670</td>\n",
              "      <td>NaN</td>\n",
              "    </tr>\n",
              "    <tr>\n",
              "      <th>max</th>\n",
              "      <td>NaN</td>\n",
              "      <td>57458.000000</td>\n",
              "      <td>NaN</td>\n",
              "      <td>NaN</td>\n",
              "      <td>6.000000e+07</td>\n",
              "      <td>NaN</td>\n",
              "      <td>2501.000000</td>\n",
              "      <td>81.166670</td>\n",
              "      <td>354.473330</td>\n",
              "      <td>NaN</td>\n",
              "    </tr>\n",
              "  </tbody>\n",
              "</table>\n",
              "</div>"
            ],
            "text/plain": [
              "                name            id  ...       reclong           GeoLocation\n",
              "count          45716  45716.000000  ...  38401.000000                 38401\n",
              "unique         45716           NaN  ...           NaN                 17100\n",
              "top     Asuka 880948           NaN  ...           NaN  (0.000000, 0.000000)\n",
              "freq               1           NaN  ...           NaN                  6214\n",
              "mean             NaN  26889.735104  ...     61.074319                   NaN\n",
              "std              NaN  16860.683030  ...     80.647298                   NaN\n",
              "min              NaN      1.000000  ...   -165.433330                   NaN\n",
              "25%              NaN  12688.750000  ...      0.000000                   NaN\n",
              "50%              NaN  24261.500000  ...     35.666670                   NaN\n",
              "75%              NaN  40656.750000  ...    157.166670                   NaN\n",
              "max              NaN  57458.000000  ...    354.473330                   NaN\n",
              "\n",
              "[11 rows x 10 columns]"
            ]
          },
          "metadata": {
            "tags": []
          },
          "execution_count": 82
        }
      ]
    },
    {
      "cell_type": "code",
      "metadata": {
        "colab": {
          "base_uri": "https://localhost:8080/"
        },
        "id": "yuleL12N5MSE",
        "outputId": "ab686412-2ad5-4a4d-95ab-469097526bb5"
      },
      "source": [
        "# Devuelve la informacion sobre el data frame\n",
        "df2.info()"
      ],
      "execution_count": null,
      "outputs": [
        {
          "output_type": "stream",
          "text": [
            "<class 'pandas.core.frame.DataFrame'>\n",
            "RangeIndex: 45716 entries, 0 to 45715\n",
            "Data columns (total 10 columns):\n",
            " #   Column       Non-Null Count  Dtype  \n",
            "---  ------       --------------  -----  \n",
            " 0   name         45716 non-null  object \n",
            " 1   id           45716 non-null  int64  \n",
            " 2   nametype     45716 non-null  object \n",
            " 3   recclass     45716 non-null  object \n",
            " 4   mass         45585 non-null  float64\n",
            " 5   fall         45716 non-null  object \n",
            " 6   year         45428 non-null  float64\n",
            " 7   reclat       38401 non-null  float64\n",
            " 8   reclong      38401 non-null  float64\n",
            " 9   GeoLocation  38401 non-null  object \n",
            "dtypes: float64(4), int64(1), object(5)\n",
            "memory usage: 3.5+ MB\n"
          ],
          "name": "stdout"
        }
      ]
    },
    {
      "cell_type": "code",
      "metadata": {
        "colab": {
          "base_uri": "https://localhost:8080/"
        },
        "id": "etTT4l1h5k3w",
        "outputId": "90c91010-e636-4159-a100-ad069bcf43c0"
      },
      "source": [
        "# Devuelve la cantidad\n",
        "df2.shape"
      ],
      "execution_count": null,
      "outputs": [
        {
          "output_type": "execute_result",
          "data": {
            "text/plain": [
              "(45716, 10)"
            ]
          },
          "metadata": {
            "tags": []
          },
          "execution_count": 85
        }
      ]
    },
    {
      "cell_type": "code",
      "metadata": {
        "colab": {
          "base_uri": "https://localhost:8080/"
        },
        "id": "TN6vfi845sRK",
        "outputId": "9aaebb68-d898-4e74-d6bd-0206b2ae317b"
      },
      "source": [
        "# el tamano de registros\n",
        "df2.size"
      ],
      "execution_count": null,
      "outputs": [
        {
          "output_type": "execute_result",
          "data": {
            "text/plain": [
              "457160"
            ]
          },
          "metadata": {
            "tags": []
          },
          "execution_count": 86
        }
      ]
    },
    {
      "cell_type": "code",
      "metadata": {
        "colab": {
          "base_uri": "https://localhost:8080/"
        },
        "id": "hrjNmeow5zQ1",
        "outputId": "ff1a3cfd-12a2-44a1-e6ea-f75638e1b57d"
      },
      "source": [
        "# Devuelve las columnas\n",
        "df2.columns"
      ],
      "execution_count": null,
      "outputs": [
        {
          "output_type": "execute_result",
          "data": {
            "text/plain": [
              "Index(['name', 'id', 'nametype', 'recclass', 'mass', 'fall', 'year', 'reclat',\n",
              "       'reclong', 'GeoLocation'],\n",
              "      dtype='object')"
            ]
          },
          "metadata": {
            "tags": []
          },
          "execution_count": 87
        }
      ]
    },
    {
      "cell_type": "code",
      "metadata": {
        "colab": {
          "base_uri": "https://localhost:8080/"
        },
        "id": "87hXH1Bn58xG",
        "outputId": "15a92b77-bfe3-4ded-a40b-8b86761eae45"
      },
      "source": [
        "# devuelve los tipos\n",
        "df2.dtypes"
      ],
      "execution_count": null,
      "outputs": [
        {
          "output_type": "execute_result",
          "data": {
            "text/plain": [
              "name            object\n",
              "id               int64\n",
              "nametype        object\n",
              "recclass        object\n",
              "mass           float64\n",
              "fall            object\n",
              "year           float64\n",
              "reclat         float64\n",
              "reclong        float64\n",
              "GeoLocation     object\n",
              "dtype: object"
            ]
          },
          "metadata": {
            "tags": []
          },
          "execution_count": 88
        }
      ]
    },
    {
      "cell_type": "code",
      "metadata": {
        "colab": {
          "base_uri": "https://localhost:8080/"
        },
        "id": "7g8yhGCs6BW0",
        "outputId": "feaf4af3-af04-48ac-9256-1fe9343b0341"
      },
      "source": [
        "# Renombrar los nombres de las filas y columnas\n",
        "print(df2.reindex(index=[1,2,3,4],columns=['name','id']))"
      ],
      "execution_count": null,
      "outputs": [
        {
          "output_type": "stream",
          "text": [
            "       name   id\n",
            "1    Aarhus    2\n",
            "2      Abee    6\n",
            "3  Acapulco   10\n",
            "4   Achiras  370\n"
          ],
          "name": "stdout"
        }
      ]
    }
  ]
}