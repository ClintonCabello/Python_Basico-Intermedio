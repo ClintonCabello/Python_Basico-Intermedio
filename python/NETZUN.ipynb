{
 "cells": [
  {
   "cell_type": "markdown",
   "id": "6375b2c2",
   "metadata": {},
   "source": [
    "# **Módulo 2: Estructuras de datos en Python**"
   ]
  },
  {
   "cell_type": "markdown",
   "id": "09a2f242",
   "metadata": {},
   "source": [
    "## Cápsula 1: Listas"
   ]
  },
  {
   "cell_type": "code",
   "execution_count": 80,
   "id": "6ffd0327",
   "metadata": {
    "collapsed": true
   },
   "outputs": [
    {
     "data": {
      "text/plain": [
       "['A', 3, 3, 4, 5, 7, ['3', 7], True, 'hello']"
      ]
     },
     "execution_count": 80,
     "metadata": {},
     "output_type": "execute_result"
    }
   ],
   "source": [
    "lista = ['A',3,3,4,5,7,['3',7],True,'hello'];lista"
   ]
  },
  {
   "cell_type": "code",
   "execution_count": 81,
   "id": "f5813361",
   "metadata": {
    "collapsed": true
   },
   "outputs": [
    {
     "data": {
      "text/plain": [
       "'A'"
      ]
     },
     "execution_count": 81,
     "metadata": {},
     "output_type": "execute_result"
    }
   ],
   "source": [
    "lista[0]"
   ]
  },
  {
   "cell_type": "code",
   "execution_count": 82,
   "id": "3b01cd31",
   "metadata": {
    "collapsed": true
   },
   "outputs": [
    {
     "data": {
      "text/plain": [
       "'hello'"
      ]
     },
     "execution_count": 82,
     "metadata": {},
     "output_type": "execute_result"
    }
   ],
   "source": [
    "lista[-1]"
   ]
  },
  {
   "cell_type": "code",
   "execution_count": 83,
   "id": "990be125",
   "metadata": {
    "collapsed": true
   },
   "outputs": [
    {
     "data": {
      "text/plain": [
       "True"
      ]
     },
     "execution_count": 83,
     "metadata": {},
     "output_type": "execute_result"
    }
   ],
   "source": [
    "lista[-2]"
   ]
  },
  {
   "cell_type": "code",
   "execution_count": 84,
   "id": "b8b82b86",
   "metadata": {
    "collapsed": true
   },
   "outputs": [
    {
     "data": {
      "text/plain": [
       "[True, 'hello']"
      ]
     },
     "execution_count": 84,
     "metadata": {},
     "output_type": "execute_result"
    }
   ],
   "source": [
    "lista[-2:]"
   ]
  },
  {
   "cell_type": "markdown",
   "id": "d567ee4a",
   "metadata": {},
   "source": [
    "## Cápsula 2: Operaciones con listas"
   ]
  },
  {
   "cell_type": "code",
   "execution_count": 85,
   "id": "ae624329",
   "metadata": {
    "collapsed": true
   },
   "outputs": [
    {
     "name": "stdout",
     "output_type": "stream",
     "text": [
      "['A', 3, 3, 4, 5, 7, ['3', 7], True, 'hello']\n",
      "<class 'list'>\n"
     ]
    }
   ],
   "source": [
    "print(lista)\n",
    "print(type(lista))"
   ]
  },
  {
   "cell_type": "code",
   "execution_count": 86,
   "id": "ee0d52a8",
   "metadata": {
    "collapsed": true
   },
   "outputs": [
    {
     "data": {
      "text/plain": [
       "[[2, 'hello', False], ['0', 'good'], 8, 10]"
      ]
     },
     "execution_count": 86,
     "metadata": {},
     "output_type": "execute_result"
    }
   ],
   "source": [
    "l = [[2,'hello',False],['0','good'],8,10];l"
   ]
  },
  {
   "cell_type": "code",
   "execution_count": 87,
   "id": "83deec66",
   "metadata": {
    "collapsed": true
   },
   "outputs": [
    {
     "data": {
      "text/plain": [
       "[2, 'hello', False]"
      ]
     },
     "execution_count": 87,
     "metadata": {},
     "output_type": "execute_result"
    }
   ],
   "source": [
    "l[0]"
   ]
  },
  {
   "cell_type": "code",
   "execution_count": 88,
   "id": "02e3a77e",
   "metadata": {
    "collapsed": true
   },
   "outputs": [
    {
     "data": {
      "text/plain": [
       "'hello'"
      ]
     },
     "execution_count": 88,
     "metadata": {},
     "output_type": "execute_result"
    }
   ],
   "source": [
    "l[0][1]"
   ]
  },
  {
   "cell_type": "code",
   "execution_count": 89,
   "id": "2ab7e31b",
   "metadata": {
    "collapsed": true
   },
   "outputs": [
    {
     "data": {
      "text/plain": [
       "[[2, 'hello', False], ['0', 'good'], 8]"
      ]
     },
     "execution_count": 89,
     "metadata": {},
     "output_type": "execute_result"
    }
   ],
   "source": [
    "del([l[-1]])\n",
    "l"
   ]
  },
  {
   "cell_type": "markdown",
   "id": "300e8a47",
   "metadata": {},
   "source": [
    "## Cápsula 3: Diccionarios"
   ]
  },
  {
   "cell_type": "code",
   "execution_count": 90,
   "id": "855798f1",
   "metadata": {
    "collapsed": true
   },
   "outputs": [
    {
     "data": {
      "text/plain": [
       "{'uno': 1, 'dos': 2, 'tres': 3, 'cuatro': 4, 'cinco': 5}"
      ]
     },
     "execution_count": 90,
     "metadata": {},
     "output_type": "execute_result"
    }
   ],
   "source": [
    "dic = {'uno':1, 'dos':2, 'tres':3, 'cuatro':4, 'cinco':5};dic"
   ]
  },
  {
   "cell_type": "code",
   "execution_count": 91,
   "id": "9cc43157",
   "metadata": {
    "collapsed": true
   },
   "outputs": [
    {
     "data": {
      "text/plain": [
       "4"
      ]
     },
     "execution_count": 91,
     "metadata": {},
     "output_type": "execute_result"
    }
   ],
   "source": [
    "dic['cuatro']"
   ]
  },
  {
   "cell_type": "code",
   "execution_count": 92,
   "id": "e5e40627",
   "metadata": {},
   "outputs": [
    {
     "data": {
      "text/plain": [
       "True"
      ]
     },
     "execution_count": 92,
     "metadata": {},
     "output_type": "execute_result"
    }
   ],
   "source": [
    "'dos' in dic"
   ]
  },
  {
   "cell_type": "code",
   "execution_count": 93,
   "id": "0e104f17",
   "metadata": {},
   "outputs": [
    {
     "data": {
      "text/plain": [
       "dict_keys(['uno', 'dos', 'tres', 'cuatro', 'cinco'])"
      ]
     },
     "execution_count": 93,
     "metadata": {},
     "output_type": "execute_result"
    }
   ],
   "source": [
    "dic.keys()"
   ]
  },
  {
   "cell_type": "code",
   "execution_count": 94,
   "id": "f1f8f658",
   "metadata": {},
   "outputs": [
    {
     "data": {
      "text/plain": [
       "list[dict_keys(['uno', 'dos', 'tres', 'cuatro', 'cinco'])]"
      ]
     },
     "execution_count": 94,
     "metadata": {},
     "output_type": "execute_result"
    }
   ],
   "source": [
    "list[dic.keys()]"
   ]
  },
  {
   "cell_type": "code",
   "execution_count": 95,
   "id": "8d7904a1",
   "metadata": {},
   "outputs": [
    {
     "data": {
      "text/plain": [
       "dict_values([1, 2, 3, 4, 5])"
      ]
     },
     "execution_count": 95,
     "metadata": {},
     "output_type": "execute_result"
    }
   ],
   "source": [
    "dic.values()"
   ]
  },
  {
   "cell_type": "markdown",
   "id": "f398e1ef",
   "metadata": {},
   "source": [
    "# **Módulo 3: Programación en Python**"
   ]
  },
  {
   "cell_type": "markdown",
   "id": "0c64f45b",
   "metadata": {},
   "source": [
    "## Cápsula 1: Condiciones y loops"
   ]
  },
  {
   "cell_type": "code",
   "execution_count": null,
   "id": "08ee863c",
   "metadata": {
    "collapsed": true
   },
   "outputs": [],
   "source": []
  },
  {
   "cell_type": "markdown",
   "id": "e64390b2",
   "metadata": {},
   "source": [
    "## Cápsula 2: Funciones"
   ]
  },
  {
   "cell_type": "code",
   "execution_count": null,
   "id": "0ff89a3a",
   "metadata": {
    "collapsed": true
   },
   "outputs": [],
   "source": []
  },
  {
   "cell_type": "markdown",
   "id": "7f8e8da5",
   "metadata": {},
   "source": [
    "## Cápsula 3: Paquetes de funciones"
   ]
  },
  {
   "cell_type": "code",
   "execution_count": null,
   "id": "6e9bcf83",
   "metadata": {
    "collapsed": true
   },
   "outputs": [],
   "source": []
  },
  {
   "cell_type": "markdown",
   "id": "e1d66a42",
   "metadata": {},
   "source": [
    "# **Módulo 4: Importando y exportando datos**\n"
   ]
  },
  {
   "cell_type": "markdown",
   "id": "fbf49402",
   "metadata": {},
   "source": [
    "## Cápsula 1: Abrir y guardar datos"
   ]
  },
  {
   "cell_type": "code",
   "execution_count": null,
   "id": "1b07f07e",
   "metadata": {
    "collapsed": true
   },
   "outputs": [],
   "source": []
  },
  {
   "cell_type": "markdown",
   "id": "ef62e622",
   "metadata": {},
   "source": [
    "## Cápsula 2: Abrir y guardar datos usando Pandas"
   ]
  },
  {
   "cell_type": "code",
   "execution_count": null,
   "id": "4ad59504",
   "metadata": {
    "collapsed": true
   },
   "outputs": [],
   "source": []
  },
  {
   "cell_type": "markdown",
   "id": "709babcb",
   "metadata": {},
   "source": [
    "## Cápsula 3: Introducción a tablas de datos"
   ]
  },
  {
   "cell_type": "code",
   "execution_count": null,
   "id": "d47b9bce",
   "metadata": {
    "collapsed": true
   },
   "outputs": [],
   "source": []
  },
  {
   "cell_type": "markdown",
   "id": "f34f3b58",
   "metadata": {},
   "source": [
    "# **Módulo 5: Introducción a un análisis exploratorio de datos**"
   ]
  },
  {
   "cell_type": "markdown",
   "id": "b84f5689",
   "metadata": {},
   "source": [
    "## Cápsula 1: Preparación de los datos"
   ]
  },
  {
   "cell_type": "code",
   "execution_count": null,
   "id": "860920ad",
   "metadata": {
    "collapsed": true
   },
   "outputs": [],
   "source": []
  },
  {
   "cell_type": "markdown",
   "id": "8645d5c8",
   "metadata": {},
   "source": [
    "## Cápsula 2: Análisis exploratorio"
   ]
  },
  {
   "cell_type": "code",
   "execution_count": null,
   "id": "6e43a4a3",
   "metadata": {
    "collapsed": true
   },
   "outputs": [],
   "source": []
  },
  {
   "cell_type": "markdown",
   "id": "64d17f8a",
   "metadata": {},
   "source": [
    "## Cápsula 3: Visualización"
   ]
  }
 ],
 "metadata": {
  "kernelspec": {
   "display_name": "Python 3 (ipykernel)",
   "language": "python",
   "name": "python3"
  },
  "language_info": {
   "codemirror_mode": {
    "name": "ipython",
    "version": 3
   },
   "file_extension": ".py",
   "mimetype": "text/x-python",
   "name": "python",
   "nbconvert_exporter": "python",
   "pygments_lexer": "ipython3",
   "version": "3.9.13"
  }
 },
 "nbformat": 4,
 "nbformat_minor": 5
}
